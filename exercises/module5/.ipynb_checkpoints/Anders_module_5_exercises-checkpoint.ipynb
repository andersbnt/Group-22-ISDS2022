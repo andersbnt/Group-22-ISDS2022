{
 "cells": [
  {
   "cell_type": "markdown",
   "metadata": {},
   "source": [
    "# Videos and Exercises for Session 5: Strings, Requests and APIs"
   ]
  },
  {
   "cell_type": "markdown",
   "metadata": {},
   "source": [
    "In Assignment 0 we covered a lot about basic Python, and in the first sessions, we talked a bit about how to deal with different data types in pandas - strings among other. However, we only scratched the surface on string-related topics and in this session, we will be taking a deeper looking at. \n",
    "\n",
    "We will start out with a recap of some basic string operations and build on that to make a query for fetching data. After having finished this combined teaching module and exercise set, you will know the basics of collecting from the web. This notebook is structured as follows:\n",
    "1. String Operations (recap and warm-up):\n",
    "    - Common string operations\n",
    "    - More string operations\n",
    "    - Warm-up exercises\n",
    "2. Saving as Text File\n",
    "3. Python Containers and Dictionaries\n",
    "4. Python and the Web\n",
    "    - Application Programming Interface (API)\n",
    "    - The Punk API\n",
    "    - The API for Statistics Denmark\n",
    "5. Bonus Exercises $-$ Traffic Data in Copenhagen\n",
    "\n",
    "*Alternative sources*: If you get lost, you might find [this page](https://pythonprogramming.net/string-concatenation-formatting-intermediate-python-tutorial/) on pythonprogramming.net useful. [This page](https://www.python-course.eu/python3_sequential_data_types.php) also gives an introduction to the basics of strings and their related data types. "
   ]
  },
  {
   "cell_type": "markdown",
   "metadata": {},
   "source": [
    "# Part 1: String Operations\n",
    "\n",
    "As we have already learned, strings are sequential containers of characters. In Python we use two kinds of characters:\n",
    "-  American Standard Code (`ascii`)\n",
    "    - Characters from English alphabet, numbers, symbols for writing \n",
    "    - 8 bit information\n",
    "\n",
    "- Unicode (`UTF`)  \n",
    "    - Characters from European and Asian language and much more\n",
    "    - 16 bit information\n",
    "    - Available in URLs recently, e.g. [møn.dk](https://møn.dk)        \n",
    "    \n",
    "    \n",
    "Note that while unicode is a little more heavy and costs more space, it is way more flexible and we get less errors when importing data from non-ascii languages. This reason is also why Python adopted unicode as standard since the release of Python 3.\n",
    "\n",
    "To see that strings are sequential containers, see the example below where we slice them like a list or dataframe/array:"
   ]
  },
  {
   "cell_type": "code",
   "execution_count": 297,
   "metadata": {},
   "outputs": [
    {
     "data": {
      "text/plain": [
       "'lice'"
      ]
     },
     "execution_count": 297,
     "metadata": {},
     "output_type": "execute_result"
    }
   ],
   "source": [
    "str1 = 'police'\n",
    "str1[2:]"
   ]
  },
  {
   "cell_type": "markdown",
   "metadata": {},
   "source": [
    "## Common string operations \n",
    "\n",
    "Strings have multiple operations and functions associated. In this exercise, we investigate a few of these. We also explore the sequence form of a string and how it can be sliced and accessed via indices. In the following, we provide a small tour of some of the most important technical features of strings."
   ]
  },
  {
   "cell_type": "markdown",
   "metadata": {},
   "source": [
    "One thing that can be helpful when working with strings is that you can alter the sentence-case of strings by using the string methods `upper`, `lower`, `capitalize`. Consider the example below and try switching `upper()` with one of the other operations:"
   ]
  },
  {
   "cell_type": "code",
   "execution_count": 298,
   "metadata": {},
   "outputs": [
    {
     "data": {
      "text/plain": [
       "'POLICE'"
      ]
     },
     "execution_count": 298,
     "metadata": {},
     "output_type": "execute_result"
    }
   ],
   "source": [
    "str1.upper()"
   ]
  },
  {
   "cell_type": "markdown",
   "metadata": {},
   "source": [
    "We can also use the `replace` method to substitute parts of the strings:"
   ]
  },
  {
   "cell_type": "code",
   "execution_count": 299,
   "metadata": {},
   "outputs": [
    {
     "data": {
      "text/plain": [
       "'malice'"
      ]
     },
     "execution_count": 299,
     "metadata": {},
     "output_type": "execute_result"
    }
   ],
   "source": [
    "str1.replace('po', 'ma')"
   ]
  },
  {
   "cell_type": "markdown",
   "metadata": {},
   "source": [
    "We can also check whether a substring is within a given string and much more. The general syntax is \n",
    "```python \n",
    "T in S\n",
    "``` \n",
    "which checks whether a string `S` contains the substring `T`. We should always get a boolean True/False outcome in return. See two applications below: "
   ]
  },
  {
   "cell_type": "code",
   "execution_count": 300,
   "metadata": {},
   "outputs": [
    {
     "name": "stdout",
     "output_type": "stream",
     "text": [
      "True False\n"
     ]
    }
   ],
   "source": [
    "print('ice' in str1, 'mice' in str1)"
   ]
  },
  {
   "cell_type": "markdown",
   "metadata": {},
   "source": [
    "Another procedure is to add strings together like below:"
   ]
  },
  {
   "cell_type": "code",
   "execution_count": 301,
   "metadata": {},
   "outputs": [
    {
     "data": {
      "text/plain": [
       "'police officer'"
      ]
     },
     "execution_count": 301,
     "metadata": {},
     "output_type": "execute_result"
    }
   ],
   "source": [
    "str2 = 'officer'\n",
    "str1 + ' ' + str2"
   ]
  },
  {
   "cell_type": "markdown",
   "metadata": {},
   "source": [
    "This can be helpful when we want to combine strings of words into sentences or long text files."
   ]
  },
  {
   "cell_type": "markdown",
   "metadata": {},
   "source": [
    "## More string operations \n",
    "In addition to the techniques above, strings are equipped with an array of _methods_, for solving more complex tasks. For example:\n",
    "- `str.join(list)` will insert a string in between each element of a list\n",
    "- `str.strip()` removes spaces in the beginning and end of a word \n",
    "- the f-string fills in specified blanks in a string\n",
    "- `str1.split(str2)` splits `str1` into a list through all places where `str2` shows up\n",
    "\n",
    "Below we illustrate the use of each function:\n",
    "\n",
    "```python\n",
    ">>> \" \".join(['Hello', 'World!']) \n",
    "'Hello World!'\n",
    "\n",
    ">>> ' Hello World!   '.strip() \n",
    "'Hello World!'\n",
    "\n",
    ">>> w = 'World'\n",
    ">>> f'Hello {w}' \n",
    "'Hello World!'\n",
    "\n",
    ">>> 'a,b,c'.split(',') \n",
    "['a','b','c']\n",
    "```"
   ]
  },
  {
   "cell_type": "markdown",
   "metadata": {},
   "source": [
    "## Warm-up String Exercises\n",
    "\n",
    "In the first couple of exercises, you should use the examples above to solve a set of tasks.\n",
    "\n",
    "> **Ex. 5.1.1**: Let `s1='Chameleon'` and `s2='ham'`. Check whether the string `s2` is a substring of `s1`. Is `'hello'` a substring `'goodbye'`?\n",
    "\n"
   ]
  },
  {
   "cell_type": "code",
   "execution_count": 302,
   "metadata": {
    "deletable": false,
    "nbgrader": {
     "cell_type": "code",
     "checksum": "7e90feaaa9a8b2638f9987ed46dae18f",
     "grade": false,
     "grade_id": "cell-993caea0991d84c4",
     "locked": false,
     "schema_version": 3,
     "solution": true,
     "task": false
    }
   },
   "outputs": [
    {
     "name": "stdout",
     "output_type": "stream",
     "text": [
      "True\n",
      "False\n"
     ]
    }
   ],
   "source": [
    "s1='Chameleon'\n",
    "s2='ham'\n",
    "\n",
    "print(s2 in s1)\n",
    "print('hello' in 'goodbye')\n"
   ]
  },
  {
   "cell_type": "markdown",
   "metadata": {},
   "source": [
    "> **Ex. 5.1.2**: From the string `s1` select the last four characters. What is the index of the character `a` in `s1`?\n",
    "\n",
    "> *Hint*: We can selecti a substring by slicing it with the `[]` notation, from the start to end where start is included and end is excluded. Recall that Python has zero-based indexing, see explanation [here](https://softwareengineering.stackexchange.com/questions/110804/why-are-zero-based-arrays-the-norm).\n"
   ]
  },
  {
   "cell_type": "code",
   "execution_count": 303,
   "metadata": {
    "deletable": false,
    "nbgrader": {
     "cell_type": "code",
     "checksum": "70e7605f0214aacf9c2cc140eafe6362",
     "grade": false,
     "grade_id": "cell-ace323777447ea4a",
     "locked": false,
     "schema_version": 3,
     "solution": true,
     "task": false
    }
   },
   "outputs": [
    {
     "name": "stdout",
     "output_type": "stream",
     "text": [
      "leon\n"
     ]
    }
   ],
   "source": [
    "print(s1[-4:])"
   ]
  },
  {
   "cell_type": "markdown",
   "metadata": {},
   "source": [
    "> **Ex. 5.1.3:** Use the `join()` and `strip()` functions to retrieve the sentence `The quick brown fox jumps over the lazy dog` from the list  `list_of_words` in the code cell below. \n",
    "\n",
    "> *Hint:* If you want to challenge yourself, see if you can do this in one line with a list comprehension!"
   ]
  },
  {
   "cell_type": "code",
   "execution_count": 304,
   "metadata": {},
   "outputs": [],
   "source": [
    "list_of_words = ['       The        ', '   quick   ', '     brown      ',\n",
    "                 ' fox          ', '          jumps     ', '   over ',\n",
    "                 '          the   ', '  lazy     ', '          dog     ']"
   ]
  },
  {
   "cell_type": "code",
   "execution_count": 305,
   "metadata": {
    "deletable": false,
    "nbgrader": {
     "cell_type": "code",
     "checksum": "5816e1d6d7ca20a08b2e7710b5ec3f09",
     "grade": false,
     "grade_id": "cell-c07cac510187b734",
     "locked": false,
     "schema_version": 3,
     "solution": true,
     "task": false
    }
   },
   "outputs": [
    {
     "name": "stdout",
     "output_type": "stream",
     "text": [
      "The quick brown fox jumps over the lazy dog\n"
     ]
    }
   ],
   "source": [
    "sentence = ' '.join([i.strip() for i in list_of_words])\n",
    "\n",
    "print(sentence)"
   ]
  },
  {
   "cell_type": "markdown",
   "metadata": {},
   "source": [
    "> **Ex. 5.1.4:** Let `l1 = ['r ', 'Is', '>', ' < ', 'g ', '?']`. Create from `l1` the sentence \"Is r > g?\" using your knowledge about string formatting. Make sure there is only one space in between worlds.\n",
    ">\n",
    "> _Hint:_ You should be able to combine the above information to solve this exercise."
   ]
  },
  {
   "cell_type": "code",
   "execution_count": 306,
   "metadata": {
    "deletable": false,
    "nbgrader": {
     "cell_type": "code",
     "checksum": "880f9a61c0db3d7605addf9b06426330",
     "grade": false,
     "grade_id": "cell-9dafd1e8c334c195",
     "locked": false,
     "schema_version": 3,
     "solution": true,
     "task": false
    }
   },
   "outputs": [
    {
     "name": "stdout",
     "output_type": "stream",
     "text": [
      "Is r > g?\n"
     ]
    }
   ],
   "source": [
    "sentence2 = l1[1] +' ' + l1[0] + l1[2] + ' ' + l1[-2].strip() + l1[-1]\n",
    "print(sentence2)"
   ]
  },
  {
   "cell_type": "markdown",
   "metadata": {
    "slideshow": {
     "slide_type": "slide"
    }
   },
   "source": [
    "# Part 2: Saving as Text File\n",
    "In this course, we have already seen that we can output tabular data as CSV files. These files are essentially text files with specific structure that allows a computer to identify rows and columns. \n",
    "\n",
    "In the example below, we will learn how to actually save a string directly as a text file. Note how we make a line break using `\\n` - this is a string escape sequence, read more [here](https://docs.python.org/3/reference/lexical_analysis.html#literals)."
   ]
  },
  {
   "cell_type": "code",
   "execution_count": 307,
   "metadata": {
    "slideshow": {
     "slide_type": "fragment"
    }
   },
   "outputs": [],
   "source": [
    "my_str = 'This is important...'\n",
    "my_str2 = 'Written in Python!'\n",
    "escape_seq = '\\n'\n",
    "\n",
    "with open('my_file.txt', 'w') as f:\n",
    "    f.write(my_str+escape_seq+my_str2)"
   ]
  },
  {
   "cell_type": "markdown",
   "metadata": {
    "slideshow": {
     "slide_type": "fragment"
    }
   },
   "source": [
    "The code below opens the text file and prints the string."
   ]
  },
  {
   "cell_type": "code",
   "execution_count": 308,
   "metadata": {
    "slideshow": {
     "slide_type": "fragment"
    }
   },
   "outputs": [
    {
     "name": "stdout",
     "output_type": "stream",
     "text": [
      "This is important...\n",
      "Written in Python!\n"
     ]
    }
   ],
   "source": [
    "with open('my_file.txt', 'r') as f:    \n",
    "    print(f.read())"
   ]
  },
  {
   "cell_type": "markdown",
   "metadata": {},
   "source": [
    "> **Ex. 5.2.1:** Create a .txt file called `to_do_list.txt` with a to-do list by looping over the list `to_do = ['1. Hit the gym', '2. Pay bills', '3. Meet George', '4. Buy eggs', '5. Read a book']` and writing each element on a seperate line."
   ]
  },
  {
   "cell_type": "code",
   "execution_count": 309,
   "metadata": {},
   "outputs": [],
   "source": [
    "to_do = ['1. Hit the gym', '2. Pay bills', '3. Meet George', '4. Buy eggs', '5. Read a book']"
   ]
  },
  {
   "cell_type": "code",
   "execution_count": 310,
   "metadata": {
    "deletable": false,
    "nbgrader": {
     "cell_type": "code",
     "checksum": "5182aae859c995048f1044d657065482",
     "grade": false,
     "grade_id": "cell-e5321552aeca36ad",
     "locked": false,
     "schema_version": 3,
     "solution": true,
     "task": false
    }
   },
   "outputs": [],
   "source": [
    "with open('to_do_list.txt', 'w') as f:\n",
    "    f.write(''.join([i+escape_seq for i in to_do]))"
   ]
  },
  {
   "cell_type": "markdown",
   "metadata": {
    "slideshow": {
     "slide_type": "slide"
    }
   },
   "source": [
    "Does the file look like you expected?"
   ]
  },
  {
   "cell_type": "code",
   "execution_count": 311,
   "metadata": {
    "slideshow": {
     "slide_type": "fragment"
    }
   },
   "outputs": [
    {
     "name": "stdout",
     "output_type": "stream",
     "text": [
      "1. Hit the gym\n",
      "2. Pay bills\n",
      "3. Meet George\n",
      "4. Buy eggs\n",
      "5. Read a book\n",
      "\n"
     ]
    }
   ],
   "source": [
    "with open('to_do_list.txt', 'r') as f:    \n",
    "    print(f.read())"
   ]
  },
  {
   "cell_type": "markdown",
   "metadata": {},
   "source": [
    "# Part 3: Python Containers and Dictionaries\n",
    "\n",
    "Dictionaries (or simply `dict`) are a central building block of python. Python dicts are constructed from pairs of keys and values, making them extremely versatile for data storage. Like list, they can contain deep nested structures, e.g. a dict of dicts of lists. You can learn more about this in the following video:"
   ]
  },
  {
   "cell_type": "code",
   "execution_count": 312,
   "metadata": {},
   "outputs": [
    {
     "data": {
      "image/jpeg": "[encoded data removed]",
      "text/html": [
       "\n",
       "        <iframe\n",
       "            width=\"640\"\n",
       "            height=\"360\"\n",
       "            src=\"https://www.youtube.com/embed/XeN7RY1MwFM\"\n",
       "            frameborder=\"0\"\n",
       "            allowfullscreen\n",
       "        ></iframe>\n",
       "        "
      ],
      "text/plain": [
       "<IPython.lib.display.YouTubeVideo at 0x2457f4abbe0>"
      ]
     },
     "execution_count": 312,
     "metadata": {},
     "output_type": "execute_result"
    }
   ],
   "source": [
    "from IPython.display import YouTubeVideo\n",
    "YouTubeVideo('XeN7RY1MwFM', width=640, height=360)"
   ]
  },
  {
   "cell_type": "markdown",
   "metadata": {},
   "source": [
    "Try running the code below, where the keys are strings (names from recent Danish prime ministers) and values are also strings (e.g. political affiliation):"
   ]
  },
  {
   "cell_type": "code",
   "execution_count": 313,
   "metadata": {
    "slideshow": {
     "slide_type": "-"
    }
   },
   "outputs": [],
   "source": [
    "my_dict1 = {'Anders': \"Venstre\",\n",
    "            'Helle': \"Socialdemokratiet\",\n",
    "            'Lars': \"Venstre\",\n",
    "            'Mette': \"Socialdemokratiet\"}"
   ]
  },
  {
   "cell_type": "markdown",
   "metadata": {
    "slideshow": {
     "slide_type": "slide"
    }
   },
   "source": [
    "Now,  print the party of some (former) Danish prime minister by replacing `'Name'` below."
   ]
  },
  {
   "cell_type": "code",
   "execution_count": 314,
   "metadata": {},
   "outputs": [
    {
     "name": "stdout",
     "output_type": "stream",
     "text": [
      "Venstre\n"
     ]
    }
   ],
   "source": [
    "print(my_dict1['Anders'])"
   ]
  },
  {
   "cell_type": "markdown",
   "metadata": {},
   "source": [
    "> **Ex. 5.3.1**: Create an empty dictionary `words` using the `dict()`function. Then add each of the words in `['animal', 'coffee', 'python', 'unit', 'knowledge', 'tread', 'arise']` as a key, with the value being a boolean indicator for whether the word begins with a vowel. The results should look like `{'bacon': False, 'asynchronous': True ...}`.\n",
    "\n",
    "> _Hint:_ One approach is to first construct a function that asseses whether a given word begins with a vowel or not."
   ]
  },
  {
   "cell_type": "code",
   "execution_count": 315,
   "metadata": {},
   "outputs": [
    {
     "data": {
      "text/plain": [
       "True"
      ]
     },
     "execution_count": 315,
     "metadata": {},
     "output_type": "execute_result"
    }
   ],
   "source": [
    "animal = 'animal'\n",
    "animal[0] in vowel_list"
   ]
  },
  {
   "cell_type": "code",
   "execution_count": 316,
   "metadata": {
    "deletable": false,
    "nbgrader": {
     "cell_type": "code",
     "checksum": "9833bc08d5bd7e7938c8d329c9c577ce",
     "grade": false,
     "grade_id": "cell-81e592c15ce8ee6d",
     "locked": false,
     "schema_version": 3,
     "solution": true,
     "task": false
    }
   },
   "outputs": [],
   "source": [
    "### BEGIN SOLUTION\n",
    "W =  ['animal', 'coffee', 'python', 'unit', 'knowledge', 'tread', 'arise']\n",
    "vowels = ['a', 'e', 'i', 'o', 'u', 'y']\n",
    "words = {}\n",
    "\n",
    "for i in range(len(W)):\n",
    "    words[W[i]] = W[i][0] in vowels\n",
    "### END SOLUTION"
   ]
  },
  {
   "cell_type": "code",
   "execution_count": 317,
   "metadata": {},
   "outputs": [
    {
     "data": {
      "text/plain": [
       "{'animal': True,\n",
       " 'coffee': False,\n",
       " 'python': False,\n",
       " 'unit': True,\n",
       " 'knowledge': False,\n",
       " 'tread': False,\n",
       " 'arise': True}"
      ]
     },
     "execution_count": 317,
     "metadata": {},
     "output_type": "execute_result"
    }
   ],
   "source": [
    "words"
   ]
  },
  {
   "cell_type": "markdown",
   "metadata": {},
   "source": [
    "> **Ex. 5.3.2:** Loop through the dictionary `words`. In each iteration, you should print a proper sentence stating whether the current word begins with a vowel or not. \n",
    "\n",
    "> _Hint:_ You can loop through both keys and values simultaneously with the `.items()` method. [This](https://www.tutorialspoint.com/python/python_dictionary.htm) and [this](https://stackoverflow.com/questions/3294889/iterating-over-dictionaries-using-for-loops) might help you."
   ]
  },
  {
   "cell_type": "code",
   "execution_count": 318,
   "metadata": {
    "deletable": false,
    "nbgrader": {
     "cell_type": "code",
     "checksum": "8915800d348370e9f3e558b4f842cea1",
     "grade": false,
     "grade_id": "cell-333a6d7713f78839",
     "locked": false,
     "schema_version": 3,
     "solution": true,
     "task": false
    }
   },
   "outputs": [
    {
     "name": "stdout",
     "output_type": "stream",
     "text": [
      "animal starts with a vowel\n",
      "coffee starts with a consonant\n",
      "python starts with a consonant\n",
      "unit starts with a vowel\n",
      "knowledge starts with a consonant\n",
      "tread starts with a consonant\n",
      "arise starts with a vowel\n"
     ]
    }
   ],
   "source": [
    "for key, value in words.items():\n",
    "    if value ==True:\n",
    "        print(f'{key} starts with a vowel')\n",
    "    else:\n",
    "        print(f'{key} starts with a consonant')\n",
    "    "
   ]
  },
  {
   "cell_type": "markdown",
   "metadata": {
    "slideshow": {
     "slide_type": "slide"
    }
   },
   "source": [
    "In the video, we also introduced the popular JSON file format which can store lists and dictionaries and hold the three fundamental data types `float`, `int` and `str`. The code example below uses the JSON module to save our dictionary. We use a trick by first converting the JSON file to a string. This can be done with the function `dumps` in the module `json`:"
   ]
  },
  {
   "cell_type": "code",
   "execution_count": 319,
   "metadata": {},
   "outputs": [
    {
     "name": "stdout",
     "output_type": "stream",
     "text": [
      "{\"animal\": true, \"coffee\": false, \"python\": false, \"unit\": true, \"knowledge\": false, \"tread\": false, \"arise\": true}\n"
     ]
    }
   ],
   "source": [
    "import json\n",
    "\n",
    "with open('my_file.JSON', 'w') as f:\n",
    "    my_json_str = json.dumps(words) # convert dictonary to string with JSON formatting\n",
    "    f.write(my_json_str) # write the string to file\n",
    "\n",
    "with open('my_file.JSON', 'r') as f:\n",
    "    print(f.read()) # read the string from file"
   ]
  },
  {
   "cell_type": "markdown",
   "metadata": {},
   "source": [
    "> **Ex. 5.3.3:** Install `https://pypi.org/project/Random-Word/` (documentation [here](https://pypi.org/project/Random-Word/)) by typing `pip install random-word` in your *Anaconda prompt*, and then run the line below. Doing so, you should get a list of 500 randomly drawn words. Now, create a dictionary that contains the length of each of these words (i.e. like `{'livering': 8, 'reiterate': 9,...}`) and save it as a json-file called `r_words.JSON`. Then read it and make sure that you got everything right."
   ]
  },
  {
   "cell_type": "code",
   "execution_count": 320,
   "metadata": {},
   "outputs": [],
   "source": [
    "from random_word import RandomWords\n",
    "r = RandomWords()\n",
    "r_words = r.get_random_words(limit=500)"
   ]
  },
  {
   "cell_type": "code",
   "execution_count": 321,
   "metadata": {
    "deletable": false,
    "nbgrader": {
     "cell_type": "code",
     "checksum": "a798d05c406177a1b63e6aa07331d54b",
     "grade": false,
     "grade_id": "cell-c4a946f4ae699bfc",
     "locked": false,
     "schema_version": 3,
     "solution": true,
     "task": false
    }
   },
   "outputs": [
    {
     "name": "stdout",
     "output_type": "stream",
     "text": [
      "{\"Bangalore\": 9, \"geometries\": 10, \"brutil\": 6, \"bournless\": 9, \"translocator\": 12, \"tutee\": 5, \"tuberoses\": 9, \"varanoid\": 8, \"traced\": 6, \"mistresses\": 10, \"startlish\": 9, \"delisting\": 9, \"centers\": 7, \"croser\": 6, \"vaporific\": 9, \"tiddled\": 7, \"leibnitz\": 8, \"infrastructure\": 14, \"favorize\": 8, \"prettiest\": 9, \"spankees\": 8, \"land-hungry\": 11, \"backtracker\": 11, \"ventilators\": 11, \"classicist\": 10, \"grandsons\": 9, \"\\u00c6olic\": 5, \"rancidly\": 8, \"indolyl\": 7, \"bleaker\": 7, \"plaquenil\": 9, \"undue\": 5, \"evanescence\": 11, \"fuckpads\": 8, \"spraul\": 6, \"scytal\": 6, \"chincher\": 8, \"gunneress\": 9, \"toots\": 5, \"etherification\": 14, \"huddup\": 6, \"kitchen\": 7, \"txtname\": 7, \"liability\": 9, \"avitaminosis\": 12, \"overcompensate\": 14, \"drearihead\": 10, \"shortness\": 9, \"sensualist\": 10, \"hotblooded\": 10, \"main-truck\": 10, \"heterotopia\": 11, \"luscious\": 8, \"monodynamic\": 11, \"wills\": 5, \"secularly\": 9, \"fructify\": 8, \"shortly\": 7, \"condenser\": 9, \"tropic\": 6, \"outsight\": 8, \"pyrolusite\": 10, \"glad-hander\": 11, \"unprovenanced\": 13, \"gigahertz\": 9, \"temporalities\": 13, \"self-absorption\": 15, \"interlocker\": 11, \"boffins\": 7, \"cryolite\": 8, \"rixatrix\": 8, \"circle-A\": 8, \"galvanizer\": 10, \"sunflowers\": 10, \"I'd've\": 6, \"randomised\": 10, \"ultraserious\": 12, \"cigarette-paper\": 15, \"unbraid\": 7, \"framable\": 8, \"capsulate\": 9, \"vanquishing\": 11, \"gujerati\": 8, \"whippers\": 8, \"automatic\": 9, \"scenting\": 8, \"wholeness\": 9, \"toothbrush\": 10, \"correct\": 7, \"smoke\": 5, \"unwooed\": 7, \"heires\": 6, \"pathoses\": 8, \"Zoloft\": 6, \"knee-high\": 9, \"arthropleura\": 12, \"sworders\": 8, \"hypothecated\": 12, \"oncer\": 5, \"scolopendrium\": 13, \"unpatented\": 10, \"equate\": 6, \"downconversion\": 14, \"bread-sticks\": 12, \"blousons\": 8, \"crucify\": 7, \"inhumane\": 8, \"forboden\": 8, \"macromastia\": 11, \"confrontation\": 13, \"higre\": 5, \"hereof\": 6, \"transforming\": 12, \"quarreled\": 9, \"punctually\": 10, \"firehose\": 8, \"witnesseth\": 10, \"palletised\": 10, \"Renton\": 6, \"a\\u00ebronaut\": 8, \"regularization\": 14, \"whippet\": 7, \"provosts\": 8, \"solidarity\": 10, \"unitisation\": 11, \"spumes\": 6, \"halloed\": 7, \"lucanid\": 7, \"sideband\": 8, \"ignorantly\": 10, \"Norw.\": 5, \"monadistic\": 10, \"pigtails\": 8, \"undulatingly\": 12, \"paludine\": 8, \"press-bed\": 9, \"rebuy\": 5, \"insanity\": 8, \"recreative\": 10, \"Milcah\": 6, \"footstool\": 9, \"chesterfield\": 12, \"stand-offish\": 12, \"decorations\": 11, \"Aotearoa\": 8, \"singing-flame\": 13, \"undevoured\": 10, \"demos\": 5, \"hallway\": 7, \"counterdefense\": 14, \"firze\": 5, \"aliased\": 7, \"maugre\": 6, \"expressment\": 11, \"Qabalah\": 7, \"perpetuated\": 11, \"Fulbright\": 9, \"torpidly\": 8, \"shoefly\": 7, \"spinster\": 8, \"nitrobenzyl\": 11, \"megabooks\": 9, \"disputation\": 11, \"ministers\": 9, \"unreproveable\": 13, \"backpiece\": 9, \"beheading\": 9, \"riproarious\": 11, \"crack-hemp\": 10, \"medinas\": 7, \"shopless\": 8, \"deceleration\": 12, \"dammer\": 6, \"vestured\": 8, \"remorseful\": 10, \"carousingly\": 11, \"baggala\": 7, \"fieldworkers\": 12, \"conciliant\": 10, \"voiturin\": 8, \"foremost\": 8, \"surflike\": 8, \"augmented\": 9, \"ramblingly\": 10, \"seist\": 5, \"mohawk\": 6, \"hairstyling\": 11, \"gnomonical\": 10, \"clausing\": 8, \"smexy\": 5, \"McMurdo Sound\": 13, \"synteresis\": 10, \"middlebrow\": 10, \"crookery\": 8, \"ununtrium\": 9, \"throwing\": 8, \"coffein\": 7, \"snow-mouse\": 10, \"terbia\": 6, \"Vietnam War\": 11, \"granulopoiesis\": 14, \"flutterball\": 11, \"ubiquitious\": 11, \"jerkface\": 8, \"shortcut\": 8, \"Mayenne\": 7, \"Moravian\": 8, \"untenant\": 8, \"macrurus\": 8, \"dynamicist\": 10, \"conform\": 7, \"quadrille\": 9, \"graded\": 6, \"unhanged\": 8, \"decidual\": 8, \"lasix\": 5, \"sanative\": 8, \"swivel-hook\": 11, \"targes\": 6, \"beagle\": 6, \"dramaturgy\": 10, \"line-fish\": 9, \"derivate\": 8, \"outland\": 7, \"self-depraved\": 13, \"propagable\": 10, \"acylate\": 7, \"blumpkins\": 9, \"barraging\": 9, \"tents\": 5, \"refelting\": 9, \"succulence\": 10, \"retaliatory\": 11, \"vexatiously\": 11, \"wherewith\": 9, \"undock\": 6, \"tubercula\": 9, \"admonitorial\": 12, \"well-shaven\": 11, \"chiefly\": 7, \"repentingly\": 11, \"badelaire\": 9, \"renneting\": 9, \"transactivated\": 14, \"sub-bass\": 8, \"headrace\": 8, \"semifield\": 9, \"unmetaphoric\": 12, \"Acadian\": 7, \"psychotechnical\": 15, \"tiles\": 5, \"CONFORMAN\": 9, \"rocking-horse\": 13, \"patchouli\": 9, \"unwon\": 5, \"eggar\": 5, \"intermarriage\": 13, \"perseverating\": 13, \"hardiesse\": 9, \"hadn't\": 6, \"endiademed\": 10, \"mainstage\": 9, \"Pozsony\": 7, \"colors\": 6, \"valuer\": 6, \"kangaroo\": 8, \"possble\": 7, \"veracity\": 8, \"febrifugal\": 10, \"insolubility\": 12, \"informatical\": 12, \"volumeter\": 9, \"waterbombs\": 10, \"climbing\": 8, \"loike\": 5, \"trudges\": 7, \"telling\": 7, \"fishing-out\": 11, \"geraniums\": 9, \"strokable\": 9, \"calloused\": 9, \"conquistadores\": 14, \"changingly\": 10, \"goblet\": 6, \"bareheaded\": 10, \"nitrometer\": 10, \"lonidamine\": 10, \"thistly\": 7, \"vaccination\": 11, \"randomizers\": 11, \"ostosis\": 7, \"andmy\": 5, \"grape-cure\": 10, \"butter-pat\": 10, \"cardie\": 6, \"triet\": 5, \"protocols\": 9, \"ortica\": 6, \"fabiana\": 7, \"jargonauts\": 10, \"mandalalike\": 11, \"prefectship\": 11, \"shadowlike\": 10, \"syncronised\": 11, \"cutter-rigged\": 13, \"infulminate\": 11, \"mirbane\": 7, \"nearhand\": 8, \"underripe\": 9, \"Python\": 6, \"ribbits\": 7, \"hernshaw\": 8, \"feebly\": 6, \"trivialness\": 11, \"intermediated\": 13, \"depantsed\": 9, \"bigtime\": 7, \"leucocytosis\": 12, \"moonrakers\": 10, \"frustrations\": 12, \"unites\": 6, \"jippo\": 5, \"masculisms\": 10, \"fumigators\": 10, \"doncella\": 8, \"regular\": 7, \"rehang\": 6, \"becum\": 5, \"accoupled\": 9, \"whudder\": 7, \"fineable\": 8, \"sterns\": 6, \"emaculate\": 9, \"airted\": 6, \"transgresseth\": 13, \"backcast\": 8, \"reheat\": 6, \"depure\": 6, \"germinant\": 9, \"settles\": 7, \"computative\": 11, \"keep-away\": 9, \"subsidizes\": 10, \"democratiser\": 12, \"onychia\": 7, \"cowper\": 6, \"hesperetin\": 10, \"bushwacked\": 10, \"unplugging\": 10, \"superfoods\": 10, \"perturbational\": 14, \"slapstick\": 9, \"high-reaching\": 13, \"Pleroma\": 7, \"spiny\": 5, \"ink-sac\": 7, \"propterygium\": 12, \"turf-spade\": 10, \"stanchion\": 9, \"scootch\": 7, \"wrongously\": 10, \"Tennesseean\": 11, \"synastry\": 8, \"falsifiable\": 11, \"lurker\": 6, \"tupping\": 7, \"sprechery\": 9, \"cheweth\": 7, \"univariant\": 10, \"arcked\": 6, \"strong-minded\": 13, \"no-nonsense\": 11, \"abidingness\": 11, \"stade\": 5, \"niefs\": 5, \"ticpolonga\": 10, \"preconcerted\": 12, \"intaglios\": 9, \"contented\": 9, \"illustrates\": 11, \"translatory\": 11, \"sugarhouse\": 10, \"stone-fly\": 9, \"globbing\": 8, \"strands\": 7, \"bargeman\": 8, \"stone-flagged\": 13, \"unuttered\": 9, \"euclidean\": 9, \"triangulare\": 11, \"cordon\": 6, \"quaff\": 5, \"nuances\": 7, \"coons\": 5, \"Schneider\": 9, \"unhilarious\": 11, \"periclase\": 9, \"torturest\": 9, \"Kunte\": 5, \"suine\": 5, \"shimmeringly\": 12, \"wingback\": 8, \"minimansions\": 12, \"prelibation\": 11, \"indubiously\": 11, \"Tours\": 5, \"glass\": 5, \"tirant\": 6, \"placings\": 8, \"titfuck\": 7, \"provides\": 8, \"bananadine\": 10, \"unbundling\": 10, \"disseminates\": 12, \"Tucano\": 6, \"thrashings\": 10, \"chatelains\": 10, \"hickory\": 7, \"hyacinthoides\": 13, \"ungallant\": 9, \"fricasse\": 8, \"gratifies\": 9, \"leafless\": 8, \"tracing-slate\": 13, \"sleeping-room\": 13, \"Zacatecas\": 9, \"calcanei\": 8, \"sternage\": 8, \"bloodberry\": 10, \"PKR-Changkat\": 12, \"tumble-down\": 11, \"underbred\": 9, \"reversing-layer\": 15, \"Christiana\": 10, \"sediments\": 9, \"venerability\": 12, \"tufty\": 5, \"decoction\": 9, \"intimal\": 7, \"beaufet\": 7, \"cholis\": 6, \"engrafted\": 9, \"undissipated\": 12, \"deodands\": 8, \"unsalvageable\": 13, \"coins\": 5, \"pantograph\": 10, \"stinking\": 8, \"contranym\": 9, \"extenuating\": 11, \"torquet\": 7, \"bugbanes\": 8, \"first\": 5, \"centaurette\": 11, \"wurley\": 6, \"miriest\": 7, \"nanomotors\": 10, \"white-billed\": 12, \"cyberstructure\": 14, \"Chemulpo\": 8, \"noggle\": 6, \"gesture-speech\": 14, \"dissociations\": 13, \"glide-plane\": 11, \"unhealth\": 8, \"enrolee\": 7, \"employed\": 8, \"favourite\": 9, \"Gibbon\": 6, \"three-headed\": 12, \"warming-house\": 13, \"tumbling\": 8, \"salesmanship\": 12, \"eclipsed\": 8, \"Battle of Cr\\u00e9cy\": 15, \"bonusing\": 8, \"sanctionable\": 12, \"half-hour\": 9, \"ironmaking\": 10, \"drudger\": 7, \"grooper\": 7, \"roulet\": 6, \"chirm\": 5, \"moidering\": 9, \"Amenhotep III\": 13, \"outlandish\": 10, \"manstealing\": 11, \"booze\": 5, \"sore-winner\": 11, \"unfailingness\": 13, \"salt-duty\": 9, \"undishonored\": 12, \"concelebration\": 14, \"Daphne\": 6, \"tinsel\": 6, \"pastime\": 7, \"Urias\": 5, \"unexpert\": 8, \"shipworm\": 8, \"Magadu\": 6}\n"
     ]
    }
   ],
   "source": [
    "new_dict = {}\n",
    "for i in range(len(r_words)):\n",
    "    new_dict[r_words[i]] = len(r_words[i])\n",
    "    \n",
    "with open('my_file.JSON', 'w') as f:\n",
    "    my_json_str = json.dumps(new_dict) # convert dictonary to string with JSON formatting\n",
    "    f.write(my_json_str) # write the string to file\n",
    "\n",
    "with open('my_file.JSON', 'r') as f:\n",
    "    print(f.read()) # read the string from file"
   ]
  },
  {
   "cell_type": "markdown",
   "metadata": {},
   "source": [
    "<br>\n",
    "\n",
    "# Part 4: Python and the Web\n",
    "\n",
    "The internet is a massive source for collecting data. Watch the video below to get an overview of the most fundamental protocols and how we work with them."
   ]
  },
  {
   "cell_type": "code",
   "execution_count": 322,
   "metadata": {},
   "outputs": [
    {
     "data": {
      "image/jpeg": "[encoded data removed]",
      "text/html": [
       "\n",
       "        <iframe\n",
       "            width=\"640\"\n",
       "            height=\"360\"\n",
       "            src=\"https://www.youtube.com/embed/D6FFt0z8pFc\"\n",
       "            frameborder=\"0\"\n",
       "            allowfullscreen\n",
       "        ></iframe>\n",
       "        "
      ],
      "text/plain": [
       "<IPython.lib.display.YouTubeVideo at 0x2457b81eaf0>"
      ]
     },
     "execution_count": 322,
     "metadata": {},
     "output_type": "execute_result"
    }
   ],
   "source": [
    "YouTubeVideo('D6FFt0z8pFc', width=640, height=360)"
   ]
  },
  {
   "cell_type": "markdown",
   "metadata": {
    "slideshow": {
     "slide_type": "slide"
    }
   },
   "source": [
    "## Application Programming Interface (API)\n",
    "\n",
    "APIs are protocols that allow us to request information and/or services from the provider of the API. In this course, we are mainly interested in APIs that provide data as a response to our requests. Watch the video below to get a sense of what APIs exist and how they work."
   ]
  },
  {
   "cell_type": "code",
   "execution_count": 323,
   "metadata": {},
   "outputs": [
    {
     "data": {
      "image/jpeg": "[encoded data removed]",
      "text/html": [
       "\n",
       "        <iframe\n",
       "            width=\"640\"\n",
       "            height=\"360\"\n",
       "            src=\"https://www.youtube.com/embed/PvMIubOCUD8\"\n",
       "            frameborder=\"0\"\n",
       "            allowfullscreen\n",
       "        ></iframe>\n",
       "        "
      ],
      "text/plain": [
       "<IPython.lib.display.YouTubeVideo at 0x2457f3f0d30>"
      ]
     },
     "execution_count": 323,
     "metadata": {},
     "output_type": "execute_result"
    }
   ],
   "source": [
    "YouTubeVideo('PvMIubOCUD8', width=640, height=360)"
   ]
  },
  {
   "cell_type": "markdown",
   "metadata": {},
   "source": [
    "## Building the Queries\n",
    "We will now move on to understanding how we can interact with a web API in Python. First we will see how to build a query, which is simply a web address. By typing in a specific web address, the web server will receive information from us.\n",
    "\n",
    "In the example below we build a URL that allows us to check out which repositories ISDSUCPH has publicly available."
   ]
  },
  {
   "cell_type": "code",
   "execution_count": 324,
   "metadata": {
    "slideshow": {
     "slide_type": "fragment"
    }
   },
   "outputs": [
    {
     "name": "stdout",
     "output_type": "stream",
     "text": [
      "https://api.github.com/users/isdsucph/repos\n"
     ]
    }
   ],
   "source": [
    "server_url = 'https://api.github.com'\n",
    "endpoint_path = '/users/isdsucph/repos'\n",
    "\n",
    "url = server_url + endpoint_path\n",
    "\n",
    "print(url)"
   ]
  },
  {
   "cell_type": "markdown",
   "metadata": {
    "slideshow": {
     "slide_type": "slide"
    }
   },
   "source": [
    "## Sending the Query\n",
    "Python has a smart module, named `requests` (get it with `pip install requests`), that allows us to interact with the web. When we request a URL, we get a response in return. Among other things, it allows us to inspect the HTML code. In the example below, we query the URL for the GitHub API we made above. "
   ]
  },
  {
   "cell_type": "code",
   "execution_count": 325,
   "metadata": {
    "slideshow": {
     "slide_type": "fragment"
    }
   },
   "outputs": [],
   "source": [
    "import requests # import the module requests\n",
    "response = requests.get(url) # submit query with `get` and save response as object\n"
   ]
  },
  {
   "cell_type": "markdown",
   "metadata": {},
   "source": [
    "When we examine the response, we can see the HTML string is pretty long, so we limit the initial output to the first 1,000 characters. "
   ]
  },
  {
   "cell_type": "code",
   "execution_count": 326,
   "metadata": {
    "slideshow": {
     "slide_type": "fragment"
    }
   },
   "outputs": [
    {
     "name": "stdout",
     "output_type": "stream",
     "text": [
      "15331 \n",
      "\n",
      "[{\"id\":381957904,\"node_id\":\"MDEwOlJlcG9zaXRvcnkzODE5NTc5MDQ=\",\"name\":\"isds2021\",\"full_name\":\"isdsucph/isds2021\",\"private\":false,\"owner\":{\"login\":\"isdsucph\",\"id\":86770179,\"node_id\":\"MDQ6VXNlcjg2NzcwMTc5\",\"avatar_url\":\"https://avatars.githubusercontent.com/u/86770179?v=4\",\"gravatar_id\":\"\",\"url\":\"https://api.github.com/users/isdsucph\",\"html_url\":\"https://github.com/isdsucph\",\"followers_url\":\"https://api.github.com/users/isdsucph/followers\",\"following_url\":\"https://api.github.com/users/isdsucph/following{/other_user}\",\"gists_url\":\"https://api.github.com/users/isdsucph/gists{/gist_id}\",\"starred_url\":\"https://api.github.com/users/isdsucph/starred{/owner}{/repo}\",\"subscriptions_url\":\"https://api.github.com/users/isdsucph/subscriptions\",\"organizations_url\":\"https://api.github.com/users/isdsucph/orgs\",\"repos_url\":\"https://api.github.com/users/isdsucph/repos\",\"events_url\":\"https://api.github.com/users/isdsucph/events{/privacy}\",\"received_events_url\":\"https://api.github.com/users/isdsucph/receive\n"
     ]
    }
   ],
   "source": [
    "print(len(response.text),'\\n') # print length of HTML\n",
    "print(response.text[:1000]) # print first 1,000 characters of HTML "
   ]
  },
  {
   "cell_type": "markdown",
   "metadata": {},
   "source": [
    "Looking closely, we notice how the structure resembles lists and dictionaries (note that depending on the context, these responses can be VERY difficult to make sense of from simply printing - just as in this case). Therefore, we try to convert it by assuming that it is structured as JSON."
   ]
  },
  {
   "cell_type": "code",
   "execution_count": 327,
   "metadata": {},
   "outputs": [
    {
     "data": {
      "text/plain": [
       "{'id': 381957904,\n",
       " 'node_id': 'MDEwOlJlcG9zaXRvcnkzODE5NTc5MDQ=',\n",
       " 'name': 'isds2021',\n",
       " 'full_name': 'isdsucph/isds2021',\n",
       " 'private': False,\n",
       " 'owner': {'login': 'isdsucph',\n",
       "  'id': 86770179,\n",
       "  'node_id': 'MDQ6VXNlcjg2NzcwMTc5',\n",
       "  'avatar_url': 'https://avatars.githubusercontent.com/u/86770179?v=4',\n",
       "  'gravatar_id': '',\n",
       "  'url': 'https://api.github.com/users/isdsucph',\n",
       "  'html_url': 'https://github.com/isdsucph',\n",
       "  'followers_url': 'https://api.github.com/users/isdsucph/followers',\n",
       "  'following_url': 'https://api.github.com/users/isdsucph/following{/other_user}',\n",
       "  'gists_url': 'https://api.github.com/users/isdsucph/gists{/gist_id}',\n",
       "  'starred_url': 'https://api.github.com/users/isdsucph/starred{/owner}{/repo}',\n",
       "  'subscriptions_url': 'https://api.github.com/users/isdsucph/subscriptions',\n",
       "  'organizations_url': 'https://api.github.com/users/isdsucph/orgs',\n",
       "  'repos_url': 'https://api.github.com/users/isdsucph/repos',\n",
       "  'events_url': 'https://api.github.com/users/isdsucph/events{/privacy}',\n",
       "  'received_events_url': 'https://api.github.com/users/isdsucph/received_events',\n",
       "  'type': 'User',\n",
       "  'site_admin': False},\n",
       " 'html_url': 'https://github.com/isdsucph/isds2021',\n",
       " 'description': 'Introduction to Social Data Science 2021 - a summer school course https://isdsucph.github.io/isds2021/',\n",
       " 'fork': False,\n",
       " 'url': 'https://api.github.com/repos/isdsucph/isds2021',\n",
       " 'forks_url': 'https://api.github.com/repos/isdsucph/isds2021/forks',\n",
       " 'keys_url': 'https://api.github.com/repos/isdsucph/isds2021/keys{/key_id}',\n",
       " 'collaborators_url': 'https://api.github.com/repos/isdsucph/isds2021/collaborators{/collaborator}',\n",
       " 'teams_url': 'https://api.github.com/repos/isdsucph/isds2021/teams',\n",
       " 'hooks_url': 'https://api.github.com/repos/isdsucph/isds2021/hooks',\n",
       " 'issue_events_url': 'https://api.github.com/repos/isdsucph/isds2021/issues/events{/number}',\n",
       " 'events_url': 'https://api.github.com/repos/isdsucph/isds2021/events',\n",
       " 'assignees_url': 'https://api.github.com/repos/isdsucph/isds2021/assignees{/user}',\n",
       " 'branches_url': 'https://api.github.com/repos/isdsucph/isds2021/branches{/branch}',\n",
       " 'tags_url': 'https://api.github.com/repos/isdsucph/isds2021/tags',\n",
       " 'blobs_url': 'https://api.github.com/repos/isdsucph/isds2021/git/blobs{/sha}',\n",
       " 'git_tags_url': 'https://api.github.com/repos/isdsucph/isds2021/git/tags{/sha}',\n",
       " 'git_refs_url': 'https://api.github.com/repos/isdsucph/isds2021/git/refs{/sha}',\n",
       " 'trees_url': 'https://api.github.com/repos/isdsucph/isds2021/git/trees{/sha}',\n",
       " 'statuses_url': 'https://api.github.com/repos/isdsucph/isds2021/statuses/{sha}',\n",
       " 'languages_url': 'https://api.github.com/repos/isdsucph/isds2021/languages',\n",
       " 'stargazers_url': 'https://api.github.com/repos/isdsucph/isds2021/stargazers',\n",
       " 'contributors_url': 'https://api.github.com/repos/isdsucph/isds2021/contributors',\n",
       " 'subscribers_url': 'https://api.github.com/repos/isdsucph/isds2021/subscribers',\n",
       " 'subscription_url': 'https://api.github.com/repos/isdsucph/isds2021/subscription',\n",
       " 'commits_url': 'https://api.github.com/repos/isdsucph/isds2021/commits{/sha}',\n",
       " 'git_commits_url': 'https://api.github.com/repos/isdsucph/isds2021/git/commits{/sha}',\n",
       " 'comments_url': 'https://api.github.com/repos/isdsucph/isds2021/comments{/number}',\n",
       " 'issue_comment_url': 'https://api.github.com/repos/isdsucph/isds2021/issues/comments{/number}',\n",
       " 'contents_url': 'https://api.github.com/repos/isdsucph/isds2021/contents/{+path}',\n",
       " 'compare_url': 'https://api.github.com/repos/isdsucph/isds2021/compare/{base}...{head}',\n",
       " 'merges_url': 'https://api.github.com/repos/isdsucph/isds2021/merges',\n",
       " 'archive_url': 'https://api.github.com/repos/isdsucph/isds2021/{archive_format}{/ref}',\n",
       " 'downloads_url': 'https://api.github.com/repos/isdsucph/isds2021/downloads',\n",
       " 'issues_url': 'https://api.github.com/repos/isdsucph/isds2021/issues{/number}',\n",
       " 'pulls_url': 'https://api.github.com/repos/isdsucph/isds2021/pulls{/number}',\n",
       " 'milestones_url': 'https://api.github.com/repos/isdsucph/isds2021/milestones{/number}',\n",
       " 'notifications_url': 'https://api.github.com/repos/isdsucph/isds2021/notifications{?since,all,participating}',\n",
       " 'labels_url': 'https://api.github.com/repos/isdsucph/isds2021/labels{/name}',\n",
       " 'releases_url': 'https://api.github.com/repos/isdsucph/isds2021/releases{/id}',\n",
       " 'deployments_url': 'https://api.github.com/repos/isdsucph/isds2021/deployments',\n",
       " 'created_at': '2021-07-01T08:09:57Z',\n",
       " 'updated_at': '2022-07-14T06:54:49Z',\n",
       " 'pushed_at': '2021-08-23T08:48:57Z',\n",
       " 'git_url': 'git://github.com/isdsucph/isds2021.git',\n",
       " 'ssh_url': 'git@github.com:isdsucph/isds2021.git',\n",
       " 'clone_url': 'https://github.com/isdsucph/isds2021.git',\n",
       " 'svn_url': 'https://github.com/isdsucph/isds2021',\n",
       " 'homepage': '',\n",
       " 'size': 66010,\n",
       " 'stargazers_count': 21,\n",
       " 'watchers_count': 21,\n",
       " 'language': 'Jupyter Notebook',\n",
       " 'has_issues': True,\n",
       " 'has_projects': True,\n",
       " 'has_downloads': True,\n",
       " 'has_wiki': True,\n",
       " 'has_pages': True,\n",
       " 'forks_count': 37,\n",
       " 'mirror_url': None,\n",
       " 'archived': False,\n",
       " 'disabled': False,\n",
       " 'open_issues_count': 11,\n",
       " 'license': {'key': 'mit',\n",
       "  'name': 'MIT License',\n",
       "  'spdx_id': 'MIT',\n",
       "  'url': 'https://api.github.com/licenses/mit',\n",
       "  'node_id': 'MDc6TGljZW5zZTEz'},\n",
       " 'allow_forking': True,\n",
       " 'is_template': False,\n",
       " 'web_commit_signoff_required': False,\n",
       " 'topics': [],\n",
       " 'visibility': 'public',\n",
       " 'forks': 37,\n",
       " 'open_issues': 11,\n",
       " 'watchers': 21,\n",
       " 'default_branch': 'main'}"
      ]
     },
     "execution_count": 327,
     "metadata": {},
     "output_type": "execute_result"
    }
   ],
   "source": [
    "response_json = response.json() # convert response to a list of dicts\n",
    "response_json[0]"
   ]
  },
  {
   "cell_type": "markdown",
   "metadata": {},
   "source": [
    "Now it is easier to see that this is in fact a dictionary. Looking more closely at the output, we can also see that the depth of the dictionary is not trivial - it contains dictionaries of dictionaries.\n",
    "\n",
    "In order to make the output more digestable, use the so-called *pretty printer* that, among other things, arranges the output alphabetically and makes the depth of the output more clearly visible. Take a look and compare with what we had above:"
   ]
  },
  {
   "cell_type": "code",
   "execution_count": 328,
   "metadata": {},
   "outputs": [
    {
     "name": "stdout",
     "output_type": "stream",
     "text": [
      "[{'allow_forking': True,\n",
      "  'archive_url': 'https://api.github.com/repos/isdsucph/isds2021/{archive_format}{/ref}',\n",
      "  'archived': False,\n",
      "  'assignees_url': 'https://api.github.com/repos/isdsucph/isds2021/assignees{/user}',\n",
      "  'blobs_url': 'https://api.github.com/repos/isdsucph/isds2021/git/blobs{/sha}',\n",
      "  'branches_url': 'https://api.github.com/repos/isdsucph/isds2021/branches{/branch}',\n",
      "  'clone_url': 'https://github.com/isdsucph/isds2021.git',\n",
      "  'collaborators_url': 'https://api.github.com/repos/isdsucph/isds2021/collaborators{/collaborator}',\n",
      "  'comments_url': 'https://api.github.com/repos/isdsucph/isds2021/comments{/number}',\n",
      "  'commits_url': 'https://api.github.com/repos/isdsucph/isds2021/commits{/sha}',\n",
      "  'compare_url': 'https://api.github.com/repos/isdsucph/isds2021/compare/{base}...{head}',\n",
      "  'contents_url': 'https://api.github.com/repos/isdsucph/isds2021/contents/{+path}',\n",
      "  'contributors_url': 'https://api.github.com/repos/isdsucph/isds2021/contributors',\n",
      "  'created_at': '2021-07-01T08:09:57Z',\n",
      "  'default_branch': 'main',\n",
      "  'deployments_url': 'https://api.github.com/repos/isdsucph/isds2021/deployments',\n",
      "  'description': 'Introduction to Social Data Science 2021 - a summer school '\n",
      "                 'course https://isdsucph.github.io/isds2021/',\n",
      "  'disabled': False,\n",
      "  'downloads_url': 'https://api.github.com/repos/isdsucph/isds2021/downloads',\n",
      "  'events_url': 'https://api.github.com/repos/isdsucph/isds2021/events',\n",
      "  'fork': False,\n",
      "  'forks': 37,\n",
      "  'forks_count': 37,\n",
      "  'forks_url': 'https://api.github.com/repos/isdsucph/isds2021/forks',\n",
      "  'full_name': 'isdsucph/isds2021',\n",
      "  'git_commits_url': 'https://api.github.com/repos/isdsucph/isds2021/git/commits{/sha}',\n",
      "  'git_refs_url': 'https://api.github.com/repos/isdsucph/isds2021/git/refs{/sha}',\n",
      "  'git_tags_url': 'https://api.github.com/repos/isdsucph/isds2021/git/tags{/sha}',\n",
      "  'git_url': 'git://github.com/isdsucph/isds2021.git',\n",
      "  'has_downloads': True,\n",
      "  'has_issues': True,\n",
      "  'has_pages': True,\n",
      "  'has_projects': True,\n",
      "  'has_wiki': True,\n",
      "  'homepage': '',\n",
      "  'hooks_url': 'https://api.github.com/repos/isdsucph/isds2021/hooks',\n",
      "  'html_url': 'https://github.com/isdsucph/isds2021',\n",
      "  'id': 381957904,\n",
      "  'is_template': False,\n",
      "  'issue_comment_url': 'https://api.github.com/repos/isdsucph/isds2021/issues/comments{/number}',\n",
      "  'issue_events_url': 'https://api.github.com/repos/isdsucph/isds2021/issues/events{/number}',\n",
      "  'issues_url': 'https://api.github.com/repos/isdsucph/isds2021/issues{/number}',\n",
      "  'keys_url': 'https://api.github.com/repos/isdsucph/isds2021/keys{/key_id}',\n",
      "  'labels_url': 'https://api.github.com/repos/isdsucph/isds2021/labels{/name}',\n",
      "  'language': 'Jupyter Notebook',\n",
      "  'languages_url': 'https://api.github.com/repos/isdsucph/isds2021/languages',\n",
      "  'license': {'key': 'mit',\n",
      "              'name': 'MIT License',\n",
      "              'node_id': 'MDc6TGljZW5zZTEz',\n",
      "              'spdx_id': 'MIT',\n",
      "              'url': 'https://api.github.com/licenses/mit'},\n",
      "  'merges_url': 'https://api.github.com/repos/isdsucph/isds2021/merges',\n",
      "  'milestones_url': 'https://api.github.com/repos/isdsucph/isds2021/milestones{/number}',\n",
      "  'mirror_url': None,\n",
      "  'name': 'isds2021',\n",
      "  'node_id': 'MDEwOlJlcG9zaXRvcnkzODE5NTc5MDQ=',\n",
      "  'notifications_url': 'https://api.github.com/repos/isdsucph/isds2021/notifications{?since,all,participating}',\n",
      "  'open_issues': 11,\n",
      "  'open_issues_count': 11,\n",
      "  'owner': {'avatar_url': 'https://avatars.githubusercontent.com/u/86770179?v=4',\n",
      "            'events_url': 'https://api.github.com/users/isdsucph/events{/privacy}',\n",
      "            'followers_url': 'https://api.github.com/users/isdsucph/followers',\n",
      "            'following_url': 'https://api.github.com/users/isdsucph/following{/other_user}',\n",
      "            'gists_url': 'https://api.github.com/users/isdsucph/gists{/gist_id}',\n",
      "            'gravatar_id': '',\n",
      "            'html_url': 'https://github.com/isdsucph',\n",
      "            'id': 86770179,\n",
      "            'login': 'isdsucph',\n",
      "            'node_id': 'MDQ6VXNlcjg2NzcwMTc5',\n",
      "            'organizations_url': 'https://api.github.com/users/isdsucph/orgs',\n",
      "            'received_events_url': 'https://api.github.com/users/isdsucph/received_events',\n",
      "            'repos_url': 'https://api.github.com/users/isdsucph/repos',\n",
      "            'site_admin': False,\n",
      "            'starred_url': 'https://api.github.com/users/isdsucph/starred{/owner}{/repo}',\n",
      "            'subscriptions_url': 'https://api.github.com/users/isdsucph/subscriptions',\n",
      "            'type': 'User',\n",
      "            'url': 'https://api.github.com/users/isdsucph'},\n",
      "  'private': False,\n",
      "  'pulls_url': 'https://api.github.com/repos/isdsucph/isds2021/pulls{/number}',\n",
      "  'pushed_at': '2021-08-23T08:48:57Z',\n",
      "  'releases_url': 'https://api.github.com/repos/isdsucph/isds2021/releases{/id}',\n",
      "  'size': 66010,\n",
      "  'ssh_url': 'git@github.com:isdsucph/isds2021.git',\n",
      "  'stargazers_count': 21,\n",
      "  'stargazers_url': 'https://api.github.com/repos/isdsucph/isds2021/stargazers',\n",
      "  'statuses_url': 'https://api.github.com/repos/isdsucph/isds2021/statuses/{sha}',\n",
      "  'subscribers_url': 'https://api.github.com/repos/isdsucph/isds2021/subscribers',\n",
      "  'subscription_url': 'https://api.github.com/repos/isdsucph/isds2021/subscription',\n",
      "  'svn_url': 'https://github.com/isdsucph/isds2021',\n",
      "  'tags_url': 'https://api.github.com/repos/isdsucph/isds2021/tags',\n",
      "  'teams_url': 'https://api.github.com/repos/isdsucph/isds2021/teams',\n",
      "  'topics': [],\n",
      "  'trees_url': 'https://api.github.com/repos/isdsucph/isds2021/git/trees{/sha}',\n",
      "  'updated_at': '2022-07-14T06:54:49Z',\n",
      "  'url': 'https://api.github.com/repos/isdsucph/isds2021',\n",
      "  'visibility': 'public',\n",
      "  'watchers': 21,\n",
      "  'watchers_count': 21,\n",
      "  'web_commit_signoff_required': False},\n",
      " {'allow_forking': True,\n",
      "  'archive_url': 'https://api.github.com/repos/isdsucph/isds2022/{archive_format}{/ref}',\n",
      "  'archived': False,\n",
      "  'assignees_url': 'https://api.github.com/repos/isdsucph/isds2022/assignees{/user}',\n",
      "  'blobs_url': 'https://api.github.com/repos/isdsucph/isds2022/git/blobs{/sha}',\n",
      "  'branches_url': 'https://api.github.com/repos/isdsucph/isds2022/branches{/branch}',\n",
      "  'clone_url': 'https://github.com/isdsucph/isds2022.git',\n",
      "  'collaborators_url': 'https://api.github.com/repos/isdsucph/isds2022/collaborators{/collaborator}',\n",
      "  'comments_url': 'https://api.github.com/repos/isdsucph/isds2022/comments{/number}',\n",
      "  'commits_url': 'https://api.github.com/repos/isdsucph/isds2022/commits{/sha}',\n",
      "  'compare_url': 'https://api.github.com/repos/isdsucph/isds2022/compare/{base}...{head}',\n",
      "  'contents_url': 'https://api.github.com/repos/isdsucph/isds2022/contents/{+path}',\n",
      "  'contributors_url': 'https://api.github.com/repos/isdsucph/isds2022/contributors',\n",
      "  'created_at': '2022-06-17T09:49:06Z',\n",
      "  'default_branch': 'main',\n",
      "  'deployments_url': 'https://api.github.com/repos/isdsucph/isds2022/deployments',\n",
      "  'description': 'Introduction to Social Data Science 2022 - a summer school '\n",
      "                 'course https://isdsucph.github.io/isds2022/',\n",
      "  'disabled': False,\n",
      "  'downloads_url': 'https://api.github.com/repos/isdsucph/isds2022/downloads',\n",
      "  'events_url': 'https://api.github.com/repos/isdsucph/isds2022/events',\n",
      "  'fork': False,\n",
      "  'forks': 20,\n",
      "  'forks_count': 20,\n",
      "  'forks_url': 'https://api.github.com/repos/isdsucph/isds2022/forks',\n",
      "  'full_name': 'isdsucph/isds2022',\n",
      "  'git_commits_url': 'https://api.github.com/repos/isdsucph/isds2022/git/commits{/sha}',\n",
      "  'git_refs_url': 'https://api.github.com/repos/isdsucph/isds2022/git/refs{/sha}',\n",
      "  'git_tags_url': 'https://api.github.com/repos/isdsucph/isds2022/git/tags{/sha}',\n",
      "  'git_url': 'git://github.com/isdsucph/isds2022.git',\n",
      "  'has_downloads': True,\n",
      "  'has_issues': True,\n",
      "  'has_pages': True,\n",
      "  'has_projects': True,\n",
      "  'has_wiki': True,\n",
      "  'homepage': None,\n",
      "  'hooks_url': 'https://api.github.com/repos/isdsucph/isds2022/hooks',\n",
      "  'html_url': 'https://github.com/isdsucph/isds2022',\n",
      "  'id': 504478840,\n",
      "  'is_template': False,\n",
      "  'issue_comment_url': 'https://api.github.com/repos/isdsucph/isds2022/issues/comments{/number}',\n",
      "  'issue_events_url': 'https://api.github.com/repos/isdsucph/isds2022/issues/events{/number}',\n",
      "  'issues_url': 'https://api.github.com/repos/isdsucph/isds2022/issues{/number}',\n",
      "  'keys_url': 'https://api.github.com/repos/isdsucph/isds2022/keys{/key_id}',\n",
      "  'labels_url': 'https://api.github.com/repos/isdsucph/isds2022/labels{/name}',\n",
      "  'language': 'Jupyter Notebook',\n",
      "  'languages_url': 'https://api.github.com/repos/isdsucph/isds2022/languages',\n",
      "  'license': {'key': 'mit',\n",
      "              'name': 'MIT License',\n",
      "              'node_id': 'MDc6TGljZW5zZTEz',\n",
      "              'spdx_id': 'MIT',\n",
      "              'url': 'https://api.github.com/licenses/mit'},\n",
      "  'merges_url': 'https://api.github.com/repos/isdsucph/isds2022/merges',\n",
      "  'milestones_url': 'https://api.github.com/repos/isdsucph/isds2022/milestones{/number}',\n",
      "  'mirror_url': None,\n",
      "  'name': 'isds2022',\n",
      "  'node_id': 'R_kgDOHhG8eA',\n",
      "  'notifications_url': 'https://api.github.com/repos/isdsucph/isds2022/notifications{?since,all,participating}',\n",
      "  'open_issues': 17,\n",
      "  'open_issues_count': 17,\n",
      "  'owner': {'avatar_url': 'https://avatars.githubusercontent.com/u/86770179?v=4',\n",
      "            'events_url': 'https://api.github.com/users/isdsucph/events{/privacy}',\n",
      "            'followers_url': 'https://api.github.com/users/isdsucph/followers',\n",
      "            'following_url': 'https://api.github.com/users/isdsucph/following{/other_user}',\n",
      "            'gists_url': 'https://api.github.com/users/isdsucph/gists{/gist_id}',\n",
      "            'gravatar_id': '',\n",
      "            'html_url': 'https://github.com/isdsucph',\n",
      "            'id': 86770179,\n",
      "            'login': 'isdsucph',\n",
      "            'node_id': 'MDQ6VXNlcjg2NzcwMTc5',\n",
      "            'organizations_url': 'https://api.github.com/users/isdsucph/orgs',\n",
      "            'received_events_url': 'https://api.github.com/users/isdsucph/received_events',\n",
      "            'repos_url': 'https://api.github.com/users/isdsucph/repos',\n",
      "            'site_admin': False,\n",
      "            'starred_url': 'https://api.github.com/users/isdsucph/starred{/owner}{/repo}',\n",
      "            'subscriptions_url': 'https://api.github.com/users/isdsucph/subscriptions',\n",
      "            'type': 'User',\n",
      "            'url': 'https://api.github.com/users/isdsucph'},\n",
      "  'private': False,\n",
      "  'pulls_url': 'https://api.github.com/repos/isdsucph/isds2022/pulls{/number}',\n",
      "  'pushed_at': '2022-08-08T10:18:28Z',\n",
      "  'releases_url': 'https://api.github.com/repos/isdsucph/isds2022/releases{/id}',\n",
      "  'size': 46901,\n",
      "  'ssh_url': 'git@github.com:isdsucph/isds2022.git',\n",
      "  'stargazers_count': 22,\n",
      "  'stargazers_url': 'https://api.github.com/repos/isdsucph/isds2022/stargazers',\n",
      "  'statuses_url': 'https://api.github.com/repos/isdsucph/isds2022/statuses/{sha}',\n",
      "  'subscribers_url': 'https://api.github.com/repos/isdsucph/isds2022/subscribers',\n",
      "  'subscription_url': 'https://api.github.com/repos/isdsucph/isds2022/subscription',\n",
      "  'svn_url': 'https://github.com/isdsucph/isds2022',\n",
      "  'tags_url': 'https://api.github.com/repos/isdsucph/isds2022/tags',\n",
      "  'teams_url': 'https://api.github.com/repos/isdsucph/isds2022/teams',\n",
      "  'topics': [],\n",
      "  'trees_url': 'https://api.github.com/repos/isdsucph/isds2022/git/trees{/sha}',\n",
      "  'updated_at': '2022-08-08T08:07:56Z',\n",
      "  'url': 'https://api.github.com/repos/isdsucph/isds2022',\n",
      "  'visibility': 'public',\n",
      "  'watchers': 22,\n",
      "  'watchers_count': 22,\n",
      "  'web_commit_signoff_required': False},\n",
      " {'allow_forking': True,\n",
      "  'archive_url': 'https://api.github.com/repos/isdsucph/isdsucph.github.io/{archive_format}{/ref}',\n",
      "  'archived': False,\n",
      "  'assignees_url': 'https://api.github.com/repos/isdsucph/isdsucph.github.io/assignees{/user}',\n",
      "  'blobs_url': 'https://api.github.com/repos/isdsucph/isdsucph.github.io/git/blobs{/sha}',\n",
      "  'branches_url': 'https://api.github.com/repos/isdsucph/isdsucph.github.io/branches{/branch}',\n",
      "  'clone_url': 'https://github.com/isdsucph/isdsucph.github.io.git',\n",
      "  'collaborators_url': 'https://api.github.com/repos/isdsucph/isdsucph.github.io/collaborators{/collaborator}',\n",
      "  'comments_url': 'https://api.github.com/repos/isdsucph/isdsucph.github.io/comments{/number}',\n",
      "  'commits_url': 'https://api.github.com/repos/isdsucph/isdsucph.github.io/commits{/sha}',\n",
      "  'compare_url': 'https://api.github.com/repos/isdsucph/isdsucph.github.io/compare/{base}...{head}',\n",
      "  'contents_url': 'https://api.github.com/repos/isdsucph/isdsucph.github.io/contents/{+path}',\n",
      "  'contributors_url': 'https://api.github.com/repos/isdsucph/isdsucph.github.io/contributors',\n",
      "  'created_at': '2021-07-01T08:13:49Z',\n",
      "  'default_branch': 'main',\n",
      "  'deployments_url': 'https://api.github.com/repos/isdsucph/isdsucph.github.io/deployments',\n",
      "  'description': None,\n",
      "  'disabled': False,\n",
      "  'downloads_url': 'https://api.github.com/repos/isdsucph/isdsucph.github.io/downloads',\n",
      "  'events_url': 'https://api.github.com/repos/isdsucph/isdsucph.github.io/events',\n",
      "  'fork': False,\n",
      "  'forks': 0,\n",
      "  'forks_count': 0,\n",
      "  'forks_url': 'https://api.github.com/repos/isdsucph/isdsucph.github.io/forks',\n",
      "  'full_name': 'isdsucph/isdsucph.github.io',\n",
      "  'git_commits_url': 'https://api.github.com/repos/isdsucph/isdsucph.github.io/git/commits{/sha}',\n",
      "  'git_refs_url': 'https://api.github.com/repos/isdsucph/isdsucph.github.io/git/refs{/sha}',\n",
      "  'git_tags_url': 'https://api.github.com/repos/isdsucph/isdsucph.github.io/git/tags{/sha}',\n",
      "  'git_url': 'git://github.com/isdsucph/isdsucph.github.io.git',\n",
      "  'has_downloads': True,\n",
      "  'has_issues': True,\n",
      "  'has_pages': True,\n",
      "  'has_projects': True,\n",
      "  'has_wiki': True,\n",
      "  'homepage': None,\n",
      "  'hooks_url': 'https://api.github.com/repos/isdsucph/isdsucph.github.io/hooks',\n",
      "  'html_url': 'https://github.com/isdsucph/isdsucph.github.io',\n",
      "  'id': 381958923,\n",
      "  'is_template': False,\n",
      "  'issue_comment_url': 'https://api.github.com/repos/isdsucph/isdsucph.github.io/issues/comments{/number}',\n",
      "  'issue_events_url': 'https://api.github.com/repos/isdsucph/isdsucph.github.io/issues/events{/number}',\n",
      "  'issues_url': 'https://api.github.com/repos/isdsucph/isdsucph.github.io/issues{/number}',\n",
      "  'keys_url': 'https://api.github.com/repos/isdsucph/isdsucph.github.io/keys{/key_id}',\n",
      "  'labels_url': 'https://api.github.com/repos/isdsucph/isdsucph.github.io/labels{/name}',\n",
      "  'language': None,\n",
      "  'languages_url': 'https://api.github.com/repos/isdsucph/isdsucph.github.io/languages',\n",
      "  'license': None,\n",
      "  'merges_url': 'https://api.github.com/repos/isdsucph/isdsucph.github.io/merges',\n",
      "  'milestones_url': 'https://api.github.com/repos/isdsucph/isdsucph.github.io/milestones{/number}',\n",
      "  'mirror_url': None,\n",
      "  'name': 'isdsucph.github.io',\n",
      "  'node_id': 'MDEwOlJlcG9zaXRvcnkzODE5NTg5MjM=',\n",
      "  'notifications_url': 'https://api.github.com/repos/isdsucph/isdsucph.github.io/notifications{?since,all,participating}',\n",
      "  'open_issues': 0,\n",
      "  'open_issues_count': 0,\n",
      "  'owner': {'avatar_url': 'https://avatars.githubusercontent.com/u/86770179?v=4',\n",
      "            'events_url': 'https://api.github.com/users/isdsucph/events{/privacy}',\n",
      "            'followers_url': 'https://api.github.com/users/isdsucph/followers',\n",
      "            'following_url': 'https://api.github.com/users/isdsucph/following{/other_user}',\n",
      "            'gists_url': 'https://api.github.com/users/isdsucph/gists{/gist_id}',\n",
      "            'gravatar_id': '',\n",
      "            'html_url': 'https://github.com/isdsucph',\n",
      "            'id': 86770179,\n",
      "            'login': 'isdsucph',\n",
      "            'node_id': 'MDQ6VXNlcjg2NzcwMTc5',\n",
      "            'organizations_url': 'https://api.github.com/users/isdsucph/orgs',\n",
      "            'received_events_url': 'https://api.github.com/users/isdsucph/received_events',\n",
      "            'repos_url': 'https://api.github.com/users/isdsucph/repos',\n",
      "            'site_admin': False,\n",
      "            'starred_url': 'https://api.github.com/users/isdsucph/starred{/owner}{/repo}',\n",
      "            'subscriptions_url': 'https://api.github.com/users/isdsucph/subscriptions',\n",
      "            'type': 'User',\n",
      "            'url': 'https://api.github.com/users/isdsucph'},\n",
      "  'private': False,\n",
      "  'pulls_url': 'https://api.github.com/repos/isdsucph/isdsucph.github.io/pulls{/number}',\n",
      "  'pushed_at': '2021-07-01T08:13:50Z',\n",
      "  'releases_url': 'https://api.github.com/repos/isdsucph/isdsucph.github.io/releases{/id}',\n",
      "  'size': 0,\n",
      "  'ssh_url': 'git@github.com:isdsucph/isdsucph.github.io.git',\n",
      "  'stargazers_count': 0,\n",
      "  'stargazers_url': 'https://api.github.com/repos/isdsucph/isdsucph.github.io/stargazers',\n",
      "  'statuses_url': 'https://api.github.com/repos/isdsucph/isdsucph.github.io/statuses/{sha}',\n",
      "  'subscribers_url': 'https://api.github.com/repos/isdsucph/isdsucph.github.io/subscribers',\n",
      "  'subscription_url': 'https://api.github.com/repos/isdsucph/isdsucph.github.io/subscription',\n",
      "  'svn_url': 'https://github.com/isdsucph/isdsucph.github.io',\n",
      "  'tags_url': 'https://api.github.com/repos/isdsucph/isdsucph.github.io/tags',\n",
      "  'teams_url': 'https://api.github.com/repos/isdsucph/isdsucph.github.io/teams',\n",
      "  'topics': [],\n",
      "  'trees_url': 'https://api.github.com/repos/isdsucph/isdsucph.github.io/git/trees{/sha}',\n",
      "  'updated_at': '2021-07-01T08:13:53Z',\n",
      "  'url': 'https://api.github.com/repos/isdsucph/isdsucph.github.io',\n",
      "  'visibility': 'public',\n",
      "  'watchers': 0,\n",
      "  'watchers_count': 0,\n",
      "  'web_commit_signoff_required': False}]\n"
     ]
    }
   ],
   "source": [
    "import pprint #Data pretty printer\n",
    "pprint.pprint(response.json()) #Everything is aranged alphabetically and in appropriate levels"
   ]
  },
  {
   "cell_type": "markdown",
   "metadata": {},
   "source": [
    "## The Punk API\n",
    "\n",
    "Now, it is time for you to request information through an API. First, we will work with the punk API that contains information on a large selection of beers. In this part of exercises, you are going to navigate in the information on these beers. Second, you are going to extract information from the DST (Statistics Denmark) API.\n",
    "\n",
    "The [punk API](https://punkapi.com/) serves information about _beers_. It is a well made and well documented API which makes it great for learning about APIs. \n",
    "\n",
    "> **Ex. 5.4.1:** Read the documentation on the Punk API available [here](https://punkapi.com/documentation/v2). What is the server url (i.e. root endpoint) of the Punk API? Does it require authentication? Then use the Punk API to make a request for the first 80 beers brewed after April, 2004 with an ABV of at least 5."
   ]
  },
  {
   "cell_type": "code",
   "execution_count": 329,
   "metadata": {
    "deletable": false,
    "nbgrader": {
     "cell_type": "code",
     "checksum": "0779d90d691b0832d3385b4a1dd546cb",
     "grade": false,
     "grade_id": "cell-d6af29d54fd7ded7",
     "locked": false,
     "schema_version": 3,
     "solution": true,
     "task": false
    }
   },
   "outputs": [],
   "source": [
    "# Documentation shows that the server URL is 'https://api.punkapi.com/v2/'\n",
    "# No authentication required - however, there is a request limit of 1 per second.\n",
    "\n",
    "response = requests.get('https://api.punkapi.com/v2/beers?per_page=80&brewed_after=04-2004&abv_gt=5')\n",
    "\n",
    "response_json = response.json()\n",
    "\n",
    "\n"
   ]
  },
  {
   "cell_type": "markdown",
   "metadata": {},
   "source": [
    "> **Ex. 5.4.2:** What object type is the API's JSON response? What about the individual items in the container? Convert the response object to a suitable format and answer the following questions:\n",
    "> 1) How many beers are there in the JSON object?\n",
    ">\n",
    "> 2) Print the response with and without the pretty printer. See any difference?\n",
    ">\n",
    "> 3) Now print only the names of the beers in the JSON object using lower case characters.\n",
    ">\n",
    "> 4) Select the beer called Rabiator from the JSON object. What is the suggested food pairing?\n",
    ">\n",
    "> 5) Select the beer called Hello My Name Is Beastie from the JSON object. Which malt ingredients does the Hello My Name Is Beastie contain?\n"
   ]
  },
  {
   "cell_type": "code",
   "execution_count": 330,
   "metadata": {
    "deletable": false,
    "nbgrader": {
     "cell_type": "code",
     "checksum": "09d8a7b769ef0e4201156e70158197be",
     "grade": false,
     "grade_id": "cell-1c6a5eef920b6c70",
     "locked": false,
     "schema_version": 3,
     "solution": true,
     "task": false
    }
   },
   "outputs": [
    {
     "name": "stdout",
     "output_type": "stream",
     "text": [
      "Answer 1): Number of beers is 80 \n",
      "\n",
      "Answer 2): Pretty printer definitely helps! \n",
      "\n",
      "Answer 3): Beer names in the response: ['pilsen lager', 'avery brown dredge', 'electric india', 'ab:12', 'ab:07', 'bramling x', 'misspent youth', 'arcade nation', 'mixtape 8', 'libertine porter', 'ab:06', 'russian doll – india pale ale', 'hello my name is mette-marit', 'rabiator', 'devine rebel (w/ mikkeller)', 'storm', 'the end of history', 'dog b', 'hbc 369', '10 heads high', 'dana - ipa is dead', 'ab:05', 'sorachi ace', 'bourbon baby', 'shipwrecker circus (w/ oskar blues)', 'zephyr', 'belgian trappist', 'kohatu - ipa is dead', 'hello my name is vladimir', 'ab:17', 'hardcore ipa', 'dog wired (w/8 wired)', 'anarchist alchemist', 'ab:15', 'goldings - ipa is dead', 'ab:14', 'lost dog (w/lost abbey)', 'tm10', 'paradox islay', 'albino squid assasin', 'amarillo - ipa is dead', 'black eyed king imp', 'prototype 27', 'coffee imperial stout', 'mandarina bavaria - ipa is dead', 'dogma', 'ab:08', 'sunk punk', 'sub hop', 'tokyo rising sun - lowland', 'hunter foundation pale ale', 'ab:16', 'sunmaid stout', 'whisky sour - b-sides', 'black eyed king imp - vietnamese coffee edition', 'never mind the anabolics', '#mashtag 2013', 'ab:18', 'hops kill nazis', 'ab:04', 'hopped-up brown ale - prototype challenge', 'comet', 'original dogma (née speedball)', 'bavarian weizen', 'citra', '#mashtag 2015', 'ab:09', 'mango gose - b-sides', 'everday anarchy', 'lumberjack stout', \"bowman's beard - b-sides\", 'pumpkin king', 'hello my name is päivi', 'elvis juice v2.0 - prototype challenge', 'riptide', 'peach therapy', 'clown king', 'india pale weizen (w/ weihenstephan)', 'hello my name is beastie', 'punk ipa 2010 - current'] \n",
      "\n",
      "Answer 4): The beer Rabiator has the index 13. \n",
      "The recommended pairings are Grilled portabello mushroom burger, Chicken sausages with creamy mash, Caramel and banana meringue pie \n",
      "\n",
      "Answer 5): The beer Hello My Name Is Beastie has the index 78. \n",
      "The malt ingredients are Maris Otter Extra Pale and Caramalt \n",
      "\n"
     ]
    }
   ],
   "source": [
    "# 1) Per the documentation page: All beer endpoints return a json array with a number of beer objects inside. \n",
    "print(f'Answer 1): Number of beers is {len(response_json)} \\n')\n",
    "\n",
    "\n",
    "# 2) Pretty printer vs. standard - try each one below by removing #\n",
    "\n",
    "#response_json\n",
    "#pprint.pprint(response_json)\n",
    "\n",
    "print('Answer 2): Pretty printer definitely helps! \\n')\n",
    "\n",
    "# 3) Print names\n",
    "\n",
    "beer_names = [beer['name'].lower() for beer in response_json]\n",
    "print(f'Answer 3): Beer names in the response: {beer_names} \\n' )\n",
    "\n",
    "\n",
    "# 4) Defining function to find index based on beer name\n",
    "def beer_index(name):\n",
    "    for i in range(len(response_json)):\n",
    "        if response_json[i]['name'].lower() == name.lower():\n",
    "            return i\n",
    "\n",
    "#Calling function to find the index\n",
    "Rabiator_index = beer_index('Rabiator')\n",
    "\n",
    "print(f'Answer 4): The beer Rabiator has the index {Rabiator_index}. \\n' \n",
    "      f'The recommended pairings are {\", \".join(response_json[Rabiator_index][\"food_pairing\"])} \\n')\n",
    "\n",
    "\n",
    "\n",
    "# 5\n",
    "beastie_index = beer_index('Hello My Name Is Beastie') \n",
    "\n",
    "beastie_malts = ' and '.join([i['name'] for i in response_json[beastie_index]['ingredients']['malt']])\n",
    "\n",
    "print(f'Answer 5): The beer Hello My Name Is Beastie has the index {beastie_index}. \\n' \n",
    "      f'The malt ingredients are {beastie_malts} \\n')"
   ]
  },
  {
   "cell_type": "markdown",
   "metadata": {},
   "source": [
    "> **Ex. 5.4.3:** Save the beers as a JSON file on your machine.\n",
    "\n",
    "> _Hint:_ If still in doubt about how to do this, you might want to take a look at the [json](https://docs.python.org/3/library/json.html) module.\n"
   ]
  },
  {
   "cell_type": "code",
   "execution_count": 331,
   "metadata": {
    "deletable": false,
    "nbgrader": {
     "cell_type": "code",
     "checksum": "ace20a7b7c09517d1318007ea25c33ec",
     "grade": false,
     "grade_id": "cell-d5feea65f34d4ab1",
     "locked": false,
     "schema_version": 3,
     "solution": true,
     "task": false
    }
   },
   "outputs": [],
   "source": [
    "with open('response_json.json', 'w') as f:\n",
    "    f.write(json.dumps(response_json))\n",
    "\n",
    "with open(\"response_json.json\", \"r\") as f:\n",
    "    response_json = json.loads(f.read())"
   ]
  },
  {
   "cell_type": "markdown",
   "metadata": {},
   "source": [
    "## The API for Statistics Denmark \n",
    "\n",
    "Statistics Denmark (DST) provide an API access to their aggregate data. For developers, they supply a [console](https://api.statbank.dk/console) for testing. In this exercise, we will code up a simple script which can collect data from the DST API. \n",
    "\n",
    "> **Ex 5.4.4:** Use the API console to construct a GET request which retrieves the table FOLK1A split by quarter. The return should be in JSON format. We want all available dates.\n",
    ">\n",
    ">Then write a function `construct_link()` which takes as inputs: a table ID (e.g. `'FOLK1A'`) and a list of strings like `['var1=*', 'var2=somevalue']`. The function should return the proper URL for getting a dataset with the specified variables (e.g. in this case all levels of var1, but only where var2=somevalue).\n",
    "\n",
    "> _Hint:_ The time variable is called 'tid'. To select all available values, set the value-id to '*'. Spend a little time with the console to get a sense of how the URLs are constructed.\n"
   ]
  },
  {
   "cell_type": "code",
   "execution_count": 332,
   "metadata": {
    "deletable": false,
    "nbgrader": {
     "cell_type": "code",
     "checksum": "6d92606bf5324f19480c040a7c76c3f8",
     "grade": false,
     "grade_id": "cell-d174a99ed0af2f0e",
     "locked": false,
     "schema_version": 3,
     "solution": true,
     "task": false
    }
   },
   "outputs": [
    {
     "data": {
      "text/plain": [
       "'https://api.statbank.dk/v1/data/FOLK1A/JSONSTAT?lang=en&Tid=*'"
      ]
     },
     "execution_count": 332,
     "metadata": {},
     "output_type": "execute_result"
    }
   ],
   "source": [
    "#Using the console: \n",
    "'https://api.statbank.dk/v1/data/FOLK1A/JSONSTAT?lang=en&Tid=*'\n",
    "\n",
    "def construct_link(tableID, variable_list):\n",
    "    \"\"\"\n",
    "    Takes in the ID of a DST data table, and a list of variables which can be specified\n",
    "    \"\"\"\n",
    "      \n",
    "    return_url = f'https://api.statbank.dk/v1/data/{tableID}/JSONSTAT?lang=en'\n",
    "\n",
    "    #For loop that iterates on the speicifed variables\n",
    "    for var in variable_list:\n",
    "        return_url += f'&{var}'\n",
    "    \n",
    "    return return_url\n",
    "\n",
    "construct_link('FOLK1A', ['Tid=*'])"
   ]
  },
  {
   "cell_type": "markdown",
   "metadata": {},
   "source": [
    "When executing the request in the console, you should get a json file as output. Next, lets write some code to load these json files directly into python. \n",
    "\n",
    "\n",
    "> **Ex. 5.4.5:** Use the `requests` module and `construct_link()` to request home value data from the \"EJDFOE1\" table. Get all available years (variable \"Tid\"), but only for Frederiksberg (BOPKOM=147), apartments (EJENTYP=B), market values (VAERDI=100) and average values in DKK units (ENHED=120). Unpack the json payload and store the result. Wrap the whole thing in a function which takes an url as input and returns the corresponding output.\n",
    "\n",
    "> _Hint:_ The `requests.response` object has a `.json()` method. "
   ]
  },
  {
   "cell_type": "code",
   "execution_count": 333,
   "metadata": {
    "deletable": false,
    "nbgrader": {
     "cell_type": "code",
     "checksum": "fa171d0bfbc603977659fd1f56f9b7a2",
     "grade": false,
     "grade_id": "cell-33bba55a2e8d0fc5",
     "locked": false,
     "schema_version": 3,
     "solution": true,
     "task": false
    }
   },
   "outputs": [
    {
     "data": {
      "text/plain": [
       "{2004: 1831863,\n",
       " 2005: 2432527,\n",
       " 2006: 2967807,\n",
       " 2007: 2689005,\n",
       " 2008: 2411340,\n",
       " 2009: 2169275,\n",
       " 2010: 2404517,\n",
       " 2011: 2476094,\n",
       " 2012: 2603080,\n",
       " 2013: 2780182,\n",
       " 2014: 3043468,\n",
       " 2015: 3360457,\n",
       " 2016: 3514799,\n",
       " 2017: 3671493,\n",
       " 2018: 3744034,\n",
       " 2019: 3762944,\n",
       " 2020: 3792786,\n",
       " 2021: 3770043}"
      ]
     },
     "execution_count": 333,
     "metadata": {},
     "output_type": "execute_result"
    }
   ],
   "source": [
    "#Creating URL for the data request\n",
    "url_frb = construct_link('EJDFOE1', ['Tid=*', 'BOPKOM=147', 'EJENTYP=B', 'VAERDI=100', 'ENHED=120'])\n",
    "\n",
    "#Defining function\n",
    "def data_request(source_url):\n",
    "\n",
    "    response = requests.get(source_url).json() #saving the JSON data as \"response\"\n",
    "    \n",
    "    value_list = response['dataset']['value'] #Extracts the values from the data, saves as list\n",
    "    \n",
    "    years_index_dict = response['dataset']['dimension']['Tid']['category']['index'] #Gets the year data as a dict\n",
    "    years_list = list(map(int, years_index_dict)) #int makes each string an interger, map applies int to all values in the list\n",
    "    \n",
    "    data_dict = dict(zip(years, values))  #zip years and values together in a dictionary\n",
    "    \n",
    "    return data_dict\n",
    "\n",
    "data_frb = data_request(url_frb)\n",
    "\n",
    "data_frb\n",
    "    "
   ]
  },
  {
   "cell_type": "markdown",
   "metadata": {},
   "source": [
    "> **Ex. 5.4.6:** Extract the values for Frederiksberg in each year. Store the results as a list."
   ]
  },
  {
   "cell_type": "code",
   "execution_count": 334,
   "metadata": {
    "deletable": false,
    "nbgrader": {
     "cell_type": "code",
     "checksum": "f6bd7935f324dbffbf537f86daa78dde",
     "grade": false,
     "grade_id": "cell-792e1879090acb1f",
     "locked": false,
     "schema_version": 3,
     "solution": true,
     "task": false
    }
   },
   "outputs": [],
   "source": [
    "frb_values = list(data_frb.values())\n"
   ]
  },
  {
   "cell_type": "markdown",
   "metadata": {},
   "source": [
    "> **Ex. 5.4.7:** Repeat 5.4.5 and 5.4.6 but this time only for Copenhagen (BOPKOM=101). Store the numbers in a new list and use the `plot_values` (supplied below) function to plot the (log of) the data. Interpret the plot."
   ]
  },
  {
   "cell_type": "code",
   "execution_count": 335,
   "metadata": {},
   "outputs": [],
   "source": [
    "# Just run this once, do not change it.\n",
    "import matplotlib.pyplot as plt \n",
    "import numpy as np\n",
    "\n",
    "def plot_values(val1, val2):\n",
    "    val1 = val1\n",
    "    val2 = val2\n",
    "    \"\"\" Plots lineplot of the number of births split by gender.\n",
    "    \n",
    "    Args: \n",
    "        boys: a list of boy births by year\n",
    "        girls: a list of girl births by year\n",
    "    \"\"\"\n",
    "    if not len(val1) == len(val2):\n",
    "        raise ValueError('There must be the same number of observations for boys and girls')\n",
    "    \n",
    "    labels = [f'{year}' for year in range(2004,2021)]\n",
    "    \n",
    "    plt.grid(color='black', linestyle='-', linewidth=0.1, axis='x')\n",
    "    \n",
    "    plt.plot(range(len(val1)), val1, color = 'blue', label = 'Frederiksberg')\n",
    "    plt.plot(range(len(val1)), val2, color = 'red', label = 'Copenhagen')\n",
    "    plt.yscale(\"log\")\n",
    "    plt.xticks([i for i in range(len(val1)) if i%2 == 0],\n",
    "               [l for i,l in zip(range(len(val1)),labels) if i%2 == 0],\n",
    "               rotation = 'horizontal')\n",
    "    plt.xlabel('Year')\n",
    "    plt.ylabel('Market Value of Apartments')\n",
    "    \n",
    "    plt.legend()\n",
    "    plt.show()"
   ]
  },
  {
   "cell_type": "code",
   "execution_count": 336,
   "metadata": {},
   "outputs": [],
   "source": [
    "#Creating URL for the data request\n",
    "url_cph = construct_link('EJDFOE1', ['Tid=*', 'BOPKOM=101', 'EJENTYP=B', 'VAERDI=100', 'ENHED=120'])\n",
    "\n",
    "data_cph = data_request(url_cph)\n",
    "\n",
    "cph_values = list(data_cph.values())"
   ]
  },
  {
   "cell_type": "code",
   "execution_count": 337,
   "metadata": {},
   "outputs": [
    {
     "name": "stdout",
     "output_type": "stream",
     "text": [
      "https://api.statbank.dk/v1/data/EJDFOE1/JSONSTAT?lang=en&Tid=*&BOPKOM=147&EJENTYP=B&VAERDI=100&ENHED=120\n",
      "https://api.statbank.dk/v1/data/EJDFOE1/JSONSTAT?lang=en&Tid=*&BOPKOM=101&EJENTYP=B&VAERDI=100&ENHED=120\n",
      "{2004: 1831863, 2005: 2432527, 2006: 2967807, 2007: 2689005, 2008: 2411340, 2009: 2169275, 2010: 2404517, 2011: 2476094, 2012: 2603080, 2013: 2780182, 2014: 3043468, 2015: 3360457, 2016: 3514799, 2017: 3671493, 2018: 3744034, 2019: 3762944, 2020: 3792786, 2021: 3770043}\n",
      "{2004: 1831863, 2005: 2432527, 2006: 2967807, 2007: 2689005, 2008: 2411340, 2009: 2169275, 2010: 2404517, 2011: 2476094, 2012: 2603080, 2013: 2780182, 2014: 3043468, 2015: 3360457, 2016: 3514799, 2017: 3671493, 2018: 3744034, 2019: 3762944, 2020: 3792786, 2021: 3770043}\n"
     ]
    }
   ],
   "source": [
    "print(url_frb)\n",
    "print(url_cph)\n",
    "\n",
    "print(data_frb)\n",
    "print(data_cph)"
   ]
  },
  {
   "cell_type": "code",
   "execution_count": 281,
   "metadata": {
    "deletable": false,
    "nbgrader": {
     "cell_type": "code",
     "checksum": "61afe17e8fde46f0afffb8e50c5d6b86",
     "grade": false,
     "grade_id": "cell-0ea2577312192992",
     "locked": false,
     "schema_version": 3,
     "solution": true,
     "task": false
    }
   },
   "outputs": [
    {
     "data": {
      "image/png": "[encoded data removed]",
      "text/plain": [
       "<Figure size 432x288 with 1 Axes>"
      ]
     },
     "metadata": {
      "needs_background": "light"
     },
     "output_type": "display_data"
    }
   ],
   "source": [
    "#Creating URL for the data request\n",
    "url_cph = construct_link('EJDFOE1', ['Tid=*', 'BOPKOM=101', 'EJENTYP=B', 'VAERDI=100', 'ENHED=120'])\n",
    "\n",
    "data_cph = data_request(url_cph)\n",
    "\n",
    "cph_values = list(data_cph.values())\n",
    "\n",
    "plot_values(frb_values, cph_values)"
   ]
  },
  {
   "cell_type": "markdown",
   "metadata": {},
   "source": [
    "# Part 5: Bonus Exercises $-$ Traffic Data in Copenhagen\n",
    "\n",
    "This set of bonus exercises allows you to apply the tools that you have learned in session 2 to 5. Note that they are not mandatory $-$ rather, our hopes are the exercises will provide you with an additional opportunity to (i) strenghten your data structuring skills and (ii) see how you have already learned a series of skills that work nicely together. \n",
    "\n",
    "In this set of bonus exercises, you will be working with traffic data from Copenhagen Municipality.\n",
    "\n",
    "The municipality have made the data openly available through the [opendata.dk](http://www.opendata.dk/) platform. We will use the data from traffic counters to construct a dataset of hourly traffic. We will use this data to get basic insights on the development in traffic over time and relate it to weather. The gist here is to practice a very important skill in Data Science: being able to quickly fetch data from the web and structure it so that you can work with it. Scraping usually gets a bit more advanced than what we will do today, but the following exercises should give you a taste for how it works. The bulk of these exercise, however, revolve around using the Pandas library to structure and analyze data."
   ]
  },
  {
   "cell_type": "markdown",
   "metadata": {},
   "source": [
    "## Part 5.5.A: Getting some data to work with\n",
    "\n",
    "Hence follows a simple scraping exercise where you (1) collect urls for datasets in the webpage listing data on traffic counters and (2) use these urls to load the data into one dataframe.\n",
    "\n",
    "> **Ex. 5.5.1:** *(Bonus)* Using the requests module, extract the html markup of the webpage data.kk.dk/dataset/faste-trafiktaellinger and store it as a string in a new variable."
   ]
  },
  {
   "cell_type": "code",
   "execution_count": 344,
   "metadata": {
    "deletable": false,
    "nbgrader": {
     "cell_type": "code",
     "checksum": "9176d5fa5e602c0cc9a83fc019b5e06c",
     "grade": false,
     "grade_id": "cell-66d30cd4ddd300f6",
     "locked": false,
     "schema_version": 3,
     "solution": true,
     "task": false
    }
   },
   "outputs": [
    {
     "data": {
      "text/plain": [
       "'<!DOCTYPE html>\\n<html lang=\"en\">\\n\\n<head>\\n    <meta charset=\"utf-8\">\\n    <title>\\n        \\n  faste-trafiktaellinger - Datasæt\\n\\n    </title>\\n    <div role=\"navigation\" id=\"skip-to-main\" aria-label=\"Gå til hovedindhold\">\\n        <a href=\"#main-content\">Gå til hovedindhold</a>\\n    </div>\\n    <meta name=\"author\" content=\"Datopian\">\\n    <meta name=\"viewport\" content=\"width=device-width, initial-scale=1.0, maximum-scale=1.0, user-scalable=no\">\\n\\n    <!-- Data Explorer CSS -->\\n    <!-- Should be imported before the main one so not to override the custom styling-->\\n    <link rel=\"stylesheet\" type=\"text/css\" href=\"/static/stylesheets/dataexplorer/main.0e85ebd4.chunk.css\">\\n    <link rel=\"stylesheet\" type=\"text/css\" href=\"/static/stylesheets/dataexplorer/2.0f69c0e7.chunk.css\">\\n    <!-- End Data Explorer CSS -->\\n\\n    <link rel=\"stylesheet\" media=\"screen\" href=\"/static/stylesheets/app.css\">\\n    <link rel=\"shortcut icon\" href=\"/static/img/favicon.ico\"> \\n    <link rel=\"stylesheet\" href=\"//cdnjs.cloudflare.com/ajax/libs/leaflet/1.0.3/leaflet.css\">  \\n    <script id=\"CookieConsent\" src=\"https://policy.app.cookieinformation.com/uc.js\" data-culture=\"DA\" type=\"text/javascript\"></script>\\n    <script src=\"https://code.jquery.com/jquery-3.3.1.min.js\" integrity=\"sha256-FgpCb/KJQlLNfOu91ta32o/NMZxltwRo8QtmkMRdAu8=\" crossorigin=\"anonymous\"></script>\\n</head>\\n\\n<body class=\"\">\\n    <div id=\"page\" class=\"flex flex-col justify-between min-h-screen\">\\n        <div>\\n            \\n            <!-- Page header -->\\n            <header>\\n                <div class=\"container mx-auto lg:flex justify-between p-gutter items-center relative\">\\n                    <a href=\"/\" class=\"flex content-center h-8 mr-16\" aria-label=\"Navigere Hjem\">\\n                        <img src=\"/static/img/logo.svg\" alt=\"Open Data DK\" class=\"lg:h-6 max-w-full\" />\\n                    </a>\\n\\n                    <button id=\"nav-toggle\" class=\"absolute top-0 right-0 p-gutter outline-none focus:outline-none focus:text-secondary lg:hidden invisible\">\\n              <svg class=\"w-8 h-8 fill-current\">\\n                <use xlink:href=\"#menu\" />\\n              </svg>\\n            </button>\\n\\n                    <nav class=\"main-nav mt-4 py-2 lg:my-2 bg-white right-0 z-10 lg:relative\" aria-label=\"Webstedsnavigation\">\\n                        <ul class=\"lg:flex md:text-xl lg:text-2xl\">\\n                            <li class=\"mt-1 mr-6\">\\n                                <a class=\"text-white bg-secondary px-6 py-2 whitespace-no-wrap\" target=\"_blank\" href=\"https://www.survey-xact.dk/LinkCollector?key=X3LGR2APJJ15\">Efterspørg data</a>\\n                            </li>\\n                            <li class=\"main-nav_item lg:mx-3\">\\n                                <a class=\"main-nav_link\" href=\"/blog\">Nyheder</a>\\n                            </li>\\n                            <li class=\"main-nav_item lg:mx-3\">\\n                                <a class=\"main-nav_link\" href=\"/search\">Data<svg class=\"hidden w-3 h-3 text-secondary fill-current ml-1 lg:block\"><use xlink:href=\"#dropdown\" /></svg></a>\\n                                <ul class=\"main-nav_subnav\" aria-label=\"Undermenu\">\\n                                    <li>\\n                                        <a class=\"main-nav_link\" href=\"/search\">Datasæt</a>\\n                                    </li>\\n                                    <li>\\n                                        <a class=\"main-nav_link\" href=\"/organization\">Organisationer</a>\\n                                    </li>\\n                                    <li>\\n                                        <a class=\"main-nav_link\" href=\"/collections\">Grupper</a>\\n                                    </li>\\n                                    <li>\\n                                        <a class=\"main-nav_link\" href=\"/andres-data\">Andres data</a>\\n                                    </li>\\n                                </ul>\\n                            </li>\\n                            <li class=\"main-nav_item lg:ml-3\">\\n                                <a class=\"main-nav_link whitespace-no-wrap\" href=\"/about\">Om os <svg class=\"hidden w-3 h-3 text-secondary fill-current ml-1 lg:block\"><use xlink:href=\"#dropdown\" /></svg></a>\\n                                <ul class=\"main-nav_subnav\" aria-label=\"Undermenu\">\\n                                    \\n                                    <li>\\n                                        <a class=\"main-nav_link\" href=\"/hvad-er-open-data-dk\" aria-label=\"Hvad er Open Data DK?\">Hvad er Open Data DK?</a>\\n                                    </li>\\n                                    \\n                                    <li>\\n                                        <a class=\"main-nav_link\" href=\"/foreningen\" aria-label=\"Foreningen\">Foreningen</a>\\n                                    </li>\\n                                    \\n                                    <li>\\n                                        <a class=\"main-nav_link\" href=\"/medlemmer\" aria-label=\"Medlemmer\">Medlemmer</a>\\n                                    </li>\\n                                    \\n                                    <li>\\n                                        <a class=\"main-nav_link\" href=\"/vejledninger-og-analyser\" aria-label=\"Vejledninger og analyser\">Vejledninger og analyser</a>\\n                                    </li>\\n                                    \\n                                    <li>\\n                                        <a class=\"main-nav_link\" href=\"/faq\" aria-label=\"FAQ\">FAQ</a>\\n                                    </li>\\n                                    \\n                                </ul>\\n                            </li>\\n                            <li class=\"flex text-primary lg:ml-6\">\\n                                <a id=\"search-link\" href=\"/search\">\\n                                    <span class=\"main-nav_link hidden\">Søg i datasæt</span>\\n                                    <svg class=\"main-nav_search-toggle-icon w-8 h-8 hover:fill-secondary outline-none\" data-toggle=\"show\"><use xlink:href=\"#search\" /></svg>\\n                                    <svg class=\"main-nav_search-toggle-icon w-8 h-6 hover:fill-secondary outline-none\" data-toggle=\"hide\"><use xlink:href=\"#cross\" /></svg>\\n                                </a>\\n                                <div class=\"main-nav_search w-full px-6 py-2 lg:p-0 lg:absolute lg:left-0 lg:right-0 lg:pr-12 lg:pointer-events-none\" id=\"header-search\">\\n                                    <!--                    <input id=\"searchInput\" aria-label=\"Søg\" name=\"q\" type=\"text\" class=\"searchInput border-2 border-solid px-3 py-2 lg:px-4 lg:py-3 lg:text-xl outline-none border-secondary w-full pointer-events-auto\" placeholder=\"Søg datasæt\">-->\\n                                    <div class=\"dropdown\">\\n                                        <div class=\"relative\">\\n                                            <input id=\"searchInput\" aria-label=\"Søg\" autocomplete=\"off\" type=\"text\" class=\"searchInput border-2 border-solid px-3 py-2 lg:px-4 lg:py-3 lg:text-xl outline-none border-secondary w-full pointer-events-auto\" placeholder=\"Søg ...\"\\n                                                name=\"q\" required />\\n                                            <button class=\"absolute inset-y-0 right-0 px-3 outline-none\" type=\"submit\">\\n                          <svg class=\"w-6 h-6 fill-white\" aria-label=\"Søg i datasæt\"><use xlink:href=\"#search\" /></svg>\\n                        </button>\\n                                        </div>\\n\\n                                        <div id=\"searchSelect\" class=\"searchSelect\">\\n                                            <div id=\"searchSelect1Div\" class=\"searchSelect1Div relative\">\\n                                                <input id=\"searchSelect1\" aria-label=\"Søg i datasæt\" readonly type=\"text\" class=\"searchSelect1 cursor-pointer hover:bg-secondary focus:bg-secondary border-2 border-solid pl-10 pr-48 py-3 lg:text-xl border-secondary w-full pointer-events-auto\"\\n                                                />\\n                                                <div class=\"pointer-events-none absolute inset-y-0 left-0 flex items-center px-2 text-gray-700\">\\n                                                    <svg class=\"w-6 h-6 fill-primary\" aria-label=\"Søg i datasæt\"><use xlink:href=\"#search\" /></svg>\\n                                                </div>\\n                                                <div class=\"pointer-events-none absolute inset-y-0 right-0 flex items-center px-2 text-gray-700\">\\n                                                    <button class=\"flex-shrink-0 bg-teal-500 hover:bg-teal-700 border-teal-500 text-sm border-4 text-primary py-1 px-2 rounded\" type=\"button\">\\n                              Søg i datasæt\\n                            </button>\\n                                                </div>\\n                                            </div>\\n\\n                                            <div id=\"searchSelect2Div\" class=\"searchSelect2Div relative\">\\n                                                <input id=\"searchSelect2\" aria-label=\"Søg på hjemmeside\" readonly type=\"text\" class=\"searchSelect2 cursor-pointer hover:bg-secondary focus:bg-secondary border-2 border-solid pl-10 pr-48 py-3 lg:text-xl border-secondary w-full pointer-events-auto\"\\n                                                />\\n                                                <div class=\"pointer-events-none absolute inset-y-0 left-0 flex items-center px-2 text-gray-700\">\\n                                                    <svg class=\"w-6 h-6 fill-primary\" aria-label=\"Søg i indhold\"><use xlink:href=\"#search\" /></svg>\\n                                                </div>\\n                                                <div class=\"pointer-events-none absolute inset-y-0 right-0 flex items-center px-2 text-gray-700\">\\n                                                    <button class=\"flex-shrink-0 text-sm border-4 text-primary py-1 px-2 rounded\" type=\"button\">\\n                              Søg på hjemmeside\\n                            </button>\\n                                                </div>\\n                                            </div>\\n                                        </div>\\n                                    </div>\\n                                </div>\\n\\n                            </li>\\n                        </ul>\\n                    </nav>\\n                </div>\\n            </header>\\n            <!-- End of page header -->\\n\\n            \\n\\n  <div class=\"container mx-auto p-gutter\">\\n    <nav class=\"breadcrumb\" aria-label=\"Brødkrumme\">\\n      <ol>\\n        <li class=\"breadcrumb_item\">\\n          <a class=\"breadcrumb_link\" href=\"/\">Hjem</a>\\n        </li>\\n        <li class=\"breadcrumb_item\">\\n          <a class=\"breadcrumb_link\" href=\"/city-of-copenhagen\">Københavns Kommune</a>\\n        </li>\\n        <li class=\"breadcrumb_item\">\\n          <a class=\"breadcrumb_link\" href=\"/city-of-copenhagen/faste-trafiktaellinger\"\\n             aria-current=\"page\">faste-trafiktaellinger</a>\\n        </li>\\n      </ol>\\n    </nav>\\n  </div>\\n\\n  <main id=\"main-content\" tabindex=\"-1\" aria-label=\"Hovedindhold\">\\n    <div class=\"container mx-auto lg:flex p-gutter\">\\n      <!-- info -->\\n      <div class=\"lg:w-2/3\">\\n\\n        <h1 class=\"text-4xl font-semibold mb-3\">\\n          faste-trafiktaellinger\\n        </h1>\\n\\n        <!-- full readme -->\\n        \\n          <div class=\"leading-relaxed whitespace-pre-wrap\"><p>Her kan du finde tal for trafik fra Københavns faste tællesteder. Vej-Id fortæller, hvor tællestationen er placeret. - og +  efter vej-Id beskriver retningen hvor der tælles. T er udtryk for totaltrafik. Vejnavnet fortæller om hvilken vej tællestationen ligger på. Vejnavnet korresponderer med Vej-Id. UTM X- og Y-koordinaterne kan bruges til at identificere den nøjagtige position på tællestationen. Dagen hvor tællingerne er blevet udført, kan findes under Dato og de resterende kolonner er inddelt efter den time, der er talt.</p>\\n</div>\\n        \\n        <!-- end of full readme -->\\n\\n        <h2 class=\"text-2xl font-semibold mt-gutter mb-4\">10 datasæt</h2>\\n\\n        <!-- data files (downloads) -->\\n        <ul>\\n          \\n          \\n          \\n            \\n            <!-- data file -->\\n            <li class=\"mb-6\">\\n              <h3 class=\"text-xl font-semibold\">\\n                <a href=\"https://admin.opendata.dk/dataset/5f9345b0-d73b-43ff-a659-e468d160bc61/resource/dcb49b51-1a17-40f6-82b4-34eaf58bce57/download/faste-trafiktaellinger-2005.xlsx\" class=\"text-secondary\" aria-label=\"Navigere til Faste Trafiktællinger 2005.xlsx xlsx\">Faste Trafiktællinger 2005.xlsx</a>\\n              </h3>\\n              <div class=\"mt-2\">\\n                \\n                  <span title=\"file format\" class=\"bg-gray-600 rounded text-sm text-gray-100 px-2 py-1\"\\n                        style=\"background:#3CBC8D;\">xlsx</span>\\n                \\n                \\n                  <span title=\"file size\"\\n                        class=\"bg-gray-600 rounded text-sm text-gray-100 px-2 py-1\">1862554</span>\\n                \\n              </div>\\n              <p class=\"mt-2\">\\n                <p>Trafiktællinger fra Københavns faste tællestationer 2005.</p>\\n\\n              </p>\\n              <nav aria-label=\"Download eller Preview faste_trafiktællinger_2005.xlsx xlsx\">\\n                <a class=\"data-file-type mr-1\" href=\"https://admin.opendata.dk/dataset/5f9345b0-d73b-43ff-a659-e468d160bc61/resource/dcb49b51-1a17-40f6-82b4-34eaf58bce57/download/faste-trafiktaellinger-2005.xlsx\" aria-label=\"Download faste_trafiktællinger_2005.xlsx.xlsx\">\\n                  <dl class=\"data-file-type_inner\">\\n                    <dt class=\"data-file-type_term\">\\n                      Download\\n                    </dt>\\n                  </dl>\\n                </a>\\n                \\n                <!-- Preview button -->\\n                \\n                  <a class=\"data-file-type mr-1\" href=\"#resource-faste_trafiktællinger_2005.xlsx\" aria-label=\"Preview faste_trafiktællinger_2005.xlsx.xlsx\">\\n                    <dl class=\"data-file-type_inner\">\\n                      <dt class=\"data-file-type_term\">\\n                        Preview\\n                      </dt>\\n                    </dl>\\n                  </a>\\n                \\n                <!-- End of preview button -->\\n                \\n              </nav>\\n            </li>\\n            <!-- data file end -->\\n          \\n            \\n            <!-- data file -->\\n            <li class=\"mb-6\">\\n              <h3 class=\"text-xl font-semibold\">\\n                <a href=\"https://admin.opendata.dk/dataset/5f9345b0-d73b-43ff-a659-e468d160bc61/resource/0bfc0425-0b2f-43b4-be71-117b4265598d/download/faste-trafiktaellinger-2006.xlsx\" class=\"text-secondary\" aria-label=\"Navigere til Faste Trafiktællinger 2006.xlsx xlsx\">Faste Trafiktællinger 2006.xlsx</a>\\n              </h3>\\n              <div class=\"mt-2\">\\n                \\n                  <span title=\"file format\" class=\"bg-gray-600 rounded text-sm text-gray-100 px-2 py-1\"\\n                        style=\"background:#3CBC8D;\">xlsx</span>\\n                \\n                \\n                  <span title=\"file size\"\\n                        class=\"bg-gray-600 rounded text-sm text-gray-100 px-2 py-1\">3206456</span>\\n                \\n              </div>\\n              <p class=\"mt-2\">\\n                <p>Trafiktællinger fra Københavns faste tællestationer 2006.</p>\\n\\n              </p>\\n              <nav aria-label=\"Download eller Preview faste_trafiktællinger_2006.xlsx xlsx\">\\n                <a class=\"data-file-type mr-1\" href=\"https://admin.opendata.dk/dataset/5f9345b0-d73b-43ff-a659-e468d160bc61/resource/0bfc0425-0b2f-43b4-be71-117b4265598d/download/faste-trafiktaellinger-2006.xlsx\" aria-label=\"Download faste_trafiktællinger_2006.xlsx.xlsx\">\\n                  <dl class=\"data-file-type_inner\">\\n                    <dt class=\"data-file-type_term\">\\n                      Download\\n                    </dt>\\n                  </dl>\\n                </a>\\n                \\n                <!-- Preview button -->\\n                \\n                  <a class=\"data-file-type mr-1\" href=\"#resource-faste_trafiktællinger_2006.xlsx\" aria-label=\"Preview faste_trafiktællinger_2006.xlsx.xlsx\">\\n                    <dl class=\"data-file-type_inner\">\\n                      <dt class=\"data-file-type_term\">\\n                        Preview\\n                      </dt>\\n                    </dl>\\n                  </a>\\n                \\n                <!-- End of preview button -->\\n                \\n              </nav>\\n            </li>\\n            <!-- data file end -->\\n          \\n            \\n            <!-- data file -->\\n            <li class=\"mb-6\">\\n              <h3 class=\"text-xl font-semibold\">\\n                <a href=\"https://admin.opendata.dk/dataset/5f9345b0-d73b-43ff-a659-e468d160bc61/resource/f52749f9-6f90-4f63-a151-c4020d4b2396/download/faste-trafiktaellinger-2007.xlsx\" class=\"text-secondary\" aria-label=\"Navigere til Faste Trafiktællinger 2007.xlsx xlsx\">Faste Trafiktællinger 2007.xlsx</a>\\n              </h3>\\n              <div class=\"mt-2\">\\n                \\n                  <span title=\"file format\" class=\"bg-gray-600 rounded text-sm text-gray-100 px-2 py-1\"\\n                        style=\"background:#3CBC8D;\">xlsx</span>\\n                \\n                \\n                  <span title=\"file size\"\\n                        class=\"bg-gray-600 rounded text-sm text-gray-100 px-2 py-1\">3846351</span>\\n                \\n              </div>\\n              <p class=\"mt-2\">\\n                <p>Trafiktællinger fra Københavns faste tællestationer 2007.</p>\\n\\n              </p>\\n              <nav aria-label=\"Download eller Preview faste_trafiktællinger_2007.xlsx xlsx\">\\n                <a class=\"data-file-type mr-1\" href=\"https://admin.opendata.dk/dataset/5f9345b0-d73b-43ff-a659-e468d160bc61/resource/f52749f9-6f90-4f63-a151-c4020d4b2396/download/faste-trafiktaellinger-2007.xlsx\" aria-label=\"Download faste_trafiktællinger_2007.xlsx.xlsx\">\\n                  <dl class=\"data-file-type_inner\">\\n                    <dt class=\"data-file-type_term\">\\n                      Download\\n                    </dt>\\n                  </dl>\\n                </a>\\n                \\n                <!-- Preview button -->\\n                \\n                  <a class=\"data-file-type mr-1\" href=\"#resource-faste_trafiktællinger_2007.xlsx\" aria-label=\"Preview faste_trafiktællinger_2007.xlsx.xlsx\">\\n                    <dl class=\"data-file-type_inner\">\\n                      <dt class=\"data-file-type_term\">\\n                        Preview\\n                      </dt>\\n                    </dl>\\n                  </a>\\n                \\n                <!-- End of preview button -->\\n                \\n              </nav>\\n            </li>\\n            <!-- data file end -->\\n          \\n            \\n            <!-- data file -->\\n            <li class=\"mb-6\">\\n              <h3 class=\"text-xl font-semibold\">\\n                <a href=\"https://admin.opendata.dk/dataset/5f9345b0-d73b-43ff-a659-e468d160bc61/resource/e4f321ad-76bc-483f-839e-e04cfea6bfc0/download/faste-trafiktaellinger-2008.xlsx\" class=\"text-secondary\" aria-label=\"Navigere til Faste Trafiktællinger 2008.xlsx xlsx\">Faste Trafiktællinger 2008.xlsx</a>\\n              </h3>\\n              <div class=\"mt-2\">\\n                \\n                  <span title=\"file format\" class=\"bg-gray-600 rounded text-sm text-gray-100 px-2 py-1\"\\n                        style=\"background:#3CBC8D;\">xlsx</span>\\n                \\n                \\n                  <span title=\"file size\"\\n                        class=\"bg-gray-600 rounded text-sm text-gray-100 px-2 py-1\">3868937</span>\\n                \\n              </div>\\n              <p class=\"mt-2\">\\n                <p>Trafiktællinger fra Københavns faste tællestationer 2008.</p>\\n\\n              </p>\\n              <nav aria-label=\"Download eller Preview faste_trafiktællinger_2008.xlsx xlsx\">\\n                <a class=\"data-file-type mr-1\" href=\"https://admin.opendata.dk/dataset/5f9345b0-d73b-43ff-a659-e468d160bc61/resource/e4f321ad-76bc-483f-839e-e04cfea6bfc0/download/faste-trafiktaellinger-2008.xlsx\" aria-label=\"Download faste_trafiktællinger_2008.xlsx.xlsx\">\\n                  <dl class=\"data-file-type_inner\">\\n                    <dt class=\"data-file-type_term\">\\n                      Download\\n                    </dt>\\n                  </dl>\\n                </a>\\n                \\n                <!-- Preview button -->\\n                \\n                  <a class=\"data-file-type mr-1\" href=\"#resource-faste_trafiktællinger_2008.xlsx\" aria-label=\"Preview faste_trafiktællinger_2008.xlsx.xlsx\">\\n                    <dl class=\"data-file-type_inner\">\\n                      <dt class=\"data-file-type_term\">\\n                        Preview\\n                      </dt>\\n                    </dl>\\n                  </a>\\n                \\n                <!-- End of preview button -->\\n                \\n              </nav>\\n            </li>\\n            <!-- data file end -->\\n          \\n            \\n            <!-- data file -->\\n            <li class=\"mb-6\">\\n              <h3 class=\"text-xl font-semibold\">\\n                <a href=\"https://admin.opendata.dk/dataset/5f9345b0-d73b-43ff-a659-e468d160bc61/resource/bac5c582-bdd0-45db-b174-f835e82851bc/download/faste-trafiktaellinger-2009.xlsx\" class=\"text-secondary\" aria-label=\"Navigere til Faste Trafiktællinger 2009.xlsx xlsx\">Faste Trafiktællinger 2009.xlsx</a>\\n              </h3>\\n              <div class=\"mt-2\">\\n                \\n                  <span title=\"file format\" class=\"bg-gray-600 rounded text-sm text-gray-100 px-2 py-1\"\\n                        style=\"background:#3CBC8D;\">xlsx</span>\\n                \\n                \\n                  <span title=\"file size\"\\n                        class=\"bg-gray-600 rounded text-sm text-gray-100 px-2 py-1\">3393792</span>\\n                \\n              </div>\\n              <p class=\"mt-2\">\\n                <p>Trafiktællinger fra Københavns faste tællestationer 2009.</p>\\n\\n              </p>\\n              <nav aria-label=\"Download eller Preview faste_trafiktællinger_2009.xlsx xlsx\">\\n                <a class=\"data-file-type mr-1\" href=\"https://admin.opendata.dk/dataset/5f9345b0-d73b-43ff-a659-e468d160bc61/resource/bac5c582-bdd0-45db-b174-f835e82851bc/download/faste-trafiktaellinger-2009.xlsx\" aria-label=\"Download faste_trafiktællinger_2009.xlsx.xlsx\">\\n                  <dl class=\"data-file-type_inner\">\\n                    <dt class=\"data-file-type_term\">\\n                      Download\\n                    </dt>\\n                  </dl>\\n                </a>\\n                \\n                <!-- Preview button -->\\n                \\n                  <a class=\"data-file-type mr-1\" href=\"#resource-faste_trafiktællinger_2009.xlsx\" aria-label=\"Preview faste_trafiktællinger_2009.xlsx.xlsx\">\\n                    <dl class=\"data-file-type_inner\">\\n                      <dt class=\"data-file-type_term\">\\n                        Preview\\n                      </dt>\\n                    </dl>\\n                  </a>\\n                \\n                <!-- End of preview button -->\\n                \\n              </nav>\\n            </li>\\n            <!-- data file end -->\\n          \\n            \\n            <!-- data file -->\\n            <li class=\"mb-6\">\\n              <h3 class=\"text-xl font-semibold\">\\n                <a href=\"https://admin.opendata.dk/dataset/5f9345b0-d73b-43ff-a659-e468d160bc61/resource/a209aef9-802c-4cda-9b42-f4364877b04f/download/faste-trafiktaellinger-2010.xlsx\" class=\"text-secondary\" aria-label=\"Navigere til Faste Trafiktællinger 2010.xlsx xlsx\">Faste Trafiktællinger 2010.xlsx</a>\\n              </h3>\\n              <div class=\"mt-2\">\\n                \\n                  <span title=\"file format\" class=\"bg-gray-600 rounded text-sm text-gray-100 px-2 py-1\"\\n                        style=\"background:#3CBC8D;\">xlsx</span>\\n                \\n                \\n                  <span title=\"file size\"\\n                        class=\"bg-gray-600 rounded text-sm text-gray-100 px-2 py-1\">3426280</span>\\n                \\n              </div>\\n              <p class=\"mt-2\">\\n                <p>Trafiktællinger fra Københavns faste tællestationer 2010.</p>\\n\\n              </p>\\n              <nav aria-label=\"Download eller Preview faste_trafiktællinger_2010.xlsx xlsx\">\\n                <a class=\"data-file-type mr-1\" href=\"https://admin.opendata.dk/dataset/5f9345b0-d73b-43ff-a659-e468d160bc61/resource/a209aef9-802c-4cda-9b42-f4364877b04f/download/faste-trafiktaellinger-2010.xlsx\" aria-label=\"Download faste_trafiktællinger_2010.xlsx.xlsx\">\\n                  <dl class=\"data-file-type_inner\">\\n                    <dt class=\"data-file-type_term\">\\n                      Download\\n                    </dt>\\n                  </dl>\\n                </a>\\n                \\n                <!-- Preview button -->\\n                \\n                  <a class=\"data-file-type mr-1\" href=\"#resource-faste_trafiktællinger_2010.xlsx\" aria-label=\"Preview faste_trafiktællinger_2010.xlsx.xlsx\">\\n                    <dl class=\"data-file-type_inner\">\\n                      <dt class=\"data-file-type_term\">\\n                        Preview\\n                      </dt>\\n                    </dl>\\n                  </a>\\n                \\n                <!-- End of preview button -->\\n                \\n              </nav>\\n            </li>\\n            <!-- data file end -->\\n          \\n            \\n            <!-- data file -->\\n            <li class=\"mb-6\">\\n              <h3 class=\"text-xl font-semibold\">\\n                <a href=\"https://admin.opendata.dk/dataset/5f9345b0-d73b-43ff-a659-e468d160bc61/resource/8b2f60a9-17ac-437d-ae6e-ad44c0a49edd/download/faste-trafiktaellinger-2011.xlsx\" class=\"text-secondary\" aria-label=\"Navigere til Faste Trafiktællinger 2011.xlsx xlsx\">Faste Trafiktællinger 2011.xlsx</a>\\n              </h3>\\n              <div class=\"mt-2\">\\n                \\n                  <span title=\"file format\" class=\"bg-gray-600 rounded text-sm text-gray-100 px-2 py-1\"\\n                        style=\"background:#3CBC8D;\">xlsx</span>\\n                \\n                \\n                  <span title=\"file size\"\\n                        class=\"bg-gray-600 rounded text-sm text-gray-100 px-2 py-1\">3254215</span>\\n                \\n              </div>\\n              <p class=\"mt-2\">\\n                <p>Trafiktællinger fra Københavns faste tællestationer 2011.</p>\\n\\n              </p>\\n              <nav aria-label=\"Download eller Preview faste_trafiktællinger_2011.xlsx xlsx\">\\n                <a class=\"data-file-type mr-1\" href=\"https://admin.opendata.dk/dataset/5f9345b0-d73b-43ff-a659-e468d160bc61/resource/8b2f60a9-17ac-437d-ae6e-ad44c0a49edd/download/faste-trafiktaellinger-2011.xlsx\" aria-label=\"Download faste_trafiktællinger_2011.xlsx.xlsx\">\\n                  <dl class=\"data-file-type_inner\">\\n                    <dt class=\"data-file-type_term\">\\n                      Download\\n                    </dt>\\n                  </dl>\\n                </a>\\n                \\n                <!-- Preview button -->\\n                \\n                  <a class=\"data-file-type mr-1\" href=\"#resource-faste_trafiktællinger_2011.xlsx\" aria-label=\"Preview faste_trafiktællinger_2011.xlsx.xlsx\">\\n                    <dl class=\"data-file-type_inner\">\\n                      <dt class=\"data-file-type_term\">\\n                        Preview\\n                      </dt>\\n                    </dl>\\n                  </a>\\n                \\n                <!-- End of preview button -->\\n                \\n              </nav>\\n            </li>\\n            <!-- data file end -->\\n          \\n            \\n            <!-- data file -->\\n            <li class=\"mb-6\">\\n              <h3 class=\"text-xl font-semibold\">\\n                <a href=\"https://admin.opendata.dk/dataset/5f9345b0-d73b-43ff-a659-e468d160bc61/resource/d41f5bc7-9834-4698-ad2c-3a4dc15d124a/download/faste-trafiktaellinger-2012.xlsx\" class=\"text-secondary\" aria-label=\"Navigere til Faste Trafiktællinger 2012.xlsx xlsx\">Faste Trafiktællinger 2012.xlsx</a>\\n              </h3>\\n              <div class=\"mt-2\">\\n                \\n                  <span title=\"file format\" class=\"bg-gray-600 rounded text-sm text-gray-100 px-2 py-1\"\\n                        style=\"background:#3CBC8D;\">xlsx</span>\\n                \\n                \\n                  <span title=\"file size\"\\n                        class=\"bg-gray-600 rounded text-sm text-gray-100 px-2 py-1\">3369987</span>\\n                \\n              </div>\\n              <p class=\"mt-2\">\\n                <p>Trafiktællinger fra Københavns faste tællestationer 2012.</p>\\n\\n              </p>\\n              <nav aria-label=\"Download eller Preview faste_trafiktællinger_2012.xlsx xlsx\">\\n                <a class=\"data-file-type mr-1\" href=\"https://admin.opendata.dk/dataset/5f9345b0-d73b-43ff-a659-e468d160bc61/resource/d41f5bc7-9834-4698-ad2c-3a4dc15d124a/download/faste-trafiktaellinger-2012.xlsx\" aria-label=\"Download faste_trafiktællinger_2012.xlsx.xlsx\">\\n                  <dl class=\"data-file-type_inner\">\\n                    <dt class=\"data-file-type_term\">\\n                      Download\\n                    </dt>\\n                  </dl>\\n                </a>\\n                \\n                <!-- Preview button -->\\n                \\n                  <a class=\"data-file-type mr-1\" href=\"#resource-faste_trafiktællinger_2012.xlsx\" aria-label=\"Preview faste_trafiktællinger_2012.xlsx.xlsx\">\\n                    <dl class=\"data-file-type_inner\">\\n                      <dt class=\"data-file-type_term\">\\n                        Preview\\n                      </dt>\\n                    </dl>\\n                  </a>\\n                \\n                <!-- End of preview button -->\\n                \\n              </nav>\\n            </li>\\n            <!-- data file end -->\\n          \\n            \\n            <!-- data file -->\\n            <li class=\"mb-6\">\\n              <h3 class=\"text-xl font-semibold\">\\n                <a href=\"https://admin.opendata.dk/dataset/5f9345b0-d73b-43ff-a659-e468d160bc61/resource/3cbd235e-9904-44b4-83f1-35630dbd8acc/download/faste-trafiktaellinger-2013.xlsx\" class=\"text-secondary\" aria-label=\"Navigere til Faste Trafiktællinger 2013.xlsx xlsx\">Faste Trafiktællinger 2013.xlsx</a>\\n              </h3>\\n              <div class=\"mt-2\">\\n                \\n                  <span title=\"file format\" class=\"bg-gray-600 rounded text-sm text-gray-100 px-2 py-1\"\\n                        style=\"background:#3CBC8D;\">xlsx</span>\\n                \\n                \\n                  <span title=\"file size\"\\n                        class=\"bg-gray-600 rounded text-sm text-gray-100 px-2 py-1\">3138170</span>\\n                \\n              </div>\\n              <p class=\"mt-2\">\\n                <p>Trafiktællinger fra Københavns faste tællestationer 2013.</p>\\n\\n              </p>\\n              <nav aria-label=\"Download eller Preview faste_trafiktællinger_2013.xlsx xlsx\">\\n                <a class=\"data-file-type mr-1\" href=\"https://admin.opendata.dk/dataset/5f9345b0-d73b-43ff-a659-e468d160bc61/resource/3cbd235e-9904-44b4-83f1-35630dbd8acc/download/faste-trafiktaellinger-2013.xlsx\" aria-label=\"Download faste_trafiktællinger_2013.xlsx.xlsx\">\\n                  <dl class=\"data-file-type_inner\">\\n                    <dt class=\"data-file-type_term\">\\n                      Download\\n                    </dt>\\n                  </dl>\\n                </a>\\n                \\n                <!-- Preview button -->\\n                \\n                  <a class=\"data-file-type mr-1\" href=\"#resource-faste_trafiktællinger_2013.xlsx\" aria-label=\"Preview faste_trafiktællinger_2013.xlsx.xlsx\">\\n                    <dl class=\"data-file-type_inner\">\\n                      <dt class=\"data-file-type_term\">\\n                        Preview\\n                      </dt>\\n                    </dl>\\n                  </a>\\n                \\n                <!-- End of preview button -->\\n                \\n              </nav>\\n            </li>\\n            <!-- data file end -->\\n          \\n            \\n            <!-- data file -->\\n            <li class=\"mb-6\">\\n              <h3 class=\"text-xl font-semibold\">\\n                <a href=\"https://admin.opendata.dk/dataset/5f9345b0-d73b-43ff-a659-e468d160bc61/resource/03f2768e-0ff0-4b42-9d3d-be268e131088/download/faste-trafiktaellinger-2014.xlsx\" class=\"text-secondary\" aria-label=\"Navigere til Faste Trafiktællinger 2014.xlsx xlsx\">Faste Trafiktællinger 2014.xlsx</a>\\n              </h3>\\n              <div class=\"mt-2\">\\n                \\n                  <span title=\"file format\" class=\"bg-gray-600 rounded text-sm text-gray-100 px-2 py-1\"\\n                        style=\"background:#3CBC8D;\">xlsx</span>\\n                \\n                \\n                  <span title=\"file size\"\\n                        class=\"bg-gray-600 rounded text-sm text-gray-100 px-2 py-1\">2335338</span>\\n                \\n              </div>\\n              <p class=\"mt-2\">\\n                <p>Trafiktællinger fra Københavns faste tællestationer 2014.</p>\\n\\n              </p>\\n              <nav aria-label=\"Download eller Preview faste_trafiktællinger_2014.xlsx xlsx\">\\n                <a class=\"data-file-type mr-1\" href=\"https://admin.opendata.dk/dataset/5f9345b0-d73b-43ff-a659-e468d160bc61/resource/03f2768e-0ff0-4b42-9d3d-be268e131088/download/faste-trafiktaellinger-2014.xlsx\" aria-label=\"Download faste_trafiktællinger_2014.xlsx.xlsx\">\\n                  <dl class=\"data-file-type_inner\">\\n                    <dt class=\"data-file-type_term\">\\n                      Download\\n                    </dt>\\n                  </dl>\\n                </a>\\n                \\n                <!-- Preview button -->\\n                \\n                  <a class=\"data-file-type mr-1\" href=\"#resource-faste_trafiktællinger_2014.xlsx\" aria-label=\"Preview faste_trafiktællinger_2014.xlsx.xlsx\">\\n                    <dl class=\"data-file-type_inner\">\\n                      <dt class=\"data-file-type_term\">\\n                        Preview\\n                      </dt>\\n                    </dl>\\n                  </a>\\n                \\n                <!-- End of preview button -->\\n                \\n              </nav>\\n            </li>\\n            <!-- data file end -->\\n          \\n        </ul>\\n      </div>\\n      <!-- info end -->\\n\\n      <!-- meta -->\\n      <div class=\"lg:w-1/3 lg:ml-gutter lg:pl-10\">\\n        <div class=\"\">\\n          <h2 class=\"bg-gray-200 px-4 py-3 font-bold mb-4\">Organisation</h2>\\n          <img src=\"https://admin.opendata.dk/uploads/group/2016-04-25-065450.348702cph-logo.png\" alt=\"Københavns Kommune\" class=\"m-4 h-24\"/>\\n\\n          <a class=\"px-4 text-primary text-xl font-semibold\" href=\"/city-of-copenhagen\">Københavns Kommune</a>\\n\\n          <p class=\"px-4 py-2 text-sm\">\\n            <p>På denne side kan du finde en række datasæt fra Københavns Kommune.</p>\\n<p>Det er eksempelvis trafik, parkeringsforhold, byens fysiske infrastruktur, aktuelle aktiviteter i byens rum og meget...\\n          </p>\\n          <a href=\"/city-of-copenhagen\" class=\"text-primary font-bold\" aria-label=\"Læs mere Om city-of-copenhagen\">Læs mere</a>\\n\\n          <!-- Metadata -->\\n          <h2 class=\"bg-gray-200 px-4 py-3 font-bold mt-4 mb-1\">Metadata</h2>\\n          <div class=\"px-4 py-2 text-sm\">\\n            <dl class=\"info-list\">\\n              \\n                <dt class=\"info-list_title\">Dataejer</dt>\\n                <dd class=\"info-list_description\">\\n                  \\n    \\n    <a href=\"mailto:bydata@tmf.kk.dk\" class=\"text-secondary\" title=\"bydata@tmf.kk.dk\" target=\"_blank\" aria-label=\"E-mail administratoren: bydata@tmf.kk.dk\">\\n      bydata\\n    </a>\\n    \\n  \\n                </dd>\\n              \\n              \\n              <!-- Show extras -->\\n              \\n              <!-- End of extras -->\\n              \\n                <dt class=\"info-list_title\">Licens</dt>\\n                <dd class=\"info-list_description\">\\n                  \\n    \\n    <a href=\"http://portal.opendata.dk/dataset/open-data-dk-licens\" class=\"text-secondary\" title=\"opendata.dk\" target=\"_blank\" aria-label=\"Dataejer: opendatadk\">\\n      opendatadk\\n    </a>\\n    \\n  \\n                </dd>\\n              \\n              \\n                <dt class=\"info-list_title\">Grupper</dt>\\n                <dd class=\"info-list_description\">\\n                  \\n                    <p>\\n                    <span class=\"colGroup break-words\">\\n                  <a href=\"/collections/transport\" class=\"text-secondary\">Transport</a>\\n                </span>\\n                    </p>\\n                  \\n                </dd>\\n              \\n              \\n              \\n            </dl>\\n          </div>\\n          <!-- Metadata -->\\n\\n          <!-- Keywords section -->\\n          \\n            <h2 class=\"bg-gray-200 px-4 py-3 font-bold mt-4 mb-1\">Keywords</h2>\\n            <div class=\"container\">\\n              <div class=\"flex flex-wrap \">\\n                \\n                  <a href=\"/search?q=tags:biler\"\\n                     class=\"px-3 py-1 mr-2 mt-2 text-primary text-xs border rounded-full border-primary hover:bg-secondary\" aria-label=\"Keyword biler\">biler</a>\\n                \\n                  <a href=\"/search?q=tags:faste tællestationer\"\\n                     class=\"px-3 py-1 mr-2 mt-2 text-primary text-xs border rounded-full border-primary hover:bg-secondary\" aria-label=\"Keyword faste tællestationer\">faste tællestationer</a>\\n                \\n                  <a href=\"/search?q=tags:motorkøretøjer\"\\n                     class=\"px-3 py-1 mr-2 mt-2 text-primary text-xs border rounded-full border-primary hover:bg-secondary\" aria-label=\"Keyword motorkøretøjer\">motorkøretøjer</a>\\n                \\n                  <a href=\"/search?q=tags:tællinger\"\\n                     class=\"px-3 py-1 mr-2 mt-2 text-primary text-xs border rounded-full border-primary hover:bg-secondary\" aria-label=\"Keyword tællinger\">tællinger</a>\\n                \\n              </div>\\n            </div>\\n          \\n          <!-- end Keywords section -->\\n\\n\\n          <!-- share links -->\\n          <h2 class=\"bg-gray-200 px-4 py-3 font-bold mt-4 mb-1\">Del</h2>\\n          <ul class=\"text-sm\">\\n            <li class=\"border-b-2 border-gray-200\">\\n              <a class=\"block px-4 py-3 text-primary text-semibold\"\\n                 aria-label=\"Tweet faste-trafiktaellinger\"\\n                 href=\"https://twitter.com/intent/tweet?url=//www.opendata.dk/city-of-copenhagen/faste-trafiktaellinger&text=faste-trafiktaellinger\"\\n                 target=\"_blank\">Twitter</a>\\n            </li>\\n          </ul>\\n          <!-- share links end -->\\n\\n        </div>\\n      </div>\\n      <!-- meta end -->\\n\\n    </div>\\n  </main>\\n\\n\\n  <!-- Data Explorer -->\\n  \\n\\n    \\n\\n      <div class=\"resource\" role=\"application\" aria-label=\"Ansøgning til faste_trafiktællinger_2005.xlsx xlsx\">\\n        <div class=\"container mx-auto p-gutter pb-16\">\\n\\n          <!-- Heading for each view -->\\n          <h2 id=\"resource-faste_trafiktællinger_2005.xlsx\" class=\"text-2xl text-secondary font-semibold mb-6\">\\n            Faste Trafiktællinger 2005.xlsx\\n          </h2>\\n\\n          <div class=\"data-explorer flex flex-col\">\\n            \\n              <!-- preview tables, change http:// to https:// to avoid Mixed Content error -->\\n              <div id=\"data-explorer-faste_trafiktaellinger_2005.xlsx-0-0\"\\n                   class=\"data-explorer \"\\n                   data-datapackage=\\'{\"widgets\":[{\"name\":\"Table\",\"active\":true,\"datapackage\":{\"views\":[{\"id\":\"43e4190e-bb98-443b-8453-d2220cbd6ddf\",\"specType\":\"table\"}]}},{\"name\":\"Chart\",\"active\":false,\"datapackage\":{\"views\":[{\"id\":\"43e4190e-bb98-443b-8453-d2220cbd6ddf\",\"specType\":\"simple\"}]}},{\"name\":\"Map\",\"active\":false,\"datapackage\":{\"views\":[{\"id\":\"43e4190e-bb98-443b-8453-d2220cbd6ddf\",\"specType\":\"tabularmap\"}]}}],\"datapackage\":{\"resources\":[{\"views\":[{\"description\":\"\",\"title\":\"Data Explorer\",\"resource_id\":\"dcb49b51-1a17-40f6-82b4-34eaf58bce57\",\"view_type\":\"recline_view\",\"id\":\"43e4190e-bb98-443b-8453-d2220cbd6ddf\",\"package_id\":\"5f9345b0-d73b-43ff-a659-e468d160bc61\",\"specType\":\"dataExplorer\",\"spec\":{\"widgets\":[{\"specType\":\"table\"},{\"specType\":\"simple\"},{\"specType\":\"tabularmap\"}]},\"resources\":[\"faste_trafiktællinger_2005.xlsx\"]}],\"mimetype\":\"application/vnd.openxmlformats-officedocument.spreadsheetml.sheet\",\"cache_url\":null,\"hash\":\"{\\\\\"content\\\\\": \\\\\"bd883d94968f6ade5b9183d418564bf9129fbc09\\\\\", \\\\\"header\\\\\": \\\\\"91b2589ee77cf692a0ef9fd9cf974ac1235f31c8\\\\\"}\",\"description\":\"Trafiktællinger fra Københavns faste tællestationer 2005.\",\"name\":\"faste_trafiktællinger_2005.xlsx\",\"created\":\"2015-05-11T09:34:36.901827\",\"datastore_active\":false,\"format\":\"xlsx\",\"package_id\":\"5f9345b0-d73b-43ff-a659-e468d160bc61\",\"id\":\"dcb49b51-1a17-40f6-82b4-34eaf58bce57\",\"cache_last_updated\":null,\"state\":\"active\",\"mimetype_inner\":null,\"last_modified\":\"2020-01-13T15:11:45.745769\",\"position\":0,\"revision_id\":\"94974dca-081b-4111-a765-8415fb94fcb6\",\"url_type\":\"upload\",\"cpr\":\"\",\"resource_type\":\"file.upload\",\"size\":1862554,\"title\":\"Faste Trafiktællinger 2005.xlsx\",\"path\":\"https://admin.opendata.dk/dataset/5f9345b0-d73b-43ff-a659-e468d160bc61/resource/dcb49b51-1a17-40f6-82b4-34eaf58bce57/download/faste-trafiktaellinger-2005.xlsx\",\"descriptionHtml\":\"<p>Trafiktællinger fra Københavns faste tællestationer 2005.</p>\\\\n\",\"sizeFormatted\":\"2MB\",\"api\":null}]}}\\'>\\n              </div>\\n              \\n            \\n          </div>\\n        </div>\\n      </div>\\n\\n    \\n\\n  \\n\\n    \\n\\n      <div class=\"resource\" role=\"application\" aria-label=\"Ansøgning til faste_trafiktællinger_2006.xlsx xlsx\">\\n        <div class=\"container mx-auto p-gutter pb-16\">\\n\\n          <!-- Heading for each view -->\\n          <h2 id=\"resource-faste_trafiktællinger_2006.xlsx\" class=\"text-2xl text-secondary font-semibold mb-6\">\\n            Faste Trafiktællinger 2006.xlsx\\n          </h2>\\n\\n          <div class=\"data-explorer flex flex-col\">\\n            \\n              <!-- preview tables, change http:// to https:// to avoid Mixed Content error -->\\n              <div id=\"data-explorer-faste_trafiktaellinger_2006.xlsx-1-0\"\\n                   class=\"data-explorer \"\\n                   data-datapackage=\\'{\"widgets\":[{\"name\":\"Table\",\"active\":true,\"datapackage\":{\"views\":[{\"id\":\"14c81b7a-198e-41fd-a633-07817d129412\",\"specType\":\"table\"}]}},{\"name\":\"Chart\",\"active\":false,\"datapackage\":{\"views\":[{\"id\":\"14c81b7a-198e-41fd-a633-07817d129412\",\"specType\":\"simple\"}]}},{\"name\":\"Map\",\"active\":false,\"datapackage\":{\"views\":[{\"id\":\"14c81b7a-198e-41fd-a633-07817d129412\",\"specType\":\"tabularmap\"}]}}],\"datapackage\":{\"resources\":[{\"views\":[{\"description\":\"\",\"title\":\"Data Explorer\",\"resource_id\":\"0bfc0425-0b2f-43b4-be71-117b4265598d\",\"view_type\":\"recline_view\",\"id\":\"14c81b7a-198e-41fd-a633-07817d129412\",\"package_id\":\"5f9345b0-d73b-43ff-a659-e468d160bc61\",\"specType\":\"dataExplorer\",\"spec\":{\"widgets\":[{\"specType\":\"table\"},{\"specType\":\"simple\"},{\"specType\":\"tabularmap\"}]},\"resources\":[\"faste_trafiktællinger_2006.xlsx\"]}],\"mimetype\":\"application/vnd.openxmlformats-officedocument.spreadsheetml.sheet\",\"cache_url\":null,\"hash\":\"{\\\\\"content\\\\\": \\\\\"00c2c156c1cfd2cb02afc93be65d9115a19dcdc6\\\\\", \\\\\"header\\\\\": \\\\\"72495a0b7704f6cf2dc297937c543afc65330126\\\\\"}\",\"description\":\"Trafiktællinger fra Københavns faste tællestationer 2006.\",\"name\":\"faste_trafiktællinger_2006.xlsx\",\"created\":\"2015-05-11T09:35:00.391042\",\"datastore_active\":false,\"format\":\"xlsx\",\"package_id\":\"5f9345b0-d73b-43ff-a659-e468d160bc61\",\"id\":\"0bfc0425-0b2f-43b4-be71-117b4265598d\",\"cache_last_updated\":null,\"state\":\"active\",\"mimetype_inner\":null,\"last_modified\":\"2020-01-13T12:54:03.310654\",\"position\":1,\"revision_id\":\"800510cc-57cd-4ab0-94b2-01f2f7fe55b0\",\"url_type\":\"upload\",\"cpr\":\"\",\"resource_type\":\"file.upload\",\"size\":3206456,\"title\":\"Faste Trafiktællinger 2006.xlsx\",\"path\":\"https://admin.opendata.dk/dataset/5f9345b0-d73b-43ff-a659-e468d160bc61/resource/0bfc0425-0b2f-43b4-be71-117b4265598d/download/faste-trafiktaellinger-2006.xlsx\",\"descriptionHtml\":\"<p>Trafiktællinger fra Københavns faste tællestationer 2006.</p>\\\\n\",\"sizeFormatted\":\"3MB\",\"api\":null}]}}\\'>\\n              </div>\\n              \\n            \\n          </div>\\n        </div>\\n      </div>\\n\\n    \\n\\n  \\n\\n    \\n\\n      <div class=\"resource\" role=\"application\" aria-label=\"Ansøgning til faste_trafiktællinger_2007.xlsx xlsx\">\\n        <div class=\"container mx-auto p-gutter pb-16\">\\n\\n          <!-- Heading for each view -->\\n          <h2 id=\"resource-faste_trafiktællinger_2007.xlsx\" class=\"text-2xl text-secondary font-semibold mb-6\">\\n            Faste Trafiktællinger 2007.xlsx\\n          </h2>\\n\\n          <div class=\"data-explorer flex flex-col\">\\n            \\n              <!-- preview tables, change http:// to https:// to avoid Mixed Content error -->\\n              <div id=\"data-explorer-faste_trafiktaellinger_2007.xlsx-2-0\"\\n                   class=\"data-explorer \"\\n                   data-datapackage=\\'{\"widgets\":[{\"name\":\"Table\",\"active\":true,\"datapackage\":{\"views\":[{\"id\":\"a4a06352-f1fd-4de6-8b48-85e3c1ef3b1e\",\"specType\":\"table\"}]}},{\"name\":\"Chart\",\"active\":false,\"datapackage\":{\"views\":[{\"id\":\"a4a06352-f1fd-4de6-8b48-85e3c1ef3b1e\",\"specType\":\"simple\"}]}},{\"name\":\"Map\",\"active\":false,\"datapackage\":{\"views\":[{\"id\":\"a4a06352-f1fd-4de6-8b48-85e3c1ef3b1e\",\"specType\":\"tabularmap\"}]}}],\"datapackage\":{\"resources\":[{\"views\":[{\"description\":\"\",\"title\":\"Data Explorer\",\"resource_id\":\"f52749f9-6f90-4f63-a151-c4020d4b2396\",\"view_type\":\"recline_view\",\"id\":\"a4a06352-f1fd-4de6-8b48-85e3c1ef3b1e\",\"package_id\":\"5f9345b0-d73b-43ff-a659-e468d160bc61\",\"specType\":\"dataExplorer\",\"spec\":{\"widgets\":[{\"specType\":\"table\"},{\"specType\":\"simple\"},{\"specType\":\"tabularmap\"}]},\"resources\":[\"faste_trafiktællinger_2007.xlsx\"]}],\"mimetype\":\"application/vnd.openxmlformats-officedocument.spreadsheetml.sheet\",\"cache_url\":null,\"hash\":\"{\\\\\"content\\\\\": \\\\\"481c29fc55eca34988982d2893e7d7226a8457b6\\\\\", \\\\\"header\\\\\": \\\\\"f4bacde094491939aab22c3963b38e28a82fd6f4\\\\\"}\",\"description\":\"Trafiktællinger fra Københavns faste tællestationer 2007.\",\"name\":\"faste_trafiktællinger_2007.xlsx\",\"created\":\"2015-05-11T09:35:21.167735\",\"datastore_active\":false,\"format\":\"xlsx\",\"package_id\":\"5f9345b0-d73b-43ff-a659-e468d160bc61\",\"id\":\"f52749f9-6f90-4f63-a151-c4020d4b2396\",\"cache_last_updated\":null,\"state\":\"active\",\"mimetype_inner\":null,\"last_modified\":\"2020-01-13T15:04:00.607533\",\"position\":2,\"revision_id\":\"7fda3756-d786-43b2-9ce2-2b040b2e76a2\",\"url_type\":\"upload\",\"cpr\":\"\",\"resource_type\":\"file\",\"size\":3846351,\"title\":\"Faste Trafiktællinger 2007.xlsx\",\"path\":\"https://admin.opendata.dk/dataset/5f9345b0-d73b-43ff-a659-e468d160bc61/resource/f52749f9-6f90-4f63-a151-c4020d4b2396/download/faste-trafiktaellinger-2007.xlsx\",\"descriptionHtml\":\"<p>Trafiktællinger fra Københavns faste tællestationer 2007.</p>\\\\n\",\"sizeFormatted\":\"4MB\",\"api\":null}]}}\\'>\\n              </div>\\n              \\n            \\n          </div>\\n        </div>\\n      </div>\\n\\n    \\n\\n  \\n\\n    \\n\\n      <div class=\"resource\" role=\"application\" aria-label=\"Ansøgning til faste_trafiktællinger_2008.xlsx xlsx\">\\n        <div class=\"container mx-auto p-gutter pb-16\">\\n\\n          <!-- Heading for each view -->\\n          <h2 id=\"resource-faste_trafiktællinger_2008.xlsx\" class=\"text-2xl text-secondary font-semibold mb-6\">\\n            Faste Trafiktællinger 2008.xlsx\\n          </h2>\\n\\n          <div class=\"data-explorer flex flex-col\">\\n            \\n              <!-- preview tables, change http:// to https:// to avoid Mixed Content error -->\\n              <div id=\"data-explorer-faste_trafiktaellinger_2008.xlsx-3-0\"\\n                   class=\"data-explorer \"\\n                   data-datapackage=\\'{\"widgets\":[{\"name\":\"Table\",\"active\":true,\"datapackage\":{\"views\":[{\"id\":\"7516031e-b77a-4164-ae18-bdf1a0d37bb7\",\"specType\":\"table\"}]}},{\"name\":\"Chart\",\"active\":false,\"datapackage\":{\"views\":[{\"id\":\"7516031e-b77a-4164-ae18-bdf1a0d37bb7\",\"specType\":\"simple\"}]}},{\"name\":\"Map\",\"active\":false,\"datapackage\":{\"views\":[{\"id\":\"7516031e-b77a-4164-ae18-bdf1a0d37bb7\",\"specType\":\"tabularmap\"}]}}],\"datapackage\":{\"resources\":[{\"views\":[{\"description\":\"\",\"title\":\"Data Explorer\",\"resource_id\":\"e4f321ad-76bc-483f-839e-e04cfea6bfc0\",\"view_type\":\"recline_view\",\"id\":\"7516031e-b77a-4164-ae18-bdf1a0d37bb7\",\"package_id\":\"5f9345b0-d73b-43ff-a659-e468d160bc61\",\"specType\":\"dataExplorer\",\"spec\":{\"widgets\":[{\"specType\":\"table\"},{\"specType\":\"simple\"},{\"specType\":\"tabularmap\"}]},\"resources\":[\"faste_trafiktællinger_2008.xlsx\"]}],\"mimetype\":\"application/vnd.openxmlformats-officedocument.spreadsheetml.sheet\",\"cache_url\":null,\"hash\":\"{\\\\\"content\\\\\": \\\\\"e80d284f52c66423d4dcefc042f3f12548071bee\\\\\", \\\\\"header\\\\\": \\\\\"d95cde79efe840e75420d603b7b9e30383c43aeb\\\\\"}\",\"description\":\"Trafiktællinger fra Københavns faste tællestationer 2008.\",\"name\":\"faste_trafiktællinger_2008.xlsx\",\"created\":\"2015-05-11T09:35:43.320811\",\"datastore_active\":false,\"format\":\"xlsx\",\"package_id\":\"5f9345b0-d73b-43ff-a659-e468d160bc61\",\"id\":\"e4f321ad-76bc-483f-839e-e04cfea6bfc0\",\"cache_last_updated\":null,\"state\":\"active\",\"mimetype_inner\":null,\"last_modified\":\"2020-01-13T13:19:15.248967\",\"position\":3,\"revision_id\":\"d64fae9c-eba2-44e3-abd9-023488ff3a69\",\"url_type\":\"upload\",\"cpr\":\"\",\"resource_type\":\"file.upload\",\"size\":3868937,\"title\":\"Faste Trafiktællinger 2008.xlsx\",\"path\":\"https://admin.opendata.dk/dataset/5f9345b0-d73b-43ff-a659-e468d160bc61/resource/e4f321ad-76bc-483f-839e-e04cfea6bfc0/download/faste-trafiktaellinger-2008.xlsx\",\"descriptionHtml\":\"<p>Trafiktællinger fra Københavns faste tællestationer 2008.</p>\\\\n\",\"sizeFormatted\":\"4MB\",\"api\":null}]}}\\'>\\n              </div>\\n              \\n            \\n          </div>\\n        </div>\\n      </div>\\n\\n    \\n\\n  \\n\\n    \\n\\n      <div class=\"resource\" role=\"application\" aria-label=\"Ansøgning til faste_trafiktællinger_2009.xlsx xlsx\">\\n        <div class=\"container mx-auto p-gutter pb-16\">\\n\\n          <!-- Heading for each view -->\\n          <h2 id=\"resource-faste_trafiktællinger_2009.xlsx\" class=\"text-2xl text-secondary font-semibold mb-6\">\\n            Faste Trafiktællinger 2009.xlsx\\n          </h2>\\n\\n          <div class=\"data-explorer flex flex-col\">\\n            \\n              <!-- preview tables, change http:// to https:// to avoid Mixed Content error -->\\n              <div id=\"data-explorer-faste_trafiktaellinger_2009.xlsx-4-0\"\\n                   class=\"data-explorer \"\\n                   data-datapackage=\\'{\"widgets\":[{\"name\":\"Table\",\"active\":true,\"datapackage\":{\"views\":[{\"id\":\"3b64dff8-9967-4849-8d94-3101723d61f7\",\"specType\":\"table\"}]}},{\"name\":\"Chart\",\"active\":false,\"datapackage\":{\"views\":[{\"id\":\"3b64dff8-9967-4849-8d94-3101723d61f7\",\"specType\":\"simple\"}]}},{\"name\":\"Map\",\"active\":false,\"datapackage\":{\"views\":[{\"id\":\"3b64dff8-9967-4849-8d94-3101723d61f7\",\"specType\":\"tabularmap\"}]}}],\"datapackage\":{\"resources\":[{\"views\":[{\"description\":\"\",\"title\":\"Data Explorer\",\"resource_id\":\"bac5c582-bdd0-45db-b174-f835e82851bc\",\"view_type\":\"recline_view\",\"id\":\"3b64dff8-9967-4849-8d94-3101723d61f7\",\"package_id\":\"5f9345b0-d73b-43ff-a659-e468d160bc61\",\"specType\":\"dataExplorer\",\"spec\":{\"widgets\":[{\"specType\":\"table\"},{\"specType\":\"simple\"},{\"specType\":\"tabularmap\"}]},\"resources\":[\"faste_trafiktællinger_2009.xlsx\"]}],\"mimetype\":\"application/vnd.openxmlformats-officedocument.spreadsheetml.sheet\",\"cache_url\":null,\"hash\":\"{\\\\\"content\\\\\": \\\\\"8cdf1cbaaf17bd225ed741c55baa894d85904a58\\\\\", \\\\\"header\\\\\": \\\\\"982d9c627042beff3d89c880ddbaabbb11a7d661\\\\\"}\",\"description\":\"Trafiktællinger fra Københavns faste tællestationer 2009.\",\"name\":\"faste_trafiktællinger_2009.xlsx\",\"created\":\"2015-05-11T09:36:03.440239\",\"datastore_active\":false,\"format\":\"xlsx\",\"package_id\":\"5f9345b0-d73b-43ff-a659-e468d160bc61\",\"id\":\"bac5c582-bdd0-45db-b174-f835e82851bc\",\"cache_last_updated\":null,\"state\":\"active\",\"mimetype_inner\":null,\"last_modified\":\"2020-01-13T15:06:35.329670\",\"position\":4,\"revision_id\":\"07830f06-b7d2-4105-9766-a1f943ee66bc\",\"url_type\":\"upload\",\"cpr\":\"\",\"resource_type\":\"file.upload\",\"size\":3393792,\"title\":\"Faste Trafiktællinger 2009.xlsx\",\"path\":\"https://admin.opendata.dk/dataset/5f9345b0-d73b-43ff-a659-e468d160bc61/resource/bac5c582-bdd0-45db-b174-f835e82851bc/download/faste-trafiktaellinger-2009.xlsx\",\"descriptionHtml\":\"<p>Trafiktællinger fra Københavns faste tællestationer 2009.</p>\\\\n\",\"sizeFormatted\":\"3MB\",\"api\":null}]}}\\'>\\n              </div>\\n              \\n            \\n          </div>\\n        </div>\\n      </div>\\n\\n    \\n\\n  \\n\\n    \\n\\n      <div class=\"resource\" role=\"application\" aria-label=\"Ansøgning til faste_trafiktællinger_2010.xlsx xlsx\">\\n        <div class=\"container mx-auto p-gutter pb-16\">\\n\\n          <!-- Heading for each view -->\\n          <h2 id=\"resource-faste_trafiktællinger_2010.xlsx\" class=\"text-2xl text-secondary font-semibold mb-6\">\\n            Faste Trafiktællinger 2010.xlsx\\n          </h2>\\n\\n          <div class=\"data-explorer flex flex-col\">\\n            \\n              <!-- preview tables, change http:// to https:// to avoid Mixed Content error -->\\n              <div id=\"data-explorer-faste_trafiktaellinger_2010.xlsx-5-0\"\\n                   class=\"data-explorer \"\\n                   data-datapackage=\\'{\"widgets\":[{\"name\":\"Table\",\"active\":true,\"datapackage\":{\"views\":[{\"id\":\"c3c67546-b46d-48cd-9834-f3b03d75a136\",\"specType\":\"table\"}]}},{\"name\":\"Chart\",\"active\":false,\"datapackage\":{\"views\":[{\"id\":\"c3c67546-b46d-48cd-9834-f3b03d75a136\",\"specType\":\"simple\"}]}},{\"name\":\"Map\",\"active\":false,\"datapackage\":{\"views\":[{\"id\":\"c3c67546-b46d-48cd-9834-f3b03d75a136\",\"specType\":\"tabularmap\"}]}}],\"datapackage\":{\"resources\":[{\"views\":[{\"description\":\"\",\"title\":\"Data Explorer\",\"resource_id\":\"a209aef9-802c-4cda-9b42-f4364877b04f\",\"view_type\":\"recline_view\",\"id\":\"c3c67546-b46d-48cd-9834-f3b03d75a136\",\"package_id\":\"5f9345b0-d73b-43ff-a659-e468d160bc61\",\"specType\":\"dataExplorer\",\"spec\":{\"widgets\":[{\"specType\":\"table\"},{\"specType\":\"simple\"},{\"specType\":\"tabularmap\"}]},\"resources\":[\"faste_trafiktællinger_2010.xlsx\"]}],\"mimetype\":\"application/vnd.openxmlformats-officedocument.spreadsheetml.sheet\",\"cache_url\":null,\"hash\":\"{\\\\\"content\\\\\": \\\\\"cead3721e957a9a7ae8ef0d7f1d49b4d598f374a\\\\\", \\\\\"header\\\\\": \\\\\"e6bc410f96c7a06713d380eab712fe2ae43f17ca\\\\\"}\",\"description\":\"Trafiktællinger fra Københavns faste tællestationer 2010.\",\"name\":\"faste_trafiktællinger_2010.xlsx\",\"created\":\"2015-05-11T09:36:24.230316\",\"datastore_active\":false,\"format\":\"xlsx\",\"package_id\":\"5f9345b0-d73b-43ff-a659-e468d160bc61\",\"id\":\"a209aef9-802c-4cda-9b42-f4364877b04f\",\"cache_last_updated\":null,\"state\":\"active\",\"mimetype_inner\":null,\"last_modified\":\"2020-01-13T14:07:47.514029\",\"position\":5,\"revision_id\":\"2955144a-3d7a-47f2-bd03-695c79e47468\",\"url_type\":\"upload\",\"cpr\":\"\",\"resource_type\":\"file.upload\",\"size\":3426280,\"title\":\"Faste Trafiktællinger 2010.xlsx\",\"path\":\"https://admin.opendata.dk/dataset/5f9345b0-d73b-43ff-a659-e468d160bc61/resource/a209aef9-802c-4cda-9b42-f4364877b04f/download/faste-trafiktaellinger-2010.xlsx\",\"descriptionHtml\":\"<p>Trafiktællinger fra Københavns faste tællestationer 2010.</p>\\\\n\",\"sizeFormatted\":\"3MB\",\"api\":null}]}}\\'>\\n              </div>\\n              \\n            \\n          </div>\\n        </div>\\n      </div>\\n\\n    \\n\\n  \\n\\n    \\n\\n      <div class=\"resource\" role=\"application\" aria-label=\"Ansøgning til faste_trafiktællinger_2011.xlsx xlsx\">\\n        <div class=\"container mx-auto p-gutter pb-16\">\\n\\n          <!-- Heading for each view -->\\n          <h2 id=\"resource-faste_trafiktællinger_2011.xlsx\" class=\"text-2xl text-secondary font-semibold mb-6\">\\n            Faste Trafiktællinger 2011.xlsx\\n          </h2>\\n\\n          <div class=\"data-explorer flex flex-col\">\\n            \\n              <!-- preview tables, change http:// to https:// to avoid Mixed Content error -->\\n              <div id=\"data-explorer-faste_trafiktaellinger_2011.xlsx-6-0\"\\n                   class=\"data-explorer \"\\n                   data-datapackage=\\'{\"widgets\":[{\"name\":\"Table\",\"active\":true,\"datapackage\":{\"views\":[{\"id\":\"ded8c090-1aab-4bf5-bca0-f04336d89a1c\",\"specType\":\"table\"}]}},{\"name\":\"Chart\",\"active\":false,\"datapackage\":{\"views\":[{\"id\":\"ded8c090-1aab-4bf5-bca0-f04336d89a1c\",\"specType\":\"simple\"}]}},{\"name\":\"Map\",\"active\":false,\"datapackage\":{\"views\":[{\"id\":\"ded8c090-1aab-4bf5-bca0-f04336d89a1c\",\"specType\":\"tabularmap\"}]}}],\"datapackage\":{\"resources\":[{\"views\":[{\"description\":\"\",\"title\":\"Data Explorer\",\"resource_id\":\"8b2f60a9-17ac-437d-ae6e-ad44c0a49edd\",\"view_type\":\"recline_view\",\"id\":\"ded8c090-1aab-4bf5-bca0-f04336d89a1c\",\"package_id\":\"5f9345b0-d73b-43ff-a659-e468d160bc61\",\"specType\":\"dataExplorer\",\"spec\":{\"widgets\":[{\"specType\":\"table\"},{\"specType\":\"simple\"},{\"specType\":\"tabularmap\"}]},\"resources\":[\"faste_trafiktællinger_2011.xlsx\"]}],\"mimetype\":\"application/vnd.openxmlformats-officedocument.spreadsheetml.sheet\",\"cache_url\":null,\"hash\":\"{\\\\\"content\\\\\": \\\\\"5b4bb73093d00b249d7a8cb8f051cbd7370b25d4\\\\\", \\\\\"header\\\\\": \\\\\"b0ba512bae6ab5785234efc552a3ee453b990c95\\\\\"}\",\"description\":\"Trafiktællinger fra Københavns faste tællestationer 2011.\",\"name\":\"faste_trafiktællinger_2011.xlsx\",\"created\":\"2015-05-11T09:36:43.384073\",\"datastore_active\":false,\"format\":\"xlsx\",\"package_id\":\"5f9345b0-d73b-43ff-a659-e468d160bc61\",\"id\":\"8b2f60a9-17ac-437d-ae6e-ad44c0a49edd\",\"cache_last_updated\":null,\"state\":\"active\",\"mimetype_inner\":null,\"last_modified\":\"2020-01-13T15:01:44.533616\",\"position\":6,\"revision_id\":\"241c5bb6-e0ba-4363-942f-575738bed456\",\"url_type\":\"upload\",\"cpr\":\"\",\"resource_type\":\"file.upload\",\"size\":3254215,\"title\":\"Faste Trafiktællinger 2011.xlsx\",\"path\":\"https://admin.opendata.dk/dataset/5f9345b0-d73b-43ff-a659-e468d160bc61/resource/8b2f60a9-17ac-437d-ae6e-ad44c0a49edd/download/faste-trafiktaellinger-2011.xlsx\",\"descriptionHtml\":\"<p>Trafiktællinger fra Københavns faste tællestationer 2011.</p>\\\\n\",\"sizeFormatted\":\"3MB\",\"api\":null}]}}\\'>\\n              </div>\\n              \\n            \\n          </div>\\n        </div>\\n      </div>\\n\\n    \\n\\n  \\n\\n    \\n\\n      <div class=\"resource\" role=\"application\" aria-label=\"Ansøgning til faste_trafiktællinger_2012.xlsx xlsx\">\\n        <div class=\"container mx-auto p-gutter pb-16\">\\n\\n          <!-- Heading for each view -->\\n          <h2 id=\"resource-faste_trafiktællinger_2012.xlsx\" class=\"text-2xl text-secondary font-semibold mb-6\">\\n            Faste Trafiktællinger 2012.xlsx\\n          </h2>\\n\\n          <div class=\"data-explorer flex flex-col\">\\n            \\n              <!-- preview tables, change http:// to https:// to avoid Mixed Content error -->\\n              <div id=\"data-explorer-faste_trafiktaellinger_2012.xlsx-7-0\"\\n                   class=\"data-explorer \"\\n                   data-datapackage=\\'{\"widgets\":[{\"name\":\"Table\",\"active\":true,\"datapackage\":{\"views\":[{\"id\":\"09ca442e-2f96-47c9-b2de-6019a139fb14\",\"specType\":\"table\"}]}},{\"name\":\"Chart\",\"active\":false,\"datapackage\":{\"views\":[{\"id\":\"09ca442e-2f96-47c9-b2de-6019a139fb14\",\"specType\":\"simple\"}]}},{\"name\":\"Map\",\"active\":false,\"datapackage\":{\"views\":[{\"id\":\"09ca442e-2f96-47c9-b2de-6019a139fb14\",\"specType\":\"tabularmap\"}]}}],\"datapackage\":{\"resources\":[{\"views\":[{\"description\":\"\",\"title\":\"Data Explorer\",\"resource_id\":\"d41f5bc7-9834-4698-ad2c-3a4dc15d124a\",\"view_type\":\"recline_view\",\"id\":\"09ca442e-2f96-47c9-b2de-6019a139fb14\",\"package_id\":\"5f9345b0-d73b-43ff-a659-e468d160bc61\",\"specType\":\"dataExplorer\",\"spec\":{\"widgets\":[{\"specType\":\"table\"},{\"specType\":\"simple\"},{\"specType\":\"tabularmap\"}]},\"resources\":[\"faste_trafiktællinger_2012.xlsx\"]}],\"mimetype\":\"application/vnd.openxmlformats-officedocument.spreadsheetml.sheet\",\"cache_url\":null,\"hash\":\"{\\\\\"content\\\\\": \\\\\"bb69e2c10bdd764850d62ba0525b1736287596d7\\\\\", \\\\\"header\\\\\": \\\\\"13b0835fcf8b4a7b5860d3691423d9829776beab\\\\\"}\",\"description\":\"Trafiktællinger fra Københavns faste tællestationer 2012.\",\"name\":\"faste_trafiktællinger_2012.xlsx\",\"created\":\"2015-05-11T09:36:59.864967\",\"datastore_active\":false,\"format\":\"xlsx\",\"package_id\":\"5f9345b0-d73b-43ff-a659-e468d160bc61\",\"id\":\"d41f5bc7-9834-4698-ad2c-3a4dc15d124a\",\"cache_last_updated\":null,\"state\":\"active\",\"mimetype_inner\":null,\"last_modified\":\"2020-01-13T13:37:47.162336\",\"position\":7,\"revision_id\":\"1224ca7d-7dc4-4849-bd16-f1b8ef7a2074\",\"url_type\":\"upload\",\"cpr\":\"\",\"resource_type\":\"file.upload\",\"size\":3369987,\"title\":\"Faste Trafiktællinger 2012.xlsx\",\"path\":\"https://admin.opendata.dk/dataset/5f9345b0-d73b-43ff-a659-e468d160bc61/resource/d41f5bc7-9834-4698-ad2c-3a4dc15d124a/download/faste-trafiktaellinger-2012.xlsx\",\"descriptionHtml\":\"<p>Trafiktællinger fra Københavns faste tællestationer 2012.</p>\\\\n\",\"sizeFormatted\":\"3MB\",\"api\":null}]}}\\'>\\n              </div>\\n              \\n            \\n          </div>\\n        </div>\\n      </div>\\n\\n    \\n\\n  \\n\\n    \\n\\n      <div class=\"resource\" role=\"application\" aria-label=\"Ansøgning til faste_trafiktællinger_2013.xlsx xlsx\">\\n        <div class=\"container mx-auto p-gutter pb-16\">\\n\\n          <!-- Heading for each view -->\\n          <h2 id=\"resource-faste_trafiktællinger_2013.xlsx\" class=\"text-2xl text-secondary font-semibold mb-6\">\\n            Faste Trafiktællinger 2013.xlsx\\n          </h2>\\n\\n          <div class=\"data-explorer flex flex-col\">\\n            \\n              <!-- preview tables, change http:// to https:// to avoid Mixed Content error -->\\n              <div id=\"data-explorer-faste_trafiktaellinger_2013.xlsx-8-0\"\\n                   class=\"data-explorer \"\\n                   data-datapackage=\\'{\"widgets\":[{\"name\":\"Table\",\"active\":true,\"datapackage\":{\"views\":[{\"id\":\"6785bfd4-582f-43bd-9037-8ce6e5a2561a\",\"specType\":\"table\"}]}},{\"name\":\"Chart\",\"active\":false,\"datapackage\":{\"views\":[{\"id\":\"6785bfd4-582f-43bd-9037-8ce6e5a2561a\",\"specType\":\"simple\"}]}},{\"name\":\"Map\",\"active\":false,\"datapackage\":{\"views\":[{\"id\":\"6785bfd4-582f-43bd-9037-8ce6e5a2561a\",\"specType\":\"tabularmap\"}]}}],\"datapackage\":{\"resources\":[{\"views\":[{\"description\":\"\",\"title\":\"Data Explorer\",\"resource_id\":\"3cbd235e-9904-44b4-83f1-35630dbd8acc\",\"view_type\":\"recline_view\",\"id\":\"6785bfd4-582f-43bd-9037-8ce6e5a2561a\",\"package_id\":\"5f9345b0-d73b-43ff-a659-e468d160bc61\",\"specType\":\"dataExplorer\",\"spec\":{\"widgets\":[{\"specType\":\"table\"},{\"specType\":\"simple\"},{\"specType\":\"tabularmap\"}]},\"resources\":[\"faste_trafiktællinger_2013.xlsx\"]}],\"mimetype\":\"application/vnd.openxmlformats-officedocument.spreadsheetml.sheet\",\"cache_url\":null,\"hash\":\"{\\\\\"content\\\\\": \\\\\"084332c37bad665fd1b9256b97e834e089cc7f69\\\\\", \\\\\"header\\\\\": \\\\\"7511ac680d047029011db23d9bbb478059da5eb0\\\\\"}\",\"description\":\"Trafiktællinger fra Københavns faste tællestationer 2013.\",\"name\":\"faste_trafiktællinger_2013.xlsx\",\"created\":\"2015-05-11T09:37:25.326997\",\"datastore_active\":false,\"format\":\"xlsx\",\"package_id\":\"5f9345b0-d73b-43ff-a659-e468d160bc61\",\"id\":\"3cbd235e-9904-44b4-83f1-35630dbd8acc\",\"cache_last_updated\":null,\"state\":\"active\",\"mimetype_inner\":null,\"last_modified\":\"2020-01-13T13:01:07.831102\",\"position\":8,\"revision_id\":\"da42b2b7-0929-4da5-8712-bf0845b4c9b3\",\"url_type\":\"upload\",\"cpr\":\"\",\"resource_type\":\"file.upload\",\"size\":3138170,\"title\":\"Faste Trafiktællinger 2013.xlsx\",\"path\":\"https://admin.opendata.dk/dataset/5f9345b0-d73b-43ff-a659-e468d160bc61/resource/3cbd235e-9904-44b4-83f1-35630dbd8acc/download/faste-trafiktaellinger-2013.xlsx\",\"descriptionHtml\":\"<p>Trafiktællinger fra Københavns faste tællestationer 2013.</p>\\\\n\",\"sizeFormatted\":\"3MB\",\"api\":null}]}}\\'>\\n              </div>\\n              \\n            \\n          </div>\\n        </div>\\n      </div>\\n\\n    \\n\\n  \\n\\n    \\n\\n      <div class=\"resource\" role=\"application\" aria-label=\"Ansøgning til faste_trafiktællinger_2014.xlsx xlsx\">\\n        <div class=\"container mx-auto p-gutter pb-16\">\\n\\n          <!-- Heading for each view -->\\n          <h2 id=\"resource-faste_trafiktællinger_2014.xlsx\" class=\"text-2xl text-secondary font-semibold mb-6\">\\n            Faste Trafiktællinger 2014.xlsx\\n          </h2>\\n\\n          <div class=\"data-explorer flex flex-col\">\\n            \\n              <!-- preview tables, change http:// to https:// to avoid Mixed Content error -->\\n              <div id=\"data-explorer-faste_trafiktaellinger_2014.xlsx-9-0\"\\n                   class=\"data-explorer \"\\n                   data-datapackage=\\'{\"widgets\":[{\"name\":\"Table\",\"active\":true,\"datapackage\":{\"views\":[{\"id\":\"01ce38bb-e5f9-45b3-9faf-926adf2c56c9\",\"specType\":\"table\"}]}},{\"name\":\"Chart\",\"active\":false,\"datapackage\":{\"views\":[{\"id\":\"01ce38bb-e5f9-45b3-9faf-926adf2c56c9\",\"specType\":\"simple\"}]}},{\"name\":\"Map\",\"active\":false,\"datapackage\":{\"views\":[{\"id\":\"01ce38bb-e5f9-45b3-9faf-926adf2c56c9\",\"specType\":\"tabularmap\"}]}}],\"datapackage\":{\"resources\":[{\"views\":[{\"description\":\"\",\"title\":\"Data Explorer\",\"resource_id\":\"03f2768e-0ff0-4b42-9d3d-be268e131088\",\"view_type\":\"recline_view\",\"id\":\"01ce38bb-e5f9-45b3-9faf-926adf2c56c9\",\"package_id\":\"5f9345b0-d73b-43ff-a659-e468d160bc61\",\"specType\":\"dataExplorer\",\"spec\":{\"widgets\":[{\"specType\":\"table\"},{\"specType\":\"simple\"},{\"specType\":\"tabularmap\"}]},\"resources\":[\"faste_trafiktællinger_2014.xlsx\"]}],\"mimetype\":\"application/vnd.openxmlformats-officedocument.spreadsheetml.sheet\",\"cache_url\":null,\"hash\":\"{\\\\\"content\\\\\": \\\\\"1d9a19771f13887632434be66bec0faa5eaeead0\\\\\", \\\\\"header\\\\\": \\\\\"047ec4fc62f6cdf9d586620b952d64548188895b\\\\\"}\",\"description\":\"Trafiktællinger fra Københavns faste tællestationer 2014.\",\"name\":\"faste_trafiktællinger_2014.xlsx\",\"created\":\"2015-05-11T09:37:43.893085\",\"datastore_active\":false,\"format\":\"xlsx\",\"package_id\":\"5f9345b0-d73b-43ff-a659-e468d160bc61\",\"id\":\"03f2768e-0ff0-4b42-9d3d-be268e131088\",\"cache_last_updated\":null,\"state\":\"active\",\"mimetype_inner\":null,\"last_modified\":\"2020-01-13T15:13:03.286647\",\"position\":9,\"revision_id\":\"d0c13759-d88d-4904-a7bb-192395dc10fe\",\"url_type\":\"upload\",\"cpr\":\"\",\"resource_type\":\"file.upload\",\"size\":2335338,\"title\":\"Faste Trafiktællinger 2014.xlsx\",\"path\":\"https://admin.opendata.dk/dataset/5f9345b0-d73b-43ff-a659-e468d160bc61/resource/03f2768e-0ff0-4b42-9d3d-be268e131088/download/faste-trafiktaellinger-2014.xlsx\",\"descriptionHtml\":\"<p>Trafiktællinger fra Københavns faste tællestationer 2014.</p>\\\\n\",\"sizeFormatted\":\"2MB\",\"api\":null}]}}\\'>\\n              </div>\\n              \\n            \\n          </div>\\n        </div>\\n      </div>\\n\\n    \\n\\n  \\n\\n  <!-- End of Data Explorer -->\\n\\n\\n        </div>\\n\\n        <!-- Footer -->\\n        <footer class=\"site-footer bg-primary text-white-75 mt-10 py-gutter text-sm\">\\n            <div class=\"container mx-auto md:flex md:justify-between\">\\n                <div class=\"px-gutter pb-6 md:p-gutter md:w-1/3 md:flex flex-col justify-between\">\\n                    <a class=\"block w-24 mb-10 h-10 text-white-75 hover:text-white\" href=\"https://ckan.org/\">\\n                        <span>Powered by</span> <svg xmlns=\"http://www.w3.org/2000/svg\" viewBox=\"0 0 175.72 57.84\"><title>CKAN</title><path class=\"a\" d=\"M85.32 44.81a18.91 18.91 0 0 1-4.3.45 12.86 12.86 0 0 1-5-.87 8.55 8.55 0 0 1-3.37-2.47 10.17 10.17 0 0 1-1.92-3.85 18.79 18.79 0 0 1-.61-4.94q0-6 2.66-9.17t7.66-3.14a17.58 17.58 0 0 1 3.75.38 14.39 14.39 0 0 1 3.11 1l1.35-5.06A20.75 20.75 0 0 0 84.36 16a26.53 26.53 0 0 0-4.49-.38 16.29 16.29 0 0 0-6.64 1.31 14.23 14.23 0 0 0-5 3.65A16.64 16.64 0 0 0 65 26.09a21.21 21.21 0 0 0-1.12 7.05 22.73 22.73 0 0 0 1 7A14.88 14.88 0 0 0 68 45.65a14.23 14.23 0 0 0 5.13 3.59 18.15 18.15 0 0 0 7.08 1.28 23.38 23.38 0 0 0 2.66-.16q1.38-.16 2.6-.38a20.62 20.62 0 0 0 2.18-.51 6.22 6.22 0 0 0 1.47-.61l-.83-5a15.56 15.56 0 0 1-2.97.95zM112.6 39.78q-2.08-2.53-4.23-4.71a40.07 40.07 0 0 0-4.07-3.65l3.56-3.69q1.89-2 3.75-3.91t3.59-3.88q1.73-1.92 3.21-3.53h-7q-1.15 1.35-2.76 3.11t-3.4 3.69q-1.8 1.92-3.65 3.78l-3.4 3.4V0l-6 1v48.75h6v-16a35.4 35.4 0 0 1 3.78 3 52.85 52.85 0 0 1 3.91 3.94q1.92 2.15 3.69 4.49a53 53 0 0 1 3.11 4.58h7a57 57 0 0 0-3.14-4.84q-1.86-2.61-3.95-5.14z\"/><path class=\"a\" d=\"M141.39 19.14a9.83 9.83 0 0 0-4-2.63 17.31 17.31 0 0 0-6.06-.93 33.25 33.25 0 0 0-5.83.48 18.4 18.4 0 0 0-3.85 1l.71 4.94a18.12 18.12 0 0 1 3.3-.87 28.21 28.21 0 0 1 5.16-.42 8.93 8.93 0 0 1 3.75.67 5.85 5.85 0 0 1 2.28 1.79 6.71 6.71 0 0 1 1.15 2.57 13.46 13.46 0 0 1 .32 2.92v1.67l-.9-.19-1.51-.29q-.86-.16-1.83-.26t-1.86-.1a24.46 24.46 0 0 0-5.39.58 14.1 14.1 0 0 0-4.49 1.79 8.94 8.94 0 0 0-3 3.21 9.5 9.5 0 0 0-1.12 4.74 11.56 11.56 0 0 0 1 4.94 8.36 8.36 0 0 0 2.69 3.3 11.61 11.61 0 0 0 4.1 1.83 22 22 0 0 0 5.19.58q2 0 4-.16t3.75-.35q1.73-.19 3.11-.42l2.15-.35V28.34a19.58 19.58 0 0 0-.64-5.16 10 10 0 0 0-2.18-4.04zm-3 25.87a16.21 16.21 0 0 1-2.72.35q-1.63.1-3.75.1a10.68 10.68 0 0 1-5.58-1.25q-2.05-1.25-2.05-4.46a4.38 4.38 0 0 1 .83-2.79 5.9 5.9 0 0 1 2.08-1.67 8.8 8.8 0 0 1 2.76-.8 22.63 22.63 0 0 1 2.85-.19 23.19 23.19 0 0 1 3.49.22 7.69 7.69 0 0 1 2.08.54zM175.08 24.81a12.17 12.17 0 0 0-2.22-4.81 10.34 10.34 0 0 0-4.2-3.14 16.91 16.91 0 0 0-6.6-1.12 47.14 47.14 0 0 0-7.82.58q-3.4.58-5.45 1.09v32.34h6V21.61l1.06-.19q.74-.13 1.67-.22t2-.16q1-.06 2-.06a11.28 11.28 0 0 1 4 .61 5.47 5.47 0 0 1 2.56 2 8.91 8.91 0 0 1 1.38 3.53 28.5 28.5 0 0 1 .42 5.26v17.37h6V31a28.13 28.13 0 0 0-.8-6.19zM52.59 3.34H1.41L27 28.93 52.59 3.34zM0 4.75v51.18l25.59-25.59L0 4.75zM53.43 57.91V5.32L.85 57.91h52.58z\"/></svg>\\n\\n                    </a>\\n\\n                    <p>\\n                        Copyright 2015 Opendata.dk\\n                    </p>\\n                </div>\\n\\n                <div class=\"px-gutter md:p-gutter md:w-1/3\">\\n                    <div>\\n                        <p>\\n                            <a href=\"https://app.heyloyalty.com/subscribe/10738/3609\" class=\"site-footer_link\">Tilmeld nyhedsbrev</a>\\n                        </p>\\n                        <p>Open Data DK | <a href=\"mailto:info@opendata.dk\" class=\"site-footer_link\">info@opendata.dk</a> | Hack Kampmanns Plads 2 | 8000 Aarhus C</p>\\n                    </div>\\n\\n                    <ul class=\"flex\">\\n                        <li>\\n                            <a target=\"_blank\" href=\"https://www.linkedin.com/company/open-data-dk\" class=\"site-footer_link\"><svg class=\"h-10 w-10\" viewbox=\"0 0 512 512\">\\n               <path d=\"M186.4 142.4c0 19-15.3 34.5-34.2 34.5 -18.9 0-34.2-15.4-34.2-34.5 0-19 15.3-34.5 34.2-34.5C171.1 107.9 186.4 123.4 186.4 142.4zM181.4 201.3h-57.8V388.1h57.8V201.3zM273.8 201.3h-55.4V388.1h55.4c0 0 0-69.3 0-98 0-26.3 12.1-41.9 35.2-41.9 21.3 0 31.5 15 31.5 41.9 0 26.9 0 98 0 98h57.5c0 0 0-68.2 0-118.3 0-50-28.3-74.2-68-74.2 -39.6 0-56.3 30.9-56.3 30.9v-25.2H273.8z\"></path>\\n              </svg></a>\\n                        </li>\\n                        <li>\\n                            <a target=\"_blank\" href=\"https://twitter.com/OpenDataDK\" class=\"site-footer_link\"> <svg class=\"h-10 w-10\" viewbox=\"0 0 512 512\">\\n               <path d=\"M419.6 168.6c-11.7 5.2-24.2 8.7-37.4 10.2 13.4-8.1 23.8-20.8 28.6-36 -12.6 7.5-26.5 12.9-41.3 15.8 -11.9-12.6-28.8-20.6-47.5-20.6 -42 0-72.9 39.2-63.4 79.9 -54.1-2.7-102.1-28.6-134.2-68 -17 29.2-8.8 67.5 20.1 86.9 -10.7-0.3-20.7-3.3-29.5-8.1 -0.7 30.2 20.9 58.4 52.2 64.6 -9.2 2.5-19.2 3.1-29.4 1.1 8.3 25.9 32.3 44.7 60.8 45.2 -27.4 21.4-61.8 31-96.4 27 28.8 18.5 63 29.2 99.8 29.2 120.8 0 189.1-102.1 185-193.6C399.9 193.1 410.9 181.7 419.6 168.6z\"></path>\\n               </svg></a>\\n                        </li>\\n                    </ul>\\n\\n                </div>\\n            </div>\\n        </footer>\\n        <!-- end of footer -->\\n    </div>\\n\\n    <div class=\"hidden\">\\n        <?xml version=\"1.0\" encoding=\"utf-8\"?><svg xmlns=\"http://www.w3.org/2000/svg\" xmlns:xlink=\"http://www.w3.org/1999/xlink\"><symbol viewBox=\"0 0 13 13\" id=\"cross\" xmlns=\"http://www.w3.org/2000/svg\"><path d=\"M13 1.309L7.809 6.5 13 11.691 11.691 13 6.5 7.809 1.309 13 0 11.691 5.191 6.5 0 1.309 1.309 0 6.5 5.191 11.691 0 13 1.309z\"/></symbol><symbol viewBox=\"0 0 11 11\" id=\"dropdown\" xmlns=\"http://www.w3.org/2000/svg\"><path d=\"M10.55 3.616L5.5 8.667.45 3.616h10.1z\"/></symbol><symbol viewBox=\"0 0 640 640\" id=\"menu\" xmlns=\"http://www.w3.org/2000/svg\"><path d=\"M0 96h640v64H0V96zm0 192h640v64H0v-64zm0 192h640v64H0v-64z\"/></symbol><symbol viewBox=\"0 0 32 32\" id=\"search\" xmlns=\"http://www.w3.org/2000/svg\"><path d=\"M21.001 23.307a12.927 12.927 0 0 1-7.985 2.739C5.828 26.046 0 20.216 0 13.023 0 5.83 5.828 0 13.016 0c7.189 0 13.016 5.83 13.016 13.023 0 3.024-1.03 5.807-2.758 8.018l.021-.029L32 29.688 29.69 32l-8.672-8.693H21zm-7.972-.52c5.391 0 9.762-4.374 9.762-9.768 0-5.394-4.37-9.767-9.762-9.767S3.267 7.625 3.267 13.02c0 5.394 4.37 9.767 9.762 9.767z\"/></symbol></svg>\\n    </div>\\n\\n    <script>\\n        document.cookie = \\'defaultLocale=\\' + \\'da\\';\\n\\n        // nav\\n        var navToggle = document.getElementById(\"nav-toggle\");\\n        var navTarget = navToggle.nextElementSibling;\\n\\n        // show toggle\\n        navToggle.classList.remove(\"invisible\");\\n\\n        // hide nav\\n        navTarget.setAttribute(\"data-expanded\", \"false\");\\n\\n        // toggle nav\\n        navToggle.onclick = function() {\\n            let expanded = navToggle.getAttribute(\\'aria-expanded\\') === \\'true\\' || false;\\n            navToggle.setAttribute(\\'aria-expanded\\', !expanded);\\n            navTarget.setAttribute(\"data-expanded\", !expanded);\\n        }\\n\\n\\n        // search\\n        // replace link with a button\\n        var searchLink = document.getElementById(\"search-link\");\\n        var searchButton = document.createElement(\"button\");\\n        var searchForm = document.getElementById(\"header-search\");\\n        searchButton.setAttribute(\"class\", \"main-nav_search-toggle\");\\n        searchButton.setAttribute(\"aria-expanded\", \"false\");\\n\\n        while (searchLink.childNodes.length > 0) {\\n            searchButton.appendChild(searchLink.childNodes[0]);\\n        }\\n\\n        searchLink.replaceWith(searchButton);\\n\\n        // button toggles form\\n        searchButton.onclick = function() {\\n            let expanded = searchButton.getAttribute(\\'aria-expanded\\') === \\'true\\' || false;\\n            searchButton.setAttribute(\\'aria-expanded\\', !expanded);\\n            searchForm.setAttribute(\"data-expanded\", !expanded);\\n\\n            if (!expanded) {\\n                document.getElementById(\"searchInput\").focus();\\n            }\\n        };\\n\\n        $(\".searchSelect\").css(\"display\", \"none\");\\n\\n        $(document).on(\\'click\\', function(event) {\\n            if (!event.target.id.includes(\\'searchInput\\')) {\\n                $(\".searchSelect\").css(\"display\", \"none\");\\n            }\\n        });\\n\\n        $(\".searchInput\").on(\\'focus\\', function(event) {\\n            let homeSearchFlag = $(this).attr(\\'id\\').includes(\"Home\") ? \"Home\" : \"\";\\n\\n            let searchFieldValue = $(this).val();\\n            let searchSelect = $(\"#searchSelect\" + homeSearchFlag);\\n\\n            if (searchFieldValue !== \"\") {\\n                searchSelect.css(\\'display\\', \\'block\\');\\n            }\\n        });\\n\\n        $(\".searchInput\").on(\\'keyup\\', function(event) {\\n            if (event.originalEvent.code === \"Escape\") {\\n                let homeSearchFlag = $(this).attr(\\'id\\').includes(\"Home\") ? \"Home\" : \"\";\\n\\n                let searchSelect = $(\"#searchSelect\" + homeSearchFlag);\\n                let searchSelect1 = $(\"#searchSelect1\" + homeSearchFlag);\\n                let searchSelect2 = $(\"#searchSelect2\" + homeSearchFlag);\\n\\n                searchSelect.css(\\'display\\', \\'none\\');\\n\\n            } else {\\n                let homeSearchFlag = $(this).attr(\\'id\\').includes(\"Home\") ? \"Home\" : \"\";\\n\\n                let searchSelect = $(\"#searchSelect\" + homeSearchFlag);\\n                let searchSelect1 = $(\"#searchSelect1\" + homeSearchFlag);\\n                let searchSelect2 = $(\"#searchSelect2\" + homeSearchFlag);\\n\\n                searchSelect1.val($(this).val());\\n                searchSelect2.val($(this).val());\\n\\n                if ($(this).val() !== \"\") {\\n                    searchSelect.css(\\'display\\', \\'block\\');\\n                } else {\\n                    searchSelect.css(\\'display\\', \\'none\\');\\n                }\\n\\n                if (event.originalEvent.code === \"ArrowUp\") {\\n                    $(this).blur();\\n                    searchSelect2.focus();\\n                } else if (event.originalEvent.code === \"ArrowDown\") {\\n                    $(this).blur();\\n                    searchSelect1.focus();\\n                } else if (event.originalEvent.code === \"Enter\") {\\n                    searchSelect1.focus();\\n                    selectedInput1($(this).val());\\n                }\\n            }\\n        });\\n\\n        $(\".searchSelect1\").on(\\'keyup\\', function(event) {\\n            let homeSearchFlag = $(this).attr(\\'id\\').includes(\"Home\") ? \"Home\" : \"\";\\n\\n            let searchInput = $(\"#searchInput\" + homeSearchFlag);\\n            let searchSelect2 = $(\"#searchSelect2\" + homeSearchFlag);\\n\\n            $(this).blur();\\n            if (event.originalEvent.code === \"ArrowUp\") {\\n                searchInput.focus();\\n            } else if (event.originalEvent.code === \"ArrowDown\") {\\n                searchSelect2.focus();\\n            } else if (event.originalEvent.code === (\"Enter\")) {\\n                selectedInput1($(this).val());\\n            } else if (event.originalEvent.code === (\"Escape\")) {\\n                searchInput.focus();\\n                searchSelect.css(\\'display\\', \\'none\\');\\n            } else {\\n                searchInput.val(searchInput.val() + event.key).focus();\\n            }\\n        });\\n\\n        $(\".searchSelect2\").on(\\'keyup\\', function(event) {\\n            let homeSearchFlag = $(this).attr(\\'id\\').includes(\"Home\") ? \"Home\" : \"\";\\n\\n            let searchInput = $(\"#searchInput\" + homeSearchFlag);\\n            let searchSelect1 = $(\"#searchSelect1\" + homeSearchFlag);\\n\\n            $(this).blur();\\n            if (event.originalEvent.code === \"ArrowUp\") {\\n                searchSelect1.focus();\\n            } else if (event.originalEvent.code === \"ArrowDown\") {\\n                searchInput.focus();\\n            } else if (event.originalEvent.code.includes(\"Enter\")) {\\n                selectedInput2($(this).val());\\n            } else if (event.originalEvent.code.includes(\"Escape\")) {\\n                searchInput.focus();\\n                searchSelect.css(\\'display\\', \\'none\\');\\n            } else {\\n                searchInput.val(searchInput.val() + event.key).focus();\\n            }\\n        });\\n\\n        $(\".searchSelect1\").on(\\'click\\', (function(event) {\\n            selectedInput1($(this).val())\\n        }));\\n\\n        $(\".searchSelect2\").on(\\'click\\', function(event) {\\n            selectedInput2($(this).val())\\n        });\\n\\n        function selectedInput1(value) {\\n            window.location.href = window.location.origin + \"/search?q=\" + value;\\n        }\\n\\n        function selectedInput2(value) {\\n            window.location.href = window.location.origin + \"/search/content?q=\" + value\\n        }\\n    </script>\\n    <script type=\"text/javascript\">\\n        /*<![CDATA[*/\\n        (function() {\\n            var sz = document.createElement(\\'script\\');\\n            sz.type = \\'text/javascript\\';\\n            sz.async = true;\\n            sz.src = \\'//ssl.siteimprove.com/js/siteanalyze_2240844.js\\';\\n            var s = document.getElementsByTagName(\\'script\\')[0];\\n            s.parentNode.insertBefore(sz, s);\\n        })();\\n        /*]]>*/\\n    </script>\\n    \\n  <script>\\n\\n    function goToSearch() {\\n      var query = document.getElementById(\\'search-input\\').value\\n      window.location.href = \\'/search?q=\\' + query\\n    }\\n\\n    //scroll for preview\\n    $(\"#preview\").click(function (e) {\\n      e.preventDefault()\\n      console.log($(this).attr(\"href\"))\\n      var position = $($(this).attr(\"href\")).offset().top\\n      console.log(position)\\n      $(\"body, html\").animate({\\n        scrollTop: position\\n      })\\n    })\\n\\n    var modalId\\n    var openmodal = document.querySelectorAll(\\'.modal-open\\')\\n    for (var i = 0; i < openmodal.length; i++) {\\n      openmodal[i].addEventListener(\\'click\\', function (event) {\\n        event.preventDefault()\\n        toggleModal(event, this.getAttribute(\"href\"))\\n      })\\n    }\\n\\n    const overlay = document.querySelector(\\'.modal-overlay\\')\\n    overlay.addEventListener(\\'click\\', toggleModal)\\n\\n    var closemodal = document.querySelectorAll(\\'.modal-close\\')\\n    for (var i = 0; i < closemodal.length; i++) {\\n      closemodal[i].addEventListener(\\'click\\', toggleModal)\\n    }\\n\\n    document.onkeydown = function (evt) {\\n      evt = evt || window.event\\n      var isEscape = false\\n      if (\"key\" in evt) {\\n        isEscape = (evt.key === \"Escape\" || evt.key === \"Esc\")\\n      } else {\\n        isEscape = (evt.keyCode === 27)\\n      }\\n      if (isEscape && document.body.classList.contains(\\'modal-active\\')) {\\n        toggleModal()\\n      }\\n    }\\n\\n\\n    function toggleModal(event, id) {\\n      modalId = id || modalId\\n      const body = document.querySelector(\\'body\\')\\n      const modal = document.querySelector(modalId)\\n      modal.classList.toggle(\\'opacity-0\\')\\n      modal.classList.toggle(\\'pointer-events-none\\')\\n      body.classList.toggle(\\'modal-active\\')\\n    }\\n\\n  </script>\\n\\n  <link rel=\"stylesheet\" media=\"screen\" href=\"/static/stylesheets/main.css\">\\n  <script type=\"text/javascript\" src=\"/static/js/main.js\"></script>\\n\\n  <!-- data explorer builds -->\\n  <script type=\"text/javascript\" src=\"/static/js/dataexplorer/runtime~main.a8a9905a.js\"></script>\\n  <script type=\"text/javascript\" src=\"/static/js/dataexplorer/2.c6f4e108.chunk.js\"></script>\\n  <script type=\"text/javascript\" src=\"/static/js/dataexplorer/main.7c92829d.chunk.js\"></script>\\n\\n</body>\\n\\n</html>'"
      ]
     },
     "execution_count": 344,
     "metadata": {},
     "output_type": "execute_result"
    }
   ],
   "source": [
    "### BEGIN SOLUTION\n",
    "from requests import get \n",
    "\n",
    "url = 'https://www.opendata.dk/city-of-copenhagen/faste-trafiktaellinger'\n",
    "resp = get(url)\n",
    "\n",
    "html = resp.text\n",
    "### END SOLUTION\n",
    "\n",
    "html"
   ]
  },
  {
   "cell_type": "markdown",
   "metadata": {},
   "source": [
    "> **Ex. 5.5.2:** *(Bonus)* Using the re module, extract a list of all the urls in the html string and store them in a new variable.\n",
    "\n",
    "> _Hint:_ Try using the re.findall method. You may want to Google around to figure out how to do this. Searching for something along the lines of \"extract all links in html regex python\" and hitting the first StackOverflow link will probably get you farther than reading elaborate documentation."
   ]
  },
  {
   "cell_type": "code",
   "execution_count": 345,
   "metadata": {
    "deletable": false,
    "nbgrader": {
     "cell_type": "code",
     "checksum": "788530dc03e9f126847d8481b20ed13e",
     "grade": false,
     "grade_id": "cell-b6352a75b3acd612",
     "locked": false,
     "schema_version": 3,
     "solution": true,
     "task": false
    }
   },
   "outputs": [
    {
     "name": "stdout",
     "output_type": "stream",
     "text": [
      "#main-content, /static/stylesheets/dataexplorer/main.0e85ebd4.chunk.css, /static/stylesheets/dataexplorer/2.0f69c0e7.chunk.css, /static/stylesheets/app.css, /static/img/favicon.ico, //cdnjs.cloudflare.com/ajax/libs/leaflet/1.0.3/leaflet.css, /, #menu, https://www.survey-xact.dk/LinkCollector?key=X3LGR2APJJ15, /blog, /search, #dropdown, /search, /organization, /collections, /andres-data, /about, #dropdown, /hvad-er-open-data-dk, /foreningen, /medlemmer, /vejledninger-og-analyser, /faq, /search, #search, #cross, #search, #search, #search, /, /city-of-copenhagen, /city-of-copenhagen/faste-trafiktaellinger, https://admin.opendata.dk/dataset/5f9345b0-d73b-43ff-a659-e468d160bc61/resource/dcb49b51-1a17-40f6-82b4-34eaf58bce57/download/faste-trafiktaellinger-2005.xlsx, https://admin.opendata.dk/dataset/5f9345b0-d73b-43ff-a659-e468d160bc61/resource/dcb49b51-1a17-40f6-82b4-34eaf58bce57/download/faste-trafiktaellinger-2005.xlsx, #resource-faste_trafiktællinger_2005.xlsx, https://admin.opendata.dk/dataset/5f9345b0-d73b-43ff-a659-e468d160bc61/resource/0bfc0425-0b2f-43b4-be71-117b4265598d/download/faste-trafiktaellinger-2006.xlsx, https://admin.opendata.dk/dataset/5f9345b0-d73b-43ff-a659-e468d160bc61/resource/0bfc0425-0b2f-43b4-be71-117b4265598d/download/faste-trafiktaellinger-2006.xlsx, #resource-faste_trafiktællinger_2006.xlsx, https://admin.opendata.dk/dataset/5f9345b0-d73b-43ff-a659-e468d160bc61/resource/f52749f9-6f90-4f63-a151-c4020d4b2396/download/faste-trafiktaellinger-2007.xlsx, https://admin.opendata.dk/dataset/5f9345b0-d73b-43ff-a659-e468d160bc61/resource/f52749f9-6f90-4f63-a151-c4020d4b2396/download/faste-trafiktaellinger-2007.xlsx, #resource-faste_trafiktællinger_2007.xlsx, https://admin.opendata.dk/dataset/5f9345b0-d73b-43ff-a659-e468d160bc61/resource/e4f321ad-76bc-483f-839e-e04cfea6bfc0/download/faste-trafiktaellinger-2008.xlsx, https://admin.opendata.dk/dataset/5f9345b0-d73b-43ff-a659-e468d160bc61/resource/e4f321ad-76bc-483f-839e-e04cfea6bfc0/download/faste-trafiktaellinger-2008.xlsx, #resource-faste_trafiktællinger_2008.xlsx, https://admin.opendata.dk/dataset/5f9345b0-d73b-43ff-a659-e468d160bc61/resource/bac5c582-bdd0-45db-b174-f835e82851bc/download/faste-trafiktaellinger-2009.xlsx, https://admin.opendata.dk/dataset/5f9345b0-d73b-43ff-a659-e468d160bc61/resource/bac5c582-bdd0-45db-b174-f835e82851bc/download/faste-trafiktaellinger-2009.xlsx, #resource-faste_trafiktællinger_2009.xlsx, https://admin.opendata.dk/dataset/5f9345b0-d73b-43ff-a659-e468d160bc61/resource/a209aef9-802c-4cda-9b42-f4364877b04f/download/faste-trafiktaellinger-2010.xlsx, https://admin.opendata.dk/dataset/5f9345b0-d73b-43ff-a659-e468d160bc61/resource/a209aef9-802c-4cda-9b42-f4364877b04f/download/faste-trafiktaellinger-2010.xlsx, #resource-faste_trafiktællinger_2010.xlsx, https://admin.opendata.dk/dataset/5f9345b0-d73b-43ff-a659-e468d160bc61/resource/8b2f60a9-17ac-437d-ae6e-ad44c0a49edd/download/faste-trafiktaellinger-2011.xlsx, https://admin.opendata.dk/dataset/5f9345b0-d73b-43ff-a659-e468d160bc61/resource/8b2f60a9-17ac-437d-ae6e-ad44c0a49edd/download/faste-trafiktaellinger-2011.xlsx, #resource-faste_trafiktællinger_2011.xlsx, https://admin.opendata.dk/dataset/5f9345b0-d73b-43ff-a659-e468d160bc61/resource/d41f5bc7-9834-4698-ad2c-3a4dc15d124a/download/faste-trafiktaellinger-2012.xlsx, https://admin.opendata.dk/dataset/5f9345b0-d73b-43ff-a659-e468d160bc61/resource/d41f5bc7-9834-4698-ad2c-3a4dc15d124a/download/faste-trafiktaellinger-2012.xlsx, #resource-faste_trafiktællinger_2012.xlsx, https://admin.opendata.dk/dataset/5f9345b0-d73b-43ff-a659-e468d160bc61/resource/3cbd235e-9904-44b4-83f1-35630dbd8acc/download/faste-trafiktaellinger-2013.xlsx, https://admin.opendata.dk/dataset/5f9345b0-d73b-43ff-a659-e468d160bc61/resource/3cbd235e-9904-44b4-83f1-35630dbd8acc/download/faste-trafiktaellinger-2013.xlsx, #resource-faste_trafiktællinger_2013.xlsx, https://admin.opendata.dk/dataset/5f9345b0-d73b-43ff-a659-e468d160bc61/resource/03f2768e-0ff0-4b42-9d3d-be268e131088/download/faste-trafiktaellinger-2014.xlsx, https://admin.opendata.dk/dataset/5f9345b0-d73b-43ff-a659-e468d160bc61/resource/03f2768e-0ff0-4b42-9d3d-be268e131088/download/faste-trafiktaellinger-2014.xlsx, #resource-faste_trafiktællinger_2014.xlsx, /city-of-copenhagen, /city-of-copenhagen, mailto:bydata@tmf.kk.dk, http://portal.opendata.dk/dataset/open-data-dk-licens, /collections/transport, /search?q=tags:biler, /search?q=tags:faste, /search?q=tags:motorkøretøjer, /search?q=tags:tællinger, https://twitter.com/intent/tweet?url=//www.opendata.dk/city-of-copenhagen/faste-trafiktaellinger&text=faste-trafiktaellinger, https://ckan.org/, https://app.heyloyalty.com/subscribe/10738/3609, mailto:info@opendata.dk, https://www.linkedin.com/company/open-data-dk, https://twitter.com/OpenDataDK, /static/stylesheets/main.css\n"
     ]
    }
   ],
   "source": [
    "import re \n",
    "\n",
    "urls = re.findall(r'href=[\\'\"]?([^\\'\" >]+)', html)\n",
    "\n",
    "print(', '.join(urls))"
   ]
  },
  {
   "cell_type": "markdown",
   "metadata": {},
   "source": [
    "> **Ex. 5.5.3:** *(Bonus)* Create a new variable `datalinks` that only contains the links that point to downloadable traffic data sheets. Some links may be preset more than once on the page. To get the unique links use the `set()` function on `datalinks`.\n",
    "\n",
    "> _Hint:_ You want to filter the results from above. For example to only include urls with the term 'download' in them."
   ]
  },
  {
   "cell_type": "code",
   "execution_count": 347,
   "metadata": {
    "deletable": false,
    "nbgrader": {
     "cell_type": "code",
     "checksum": "9c4d2d55e4c1ad109d16434f21f24730",
     "grade": false,
     "grade_id": "cell-474f6f4274f1f6be",
     "locked": false,
     "schema_version": 3,
     "solution": true,
     "task": false
    }
   },
   "outputs": [
    {
     "data": {
      "text/plain": [
       "{'https://admin.opendata.dk/dataset/5f9345b0-d73b-43ff-a659-e468d160bc61/resource/03f2768e-0ff0-4b42-9d3d-be268e131088/download/faste-trafiktaellinger-2014.xlsx',\n",
       " 'https://admin.opendata.dk/dataset/5f9345b0-d73b-43ff-a659-e468d160bc61/resource/0bfc0425-0b2f-43b4-be71-117b4265598d/download/faste-trafiktaellinger-2006.xlsx',\n",
       " 'https://admin.opendata.dk/dataset/5f9345b0-d73b-43ff-a659-e468d160bc61/resource/3cbd235e-9904-44b4-83f1-35630dbd8acc/download/faste-trafiktaellinger-2013.xlsx',\n",
       " 'https://admin.opendata.dk/dataset/5f9345b0-d73b-43ff-a659-e468d160bc61/resource/8b2f60a9-17ac-437d-ae6e-ad44c0a49edd/download/faste-trafiktaellinger-2011.xlsx',\n",
       " 'https://admin.opendata.dk/dataset/5f9345b0-d73b-43ff-a659-e468d160bc61/resource/a209aef9-802c-4cda-9b42-f4364877b04f/download/faste-trafiktaellinger-2010.xlsx',\n",
       " 'https://admin.opendata.dk/dataset/5f9345b0-d73b-43ff-a659-e468d160bc61/resource/bac5c582-bdd0-45db-b174-f835e82851bc/download/faste-trafiktaellinger-2009.xlsx',\n",
       " 'https://admin.opendata.dk/dataset/5f9345b0-d73b-43ff-a659-e468d160bc61/resource/d41f5bc7-9834-4698-ad2c-3a4dc15d124a/download/faste-trafiktaellinger-2012.xlsx',\n",
       " 'https://admin.opendata.dk/dataset/5f9345b0-d73b-43ff-a659-e468d160bc61/resource/dcb49b51-1a17-40f6-82b4-34eaf58bce57/download/faste-trafiktaellinger-2005.xlsx',\n",
       " 'https://admin.opendata.dk/dataset/5f9345b0-d73b-43ff-a659-e468d160bc61/resource/e4f321ad-76bc-483f-839e-e04cfea6bfc0/download/faste-trafiktaellinger-2008.xlsx',\n",
       " 'https://admin.opendata.dk/dataset/5f9345b0-d73b-43ff-a659-e468d160bc61/resource/f52749f9-6f90-4f63-a151-c4020d4b2396/download/faste-trafiktaellinger-2007.xlsx'}"
      ]
     },
     "execution_count": 347,
     "metadata": {},
     "output_type": "execute_result"
    }
   ],
   "source": [
    "\n",
    "datalinks = set([url for url in urls if 'download' in url])\n",
    "\n",
    "datalinks\n"
   ]
  },
  {
   "cell_type": "markdown",
   "metadata": {},
   "source": [
    "> **Ex. 5.5.4:** *(Bonus)* Using pd.read_excel method, load the datasets into a list. Your resulting variable should hold a list of Pandas dataframes.\n",
    "\n",
    "> _Hint:_ you may want to set the `skiprows` keyword argument. "
   ]
  },
  {
   "cell_type": "code",
   "execution_count": 355,
   "metadata": {
    "deletable": false,
    "nbgrader": {
     "cell_type": "code",
     "checksum": "ec13a7429665e71ab5b4c23f4ba21f5e",
     "grade": false,
     "grade_id": "cell-da5cce0bcf1ee076",
     "locked": false,
     "schema_version": 3,
     "solution": true,
     "task": false
    }
   },
   "outputs": [],
   "source": [
    "import pandas as pd\n",
    "traffic_raw = [pd.read_excel(url, skiprows = 10) for url in datalinks]"
   ]
  },
  {
   "cell_type": "markdown",
   "metadata": {},
   "source": [
    "> **Ex. 5.5.5:** *(Bonus)* Merge the list of dataframes into a single dataframe."
   ]
  },
  {
   "cell_type": "code",
   "execution_count": null,
   "metadata": {
    "deletable": false,
    "nbgrader": {
     "cell_type": "code",
     "checksum": "106922ebf7ed30f3a851de6b1dcd847e",
     "grade": false,
     "grade_id": "cell-4526c1736e295f0a",
     "locked": false,
     "schema_version": 3,
     "solution": true,
     "task": false
    }
   },
   "outputs": [],
   "source": [
    "final_data = pd.concat(traffic_raw)"
   ]
  },
  {
   "cell_type": "markdown",
   "metadata": {},
   "source": [
    "## Part 5.5.B Structuring your data\n",
    "\n",
    "If you successfully completed the previous part, you should now have a dataframe with about 183.397 rows (if your number of rows is close but not the same, worry not—it matters little in the following). Well done! But the data is still in no shape for analysis, so we must clean it up a little.\n",
    "\n",
    "161.236 rows (and 30 columns) is a lot of data. ~3.3 MB by my back-of-the-envelope calculations, so not \"Big Data\", but still enough to make your CPU heat up if you don't use it carefully. Pandas is built to handle fairly large dataframes and has advanced functionality to perform very fast operations even when the size of your data grows huge. So instead of working with basic Python we recommend working pandas built-in procedures as they are constructed to be fast on dataframes.\n",
    "\n",
    "Nerd fact: the reason pandas is much faster than pure Python is that dataframes access a lower level programming languages (namely C, C++) which are multiple times faster than Python. The reason it is faster is that it has a higher level of explicitness and thus is more difficult to learn and navigate.\n",
    "\n",
    "> **Ex. 5.5.6:** *(Bonus)* Reset the row indices of your dataframe so the first index is 0 and the last is whatever the number of rows your dataframe has. Also drop the column named 'index' and the one named `Spor`."
   ]
  },
  {
   "cell_type": "code",
   "execution_count": 363,
   "metadata": {
    "deletable": false,
    "nbgrader": {
     "cell_type": "code",
     "checksum": "12b5d377a6d783b26c1fd5280b0a9909",
     "grade": false,
     "grade_id": "cell-bba8d42c26534466",
     "locked": false,
     "schema_version": 3,
     "solution": true,
     "task": false
    },
    "scrolled": true
   },
   "outputs": [
    {
     "ename": "KeyError",
     "evalue": "\"['Spor'] not found in axis\"",
     "output_type": "error",
     "traceback": [
      "\u001b[1;31m---------------------------------------------------------------------------\u001b[0m",
      "\u001b[1;31mKeyError\u001b[0m                                  Traceback (most recent call last)",
      "\u001b[1;32m<ipython-input-363-d13ac2c042ed>\u001b[0m in \u001b[0;36m<module>\u001b[1;34m\u001b[0m\n\u001b[1;32m----> 1\u001b[1;33m \u001b[0mfinal_data\u001b[0m \u001b[1;33m=\u001b[0m \u001b[0mfinal_data\u001b[0m\u001b[0;31m\\\u001b[0m\u001b[1;33m\u001b[0m\u001b[1;33m\u001b[0m\u001b[0m\n\u001b[0m\u001b[0;32m      2\u001b[0m         \u001b[1;33m.\u001b[0m\u001b[0mreset_index\u001b[0m\u001b[1;33m(\u001b[0m\u001b[1;33m)\u001b[0m\u001b[0;31m\\\u001b[0m\u001b[1;33m\u001b[0m\u001b[1;33m\u001b[0m\u001b[0m\n\u001b[0;32m      3\u001b[0m         \u001b[1;33m.\u001b[0m\u001b[0mdrop\u001b[0m\u001b[1;33m(\u001b[0m\u001b[1;33m[\u001b[0m\u001b[1;34m'index'\u001b[0m\u001b[1;33m,\u001b[0m \u001b[1;34m'Spor'\u001b[0m\u001b[1;33m]\u001b[0m\u001b[1;33m,\u001b[0m \u001b[0maxis\u001b[0m \u001b[1;33m=\u001b[0m \u001b[1;36m1\u001b[0m\u001b[1;33m)\u001b[0m\u001b[1;33m\u001b[0m\u001b[1;33m\u001b[0m\u001b[0m\n\u001b[0;32m      4\u001b[0m \u001b[1;33m\u001b[0m\u001b[0m\n\u001b[0;32m      5\u001b[0m \u001b[0mfinal_data\u001b[0m\u001b[1;33m\u001b[0m\u001b[1;33m\u001b[0m\u001b[0m\n",
      "\u001b[1;32m~\\anaconda3\\lib\\site-packages\\pandas\\core\\frame.py\u001b[0m in \u001b[0;36mdrop\u001b[1;34m(self, labels, axis, index, columns, level, inplace, errors)\u001b[0m\n\u001b[0;32m   4161\u001b[0m                 \u001b[0mweight\u001b[0m  \u001b[1;36m1.0\u001b[0m     \u001b[1;36m0.8\u001b[0m\u001b[1;33m\u001b[0m\u001b[1;33m\u001b[0m\u001b[0m\n\u001b[0;32m   4162\u001b[0m         \"\"\"\n\u001b[1;32m-> 4163\u001b[1;33m         return super().drop(\n\u001b[0m\u001b[0;32m   4164\u001b[0m             \u001b[0mlabels\u001b[0m\u001b[1;33m=\u001b[0m\u001b[0mlabels\u001b[0m\u001b[1;33m,\u001b[0m\u001b[1;33m\u001b[0m\u001b[1;33m\u001b[0m\u001b[0m\n\u001b[0;32m   4165\u001b[0m             \u001b[0maxis\u001b[0m\u001b[1;33m=\u001b[0m\u001b[0maxis\u001b[0m\u001b[1;33m,\u001b[0m\u001b[1;33m\u001b[0m\u001b[1;33m\u001b[0m\u001b[0m\n",
      "\u001b[1;32m~\\anaconda3\\lib\\site-packages\\pandas\\core\\generic.py\u001b[0m in \u001b[0;36mdrop\u001b[1;34m(self, labels, axis, index, columns, level, inplace, errors)\u001b[0m\n\u001b[0;32m   3885\u001b[0m         \u001b[1;32mfor\u001b[0m \u001b[0maxis\u001b[0m\u001b[1;33m,\u001b[0m \u001b[0mlabels\u001b[0m \u001b[1;32min\u001b[0m \u001b[0maxes\u001b[0m\u001b[1;33m.\u001b[0m\u001b[0mitems\u001b[0m\u001b[1;33m(\u001b[0m\u001b[1;33m)\u001b[0m\u001b[1;33m:\u001b[0m\u001b[1;33m\u001b[0m\u001b[1;33m\u001b[0m\u001b[0m\n\u001b[0;32m   3886\u001b[0m             \u001b[1;32mif\u001b[0m \u001b[0mlabels\u001b[0m \u001b[1;32mis\u001b[0m \u001b[1;32mnot\u001b[0m \u001b[1;32mNone\u001b[0m\u001b[1;33m:\u001b[0m\u001b[1;33m\u001b[0m\u001b[1;33m\u001b[0m\u001b[0m\n\u001b[1;32m-> 3887\u001b[1;33m                 \u001b[0mobj\u001b[0m \u001b[1;33m=\u001b[0m \u001b[0mobj\u001b[0m\u001b[1;33m.\u001b[0m\u001b[0m_drop_axis\u001b[0m\u001b[1;33m(\u001b[0m\u001b[0mlabels\u001b[0m\u001b[1;33m,\u001b[0m \u001b[0maxis\u001b[0m\u001b[1;33m,\u001b[0m \u001b[0mlevel\u001b[0m\u001b[1;33m=\u001b[0m\u001b[0mlevel\u001b[0m\u001b[1;33m,\u001b[0m \u001b[0merrors\u001b[0m\u001b[1;33m=\u001b[0m\u001b[0merrors\u001b[0m\u001b[1;33m)\u001b[0m\u001b[1;33m\u001b[0m\u001b[1;33m\u001b[0m\u001b[0m\n\u001b[0m\u001b[0;32m   3888\u001b[0m \u001b[1;33m\u001b[0m\u001b[0m\n\u001b[0;32m   3889\u001b[0m         \u001b[1;32mif\u001b[0m \u001b[0minplace\u001b[0m\u001b[1;33m:\u001b[0m\u001b[1;33m\u001b[0m\u001b[1;33m\u001b[0m\u001b[0m\n",
      "\u001b[1;32m~\\anaconda3\\lib\\site-packages\\pandas\\core\\generic.py\u001b[0m in \u001b[0;36m_drop_axis\u001b[1;34m(self, labels, axis, level, errors)\u001b[0m\n\u001b[0;32m   3919\u001b[0m                 \u001b[0mnew_axis\u001b[0m \u001b[1;33m=\u001b[0m \u001b[0maxis\u001b[0m\u001b[1;33m.\u001b[0m\u001b[0mdrop\u001b[0m\u001b[1;33m(\u001b[0m\u001b[0mlabels\u001b[0m\u001b[1;33m,\u001b[0m \u001b[0mlevel\u001b[0m\u001b[1;33m=\u001b[0m\u001b[0mlevel\u001b[0m\u001b[1;33m,\u001b[0m \u001b[0merrors\u001b[0m\u001b[1;33m=\u001b[0m\u001b[0merrors\u001b[0m\u001b[1;33m)\u001b[0m\u001b[1;33m\u001b[0m\u001b[1;33m\u001b[0m\u001b[0m\n\u001b[0;32m   3920\u001b[0m             \u001b[1;32melse\u001b[0m\u001b[1;33m:\u001b[0m\u001b[1;33m\u001b[0m\u001b[1;33m\u001b[0m\u001b[0m\n\u001b[1;32m-> 3921\u001b[1;33m                 \u001b[0mnew_axis\u001b[0m \u001b[1;33m=\u001b[0m \u001b[0maxis\u001b[0m\u001b[1;33m.\u001b[0m\u001b[0mdrop\u001b[0m\u001b[1;33m(\u001b[0m\u001b[0mlabels\u001b[0m\u001b[1;33m,\u001b[0m \u001b[0merrors\u001b[0m\u001b[1;33m=\u001b[0m\u001b[0merrors\u001b[0m\u001b[1;33m)\u001b[0m\u001b[1;33m\u001b[0m\u001b[1;33m\u001b[0m\u001b[0m\n\u001b[0m\u001b[0;32m   3922\u001b[0m             \u001b[0mresult\u001b[0m \u001b[1;33m=\u001b[0m \u001b[0mself\u001b[0m\u001b[1;33m.\u001b[0m\u001b[0mreindex\u001b[0m\u001b[1;33m(\u001b[0m\u001b[1;33m**\u001b[0m\u001b[1;33m{\u001b[0m\u001b[0maxis_name\u001b[0m\u001b[1;33m:\u001b[0m \u001b[0mnew_axis\u001b[0m\u001b[1;33m}\u001b[0m\u001b[1;33m)\u001b[0m\u001b[1;33m\u001b[0m\u001b[1;33m\u001b[0m\u001b[0m\n\u001b[0;32m   3923\u001b[0m \u001b[1;33m\u001b[0m\u001b[0m\n",
      "\u001b[1;32m~\\anaconda3\\lib\\site-packages\\pandas\\core\\indexes\\base.py\u001b[0m in \u001b[0;36mdrop\u001b[1;34m(self, labels, errors)\u001b[0m\n\u001b[0;32m   5280\u001b[0m         \u001b[1;32mif\u001b[0m \u001b[0mmask\u001b[0m\u001b[1;33m.\u001b[0m\u001b[0many\u001b[0m\u001b[1;33m(\u001b[0m\u001b[1;33m)\u001b[0m\u001b[1;33m:\u001b[0m\u001b[1;33m\u001b[0m\u001b[1;33m\u001b[0m\u001b[0m\n\u001b[0;32m   5281\u001b[0m             \u001b[1;32mif\u001b[0m \u001b[0merrors\u001b[0m \u001b[1;33m!=\u001b[0m \u001b[1;34m\"ignore\"\u001b[0m\u001b[1;33m:\u001b[0m\u001b[1;33m\u001b[0m\u001b[1;33m\u001b[0m\u001b[0m\n\u001b[1;32m-> 5282\u001b[1;33m                 \u001b[1;32mraise\u001b[0m \u001b[0mKeyError\u001b[0m\u001b[1;33m(\u001b[0m\u001b[1;34mf\"{labels[mask]} not found in axis\"\u001b[0m\u001b[1;33m)\u001b[0m\u001b[1;33m\u001b[0m\u001b[1;33m\u001b[0m\u001b[0m\n\u001b[0m\u001b[0;32m   5283\u001b[0m             \u001b[0mindexer\u001b[0m \u001b[1;33m=\u001b[0m \u001b[0mindexer\u001b[0m\u001b[1;33m[\u001b[0m\u001b[1;33m~\u001b[0m\u001b[0mmask\u001b[0m\u001b[1;33m]\u001b[0m\u001b[1;33m\u001b[0m\u001b[1;33m\u001b[0m\u001b[0m\n\u001b[0;32m   5284\u001b[0m         \u001b[1;32mreturn\u001b[0m \u001b[0mself\u001b[0m\u001b[1;33m.\u001b[0m\u001b[0mdelete\u001b[0m\u001b[1;33m(\u001b[0m\u001b[0mindexer\u001b[0m\u001b[1;33m)\u001b[0m\u001b[1;33m\u001b[0m\u001b[1;33m\u001b[0m\u001b[0m\n",
      "\u001b[1;31mKeyError\u001b[0m: \"['Spor'] not found in axis\""
     ]
    }
   ],
   "source": [
    "final_data = final_data\\\n",
    "        .reset_index()\\\n",
    "        .drop(['index', 'Spor'], axis = 1)\n"
   ]
  },
  {
   "cell_type": "code",
   "execution_count": 364,
   "metadata": {},
   "outputs": [
    {
     "data": {
      "text/html": [
       "<div>\n",
       "<style scoped>\n",
       "    .dataframe tbody tr th:only-of-type {\n",
       "        vertical-align: middle;\n",
       "    }\n",
       "\n",
       "    .dataframe tbody tr th {\n",
       "        vertical-align: top;\n",
       "    }\n",
       "\n",
       "    .dataframe thead th {\n",
       "        text-align: right;\n",
       "    }\n",
       "</style>\n",
       "<table border=\"1\" class=\"dataframe\">\n",
       "  <thead>\n",
       "    <tr style=\"text-align: right;\">\n",
       "      <th></th>\n",
       "      <th>road_id</th>\n",
       "      <th>road_name</th>\n",
       "      <th>UTM32_north</th>\n",
       "      <th>UTM32_east</th>\n",
       "      <th>date</th>\n",
       "      <th>kl.00-01</th>\n",
       "      <th>kl.01-02</th>\n",
       "      <th>kl.02-03</th>\n",
       "      <th>kl.03-04</th>\n",
       "      <th>kl.04-05</th>\n",
       "      <th>...</th>\n",
       "      <th>kl.14-15</th>\n",
       "      <th>kl.15-16</th>\n",
       "      <th>kl.16-17</th>\n",
       "      <th>kl.17-18</th>\n",
       "      <th>kl.18-19</th>\n",
       "      <th>kl.19-20</th>\n",
       "      <th>kl.20-21</th>\n",
       "      <th>kl.21-22</th>\n",
       "      <th>kl.22-23</th>\n",
       "      <th>kl.23-24</th>\n",
       "    </tr>\n",
       "  </thead>\n",
       "  <tbody>\n",
       "    <tr>\n",
       "      <th>0</th>\n",
       "      <td>101 1011492-0 1/ 124 -</td>\n",
       "      <td>Ellebjergvej</td>\n",
       "      <td>720881</td>\n",
       "      <td>6172777</td>\n",
       "      <td>01.01.2014</td>\n",
       "      <td>226.0</td>\n",
       "      <td>388.0</td>\n",
       "      <td>362.0</td>\n",
       "      <td>266.0</td>\n",
       "      <td>178.0</td>\n",
       "      <td>...</td>\n",
       "      <td>665.0</td>\n",
       "      <td>680.0</td>\n",
       "      <td>618.0</td>\n",
       "      <td>570.0</td>\n",
       "      <td>409.0</td>\n",
       "      <td>387.0</td>\n",
       "      <td>328.0</td>\n",
       "      <td>242.0</td>\n",
       "      <td>190.0</td>\n",
       "      <td>146.0</td>\n",
       "    </tr>\n",
       "    <tr>\n",
       "      <th>1</th>\n",
       "      <td>101 1011492-0 1/ 124 -</td>\n",
       "      <td>Ellebjergvej</td>\n",
       "      <td>720881</td>\n",
       "      <td>6172777</td>\n",
       "      <td>02.01.2014</td>\n",
       "      <td>70.0</td>\n",
       "      <td>49.0</td>\n",
       "      <td>61.0</td>\n",
       "      <td>83.0</td>\n",
       "      <td>169.0</td>\n",
       "      <td>...</td>\n",
       "      <td>1034.0</td>\n",
       "      <td>1183.0</td>\n",
       "      <td>1074.0</td>\n",
       "      <td>907.0</td>\n",
       "      <td>623.0</td>\n",
       "      <td>502.0</td>\n",
       "      <td>385.0</td>\n",
       "      <td>321.0</td>\n",
       "      <td>254.0</td>\n",
       "      <td>168.0</td>\n",
       "    </tr>\n",
       "    <tr>\n",
       "      <th>2</th>\n",
       "      <td>101 1011492-0 1/ 124 -</td>\n",
       "      <td>Ellebjergvej</td>\n",
       "      <td>720881</td>\n",
       "      <td>6172777</td>\n",
       "      <td>03.01.2014</td>\n",
       "      <td>100.0</td>\n",
       "      <td>70.0</td>\n",
       "      <td>66.0</td>\n",
       "      <td>82.0</td>\n",
       "      <td>174.0</td>\n",
       "      <td>...</td>\n",
       "      <td>1146.0</td>\n",
       "      <td>1308.0</td>\n",
       "      <td>1067.0</td>\n",
       "      <td>979.0</td>\n",
       "      <td>765.0</td>\n",
       "      <td>509.0</td>\n",
       "      <td>396.0</td>\n",
       "      <td>362.0</td>\n",
       "      <td>330.0</td>\n",
       "      <td>229.0</td>\n",
       "    </tr>\n",
       "    <tr>\n",
       "      <th>3</th>\n",
       "      <td>101 1011492-0 1/ 124 -</td>\n",
       "      <td>Ellebjergvej</td>\n",
       "      <td>720881</td>\n",
       "      <td>6172777</td>\n",
       "      <td>04.01.2014</td>\n",
       "      <td>143.0</td>\n",
       "      <td>113.0</td>\n",
       "      <td>93.0</td>\n",
       "      <td>86.0</td>\n",
       "      <td>104.0</td>\n",
       "      <td>...</td>\n",
       "      <td>993.0</td>\n",
       "      <td>930.0</td>\n",
       "      <td>893.0</td>\n",
       "      <td>869.0</td>\n",
       "      <td>629.0</td>\n",
       "      <td>443.0</td>\n",
       "      <td>406.0</td>\n",
       "      <td>350.0</td>\n",
       "      <td>334.0</td>\n",
       "      <td>313.0</td>\n",
       "    </tr>\n",
       "    <tr>\n",
       "      <th>4</th>\n",
       "      <td>101 1011492-0 1/ 124 -</td>\n",
       "      <td>Ellebjergvej</td>\n",
       "      <td>720881</td>\n",
       "      <td>6172777</td>\n",
       "      <td>05.01.2014</td>\n",
       "      <td>198.0</td>\n",
       "      <td>116.0</td>\n",
       "      <td>99.0</td>\n",
       "      <td>103.0</td>\n",
       "      <td>86.0</td>\n",
       "      <td>...</td>\n",
       "      <td>1015.0</td>\n",
       "      <td>892.0</td>\n",
       "      <td>883.0</td>\n",
       "      <td>799.0</td>\n",
       "      <td>592.0</td>\n",
       "      <td>462.0</td>\n",
       "      <td>397.0</td>\n",
       "      <td>327.0</td>\n",
       "      <td>232.0</td>\n",
       "      <td>166.0</td>\n",
       "    </tr>\n",
       "    <tr>\n",
       "      <th>...</th>\n",
       "      <td>...</td>\n",
       "      <td>...</td>\n",
       "      <td>...</td>\n",
       "      <td>...</td>\n",
       "      <td>...</td>\n",
       "      <td>...</td>\n",
       "      <td>...</td>\n",
       "      <td>...</td>\n",
       "      <td>...</td>\n",
       "      <td>...</td>\n",
       "      <td>...</td>\n",
       "      <td>...</td>\n",
       "      <td>...</td>\n",
       "      <td>...</td>\n",
       "      <td>...</td>\n",
       "      <td>...</td>\n",
       "      <td>...</td>\n",
       "      <td>...</td>\n",
       "      <td>...</td>\n",
       "      <td>...</td>\n",
       "      <td>...</td>\n",
       "    </tr>\n",
       "    <tr>\n",
       "      <th>183392</th>\n",
       "      <td>101 1018636-0 0/ 180 T</td>\n",
       "      <td>Åboulevard</td>\n",
       "      <td>723530</td>\n",
       "      <td>6176573</td>\n",
       "      <td>25.10.2010</td>\n",
       "      <td>254.0</td>\n",
       "      <td>111.0</td>\n",
       "      <td>58.0</td>\n",
       "      <td>60.0</td>\n",
       "      <td>154.0</td>\n",
       "      <td>...</td>\n",
       "      <td>3225.0</td>\n",
       "      <td>3854.0</td>\n",
       "      <td>3843.0</td>\n",
       "      <td>3268.0</td>\n",
       "      <td>2407.0</td>\n",
       "      <td>1716.0</td>\n",
       "      <td>1342.0</td>\n",
       "      <td>1238.0</td>\n",
       "      <td>1085.0</td>\n",
       "      <td>623.0</td>\n",
       "    </tr>\n",
       "    <tr>\n",
       "      <th>183393</th>\n",
       "      <td>101 1018636-0 0/ 180 T</td>\n",
       "      <td>Åboulevard</td>\n",
       "      <td>723530</td>\n",
       "      <td>6176573</td>\n",
       "      <td>02.11.2010</td>\n",
       "      <td>271.0</td>\n",
       "      <td>127.0</td>\n",
       "      <td>63.0</td>\n",
       "      <td>63.0</td>\n",
       "      <td>140.0</td>\n",
       "      <td>...</td>\n",
       "      <td>3269.0</td>\n",
       "      <td>3253.0</td>\n",
       "      <td>3009.0</td>\n",
       "      <td>2988.0</td>\n",
       "      <td>3046.0</td>\n",
       "      <td>2154.0</td>\n",
       "      <td>1655.0</td>\n",
       "      <td>1155.0</td>\n",
       "      <td>1389.0</td>\n",
       "      <td>1255.0</td>\n",
       "    </tr>\n",
       "    <tr>\n",
       "      <th>183394</th>\n",
       "      <td>101 1018636-0 0/ 180 T</td>\n",
       "      <td>Åboulevard</td>\n",
       "      <td>723530</td>\n",
       "      <td>6176573</td>\n",
       "      <td>03.11.2010</td>\n",
       "      <td>409.0</td>\n",
       "      <td>195.0</td>\n",
       "      <td>137.0</td>\n",
       "      <td>116.0</td>\n",
       "      <td>162.0</td>\n",
       "      <td>...</td>\n",
       "      <td>3361.0</td>\n",
       "      <td>3564.0</td>\n",
       "      <td>3389.0</td>\n",
       "      <td>3335.0</td>\n",
       "      <td>2662.0</td>\n",
       "      <td>1840.0</td>\n",
       "      <td>1567.0</td>\n",
       "      <td>1450.0</td>\n",
       "      <td>1341.0</td>\n",
       "      <td>878.0</td>\n",
       "    </tr>\n",
       "    <tr>\n",
       "      <th>183395</th>\n",
       "      <td>101 1018636-0 0/ 180 T</td>\n",
       "      <td>Åboulevard</td>\n",
       "      <td>723530</td>\n",
       "      <td>6176573</td>\n",
       "      <td>04.11.2010</td>\n",
       "      <td>391.0</td>\n",
       "      <td>183.0</td>\n",
       "      <td>101.0</td>\n",
       "      <td>67.0</td>\n",
       "      <td>170.0</td>\n",
       "      <td>...</td>\n",
       "      <td>3414.0</td>\n",
       "      <td>3643.0</td>\n",
       "      <td>3385.0</td>\n",
       "      <td>3215.0</td>\n",
       "      <td>2746.0</td>\n",
       "      <td>2013.0</td>\n",
       "      <td>1555.0</td>\n",
       "      <td>1580.0</td>\n",
       "      <td>1405.0</td>\n",
       "      <td>892.0</td>\n",
       "    </tr>\n",
       "    <tr>\n",
       "      <th>183396</th>\n",
       "      <td>101 1018636-0 0/ 180 T</td>\n",
       "      <td>Åboulevard</td>\n",
       "      <td>723530</td>\n",
       "      <td>6176573</td>\n",
       "      <td>05.11.2010</td>\n",
       "      <td>441.0</td>\n",
       "      <td>263.0</td>\n",
       "      <td>161.0</td>\n",
       "      <td>145.0</td>\n",
       "      <td>214.0</td>\n",
       "      <td>...</td>\n",
       "      <td>NaN</td>\n",
       "      <td>NaN</td>\n",
       "      <td>NaN</td>\n",
       "      <td>NaN</td>\n",
       "      <td>NaN</td>\n",
       "      <td>NaN</td>\n",
       "      <td>NaN</td>\n",
       "      <td>NaN</td>\n",
       "      <td>NaN</td>\n",
       "      <td>NaN</td>\n",
       "    </tr>\n",
       "  </tbody>\n",
       "</table>\n",
       "<p>183397 rows × 29 columns</p>\n",
       "</div>"
      ],
      "text/plain": [
       "                       road_id     road_name  UTM32_north  UTM32_east  \\\n",
       "0       101 1011492-0 1/ 124 -  Ellebjergvej       720881     6172777   \n",
       "1       101 1011492-0 1/ 124 -  Ellebjergvej       720881     6172777   \n",
       "2       101 1011492-0 1/ 124 -  Ellebjergvej       720881     6172777   \n",
       "3       101 1011492-0 1/ 124 -  Ellebjergvej       720881     6172777   \n",
       "4       101 1011492-0 1/ 124 -  Ellebjergvej       720881     6172777   \n",
       "...                        ...           ...          ...         ...   \n",
       "183392  101 1018636-0 0/ 180 T    Åboulevard       723530     6176573   \n",
       "183393  101 1018636-0 0/ 180 T    Åboulevard       723530     6176573   \n",
       "183394  101 1018636-0 0/ 180 T    Åboulevard       723530     6176573   \n",
       "183395  101 1018636-0 0/ 180 T    Åboulevard       723530     6176573   \n",
       "183396  101 1018636-0 0/ 180 T    Åboulevard       723530     6176573   \n",
       "\n",
       "              date  kl.00-01  kl.01-02  kl.02-03  kl.03-04  kl.04-05  ...  \\\n",
       "0       01.01.2014     226.0     388.0     362.0     266.0     178.0  ...   \n",
       "1       02.01.2014      70.0      49.0      61.0      83.0     169.0  ...   \n",
       "2       03.01.2014     100.0      70.0      66.0      82.0     174.0  ...   \n",
       "3       04.01.2014     143.0     113.0      93.0      86.0     104.0  ...   \n",
       "4       05.01.2014     198.0     116.0      99.0     103.0      86.0  ...   \n",
       "...            ...       ...       ...       ...       ...       ...  ...   \n",
       "183392  25.10.2010     254.0     111.0      58.0      60.0     154.0  ...   \n",
       "183393  02.11.2010     271.0     127.0      63.0      63.0     140.0  ...   \n",
       "183394  03.11.2010     409.0     195.0     137.0     116.0     162.0  ...   \n",
       "183395  04.11.2010     391.0     183.0     101.0      67.0     170.0  ...   \n",
       "183396  05.11.2010     441.0     263.0     161.0     145.0     214.0  ...   \n",
       "\n",
       "        kl.14-15  kl.15-16  kl.16-17  kl.17-18  kl.18-19  kl.19-20  kl.20-21  \\\n",
       "0          665.0     680.0     618.0     570.0     409.0     387.0     328.0   \n",
       "1         1034.0    1183.0    1074.0     907.0     623.0     502.0     385.0   \n",
       "2         1146.0    1308.0    1067.0     979.0     765.0     509.0     396.0   \n",
       "3          993.0     930.0     893.0     869.0     629.0     443.0     406.0   \n",
       "4         1015.0     892.0     883.0     799.0     592.0     462.0     397.0   \n",
       "...          ...       ...       ...       ...       ...       ...       ...   \n",
       "183392    3225.0    3854.0    3843.0    3268.0    2407.0    1716.0    1342.0   \n",
       "183393    3269.0    3253.0    3009.0    2988.0    3046.0    2154.0    1655.0   \n",
       "183394    3361.0    3564.0    3389.0    3335.0    2662.0    1840.0    1567.0   \n",
       "183395    3414.0    3643.0    3385.0    3215.0    2746.0    2013.0    1555.0   \n",
       "183396       NaN       NaN       NaN       NaN       NaN       NaN       NaN   \n",
       "\n",
       "        kl.21-22  kl.22-23  kl.23-24  \n",
       "0          242.0     190.0     146.0  \n",
       "1          321.0     254.0     168.0  \n",
       "2          362.0     330.0     229.0  \n",
       "3          350.0     334.0     313.0  \n",
       "4          327.0     232.0     166.0  \n",
       "...          ...       ...       ...  \n",
       "183392    1238.0    1085.0     623.0  \n",
       "183393    1155.0    1389.0    1255.0  \n",
       "183394    1450.0    1341.0     878.0  \n",
       "183395    1580.0    1405.0     892.0  \n",
       "183396       NaN       NaN       NaN  \n",
       "\n",
       "[183397 rows x 29 columns]"
      ]
     },
     "execution_count": 364,
     "metadata": {},
     "output_type": "execute_result"
    }
   ],
   "source": [
    "final_data"
   ]
  },
  {
   "cell_type": "markdown",
   "metadata": {},
   "source": [
    "> **Ex. 5.5.7:** *(Bonus)* Rename variables from Danish to English using the dictionary below.\n",
    "\n",
    "```python \n",
    "dk_to_uk = {\n",
    "    'Vejnavn':'road_name',\n",
    "    '(UTM32)':'UTM32_north',\n",
    "    '(UTM32).1':'UTM32_east',\n",
    "    'Dato':'date',\n",
    "    'Vej-Id':'road_id'\n",
    "}\n",
    "```"
   ]
  },
  {
   "cell_type": "code",
   "execution_count": 365,
   "metadata": {
    "deletable": false,
    "nbgrader": {
     "cell_type": "code",
     "checksum": "8f9f5484502836bbba3fb542b23b6500",
     "grade": false,
     "grade_id": "cell-70b2cbb8cf1b167a",
     "locked": false,
     "schema_version": 3,
     "solution": true,
     "task": false
    }
   },
   "outputs": [
    {
     "data": {
      "text/html": [
       "<div>\n",
       "<style scoped>\n",
       "    .dataframe tbody tr th:only-of-type {\n",
       "        vertical-align: middle;\n",
       "    }\n",
       "\n",
       "    .dataframe tbody tr th {\n",
       "        vertical-align: top;\n",
       "    }\n",
       "\n",
       "    .dataframe thead th {\n",
       "        text-align: right;\n",
       "    }\n",
       "</style>\n",
       "<table border=\"1\" class=\"dataframe\">\n",
       "  <thead>\n",
       "    <tr style=\"text-align: right;\">\n",
       "      <th></th>\n",
       "      <th>road_id</th>\n",
       "      <th>road_name</th>\n",
       "      <th>UTM32_north</th>\n",
       "      <th>UTM32_east</th>\n",
       "      <th>date</th>\n",
       "      <th>kl.00-01</th>\n",
       "      <th>kl.01-02</th>\n",
       "      <th>kl.02-03</th>\n",
       "      <th>kl.03-04</th>\n",
       "      <th>kl.04-05</th>\n",
       "      <th>...</th>\n",
       "      <th>kl.14-15</th>\n",
       "      <th>kl.15-16</th>\n",
       "      <th>kl.16-17</th>\n",
       "      <th>kl.17-18</th>\n",
       "      <th>kl.18-19</th>\n",
       "      <th>kl.19-20</th>\n",
       "      <th>kl.20-21</th>\n",
       "      <th>kl.21-22</th>\n",
       "      <th>kl.22-23</th>\n",
       "      <th>kl.23-24</th>\n",
       "    </tr>\n",
       "  </thead>\n",
       "  <tbody>\n",
       "    <tr>\n",
       "      <th>0</th>\n",
       "      <td>101 1011492-0 1/ 124 -</td>\n",
       "      <td>Ellebjergvej</td>\n",
       "      <td>720881</td>\n",
       "      <td>6172777</td>\n",
       "      <td>01.01.2014</td>\n",
       "      <td>226.0</td>\n",
       "      <td>388.0</td>\n",
       "      <td>362.0</td>\n",
       "      <td>266.0</td>\n",
       "      <td>178.0</td>\n",
       "      <td>...</td>\n",
       "      <td>665.0</td>\n",
       "      <td>680.0</td>\n",
       "      <td>618.0</td>\n",
       "      <td>570.0</td>\n",
       "      <td>409.0</td>\n",
       "      <td>387.0</td>\n",
       "      <td>328.0</td>\n",
       "      <td>242.0</td>\n",
       "      <td>190.0</td>\n",
       "      <td>146.0</td>\n",
       "    </tr>\n",
       "    <tr>\n",
       "      <th>1</th>\n",
       "      <td>101 1011492-0 1/ 124 -</td>\n",
       "      <td>Ellebjergvej</td>\n",
       "      <td>720881</td>\n",
       "      <td>6172777</td>\n",
       "      <td>02.01.2014</td>\n",
       "      <td>70.0</td>\n",
       "      <td>49.0</td>\n",
       "      <td>61.0</td>\n",
       "      <td>83.0</td>\n",
       "      <td>169.0</td>\n",
       "      <td>...</td>\n",
       "      <td>1034.0</td>\n",
       "      <td>1183.0</td>\n",
       "      <td>1074.0</td>\n",
       "      <td>907.0</td>\n",
       "      <td>623.0</td>\n",
       "      <td>502.0</td>\n",
       "      <td>385.0</td>\n",
       "      <td>321.0</td>\n",
       "      <td>254.0</td>\n",
       "      <td>168.0</td>\n",
       "    </tr>\n",
       "    <tr>\n",
       "      <th>2</th>\n",
       "      <td>101 1011492-0 1/ 124 -</td>\n",
       "      <td>Ellebjergvej</td>\n",
       "      <td>720881</td>\n",
       "      <td>6172777</td>\n",
       "      <td>03.01.2014</td>\n",
       "      <td>100.0</td>\n",
       "      <td>70.0</td>\n",
       "      <td>66.0</td>\n",
       "      <td>82.0</td>\n",
       "      <td>174.0</td>\n",
       "      <td>...</td>\n",
       "      <td>1146.0</td>\n",
       "      <td>1308.0</td>\n",
       "      <td>1067.0</td>\n",
       "      <td>979.0</td>\n",
       "      <td>765.0</td>\n",
       "      <td>509.0</td>\n",
       "      <td>396.0</td>\n",
       "      <td>362.0</td>\n",
       "      <td>330.0</td>\n",
       "      <td>229.0</td>\n",
       "    </tr>\n",
       "    <tr>\n",
       "      <th>3</th>\n",
       "      <td>101 1011492-0 1/ 124 -</td>\n",
       "      <td>Ellebjergvej</td>\n",
       "      <td>720881</td>\n",
       "      <td>6172777</td>\n",
       "      <td>04.01.2014</td>\n",
       "      <td>143.0</td>\n",
       "      <td>113.0</td>\n",
       "      <td>93.0</td>\n",
       "      <td>86.0</td>\n",
       "      <td>104.0</td>\n",
       "      <td>...</td>\n",
       "      <td>993.0</td>\n",
       "      <td>930.0</td>\n",
       "      <td>893.0</td>\n",
       "      <td>869.0</td>\n",
       "      <td>629.0</td>\n",
       "      <td>443.0</td>\n",
       "      <td>406.0</td>\n",
       "      <td>350.0</td>\n",
       "      <td>334.0</td>\n",
       "      <td>313.0</td>\n",
       "    </tr>\n",
       "    <tr>\n",
       "      <th>4</th>\n",
       "      <td>101 1011492-0 1/ 124 -</td>\n",
       "      <td>Ellebjergvej</td>\n",
       "      <td>720881</td>\n",
       "      <td>6172777</td>\n",
       "      <td>05.01.2014</td>\n",
       "      <td>198.0</td>\n",
       "      <td>116.0</td>\n",
       "      <td>99.0</td>\n",
       "      <td>103.0</td>\n",
       "      <td>86.0</td>\n",
       "      <td>...</td>\n",
       "      <td>1015.0</td>\n",
       "      <td>892.0</td>\n",
       "      <td>883.0</td>\n",
       "      <td>799.0</td>\n",
       "      <td>592.0</td>\n",
       "      <td>462.0</td>\n",
       "      <td>397.0</td>\n",
       "      <td>327.0</td>\n",
       "      <td>232.0</td>\n",
       "      <td>166.0</td>\n",
       "    </tr>\n",
       "  </tbody>\n",
       "</table>\n",
       "<p>5 rows × 29 columns</p>\n",
       "</div>"
      ],
      "text/plain": [
       "                  road_id     road_name  UTM32_north  UTM32_east        date  \\\n",
       "0  101 1011492-0 1/ 124 -  Ellebjergvej       720881     6172777  01.01.2014   \n",
       "1  101 1011492-0 1/ 124 -  Ellebjergvej       720881     6172777  02.01.2014   \n",
       "2  101 1011492-0 1/ 124 -  Ellebjergvej       720881     6172777  03.01.2014   \n",
       "3  101 1011492-0 1/ 124 -  Ellebjergvej       720881     6172777  04.01.2014   \n",
       "4  101 1011492-0 1/ 124 -  Ellebjergvej       720881     6172777  05.01.2014   \n",
       "\n",
       "   kl.00-01  kl.01-02  kl.02-03  kl.03-04  kl.04-05  ...  kl.14-15  kl.15-16  \\\n",
       "0     226.0     388.0     362.0     266.0     178.0  ...     665.0     680.0   \n",
       "1      70.0      49.0      61.0      83.0     169.0  ...    1034.0    1183.0   \n",
       "2     100.0      70.0      66.0      82.0     174.0  ...    1146.0    1308.0   \n",
       "3     143.0     113.0      93.0      86.0     104.0  ...     993.0     930.0   \n",
       "4     198.0     116.0      99.0     103.0      86.0  ...    1015.0     892.0   \n",
       "\n",
       "   kl.16-17  kl.17-18  kl.18-19  kl.19-20  kl.20-21  kl.21-22  kl.22-23  \\\n",
       "0     618.0     570.0     409.0     387.0     328.0     242.0     190.0   \n",
       "1    1074.0     907.0     623.0     502.0     385.0     321.0     254.0   \n",
       "2    1067.0     979.0     765.0     509.0     396.0     362.0     330.0   \n",
       "3     893.0     869.0     629.0     443.0     406.0     350.0     334.0   \n",
       "4     883.0     799.0     592.0     462.0     397.0     327.0     232.0   \n",
       "\n",
       "   kl.23-24  \n",
       "0     146.0  \n",
       "1     168.0  \n",
       "2     229.0  \n",
       "3     313.0  \n",
       "4     166.0  \n",
       "\n",
       "[5 rows x 29 columns]"
      ]
     },
     "execution_count": 365,
     "metadata": {},
     "output_type": "execute_result"
    }
   ],
   "source": [
    "dk_to_uk = {\n",
    "    'Vejnavn':'road_name',\n",
    "    '(UTM32)':'UTM32_north',\n",
    "    '(UTM32).1':'UTM32_east',\n",
    "    'Dato':'date',\n",
    "    'Vej-Id':'road_id'\n",
    "}\n",
    "\n",
    "final_data = final_data.rename(columns=dk_to_uk)\n",
    "\n",
    "final_data.head(5)"
   ]
  },
  {
   "cell_type": "markdown",
   "metadata": {},
   "source": [
    "Python is quite efficient. For example, when you create a new dataframe by manipulating an old one, Python notices that—apart from some minor changes—these two objects are almost the same. Since memory is a precious resource, Python will represent the values in the new dataframe as references to the variables in the old dataset. This is great for performance, but if you for whatever reason change some of the values in your old dataframe, values in the new one will also change—and we don't want that! Luckily, we can break this dependency.\n",
    "\n",
    "> **Ex. 5.5.8:** *(Bonus)* Break the dependencies of the dataframe that resulted from Ex. 5.2.7 using the `.copy` method. Delete all other dataframes."
   ]
  },
  {
   "cell_type": "code",
   "execution_count": 366,
   "metadata": {
    "deletable": false,
    "nbgrader": {
     "cell_type": "code",
     "checksum": "16a0e29e5b884701fb033db976d23ca1",
     "grade": false,
     "grade_id": "cell-3bc14837561aaf91",
     "locked": false,
     "schema_version": 3,
     "solution": true,
     "task": false
    }
   },
   "outputs": [],
   "source": [
    "new_data = final_data.copy()\n",
    "\n",
    "del final_data"
   ]
  },
  {
   "cell_type": "markdown",
   "metadata": {},
   "source": [
    "Once you have structured appropriately, something that you will want to do again and again is selecting subsets of the data. Specifically, it means that you select specific rows in the dataset based on some column values.\n",
    "\n",
    ">**Ex. 5.5.9:** *(Bonus)* Create a new column in the dataframe called total that is True when the last letter of road_id is T and otherwise False.\n",
    "\n",
    "> _Hint:_ you will need the `pd.Series.str` attribute for this."
   ]
  },
  {
   "cell_type": "code",
   "execution_count": 373,
   "metadata": {
    "deletable": false,
    "nbgrader": {
     "cell_type": "code",
     "checksum": "35f0de63708a3b52e5f8d9939a2d0e37",
     "grade": false,
     "grade_id": "cell-d71c49b56465c6de",
     "locked": false,
     "schema_version": 3,
     "solution": true,
     "task": false
    }
   },
   "outputs": [],
   "source": [
    "new_data['total'] = (new_data.road_id.str[-1] == 'T')\n"
   ]
  },
  {
   "cell_type": "markdown",
   "metadata": {},
   "source": [
    "> **Ex. 5.5.10:** *(Bonus)* Select rows where total is True. Delete all the remaining observations."
   ]
  },
  {
   "cell_type": "code",
   "execution_count": 376,
   "metadata": {
    "deletable": false,
    "nbgrader": {
     "cell_type": "code",
     "checksum": "0ba8a70ca32e46791f0f6412bade1dff",
     "grade": false,
     "grade_id": "cell-be16ff389b3ac550",
     "locked": false,
     "schema_version": 3,
     "solution": true,
     "task": false
    }
   },
   "outputs": [],
   "source": [
    "total_data = new_data[new_data.total == True]\n",
    "\n",
    "del new_data\n"
   ]
  },
  {
   "cell_type": "markdown",
   "metadata": {},
   "source": [
    "> **Ex. 5.5.11:** *(Bonus)* Make two datasets based on the lists of columns below. Call the dataset with spatial columns data_geo and the other data.\n",
    "\n",
    "```python\n",
    "# Columns for `geo_data`, stored in `geo_columns`\n",
    "spatial_columns = ['road_name', 'UTM32_north', 'UTM32_east']\n",
    "\n",
    "# Columns for `data`, stored in `select_columns`\n",
    "hours = ['kl.{}-{}'.format(str(h).zfill(2), str(h+1).zfill(2)) for h in range(24)]\n",
    "select_columns = ['road_name', 'date'] + hours\n",
    "```"
   ]
  },
  {
   "cell_type": "code",
   "execution_count": 379,
   "metadata": {
    "deletable": false,
    "nbgrader": {
     "cell_type": "code",
     "checksum": "f5f9cccfbf6ea83f71ad566f2ff863fc",
     "grade": false,
     "grade_id": "cell-044260f4552d575c",
     "locked": false,
     "schema_version": 3,
     "solution": true,
     "task": false
    },
    "scrolled": true
   },
   "outputs": [
    {
     "ename": "NameError",
     "evalue": "name 'total_data' is not defined",
     "output_type": "error",
     "traceback": [
      "\u001b[1;31m---------------------------------------------------------------------------\u001b[0m",
      "\u001b[1;31mNameError\u001b[0m                                 Traceback (most recent call last)",
      "\u001b[1;32m<ipython-input-379-da9cbee65637>\u001b[0m in \u001b[0;36m<module>\u001b[1;34m\u001b[0m\n\u001b[0;32m      7\u001b[0m \u001b[1;33m\u001b[0m\u001b[0m\n\u001b[0;32m      8\u001b[0m \u001b[1;31m# selections\u001b[0m\u001b[1;33m\u001b[0m\u001b[1;33m\u001b[0m\u001b[1;33m\u001b[0m\u001b[0m\n\u001b[1;32m----> 9\u001b[1;33m \u001b[0mdata_geo\u001b[0m \u001b[1;33m=\u001b[0m \u001b[0mtotal_data\u001b[0m\u001b[1;33m[\u001b[0m\u001b[0mspatial_columns\u001b[0m\u001b[1;33m]\u001b[0m\u001b[1;33m\u001b[0m\u001b[1;33m\u001b[0m\u001b[0m\n\u001b[0m\u001b[0;32m     10\u001b[0m \u001b[0mdata\u001b[0m  \u001b[1;33m=\u001b[0m \u001b[0mtotal_data\u001b[0m\u001b[1;33m[\u001b[0m\u001b[0mselect_columns\u001b[0m\u001b[1;33m]\u001b[0m\u001b[1;33m\u001b[0m\u001b[1;33m\u001b[0m\u001b[0m\n\u001b[0;32m     11\u001b[0m \u001b[1;33m\u001b[0m\u001b[0m\n",
      "\u001b[1;31mNameError\u001b[0m: name 'total_data' is not defined"
     ]
    }
   ],
   "source": [
    "# Columns for `geo_data`, stored in `geo_columns`\n",
    "spatial_columns = ['road_name', 'UTM32_north', 'UTM32_east']\n",
    "\n",
    "# Columns for `data`, stored in `select_columns`\n",
    "hours = [f'kl.{str(h).zfill(2)}-{str(h+1).zfill(2)}' for h in range(24)]\n",
    "select_columns = ['road_name', 'date'] + hours\n",
    "\n",
    "# selections\n",
    "data_geo = total_data[spatial_columns]\n",
    "data  = total_data[select_columns]\n",
    "\n",
    "del total_data\n",
    "### END SOLUTION\n",
    "\n",
    "\n"
   ]
  },
  {
   "cell_type": "code",
   "execution_count": 382,
   "metadata": {},
   "outputs": [
    {
     "data": {
      "text/plain": [
       "['kl.00-01',\n",
       " 'kl.01-02',\n",
       " 'kl.02-03',\n",
       " 'kl.03-04',\n",
       " 'kl.04-05',\n",
       " 'kl.05-06',\n",
       " 'kl.06-07',\n",
       " 'kl.07-08',\n",
       " 'kl.08-09',\n",
       " 'kl.09-10',\n",
       " 'kl.10-11',\n",
       " 'kl.11-12',\n",
       " 'kl.12-13',\n",
       " 'kl.13-14',\n",
       " 'kl.14-15',\n",
       " 'kl.15-16',\n",
       " 'kl.16-17',\n",
       " 'kl.17-18',\n",
       " 'kl.18-19',\n",
       " 'kl.19-20',\n",
       " 'kl.20-21',\n",
       " 'kl.21-22',\n",
       " 'kl.22-23',\n",
       " 'kl.23-24']"
      ]
     },
     "execution_count": 382,
     "metadata": {},
     "output_type": "execute_result"
    }
   ],
   "source": [
    "hours"
   ]
  },
  {
   "cell_type": "markdown",
   "metadata": {},
   "source": [
    "> **Ex. 5.5.12:** *(Bonus)* Drop the duplicate rows in data_geo."
   ]
  },
  {
   "cell_type": "code",
   "execution_count": 384,
   "metadata": {
    "deletable": false,
    "nbgrader": {
     "cell_type": "code",
     "checksum": "62c3d4184c078cc649f4ff73b42a46e5",
     "grade": false,
     "grade_id": "cell-34fc8fa941234a18",
     "locked": false,
     "schema_version": 3,
     "solution": true,
     "task": false
    }
   },
   "outputs": [],
   "source": [
    "### BEGIN SOLUTION\n",
    "data_geo.drop_duplicates(inplace = True)\n",
    "### END SOLUTION"
   ]
  },
  {
   "cell_type": "markdown",
   "metadata": {},
   "source": [
    "**Formatting: wide and narrow format**\n",
    "\n",
    "When talking about two-dimensional data (matrices, tables or dataframes, we can call it many things), we can either say that it is in wide or long format (see explanation here, \"wide\" and \"long\" are used interchangably). In Pandas we can use the commands stack and unstack to move between these formats.\n",
    "\n",
    "The wide format has the advantage that it often requires less storage and is easier to read when printed. On the other hand the long format can be easier for modelling, because each observation has its own row. Turns out that the latter is what we most often need.\n",
    "\n",
    "> **Ex. 5.5.13:** *(Bonus)* Turn the dataset from wide to long so hourly data is now vertically stacked. Store this dataset in a dataframe called data. Name the column with hourly information hour_period. Your resulting dataframe should look something like this.\n",
    "\n",
    "> _Hint:_ pandas' melt function may be of use."
   ]
  },
  {
   "cell_type": "code",
   "execution_count": 391,
   "metadata": {
    "deletable": false,
    "nbgrader": {
     "cell_type": "code",
     "checksum": "fdb44532dc5c3121108808b0e192ba73",
     "grade": false,
     "grade_id": "cell-8814dd6f2c675c9e",
     "locked": false,
     "schema_version": 3,
     "solution": true,
     "task": false
    }
   },
   "outputs": [],
   "source": [
    "### BEGIN SOLUTION\n",
    "\n",
    "# A bonus info: This function is written using optional type declaration. This\n",
    "# is used to communicate what type the inputs should be. It doesn't affect the \n",
    "# functionality in any way, but it can sometimes increase readability. \n",
    "\n",
    "def gather(df: pd.DataFrame, key: str, value: str, cols: list) -> pd.DataFrame:\n",
    "    \"\"\" This helper makes pythons melt() behave like R's gather()\n",
    "    \"\"\"\n",
    "    id_vars = [ col for col in df.columns if col not in cols ]\n",
    "    id_values = cols\n",
    "    var_name = key\n",
    "    value_name = value\n",
    "    return pd.melt( df, id_vars, id_values, var_name, value_name )\n",
    "\n",
    "data_long = gather(data, 'hour_period', 'value', hours)\n",
    "\n",
    "# # using .stack() \n",
    "# # dropna = False in stack() is necessary for the dataframe to be exactly equal to the one above\n",
    "# data_long = data.set_index([\"road_name\", \"date\"])\\\n",
    "#                 .stack(dropna=False)\\\n",
    "#                 .reset_index()\\\n",
    "#                 .rename(columns = {\"level_2\": \"hour_period\", 0: \"value\"})\n",
    "\n",
    "### END SOLUTION"
   ]
  },
  {
   "cell_type": "markdown",
   "metadata": {},
   "source": [
    "**Categorical data**\n",
    "\n",
    "Categorical data can contain Python objects, usually strings. These are smart if you have variables with string observations that are long and often repeated, e.g. with road names.\n",
    "\n",
    "> **Ex. 5.5.14:** *(Bonus)* Use the `.astype` method to convert the type of the road_name column to categorical."
   ]
  },
  {
   "cell_type": "code",
   "execution_count": 392,
   "metadata": {
    "deletable": false,
    "nbgrader": {
     "cell_type": "code",
     "checksum": "bc8cc582f4ae8fc5699481d4687b7a29",
     "grade": false,
     "grade_id": "cell-d94e7ec1af8fce59",
     "locked": false,
     "schema_version": 3,
     "solution": true,
     "task": false
    }
   },
   "outputs": [
    {
     "data": {
      "text/html": [
       "<div>\n",
       "<style scoped>\n",
       "    .dataframe tbody tr th:only-of-type {\n",
       "        vertical-align: middle;\n",
       "    }\n",
       "\n",
       "    .dataframe tbody tr th {\n",
       "        vertical-align: top;\n",
       "    }\n",
       "\n",
       "    .dataframe thead th {\n",
       "        text-align: right;\n",
       "    }\n",
       "</style>\n",
       "<table border=\"1\" class=\"dataframe\">\n",
       "  <thead>\n",
       "    <tr style=\"text-align: right;\">\n",
       "      <th></th>\n",
       "      <th>road_name</th>\n",
       "      <th>date</th>\n",
       "      <th>hour_period</th>\n",
       "      <th>value</th>\n",
       "    </tr>\n",
       "  </thead>\n",
       "  <tbody>\n",
       "    <tr>\n",
       "      <th>0</th>\n",
       "      <td>Ellebjergvej</td>\n",
       "      <td>01.01.2014</td>\n",
       "      <td>kl.00-01</td>\n",
       "      <td>596.0</td>\n",
       "    </tr>\n",
       "    <tr>\n",
       "      <th>1</th>\n",
       "      <td>Ellebjergvej</td>\n",
       "      <td>02.01.2014</td>\n",
       "      <td>kl.00-01</td>\n",
       "      <td>177.0</td>\n",
       "    </tr>\n",
       "    <tr>\n",
       "      <th>2</th>\n",
       "      <td>Ellebjergvej</td>\n",
       "      <td>03.01.2014</td>\n",
       "      <td>kl.00-01</td>\n",
       "      <td>247.0</td>\n",
       "    </tr>\n",
       "    <tr>\n",
       "      <th>3</th>\n",
       "      <td>Ellebjergvej</td>\n",
       "      <td>04.01.2014</td>\n",
       "      <td>kl.00-01</td>\n",
       "      <td>387.0</td>\n",
       "    </tr>\n",
       "    <tr>\n",
       "      <th>4</th>\n",
       "      <td>Ellebjergvej</td>\n",
       "      <td>05.01.2014</td>\n",
       "      <td>kl.00-01</td>\n",
       "      <td>438.0</td>\n",
       "    </tr>\n",
       "    <tr>\n",
       "      <th>...</th>\n",
       "      <td>...</td>\n",
       "      <td>...</td>\n",
       "      <td>...</td>\n",
       "      <td>...</td>\n",
       "    </tr>\n",
       "    <tr>\n",
       "      <th>1435747</th>\n",
       "      <td>Åboulevard</td>\n",
       "      <td>25.10.2010</td>\n",
       "      <td>kl.23-24</td>\n",
       "      <td>623.0</td>\n",
       "    </tr>\n",
       "    <tr>\n",
       "      <th>1435748</th>\n",
       "      <td>Åboulevard</td>\n",
       "      <td>02.11.2010</td>\n",
       "      <td>kl.23-24</td>\n",
       "      <td>1255.0</td>\n",
       "    </tr>\n",
       "    <tr>\n",
       "      <th>1435749</th>\n",
       "      <td>Åboulevard</td>\n",
       "      <td>03.11.2010</td>\n",
       "      <td>kl.23-24</td>\n",
       "      <td>878.0</td>\n",
       "    </tr>\n",
       "    <tr>\n",
       "      <th>1435750</th>\n",
       "      <td>Åboulevard</td>\n",
       "      <td>04.11.2010</td>\n",
       "      <td>kl.23-24</td>\n",
       "      <td>892.0</td>\n",
       "    </tr>\n",
       "    <tr>\n",
       "      <th>1435751</th>\n",
       "      <td>Åboulevard</td>\n",
       "      <td>05.11.2010</td>\n",
       "      <td>kl.23-24</td>\n",
       "      <td>NaN</td>\n",
       "    </tr>\n",
       "  </tbody>\n",
       "</table>\n",
       "<p>1435752 rows × 4 columns</p>\n",
       "</div>"
      ],
      "text/plain": [
       "            road_name        date hour_period   value\n",
       "0        Ellebjergvej  01.01.2014    kl.00-01   596.0\n",
       "1        Ellebjergvej  02.01.2014    kl.00-01   177.0\n",
       "2        Ellebjergvej  03.01.2014    kl.00-01   247.0\n",
       "3        Ellebjergvej  04.01.2014    kl.00-01   387.0\n",
       "4        Ellebjergvej  05.01.2014    kl.00-01   438.0\n",
       "...               ...         ...         ...     ...\n",
       "1435747    Åboulevard  25.10.2010    kl.23-24   623.0\n",
       "1435748    Åboulevard  02.11.2010    kl.23-24  1255.0\n",
       "1435749    Åboulevard  03.11.2010    kl.23-24   878.0\n",
       "1435750    Åboulevard  04.11.2010    kl.23-24   892.0\n",
       "1435751    Åboulevard  05.11.2010    kl.23-24     NaN\n",
       "\n",
       "[1435752 rows x 4 columns]"
      ]
     },
     "execution_count": 392,
     "metadata": {},
     "output_type": "execute_result"
    }
   ],
   "source": [
    "data_long.road_name = data_long.road_name.astype('category')\n",
    "### END SOLUTION\n",
    "\n",
    "data_long"
   ]
  },
  {
   "cell_type": "markdown",
   "metadata": {},
   "source": [
    "## Part 5.5.C:  Structure temporal data\n",
    "\n",
    "Pandas has native support for working with temporal data. This is handy as much 'big data' often has time stamps which we can make Pandas aware of. Once we have encoded temporal data it can be used to extract information such as the hour, second etc.\n",
    "\n",
    "> **Ex. 5.5.15:** *(Bonus)* Create a new column called hour which contains the hour-of-day for each row. "
   ]
  },
  {
   "cell_type": "code",
   "execution_count": 394,
   "metadata": {
    "deletable": false,
    "nbgrader": {
     "cell_type": "code",
     "checksum": "646ddff2743eb9b40e49cb18a566c9b9",
     "grade": false,
     "grade_id": "cell-54d6bbbab97b9bae",
     "locked": false,
     "schema_version": 3,
     "solution": true,
     "task": false
    }
   },
   "outputs": [
    {
     "data": {
      "text/html": [
       "<div>\n",
       "<style scoped>\n",
       "    .dataframe tbody tr th:only-of-type {\n",
       "        vertical-align: middle;\n",
       "    }\n",
       "\n",
       "    .dataframe tbody tr th {\n",
       "        vertical-align: top;\n",
       "    }\n",
       "\n",
       "    .dataframe thead th {\n",
       "        text-align: right;\n",
       "    }\n",
       "</style>\n",
       "<table border=\"1\" class=\"dataframe\">\n",
       "  <thead>\n",
       "    <tr style=\"text-align: right;\">\n",
       "      <th></th>\n",
       "      <th>road_name</th>\n",
       "      <th>date</th>\n",
       "      <th>hour_period</th>\n",
       "      <th>value</th>\n",
       "      <th>hour</th>\n",
       "    </tr>\n",
       "  </thead>\n",
       "  <tbody>\n",
       "    <tr>\n",
       "      <th>0</th>\n",
       "      <td>Ellebjergvej</td>\n",
       "      <td>01.01.2014</td>\n",
       "      <td>kl.00-01</td>\n",
       "      <td>596.0</td>\n",
       "      <td>1900-01-01 00:00:00</td>\n",
       "    </tr>\n",
       "    <tr>\n",
       "      <th>1</th>\n",
       "      <td>Ellebjergvej</td>\n",
       "      <td>02.01.2014</td>\n",
       "      <td>kl.00-01</td>\n",
       "      <td>177.0</td>\n",
       "      <td>1900-01-01 00:00:00</td>\n",
       "    </tr>\n",
       "    <tr>\n",
       "      <th>2</th>\n",
       "      <td>Ellebjergvej</td>\n",
       "      <td>03.01.2014</td>\n",
       "      <td>kl.00-01</td>\n",
       "      <td>247.0</td>\n",
       "      <td>1900-01-01 00:00:00</td>\n",
       "    </tr>\n",
       "    <tr>\n",
       "      <th>3</th>\n",
       "      <td>Ellebjergvej</td>\n",
       "      <td>04.01.2014</td>\n",
       "      <td>kl.00-01</td>\n",
       "      <td>387.0</td>\n",
       "      <td>1900-01-01 00:00:00</td>\n",
       "    </tr>\n",
       "    <tr>\n",
       "      <th>4</th>\n",
       "      <td>Ellebjergvej</td>\n",
       "      <td>05.01.2014</td>\n",
       "      <td>kl.00-01</td>\n",
       "      <td>438.0</td>\n",
       "      <td>1900-01-01 00:00:00</td>\n",
       "    </tr>\n",
       "    <tr>\n",
       "      <th>...</th>\n",
       "      <td>...</td>\n",
       "      <td>...</td>\n",
       "      <td>...</td>\n",
       "      <td>...</td>\n",
       "      <td>...</td>\n",
       "    </tr>\n",
       "    <tr>\n",
       "      <th>1435747</th>\n",
       "      <td>Åboulevard</td>\n",
       "      <td>25.10.2010</td>\n",
       "      <td>kl.23-24</td>\n",
       "      <td>623.0</td>\n",
       "      <td>1900-01-01 23:00:00</td>\n",
       "    </tr>\n",
       "    <tr>\n",
       "      <th>1435748</th>\n",
       "      <td>Åboulevard</td>\n",
       "      <td>02.11.2010</td>\n",
       "      <td>kl.23-24</td>\n",
       "      <td>1255.0</td>\n",
       "      <td>1900-01-01 23:00:00</td>\n",
       "    </tr>\n",
       "    <tr>\n",
       "      <th>1435749</th>\n",
       "      <td>Åboulevard</td>\n",
       "      <td>03.11.2010</td>\n",
       "      <td>kl.23-24</td>\n",
       "      <td>878.0</td>\n",
       "      <td>1900-01-01 23:00:00</td>\n",
       "    </tr>\n",
       "    <tr>\n",
       "      <th>1435750</th>\n",
       "      <td>Åboulevard</td>\n",
       "      <td>04.11.2010</td>\n",
       "      <td>kl.23-24</td>\n",
       "      <td>892.0</td>\n",
       "      <td>1900-01-01 23:00:00</td>\n",
       "    </tr>\n",
       "    <tr>\n",
       "      <th>1435751</th>\n",
       "      <td>Åboulevard</td>\n",
       "      <td>05.11.2010</td>\n",
       "      <td>kl.23-24</td>\n",
       "      <td>NaN</td>\n",
       "      <td>1900-01-01 23:00:00</td>\n",
       "    </tr>\n",
       "  </tbody>\n",
       "</table>\n",
       "<p>1435752 rows × 5 columns</p>\n",
       "</div>"
      ],
      "text/plain": [
       "            road_name        date hour_period   value                hour\n",
       "0        Ellebjergvej  01.01.2014    kl.00-01   596.0 1900-01-01 00:00:00\n",
       "1        Ellebjergvej  02.01.2014    kl.00-01   177.0 1900-01-01 00:00:00\n",
       "2        Ellebjergvej  03.01.2014    kl.00-01   247.0 1900-01-01 00:00:00\n",
       "3        Ellebjergvej  04.01.2014    kl.00-01   387.0 1900-01-01 00:00:00\n",
       "4        Ellebjergvej  05.01.2014    kl.00-01   438.0 1900-01-01 00:00:00\n",
       "...               ...         ...         ...     ...                 ...\n",
       "1435747    Åboulevard  25.10.2010    kl.23-24   623.0 1900-01-01 23:00:00\n",
       "1435748    Åboulevard  02.11.2010    kl.23-24  1255.0 1900-01-01 23:00:00\n",
       "1435749    Åboulevard  03.11.2010    kl.23-24   878.0 1900-01-01 23:00:00\n",
       "1435750    Åboulevard  04.11.2010    kl.23-24   892.0 1900-01-01 23:00:00\n",
       "1435751    Åboulevard  05.11.2010    kl.23-24     NaN 1900-01-01 23:00:00\n",
       "\n",
       "[1435752 rows x 5 columns]"
      ]
     },
     "execution_count": 394,
     "metadata": {},
     "output_type": "execute_result"
    }
   ],
   "source": [
    "### BEGIN SOLUTION\n",
    "data_long['hour'] = pd.to_datetime(data_long['hour_period'].str[3:5], format = '%H')\n",
    "### END SOLUTION\n",
    "\n",
    "data_long"
   ]
  },
  {
   "cell_type": "markdown",
   "metadata": {},
   "source": [
    ">**Ex. 5.5.16:** *(Bonus)* Create a new column called time, that contains the time of the row in datetime format. Delete the old temporal columns (hour, hour_period, date) to save memory.\n",
    "\n",
    "> _Hint:_ try making an intermediary series of strings that has all temporal information for the row; then use pandas to_datetime function where you can specify the format of the date string."
   ]
  },
  {
   "cell_type": "code",
   "execution_count": 395,
   "metadata": {
    "deletable": false,
    "nbgrader": {
     "cell_type": "code",
     "checksum": "e0336faad2edaa18a961f7dbd9364a26",
     "grade": false,
     "grade_id": "cell-e8d6d81a5e31cd12",
     "locked": false,
     "schema_version": 3,
     "solution": true,
     "task": false
    }
   },
   "outputs": [
    {
     "data": {
      "text/html": [
       "<div>\n",
       "<style scoped>\n",
       "    .dataframe tbody tr th:only-of-type {\n",
       "        vertical-align: middle;\n",
       "    }\n",
       "\n",
       "    .dataframe tbody tr th {\n",
       "        vertical-align: top;\n",
       "    }\n",
       "\n",
       "    .dataframe thead th {\n",
       "        text-align: right;\n",
       "    }\n",
       "</style>\n",
       "<table border=\"1\" class=\"dataframe\">\n",
       "  <thead>\n",
       "    <tr style=\"text-align: right;\">\n",
       "      <th></th>\n",
       "      <th>road_name</th>\n",
       "      <th>value</th>\n",
       "      <th>timestamp</th>\n",
       "    </tr>\n",
       "  </thead>\n",
       "  <tbody>\n",
       "    <tr>\n",
       "      <th>0</th>\n",
       "      <td>Ellebjergvej</td>\n",
       "      <td>596.0</td>\n",
       "      <td>2014-01-01 00:00:00</td>\n",
       "    </tr>\n",
       "    <tr>\n",
       "      <th>1</th>\n",
       "      <td>Ellebjergvej</td>\n",
       "      <td>177.0</td>\n",
       "      <td>2014-01-02 00:00:00</td>\n",
       "    </tr>\n",
       "    <tr>\n",
       "      <th>2</th>\n",
       "      <td>Ellebjergvej</td>\n",
       "      <td>247.0</td>\n",
       "      <td>2014-01-03 00:00:00</td>\n",
       "    </tr>\n",
       "    <tr>\n",
       "      <th>3</th>\n",
       "      <td>Ellebjergvej</td>\n",
       "      <td>387.0</td>\n",
       "      <td>2014-01-04 00:00:00</td>\n",
       "    </tr>\n",
       "    <tr>\n",
       "      <th>4</th>\n",
       "      <td>Ellebjergvej</td>\n",
       "      <td>438.0</td>\n",
       "      <td>2014-01-05 00:00:00</td>\n",
       "    </tr>\n",
       "    <tr>\n",
       "      <th>...</th>\n",
       "      <td>...</td>\n",
       "      <td>...</td>\n",
       "      <td>...</td>\n",
       "    </tr>\n",
       "    <tr>\n",
       "      <th>1435747</th>\n",
       "      <td>Åboulevard</td>\n",
       "      <td>623.0</td>\n",
       "      <td>2010-10-25 23:00:00</td>\n",
       "    </tr>\n",
       "    <tr>\n",
       "      <th>1435748</th>\n",
       "      <td>Åboulevard</td>\n",
       "      <td>1255.0</td>\n",
       "      <td>2010-11-02 23:00:00</td>\n",
       "    </tr>\n",
       "    <tr>\n",
       "      <th>1435749</th>\n",
       "      <td>Åboulevard</td>\n",
       "      <td>878.0</td>\n",
       "      <td>2010-11-03 23:00:00</td>\n",
       "    </tr>\n",
       "    <tr>\n",
       "      <th>1435750</th>\n",
       "      <td>Åboulevard</td>\n",
       "      <td>892.0</td>\n",
       "      <td>2010-11-04 23:00:00</td>\n",
       "    </tr>\n",
       "    <tr>\n",
       "      <th>1435751</th>\n",
       "      <td>Åboulevard</td>\n",
       "      <td>NaN</td>\n",
       "      <td>2010-11-05 23:00:00</td>\n",
       "    </tr>\n",
       "  </tbody>\n",
       "</table>\n",
       "<p>1435752 rows × 3 columns</p>\n",
       "</div>"
      ],
      "text/plain": [
       "            road_name   value           timestamp\n",
       "0        Ellebjergvej   596.0 2014-01-01 00:00:00\n",
       "1        Ellebjergvej   177.0 2014-01-02 00:00:00\n",
       "2        Ellebjergvej   247.0 2014-01-03 00:00:00\n",
       "3        Ellebjergvej   387.0 2014-01-04 00:00:00\n",
       "4        Ellebjergvej   438.0 2014-01-05 00:00:00\n",
       "...               ...     ...                 ...\n",
       "1435747    Åboulevard   623.0 2010-10-25 23:00:00\n",
       "1435748    Åboulevard  1255.0 2010-11-02 23:00:00\n",
       "1435749    Åboulevard   878.0 2010-11-03 23:00:00\n",
       "1435750    Åboulevard   892.0 2010-11-04 23:00:00\n",
       "1435751    Åboulevard     NaN 2010-11-05 23:00:00\n",
       "\n",
       "[1435752 rows x 3 columns]"
      ]
     },
     "execution_count": 395,
     "metadata": {},
     "output_type": "execute_result"
    }
   ],
   "source": [
    "### BEGIN SOLUTION\n",
    "data_long['timestamp'] = pd.to_datetime(data_long.date + ' ' + data_long.hour\\\n",
    "                                                                        .dt\\\n",
    "                                                                        .hour\\\n",
    "                                                                        .astype(str)\\\n",
    "                                                                        .apply(lambda x: x.zfill(2)),\n",
    "                                        format = '%d.%m.%Y %H')\n",
    "\n",
    "data_long = data_long.drop(['hour', 'hour_period', 'date'], axis = 1)\n",
    "### END SOLUTION\n",
    "\n",
    "data_long"
   ]
  },
  {
   "cell_type": "markdown",
   "metadata": {},
   "source": [
    "> **Ex. 5.5.17:** *(Bonus)* Using your time column make a new column called weekday which stores the weekday (in values between 0 and 6) of the corresponding datetime.\n",
    "\n",
    "> _Hint:_ try using the dt method for the series called time; dt has some relevant methods itself."
   ]
  },
  {
   "cell_type": "code",
   "execution_count": null,
   "metadata": {
    "deletable": false,
    "nbgrader": {
     "cell_type": "code",
     "checksum": "ec12a51ca78cfcfb010958a3a3f38299",
     "grade": false,
     "grade_id": "cell-eeabee7e17bbc24a",
     "locked": false,
     "schema_version": 3,
     "solution": true,
     "task": false
    }
   },
   "outputs": [],
   "source": [
    "# YOUR CODE HERE\n",
    "raise NotImplementedError()"
   ]
  },
  {
   "cell_type": "markdown",
   "metadata": {},
   "source": [
    "## Part 5.5.D: Statistical descriptions of traffic data\n",
    "\n",
    "> **Ex. 5.5.18:** *(Bonus)* Print the \"descriptive statistics\" of the traffic column. Also show a kernel density estimate of the values.\n",
    "\n",
    "> _Hint:_ Use the describe method of pandas dataframes for the first task. Use seaborn for the second. "
   ]
  },
  {
   "cell_type": "code",
   "execution_count": null,
   "metadata": {
    "deletable": false,
    "nbgrader": {
     "cell_type": "code",
     "checksum": "1c8c5a5e2b98bb1b436ce71ccfedb681",
     "grade": false,
     "grade_id": "cell-5543e5d8d126bc40",
     "locked": false,
     "schema_version": 3,
     "solution": true,
     "task": false
    }
   },
   "outputs": [],
   "source": [
    "import seaborn as sb\n",
    "\n",
    "# YOUR CODE HERE\n",
    "raise NotImplementedError()"
   ]
  },
  {
   "cell_type": "markdown",
   "metadata": {},
   "source": [
    "> **Ex. 5.5.19:** *(Bonus)* Which road has the most average traffic?"
   ]
  },
  {
   "cell_type": "code",
   "execution_count": null,
   "metadata": {
    "deletable": false,
    "nbgrader": {
     "cell_type": "code",
     "checksum": "e44658f7686188ab151c6ad871332bba",
     "grade": false,
     "grade_id": "cell-ed14c5a9519b1a33",
     "locked": false,
     "schema_version": 3,
     "solution": true,
     "task": false
    }
   },
   "outputs": [],
   "source": [
    "# YOUR CODE HERE\n",
    "raise NotImplementedError()"
   ]
  },
  {
   "cell_type": "markdown",
   "metadata": {},
   "source": [
    "> **Ex. 5.5.20:** *(Bonus)* Compute annual, average road traffic during day hours (9-17). Which station had the least traffic in 2013? Which station has seen highest growth in traffic from 2013 to 2014?"
   ]
  },
  {
   "cell_type": "code",
   "execution_count": null,
   "metadata": {
    "deletable": false,
    "nbgrader": {
     "cell_type": "code",
     "checksum": "56dc16997bb791aa9bcbd89cf1f5c64d",
     "grade": false,
     "grade_id": "cell-279831757079d3e0",
     "locked": false,
     "schema_version": 3,
     "solution": true,
     "task": false
    }
   },
   "outputs": [],
   "source": [
    "# YOUR CODE HERE\n",
    "raise NotImplementedError()"
   ]
  }
 ],
 "metadata": {
  "kernelspec": {
   "display_name": "Python 3",
   "language": "python",
   "name": "python3"
  },
  "language_info": {
   "codemirror_mode": {
    "name": "ipython",
    "version": 3
   },
   "file_extension": ".py",
   "mimetype": "text/x-python",
   "name": "python",
   "nbconvert_exporter": "python",
   "pygments_lexer": "ipython3",
   "version": "3.8.5"
  },
  "varInspector": {
   "cols": {
    "lenName": 16,
    "lenType": 16,
    "lenVar": 40
   },
   "kernels_config": {
    "python": {
     "delete_cmd_postfix": "",
     "delete_cmd_prefix": "del ",
     "library": "var_list.py",
     "varRefreshCmd": "print(var_dic_list())"
    },
    "r": {
     "delete_cmd_postfix": ") ",
     "delete_cmd_prefix": "rm(",
     "library": "var_list.r",
     "varRefreshCmd": "cat(var_dic_list()) "
    }
   },
   "types_to_exclude": [
    "module",
    "function",
    "builtin_function_or_method",
    "instance",
    "_Feature"
   ],
   "window_display": false
  }
 },
 "nbformat": 4,
 "nbformat_minor": 4
}
