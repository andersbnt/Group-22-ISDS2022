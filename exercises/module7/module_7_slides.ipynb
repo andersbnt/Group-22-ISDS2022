{
 "cells": [
  {
   "cell_type": "markdown",
   "metadata": {
    "slideshow": {
     "slide_type": "slide"
    }
   },
   "source": [
    "# Session 7: Web Scraping 2, HTML and parsing\n",
    "\n",
    "*Hjalte Fejerskov Boas*"
   ]
  },
  {
   "cell_type": "markdown",
   "metadata": {
    "slideshow": {
     "slide_type": "slide"
    }
   },
   "source": [
    "## Recap\n",
    "\n",
    "Recall the different steps in web scraping:\n",
    "1. Mapping (session 6):\n",
    "    - We learned how to use the structure of the URL to go through all the webpages you want to scrape\n",
    "2. Downloading (session 6):\n",
    "    - We learned how to download the HTML strings of webpages\n",
    "    - We learned how to use the network panel to download data directly from the webpage's server\n",
    "3. Parsing (this session)\n",
    "\n",
    "In this session we will learn how to parse the downloaded HTML into meaningful and structured data"
   ]
  },
  {
   "cell_type": "markdown",
   "metadata": {
    "slideshow": {
     "slide_type": "slide"
    }
   },
   "source": [
    "## Required readings\n",
    "\n",
    "- [Beautiful Soup: Build a Web Scraper With Python](https://realpython.com/beautiful-soup-web-scraper-python/)\n",
    "\n",
    "- [A Practical Introduction to Web Scraping in Python](https://realpython.com/python-web-scraping-practical-introduction/)"
   ]
  },
  {
   "cell_type": "markdown",
   "metadata": {
    "slideshow": {
     "slide_type": "slide"
    }
   },
   "source": [
    "# Overview of Session 7\n",
    "\n",
    "1. What is HTML?\n",
    "    - How does the tree structure work?\n",
    "2. How can we find our way in the HTML string? I.e. find the data we need (parse the HTML string)\n",
    "    - Regex\n",
    "    - CSS selectors\n",
    "    - BeautifulSoup\n",
    "        - Today we will mainly spend time on BeautifulSoup"
   ]
  },
  {
   "cell_type": "markdown",
   "metadata": {
    "slideshow": {
     "slide_type": "slide"
    }
   },
   "source": [
    "## Introduction to HTML"
   ]
  },
  {
   "cell_type": "markdown",
   "metadata": {
    "slideshow": {
     "slide_type": "fragment"
    }
   },
   "source": [
    "### Recall from previous session\n",
    "\n",
    "How a human sees a webpage             |  How a computer sees a webpage (**HTML**)\n",
    ":-------------------------:|:-------------------------:\n",
    "![](https://drive.google.com/uc?exportview&id=1cbrC303j-gQnXbXyTEQBPT2xH7kgz6Cy)  |  ![](https://drive.google.com/uc?export=view&id=1VFlfDcJHCzbtmkpr4kvXzGecrDE7KmLY)"
   ]
  },
  {
   "cell_type": "markdown",
   "metadata": {
    "slideshow": {
     "slide_type": "subslide"
    }
   },
   "source": [
    "## [What is HTML?](https://www.w3schools.com/html/html_intro.asp)  \n",
    "\n",
    "HTML(Hyper Text Markup Language) is the standard language for creating webpages"
   ]
  },
  {
   "cell_type": "markdown",
   "metadata": {
    "slideshow": {
     "slide_type": "fragment"
    }
   },
   "source": [
    "### HTML elements and tags\n",
    "\n",
    "HTML consists of different elements: These elements tell your browser what to display and how to display it\n",
    "\n",
    "An HTML element consists of a tag and the element content.\n",
    "- The tag defines the content: for example the tag ```<h1>``` defines the content as \"a large heading\"\n",
    "- Example: \n",
    "```html \n",
    "<h1> My first heading </h1>\n",
    "```"
   ]
  },
  {
   "cell_type": "markdown",
   "metadata": {
    "slideshow": {
     "slide_type": "subslide"
    }
   },
   "source": [
    "In the browser, the HTML above will show up like this: <h1> My first heading </h1>"
   ]
  },
  {
   "cell_type": "markdown",
   "metadata": {
    "slideshow": {
     "slide_type": "subslide"
    }
   },
   "source": [
    "### Important tags\n",
    "\n",
    "Here are some examples of often used tags:\n",
    "```html \n",
    "<h1> Defines a large header </h1>\n",
    "<p> Defines a paragraph </p>    \n",
    "<div> Defines a section </div>\n",
    "<a> Defines a link </a> \n",
    "<table> Defines a table </table> \n",
    "```"
   ]
  },
  {
   "cell_type": "markdown",
   "metadata": {
    "slideshow": {
     "slide_type": "subslide"
    }
   },
   "source": [
    "### Attributes to the HTML elements\n",
    "Each element can have some [attributes](https://www.w3schools.com/html/html_attributes.asp)\n",
    "\n",
    "- They are specified in the tags\n",
    "- Example: \n",
    "```html \n",
    "<div class=myclass> My first section </div>\n",
    "```"
   ]
  },
  {
   "cell_type": "markdown",
   "metadata": {
    "slideshow": {
     "slide_type": "fragment"
    }
   },
   "source": [
    "### Important attributes\n",
    "Here are some examples of often used attributes:\n",
    "- class: Specifies a class for an HTML element (multiple elements can share the same class)\n",
    "- id: Specifies a *unique* id for an HTML element\n",
    "- href: Specifies the link's destination/URL (used in combination with the ```<a>``` tag)"
   ]
  },
  {
   "cell_type": "markdown",
   "metadata": {
    "slideshow": {
     "slide_type": "subslide"
    }
   },
   "source": [
    "### HTML is like a tree\n",
    "\n",
    "An element is also called a node\n",
    "\n",
    "A node can have more nodes inside it. The nodes inside are then called *children*"
   ]
  },
  {
   "cell_type": "markdown",
   "metadata": {
    "slideshow": {
     "slide_type": "fragment"
    }
   },
   "source": [
    "- Example: \n",
    "```html \n",
    "<div> \n",
    "    <p> My first paragraph </p>\n",
    "</div>\n",
    "```\n",
    "In this example, ```<p>``` is the child, and ```<div>``` is the parent.\n",
    "- You may come across expressions like *children*, *siblings*, *parents*, *descendants*"
   ]
  },
  {
   "cell_type": "markdown",
   "metadata": {
    "slideshow": {
     "slide_type": "subslide"
    }
   },
   "source": [
    "### Here is an example of an HTML tree (can you see the similarity with a family tree?) \n",
    "<img src=\"http://www.openbookproject.net/tutorials/getdown/css/images/lesson4/HTMLDOMTree.png\"/>"
   ]
  },
  {
   "cell_type": "markdown",
   "metadata": {
    "slideshow": {
     "slide_type": "slide"
    }
   },
   "source": [
    "# Video 7.1: Navigating the HTML tree, intro"
   ]
  },
  {
   "cell_type": "markdown",
   "metadata": {
    "slideshow": {
     "slide_type": "subslide"
    }
   },
   "source": [
    "## How do we find our way around the HTML tree?\n",
    "\n",
    "The HTML contains the information that we are interested in!\n",
    "- But how do we locate it?"
   ]
  },
  {
   "cell_type": "markdown",
   "metadata": {
    "slideshow": {
     "slide_type": "fragment"
    }
   },
   "source": [
    "### Three ways of finding the information you want:\n",
    "1. Regex: Exploiting string patterns in HTML using regular expresssions\n",
    "2. CSS-selectors: Specifying paths in the tree using CSS-selectors\n",
    "3. ```BeautifulSoup```: A Python package that makes it easy to navigate the HTML tree"
   ]
  },
  {
   "cell_type": "markdown",
   "metadata": {
    "slideshow": {
     "slide_type": "subslide"
    }
   },
   "source": [
    "### 1. Regex\n",
    "**What is regex?**\n",
    "\n",
    "Regex is used to define a search pattern in text"
   ]
  },
  {
   "cell_type": "markdown",
   "metadata": {
    "slideshow": {
     "slide_type": "fragment"
    }
   },
   "source": [
    "Suppose we want to search for all links in an HTML tree:\n",
    "- We can then define a search pattern in regex that searches for \"www.\" for example\n",
    "- Using regex we will then find all the places in the HTML where it says \"www.\""
   ]
  },
  {
   "cell_type": "markdown",
   "metadata": {
    "slideshow": {
     "slide_type": "fragment"
    }
   },
   "source": [
    "Note: Regex only works on text/strings. So we need to convert our HTML tree into one large string before we can use regex on HTML\n",
    "\n",
    "More about regex in session 8!"
   ]
  },
  {
   "cell_type": "markdown",
   "metadata": {
    "slideshow": {
     "slide_type": "subslide"
    }
   },
   "source": [
    "### 2. [CSS Selectors ](https://en.wikipedia.org/wiki/CSS)\n",
    "A CSS selector is used to select the HTML elements ([How can you use a CSS selector?](https://www.scrapingbee.com/blog/python-web-scraping-beautiful-soup/))\n",
    "- At first it will seem very similar to the BeautifulSoup way of selecting elements (which you will learn in a minute)\n",
    "    - However, a CSS selector is useful when you cannot rely on *class* and *id* attributes (for example in very messy written HTML)\n",
    "\n",
    "It is a need way to define a unique path to an element or multiple similar elements in the HTML tree\n",
    "\n",
    "You can download a CSS Selector as a Google Chrome extension that will do the work for you: [SelectorGadget](https://chrome.google.com/webstore/detail/selectorgadget/mhjhnkcfbdhnjickkkdbjoemdmbfginb)"
   ]
  },
  {
   "cell_type": "code",
   "execution_count": 1,
   "metadata": {
    "slideshow": {
     "slide_type": "subslide"
    }
   },
   "outputs": [],
   "source": [
    "import requests\n",
    "from bs4 import BeautifulSoup\n",
    "import pandas as pd"
   ]
  },
  {
   "cell_type": "markdown",
   "metadata": {
    "slideshow": {
     "slide_type": "subslide"
    }
   },
   "source": [
    "#### BeautifulSoup has a built-in CSS selector:\n",
    "\n",
    "Just use the function `.select`"
   ]
  },
  {
   "cell_type": "code",
   "execution_count": 6,
   "metadata": {
    "slideshow": {
     "slide_type": "fragment"
    }
   },
   "outputs": [],
   "source": [
    "url = 'https://www.dr.dk/nyheder/udland'\n",
    "response = requests.get(url)\n",
    "soup = BeautifulSoup(response.content, 'lxml') #Make the BeautifulSoup object (soup): Take the HTML content as input and choose your parser (lxml)"
   ]
  },
  {
   "cell_type": "code",
   "execution_count": 4,
   "metadata": {
    "slideshow": {
     "slide_type": "fragment"
    }
   },
   "outputs": [
    {
     "data": {
      "text/plain": [
       "\"Donald Trumps hjem i Florida 'belejret og ransaget af FBI'\""
      ]
     },
     "execution_count": 4,
     "metadata": {},
     "output_type": "execute_result"
    }
   ],
   "source": [
    "# The CSS selector \".dre-hyphenate-text\" selects all titles on the DR international news page\n",
    "soup.select('.dre-hyphenate-text')[0].text #Selecting first title"
   ]
  },
  {
   "cell_type": "markdown",
   "metadata": {
    "slideshow": {
     "slide_type": "subslide"
    }
   },
   "source": [
    "### 3. Parsing HTML with BeautifulSoup\n",
    "A third way to navigate the HTML tree is BeautifulSoup\n",
    "\n",
    "It exploits the stucture of tags and attributes"
   ]
  },
  {
   "cell_type": "markdown",
   "metadata": {
    "slideshow": {
     "slide_type": "fragment"
    }
   },
   "source": [
    "It allows you to:\n",
    "- Search for elements by tag name and/or by attribute.\n",
    "- Iterate through them, go up, sideways or down the tree.\n",
    "- Furthermore it helps you with standard tasks such as extracting raw text from html"
   ]
  },
  {
   "cell_type": "markdown",
   "metadata": {
    "slideshow": {
     "slide_type": "slide"
    }
   },
   "source": [
    "# Video 7.2: Parsing the HTML with BeautifulSoup"
   ]
  },
  {
   "cell_type": "markdown",
   "metadata": {
    "slideshow": {
     "slide_type": "slide"
    }
   },
   "source": [
    "## Learning by doing: Creating a dataset from www.dr.dk/nyheder/udland\n",
    "\n",
    "### Let's put together some of the stuff we have learned so far\n",
    "1. **Mapping:** In this exercise we will collect some URLs from webpages with news articles and save them into a list\n",
    "2. **Downloading:** Then we will download the HTML content of the webpages\n",
    "3. **Parsing:** At last we will collect relevant information in each article"
   ]
  },
  {
   "cell_type": "markdown",
   "metadata": {
    "slideshow": {
     "slide_type": "slide"
    }
   },
   "source": [
    "## 1. MAPPING"
   ]
  },
  {
   "cell_type": "markdown",
   "metadata": {
    "slideshow": {
     "slide_type": "subslide"
    }
   },
   "source": [
    "#### First, we investigate the site trying to understand its structure\n",
    "\n",
    "We do this by opening up the Chrome Developer Tools on the webpage:\n",
    "1. Right-click anywhere on the webpage\n",
    "2. Click \"Inspect\"\n",
    "3. Choose the panel \"Elements\""
   ]
  },
  {
   "cell_type": "markdown",
   "metadata": {
    "slideshow": {
     "slide_type": "fragment"
    }
   },
   "source": [
    "You can now see the HTML of the webpage and the tree structure.\n",
    "\n",
    "First, we want to understand where the articles are located in the HTML: \n",
    "- The \"Elements\" panel will jump to the place in the HTML tree where you right-click\n",
    "- So to find the location of articles in the HTML, just right-click on one of them"
   ]
  },
  {
   "cell_type": "markdown",
   "metadata": {
    "slideshow": {
     "slide_type": "subslide"
    }
   },
   "source": [
    "#### Get the webpage content and make the BeautifulSoup object:"
   ]
  },
  {
   "cell_type": "code",
   "execution_count": 8,
   "metadata": {
    "slideshow": {
     "slide_type": "fragment"
    }
   },
   "outputs": [],
   "source": [
    "# Define our URL\n",
    "url = 'https://www.dr.dk/nyheder/udland' \n",
    "\n",
    "# Connects to site\n",
    "response = requests.get(url)\n",
    "\n",
    "# Parse data with BeautifulSoup\n",
    "soup = BeautifulSoup(response.content,'lxml')"
   ]
  },
  {
   "cell_type": "markdown",
   "metadata": {
    "slideshow": {
     "slide_type": "subslide"
    }
   },
   "source": [
    "#### Find the articles to scrape:\n",
    "\n",
    "[`find_all`](https://www.crummy.com/software/BeautifulSoup/bs4/doc/#find-all) finds all elements in the HTML that have the tag ```<div>``` and the class attribute 'dre-teaser-content' "
   ]
  },
  {
   "cell_type": "code",
   "execution_count": 9,
   "metadata": {
    "slideshow": {
     "slide_type": "fragment"
    }
   },
   "outputs": [],
   "source": [
    "# Identify articles to scrape by inspecting site\n",
    "articles = soup.find_all('div', class_ = 'dre-teaser-content') #(class_ is used because class is reserved in Python)"
   ]
  },
  {
   "cell_type": "markdown",
   "metadata": {
    "slideshow": {
     "slide_type": "subslide"
    }
   },
   "source": [
    "#### Now we want the links to all the articles:\n",
    "First, I show how to find the link for *one* article, and afterwards I show how to loop through all article links"
   ]
  },
  {
   "cell_type": "markdown",
   "metadata": {
    "slideshow": {
     "slide_type": "fragment"
    }
   },
   "source": [
    "You can use [`find`](https://www.crummy.com/software/BeautifulSoup/bs4/doc/#find) to find the *first* element. In the code below it is the first element that has the tag ```<a>```.\n",
    "\n",
    "You can use `['href']` to select the attribute. Here we are interested in the content of the href attribute."
   ]
  },
  {
   "cell_type": "code",
   "execution_count": 11,
   "metadata": {
    "slideshow": {
     "slide_type": "fragment"
    }
   },
   "outputs": [
    {
     "name": "stdout",
     "output_type": "stream",
     "text": [
      "/nyheder/udland/donald-trumps-hjem-i-florida-belejret-og-ransaget-af-fbi\n"
     ]
    }
   ],
   "source": [
    "# First find the \"link\" tag in the HTML\n",
    "article_link = articles[0].find('a') #(We are only taking the first article)\n",
    "# Then locate the URL in the href attribute\n",
    "article_url = article_link['href']\n",
    "print(article_url)"
   ]
  },
  {
   "cell_type": "code",
   "execution_count": 12,
   "metadata": {
    "slideshow": {
     "slide_type": "fragment"
    }
   },
   "outputs": [
    {
     "name": "stdout",
     "output_type": "stream",
     "text": [
      "/nyheder/udland/donald-trumps-hjem-i-florida-belejret-og-ransaget-af-fbi\n"
     ]
    }
   ],
   "source": [
    "# Another way to find the tag is by writing `.a` instead of `.find('a')`:\n",
    "article_link = articles[0].a\n",
    "article_url = article_link['href']\n",
    "print(article_url)"
   ]
  },
  {
   "cell_type": "markdown",
   "metadata": {
    "slideshow": {
     "slide_type": "subslide"
    }
   },
   "source": [
    "#### We create a list of URLs that we want to scrape:"
   ]
  },
  {
   "cell_type": "code",
   "execution_count": 13,
   "metadata": {
    "slideshow": {
     "slide_type": "fragment"
    }
   },
   "outputs": [],
   "source": [
    "# Create an empty list\n",
    "list_of_article_urls = []\n",
    "\n",
    "# Creating a loop that appends the article url to the list above\n",
    "for i in range(len(articles)):\n",
    "    list_of_article_urls.append(articles[i].find('a')['href'])"
   ]
  },
  {
   "cell_type": "code",
   "execution_count": 14,
   "metadata": {
    "scrolled": true,
    "slideshow": {
     "slide_type": "fragment"
    }
   },
   "outputs": [
    {
     "data": {
      "text/plain": [
       "['/nyheder/udland/donald-trumps-hjem-i-florida-belejret-og-ransaget-af-fbi',\n",
       " '/nyheder/udland/usas-senat-vedtager-gigantisk-klimaplan-der-ogsaa-kan-komme-danmark-til-gode',\n",
       " '/nyheder/udland/korruptionsbekaempere-slaar-alarm-tusindvis-af-russiske-virksomheder-er-dukket-op-i',\n",
       " '/nyheder/udland/ambassadoer-kina-vil-ikke-udelukke-vaebnet-konflikt-med-usa-om-taiwan',\n",
       " '/nyheder/udland/mystikken-breder-sig-om-stor-militaeroevelse-ved-taiwan-er-den-afblaest-eller-ej',\n",
       " '/nyheder/udland/atom-vagthund-advarer-om-risiko-katastrofe-paa-kraftvaerk-ved-fronten-i-ukraine',\n",
       " '/nyheder/udland/israel-fortsaetter-luftangreb-i-gaza-anden-dag-i-traek',\n",
       " '/nyheder/udland/gaza-er-endnu-en-gang-omdrejningspunkt-i-konflikt-det-er-krigslignende-tilstande',\n",
       " '/nyheder/udland/al-qaedas-leder-blev-draebt-paa-balkonen-hvor-mark-engang-grillede-boeffer',\n",
       " '/nyheder/udland/militante-grupper-i-gaza-svarer-igen-paa-israelske-angreb-med-byger-af-raketter',\n",
       " '/nyheder/udland/kandidater-dybt-uenige-i-hvordan-de-faar-briterne-gennem-et-truende-oekonomisk',\n",
       " '/nyheder/udland/ghana-vil-ulovliggoere-homoseksualitet',\n",
       " '/nyheder/udland/amerikansk-radiovaert-skal-betale-millionerstatning-loegne-om-skoleskyderi',\n",
       " '/nyheder/udland/ukrainsk-militaer-bryder-krigsregler-foerer-krig-fra-private-hjem-skoler-og',\n",
       " '/nyheder/udland/kina-laver-storstillet-militaeroevelse-omkring-taiwan-taiwan-goer-sig-klar-sig-til',\n",
       " '/nyheder/udland/knap-var-flyet-landet-i-taiwan-foer-en-storpolitisk-konflikt-var-i-lys-lue-her-er',\n",
       " '/nyheder/udland/drs-matilde-kimer-er-blevet-udvist-af-rusland',\n",
       " '/nyheder/udland/foerste-amerikanske-delstat-har-stemt-nej-til-fjerne-retten-til-fri-abort',\n",
       " '/nyheder/udland/pelosi-roser-taiwans-demokrati-mens-kina-sender-kampfly-paa-vingerne',\n",
       " '/nyheder/udland/taiwan-byder-pelosi-velkommen-med-aabne-arme-mens-kina-skruer-op-trusler',\n",
       " '/nyheder/udland/al-qaeda-leder-blev-draebt-i-diplomatkvarter-fem-minutters-gang-fra-tidligere-dansk',\n",
       " '/nyheder/udland/nancy-pelosi-trodser-kinesiske-advarsler-ankommer-til-taiwan-til-historisk-besoeg',\n",
       " 'https://www.dr.dk/stories/1288510966/usa-har-drbt-al-qaedas-topleder-hvad-betyder-det/',\n",
       " '/nyheder/udland/corona-laeges-selvmord-saetter-gang-i-oestrigsk-debat-om-netchikane',\n",
       " '/nyheder/udland/puk-damsgaard-markant-og-bemaerkelsesvaerdigt-al-qaedas-draebte-topleder-opholdt-sig',\n",
       " '/nyheder/udland/usa-draeber-al-qaedas-leder-med-drone-i-kabul',\n",
       " '/nyheder/udland/foerste-fragtskib-i-flere-maaneder-sejler-nu-gennem-sortehavet-en-lettelse-verden',\n",
       " '/nyheder/udland/forventningerne-er-meget-lave-forud-verdens-stoerste-konference-nedrustning-af',\n",
       " '/nyheder/udland/der-spares-hvor-der-kan-eu-lande-lancerer-energibesparende-tiltag',\n",
       " '/nyheder/udland/drab-paa-nigeriansk-gadesaelger-ved-hoejlys-dag-udloeser-vrede-i-italien',\n",
       " '/nyheder/udland/nye-pas-sim-kort-og-tv-kanaler-putin-er-i-fuld-gang-med-indfoere-russiske-tilstande-i',\n",
       " '/nyheder/udland/corona-duks-har-pludselig-flere-doedsfald-end-nogensinde',\n",
       " '/nyheder/udland/rusland-vil-lade-fn-og-roede-kors-undersoege-angreb-paa-faengslede-krigsfanger',\n",
       " '/nyheder/udland/ukraine-bliver-kritiseret-sende-boern-med-handicap-paa-institutioner-det-minder-om-et',\n",
       " '/nyheder/udland/endnu-en-kinesisk-raket-styrter-mod-jorden-decideret-dumt-og-uansvarligt',\n",
       " '/nyheder/udland/usa-gaar-ind-i-produktionen-af-mikrochips-det-vil-i-hoej-grad-komme-dansk-erhvervsliv',\n",
       " '/nyheder/udland/det-er-uholdbart-russiske-turister-stroemmer-til-finland',\n",
       " '/nyheder/udland/retten-faelder-dom-i-spektakulaer-fodboldfruesag-det-er-rebekah-vardy',\n",
       " 'https://www.dr.dk/stories/1288510966/olgas-hjem-er-en-togvogn/',\n",
       " '/nyheder/udland/kinas-xi-jinping-advarer-biden-leg-ikke-med-ilden-naar-det-gaelder-taiwan',\n",
       " '/nyheder/udland/ukraine-bomber-vigtig-bro-og-gaar-til-modangreb',\n",
       " '/nyheder/udland/russisk-journalist-doemt-miskreditere-haer',\n",
       " '/nyheder/udland/i-kyiv-trodser-de-luftalarmer-og-udgangsforbud-kom-med-dr-til-raveparty',\n",
       " '/nyheder/udland/trump-tilbage-i-washington-foerste-gang-siden-han-forlod-det-hvide-hus-0',\n",
       " '/nyheder/udland/eu-lande-har-aftalt-bruge-15-procent-mindre-gas-men-de-er-ikke-pisket-til-det',\n",
       " '/nyheder/udland/gazprom-strammer-ifoelge-tyskland-skruen-uden-grund',\n",
       " '/nyheder/udland/risikoen-udvisning-til-rwanda-holder-ikke-migranter-fra-soege-mod-storbritannien',\n",
       " '/nyheder/udland/paven-undskylder-til-de-oprindelige-folk-i-canada-jeg-beder-ydmygt-om-tilgivelse']"
      ]
     },
     "execution_count": 14,
     "metadata": {},
     "output_type": "execute_result"
    }
   ],
   "source": [
    "list_of_article_urls"
   ]
  },
  {
   "cell_type": "markdown",
   "metadata": {
    "slideshow": {
     "slide_type": "subslide"
    }
   },
   "source": [
    "#### Some of the links are not to articles \n",
    "\n",
    "So we write this code to only keep the article links:"
   ]
  },
  {
   "cell_type": "code",
   "execution_count": 15,
   "metadata": {
    "slideshow": {
     "slide_type": "fragment"
    }
   },
   "outputs": [],
   "source": [
    "list_of_article_urls_final = []\n",
    "for link in list_of_article_urls:\n",
    "    if '/nyheder/udland' in link: #All article URLs have this string in them, so we restrict on it being in the URL\n",
    "        list_of_article_urls_final.append(link)"
   ]
  },
  {
   "cell_type": "markdown",
   "metadata": {
    "slideshow": {
     "slide_type": "slide"
    }
   },
   "source": [
    "## 2. DOWNLOADING + 3. PARSING"
   ]
  },
  {
   "cell_type": "markdown",
   "metadata": {
    "slideshow": {
     "slide_type": "subslide"
    }
   },
   "source": [
    "#### Now we are ready to scrape each webpage from the URL list:\n",
    "First, I will show you the procedure for *one* link, and then I will show you how to scrape the first 10 articles"
   ]
  },
  {
   "cell_type": "code",
   "execution_count": 16,
   "metadata": {
    "slideshow": {
     "slide_type": "fragment"
    }
   },
   "outputs": [],
   "source": [
    "# Creating empty list for the infomation we want to extract for every article\n",
    "title_list = []\n",
    "lead_list = []\n",
    "time_list = []\n",
    "\n",
    "# This time we scrape for each news article in the url list we created before\n",
    "url = 'https://www.dr.dk' + list_of_article_urls_final[0] #The scraped links are relative, so we need to add the base URL (Here we have just taken the first link)\n",
    "response = requests.get(url)\n",
    "soup = BeautifulSoup(response.content,'lxml')"
   ]
  },
  {
   "cell_type": "code",
   "execution_count": 17,
   "metadata": {
    "slideshow": {
     "slide_type": "fragment"
    }
   },
   "outputs": [],
   "source": [
    "# Find title\n",
    "temp = soup.find_all('h1')\n",
    "temp = temp[1]\n",
    "temp = temp.text.strip() #Use strip() to get rid of trailing and leading spaces\n",
    "title_list.append(temp)"
   ]
  },
  {
   "cell_type": "code",
   "execution_count": 23,
   "metadata": {},
   "outputs": [
    {
     "data": {
      "text/plain": [
       "['2022-08-09T03:41:00+00:00']"
      ]
     },
     "execution_count": 23,
     "metadata": {},
     "output_type": "execute_result"
    }
   ],
   "source": [
    "time_list"
   ]
  },
  {
   "cell_type": "code",
   "execution_count": 19,
   "metadata": {
    "slideshow": {
     "slide_type": "fragment"
    }
   },
   "outputs": [],
   "source": [
    "# Find lead\n",
    "temp = soup.find('p', class_='dre-article-title__summary')\n",
    "temp = temp.text.strip()\n",
    "lead_list.append(temp)"
   ]
  },
  {
   "cell_type": "code",
   "execution_count": 20,
   "metadata": {
    "slideshow": {
     "slide_type": "fragment"
    }
   },
   "outputs": [],
   "source": [
    "# Find time posted\n",
    "temp = soup.find('time', class_='dre-byline__date')\n",
    "temp = temp['datetime']\n",
    "time_list.append(temp)"
   ]
  },
  {
   "cell_type": "markdown",
   "metadata": {
    "slideshow": {
     "slide_type": "subslide"
    }
   },
   "source": [
    "#### Combine all of the code above in a loop to scrape the first 10 articles:"
   ]
  },
  {
   "cell_type": "code",
   "execution_count": 40,
   "metadata": {
    "slideshow": {
     "slide_type": "fragment"
    }
   },
   "outputs": [],
   "source": [
    "# We want to extract title, lead and time posted from the articles\n",
    "\n",
    "# Creatig empty list for the infomation we want to extract for every article\n",
    "title_list = []\n",
    "lead_list = []\n",
    "time_list = []\n",
    "\n",
    "for i in range(10): #len(list_of_article_urls)\n",
    "    \n",
    "    # This time we scrape for each news article in the url list we created before\n",
    "    url = 'https://www.dr.dk' + list_of_article_urls_final[i] #The scraped links are relative, so we need to add the base url\n",
    "    response = requests.get(url)\n",
    "    soup = BeautifulSoup(response.content,'lxml')\n",
    "    \n",
    "    # Append title to list\n",
    "    temp = soup.find_all('h1')\n",
    "    temp = temp[1]\n",
    "    temp = temp.text.strip()\n",
    "    title_list.append(temp)\n",
    "    \n",
    "    # Append lead to list\n",
    "    temp = soup.find('p', class_='dre-article-title__summary')\n",
    "    temp = temp.text.strip()\n",
    "    lead_list.append(temp)\n",
    "\n",
    "    # Append time posted to list\n",
    "    temp = soup.find('time', class_='dre-byline__date')\n",
    "    temp = temp['datetime']\n",
    "    time_list.append(temp)"
   ]
  },
  {
   "cell_type": "code",
   "execution_count": 41,
   "metadata": {
    "slideshow": {
     "slide_type": "subslide"
    }
   },
   "outputs": [
    {
     "data": {
      "text/plain": [
       "[\"'Forventningerne er meget lave' forud for verdens største konference for nedrustning af atomvåben\",\n",
       " 'Der spares, hvor der kan: EU-lande lancerer energibesparende tiltag',\n",
       " 'Drab på nigeriansk gadesælger ved højlys dag udløser vrede i Italien',\n",
       " 'Corona-duks har pludselig flere dødsfald end nogensinde',\n",
       " 'Rusland vil lade FN og Røde Kors undersøge angreb på fængslede krigsfanger',\n",
       " \"Ukraine bliver kritiseret for at sende børn med handicap på institutioner: 'Det minder om et fængsel'\",\n",
       " \"Endnu en kinesisk raket styrter mod jorden: 'Decideret dumt og uansvarligt'\",\n",
       " \"USA går ind i produktionen af mikrochips: 'Det vil i høj grad komme dansk erhvervsliv til gode'\",\n",
       " \"Det er 'uholdbart', at russiske turister strømmer til Finland\",\n",
       " 'Retten fælder dom i spektakulær fodboldfruesag: Det er... Rebekah Vardy']"
      ]
     },
     "execution_count": 41,
     "metadata": {},
     "output_type": "execute_result"
    }
   ],
   "source": [
    "title_list"
   ]
  },
  {
   "cell_type": "code",
   "execution_count": 42,
   "metadata": {
    "scrolled": true,
    "slideshow": {
     "slide_type": "subslide"
    }
   },
   "outputs": [
    {
     "data": {
      "text/plain": [
       "['Det bliver interessant at se, om atomstormagterne USA og Rusland kan snakke sammen trods krigen i Ukraine, vurderer eksperter.',\n",
       " 'Hvis ikke de europæiske lande får reduceret energiforbruget, vil det kunne blive nødvendigt med rationeringer til vinter.',\n",
       " 'Ingen forbipasserende greb ind, da en nigeriansk mand blev tæsket til døde.',\n",
       " 'Det er en reminder om at være beredt, siger professor i global sundhed.',\n",
       " 'Både Ukraine og Rusland vil have FN og Røde Kors til at efterforske angreb, der kostede 50 krigsfanger livet.',\n",
       " 'Organisationer kritiserer Ukraine for at placere tusindvis med handicap på institutioner.',\n",
       " 'Det skete også i 2021 og 2020, hvor ingen personer kom til skade. Men hvordan kan det blive ved?',\n",
       " 'Lovforslaget, der blandt andet omfatter 380 milliarder kroner i tilskud til en amerikansk produktion af mikrochips, skal mindske afhængigheden af Kina.',\n",
       " 'Alene i juli har Finland udstedt 10.000 turistvisa til russere.',\n",
       " 'En britisk domstol har i dag afsagt dom i en prominent sag mellem to ægtefæller til to store fodboldstjerner.']"
      ]
     },
     "execution_count": 42,
     "metadata": {},
     "output_type": "execute_result"
    }
   ],
   "source": [
    "lead_list"
   ]
  },
  {
   "cell_type": "code",
   "execution_count": 43,
   "metadata": {
    "slideshow": {
     "slide_type": "subslide"
    }
   },
   "outputs": [
    {
     "data": {
      "text/plain": [
       "['2022-08-01T08:50:00+00:00',\n",
       " '2022-08-01T03:54:00+00:00',\n",
       " '2022-07-31T18:52:00+00:00',\n",
       " '2022-07-31T10:08:00+00:00',\n",
       " '2022-07-31T04:58:00+00:00',\n",
       " '2022-07-30T14:56:00+00:00',\n",
       " '2022-07-30T04:45:00+00:00',\n",
       " '2022-07-29T16:19:00+00:00',\n",
       " '2022-07-29T16:15:00+00:00',\n",
       " '2022-07-29T16:10:00+00:00']"
      ]
     },
     "execution_count": 43,
     "metadata": {},
     "output_type": "execute_result"
    }
   ],
   "source": [
    "time_list"
   ]
  },
  {
   "cell_type": "markdown",
   "metadata": {
    "slideshow": {
     "slide_type": "subslide"
    }
   },
   "source": [
    "#### Lastly, we put our collected information into a dataframe:"
   ]
  },
  {
   "cell_type": "code",
   "execution_count": 44,
   "metadata": {
    "scrolled": false,
    "slideshow": {
     "slide_type": "fragment"
    }
   },
   "outputs": [
    {
     "data": {
      "text/html": [
       "<div>\n",
       "<style scoped>\n",
       "    .dataframe tbody tr th:only-of-type {\n",
       "        vertical-align: middle;\n",
       "    }\n",
       "\n",
       "    .dataframe tbody tr th {\n",
       "        vertical-align: top;\n",
       "    }\n",
       "\n",
       "    .dataframe thead th {\n",
       "        text-align: right;\n",
       "    }\n",
       "</style>\n",
       "<table border=\"1\" class=\"dataframe\">\n",
       "  <thead>\n",
       "    <tr style=\"text-align: right;\">\n",
       "      <th></th>\n",
       "      <th>title</th>\n",
       "      <th>lead</th>\n",
       "      <th>time</th>\n",
       "    </tr>\n",
       "  </thead>\n",
       "  <tbody>\n",
       "    <tr>\n",
       "      <th>0</th>\n",
       "      <td>'Forventningerne er meget lave' forud for verd...</td>\n",
       "      <td>Det bliver interessant at se, om atomstormagte...</td>\n",
       "      <td>2022-08-01T08:50:00+00:00</td>\n",
       "    </tr>\n",
       "    <tr>\n",
       "      <th>1</th>\n",
       "      <td>Der spares, hvor der kan: EU-lande lancerer en...</td>\n",
       "      <td>Hvis ikke de europæiske lande får reduceret en...</td>\n",
       "      <td>2022-08-01T03:54:00+00:00</td>\n",
       "    </tr>\n",
       "    <tr>\n",
       "      <th>2</th>\n",
       "      <td>Drab på nigeriansk gadesælger ved højlys dag u...</td>\n",
       "      <td>Ingen forbipasserende greb ind, da en nigerian...</td>\n",
       "      <td>2022-07-31T18:52:00+00:00</td>\n",
       "    </tr>\n",
       "    <tr>\n",
       "      <th>3</th>\n",
       "      <td>Corona-duks har pludselig flere dødsfald end n...</td>\n",
       "      <td>Det er en reminder om at være beredt, siger pr...</td>\n",
       "      <td>2022-07-31T10:08:00+00:00</td>\n",
       "    </tr>\n",
       "    <tr>\n",
       "      <th>4</th>\n",
       "      <td>Rusland vil lade FN og Røde Kors undersøge ang...</td>\n",
       "      <td>Både Ukraine og Rusland vil have FN og Røde Ko...</td>\n",
       "      <td>2022-07-31T04:58:00+00:00</td>\n",
       "    </tr>\n",
       "    <tr>\n",
       "      <th>5</th>\n",
       "      <td>Ukraine bliver kritiseret for at sende børn me...</td>\n",
       "      <td>Organisationer kritiserer Ukraine for at place...</td>\n",
       "      <td>2022-07-30T14:56:00+00:00</td>\n",
       "    </tr>\n",
       "    <tr>\n",
       "      <th>6</th>\n",
       "      <td>Endnu en kinesisk raket styrter mod jorden: 'D...</td>\n",
       "      <td>Det skete også i 2021 og 2020, hvor ingen pers...</td>\n",
       "      <td>2022-07-30T04:45:00+00:00</td>\n",
       "    </tr>\n",
       "    <tr>\n",
       "      <th>7</th>\n",
       "      <td>USA går ind i produktionen af mikrochips: 'Det...</td>\n",
       "      <td>Lovforslaget, der blandt andet omfatter 380 mi...</td>\n",
       "      <td>2022-07-29T16:19:00+00:00</td>\n",
       "    </tr>\n",
       "    <tr>\n",
       "      <th>8</th>\n",
       "      <td>Det er 'uholdbart', at russiske turister strøm...</td>\n",
       "      <td>Alene i juli har Finland udstedt 10.000 turist...</td>\n",
       "      <td>2022-07-29T16:15:00+00:00</td>\n",
       "    </tr>\n",
       "    <tr>\n",
       "      <th>9</th>\n",
       "      <td>Retten fælder dom i spektakulær fodboldfruesag...</td>\n",
       "      <td>En britisk domstol har i dag afsagt dom i en p...</td>\n",
       "      <td>2022-07-29T16:10:00+00:00</td>\n",
       "    </tr>\n",
       "  </tbody>\n",
       "</table>\n",
       "</div>"
      ],
      "text/plain": [
       "                                               title  \\\n",
       "0  'Forventningerne er meget lave' forud for verd...   \n",
       "1  Der spares, hvor der kan: EU-lande lancerer en...   \n",
       "2  Drab på nigeriansk gadesælger ved højlys dag u...   \n",
       "3  Corona-duks har pludselig flere dødsfald end n...   \n",
       "4  Rusland vil lade FN og Røde Kors undersøge ang...   \n",
       "5  Ukraine bliver kritiseret for at sende børn me...   \n",
       "6  Endnu en kinesisk raket styrter mod jorden: 'D...   \n",
       "7  USA går ind i produktionen af mikrochips: 'Det...   \n",
       "8  Det er 'uholdbart', at russiske turister strøm...   \n",
       "9  Retten fælder dom i spektakulær fodboldfruesag...   \n",
       "\n",
       "                                                lead  \\\n",
       "0  Det bliver interessant at se, om atomstormagte...   \n",
       "1  Hvis ikke de europæiske lande får reduceret en...   \n",
       "2  Ingen forbipasserende greb ind, da en nigerian...   \n",
       "3  Det er en reminder om at være beredt, siger pr...   \n",
       "4  Både Ukraine og Rusland vil have FN og Røde Ko...   \n",
       "5  Organisationer kritiserer Ukraine for at place...   \n",
       "6  Det skete også i 2021 og 2020, hvor ingen pers...   \n",
       "7  Lovforslaget, der blandt andet omfatter 380 mi...   \n",
       "8  Alene i juli har Finland udstedt 10.000 turist...   \n",
       "9  En britisk domstol har i dag afsagt dom i en p...   \n",
       "\n",
       "                        time  \n",
       "0  2022-08-01T08:50:00+00:00  \n",
       "1  2022-08-01T03:54:00+00:00  \n",
       "2  2022-07-31T18:52:00+00:00  \n",
       "3  2022-07-31T10:08:00+00:00  \n",
       "4  2022-07-31T04:58:00+00:00  \n",
       "5  2022-07-30T14:56:00+00:00  \n",
       "6  2022-07-30T04:45:00+00:00  \n",
       "7  2022-07-29T16:19:00+00:00  \n",
       "8  2022-07-29T16:15:00+00:00  \n",
       "9  2022-07-29T16:10:00+00:00  "
      ]
     },
     "execution_count": 44,
     "metadata": {},
     "output_type": "execute_result"
    }
   ],
   "source": [
    "import pandas as pd\n",
    "df = pd.DataFrame({'title':title_list, 'lead':lead_list, 'time':time_list})\n",
    "df"
   ]
  },
  {
   "cell_type": "markdown",
   "metadata": {
    "slideshow": {
     "slide_type": "subslide"
    }
   },
   "source": [
    "#### One more thing:\n",
    "What if we also want the body text of an article?"
   ]
  },
  {
   "cell_type": "code",
   "execution_count": 45,
   "metadata": {
    "slideshow": {
     "slide_type": "fragment"
    }
   },
   "outputs": [],
   "source": [
    "url = 'https://www.dr.dk/nyheder/udland/gazprom-strammer-ifoelge-tyskland-skruen-uden-grund' \n",
    "response = requests.get(url)\n",
    "soup = BeautifulSoup(response.content,'lxml')"
   ]
  },
  {
   "cell_type": "code",
   "execution_count": 46,
   "metadata": {
    "scrolled": true,
    "slideshow": {
     "slide_type": "fragment"
    }
   },
   "outputs": [
    {
     "data": {
      "text/plain": [
       "<div class=\"dre-article-body\" itemprop=\"articleBody\"><div class=\"dre-container\"><div class=\"dre-container__content dre-container__content--small\"><div class=\"dre-speech\"><p class=\"dre-article-body-paragraph dre-variables\">Gazprom halverer gasleverancerne til Europa via Nord Stream 1. Årsagen er ifølge selskabet vedligehold af en gasturbine. Den daglige gasforsyning via gasledningen vil fra onsdag morgen blive <span style=\"display:inline\"><span class=\"dre-glossary-match\">reduceret</span></span> til <a href=\"https://twitter.com/GazpromEN/status/1551582192484106246?ref_src=twsrc^tfw|twcamp^tweetembed|twterm^1551582192484106246|twgr^|twcon^s1_&amp;ref_url=https://www.ritzau.dk/nyhed/\" rel=\"noopener noreferrer\" target=\"_blank\">33 millioner kubikmeter, oplyser Gazprom</a>.</p></div><div class=\"dre-speech\"><p class=\"dre-article-body-paragraph dre-variables\">Det svarer til cirka 20 procent af den maksimale kapacitet, og det fremgår ikke, hvor længe den yderligt <span style=\"display:inline\"><span class=\"dre-glossary-match\">reducerede</span></span> forsyning af gas vil stå på.</p></div></div></div><figure class=\"dre-article-body-figure dre-article-body-figure--medium dre-article-body-figure--spacing\"><div><div class=\"dre-picture\"><div class=\"dre-picture__ratio-padder dre-picture__ratio-padder--xxs\" style=\"--dre-picture__ratio--xxs:0.94084\"></div></div></div><figcaption class=\"dre-article-body-figure__caption dre-article-body-figure__caption--medium dre-article-body-figure__caption--left dre-variables\"></figcaption></figure><div class=\"dre-container\"><div class=\"dre-container__content dre-container__content--small\"><div class=\"dre-speech\"><p class=\"dre-article-body-paragraph dre-variables\">Den tyske <span style=\"display:inline\"><span class=\"dre-glossary-match\">regering</span></span> anser den forklaringen om <span style=\"display:inline\"><span class=\"dre-glossary-match\">vedligeholdelse</span></span> for at være opfundet til lejligheden.</p></div><div class=\"dre-speech\"><p class=\"dre-article-body-paragraph dre-variables\">- Ifølge vores oplysninger er der ingen teknisk grund til en reduktion i leverancerne, <a href=\"https://www.faz.net/aktuell/wirtschaft/gazprom-senkt-lieferung-durch-nord-stream-1-auf-20-prozent-18198169.html\" rel=\"noopener noreferrer\" target=\"_blank\">siger en talskvinde for Finansministeriet og minister Robert Habeck til Frankfurter Allgemeine Zeitung</a>.</p></div><div class=\"dre-speech\"><p class=\"dre-article-body-paragraph dre-variables\">Tyskerne får 25 procent af deres energi fra gas, hvor en overvejende del er kommet fra Rusland.</p></div><div class=\"dre-speech\"><h2 class=\"dre-article-body-sub-heading dre-variables\">Gasprisen stiger med 10 procent</h2></div><div class=\"dre-speech\"><p class=\"dre-article-body-paragraph dre-variables\">Det er anden gang indenfor en uge, at Gazprom <span style=\"display:inline\"><span class=\"dre-glossary-match\">reducerer</span></span> leverancen af gas under påskud af reperation af gasturbiner. <a href=\"https://www.dr.dk/nyheder/udland/russisk-gas-flyder-igen-mod-europa-men-er-gaskrisen-afvaerget\" rel=\"noopener noreferrer\" target=\"_blank\">Da Gazprom efter ti dages vedligehold i sidste uge genåbnede for gasforsyningen til Tyskland</a>, var meldingen, at der dagligt ville blive leveret cirka 67 millioner kubikmeter.</p></div><div class=\"dre-speech\"><p class=\"dre-article-body-paragraph dre-variables\">Gazproms seneste melding betyder altså, at leverancerne til Europa bliver omtrent halveret fra onsdag. Gasledningen kan, når den kører for fuld kraft, levere cirka 167 millioner kubikmeter gas om dagen.</p></div></div></div><figure class=\"dre-article-body-figure dre-article-body-figure--large dre-article-body-figure--spacing\"><div><div class=\"dre-picture\"><div class=\"dre-picture__ratio-padder dre-picture__ratio-padder--xxs\" style=\"--dre-picture__ratio--xxs:0.54994\"></div></div></div><figcaption class=\"dre-article-body-figure__caption dre-article-body-figure__caption--large dre-variables\"><div class=\"dre-breakpoint dre-breakpoint--xxs dre-breakpoint--xs dre-breakpoint--sm dre-breakpoint--md dre-breakpoint--lg dre-breakpoint--xl\" style=\"--dre-breakpoint-display:initial\"><span class=\"dre-caption\">Nordstream 1-faciliter i Lubmin i Tyskland. (Arkiv) (Foto: HANNIBAL HANSCHKE © Ritzau Scanpix)</span></div></figcaption></figure><div class=\"dre-container\"><div class=\"dre-container__content dre-container__content--small\"><div class=\"dre-speech\"><p class=\"dre-article-body-paragraph dre-variables\">Den ledende europæiske gaspris er mandag aften steget med op til ti procent efter udmeldingen fra Gazprom. Det er fjerde dag i træk, at gasprisen stiger, skriver finansmediet Marketwire ifølge Rtizau.</p></div><div class=\"dre-speech\"><p class=\"dre-article-body-paragraph dre-variables\">Nord Stream 1 transporterer normalt hvert år 55 milliarder kubikmeter gas fra Rusland til Tyskland under Østersøen. Det er nok til at forsyne cirka 26 millioner europæiske hjem.</p></div><div class=\"dre-speech\"><p class=\"dre-article-body-paragraph dre-variables\">Den tyske formand for det føderale agentur for digitalisering, klimaneutralitet og modstandsdygtighed, <a href=\"https://twitter.com/Klaus_Mueller/status/1551587487688040449\" rel=\"noopener noreferrer\" target=\"_blank\">Klaus Müller, bekræfter, at den nuværende levering halveres fra onsdag</a>.</p></div></div></div><figure class=\"dre-article-body-figure dre-article-body-figure--medium dre-article-body-figure--spacing\"><div><div class=\"dre-picture\"><div class=\"dre-picture__ratio-padder dre-picture__ratio-padder--xxs\" style=\"--dre-picture__ratio--xxs:0.41682\"></div></div></div><figcaption class=\"dre-article-body-figure__caption dre-article-body-figure__caption--medium dre-article-body-figure__caption--left dre-variables\"></figcaption></figure><div class=\"dre-container\"><div class=\"dre-container__content dre-container__content--small\"><div class=\"dre-speech\"><p class=\"dre-article-body-paragraph dre-variables\">Stormagter i Europa har anklaget Rusland for at bruge gas som et afpresningsmiddel over for Europa, fordi <span style=\"display:inline\"><span class=\"dre-glossary-match\">EU</span></span> har indført <span style=\"display:inline\"><span class=\"dre-glossary-match\">sanktioner</span></span> mod Rusland på grund af krigen i Ukraine. Ifølge Tyskland er der \"ingen tekniske grunde\" til den <span style=\"display:inline\"><span class=\"dre-glossary-match\">reducerede</span></span> gasforsyning fra Nord Stream 1, som Gazprom ellers <span style=\"display:inline\"><span class=\"dre-glossary-match\">hævder</span></span>.</p></div><div class=\"dre-speech\"><p class=\"dre-article-body-paragraph dre-variables\">380.000 danske <span style=\"display:inline\"><span class=\"dre-glossary-match\">husstande</span></span> benytter <a href=\"https://ens.dk/presse/energistyrelsen-erklaerer-early-warning\" rel=\"noopener noreferrer\" target=\"_blank\">ifølge Energistyrelsen</a> naturgas til opvarmning via gasfyr. Det svarer til ca. 800.000 danskere.</p></div></div></div><figure class=\"dre-article-body-figure dre-article-body-figure--medium dre-article-body-figure--spacing\"><div><div class=\"dre-placeholder dre-placeholder--xxs dre-placeholder--xs dre-placeholder--sm dre-placeholder--md dre-placeholder--lg dre-placeholder--xl\" style=\"--dre-placeholder__height--xxs:calc(56.25vw - 2.5rem);--dre-placeholder__height--xs:calc(56.25vw - 2.5rem);--dre-placeholder__height--sm:21.796875rem;--dre-placeholder__height--md:29.8828125rem;--dre-placeholder__height--lg:29.8828125rem;--dre-placeholder__height--xl:29.8828125rem\"></div></div></figure><div class=\"dre-container\"><div class=\"dre-container__content dre-container__content--small\"><div class=\"dre-speech\"><h2 class=\"dre-article-body-sub-heading dre-variables\">Tyskerne vender sig tilbage mod kul</h2></div><div class=\"dre-speech\"><p class=\"dre-article-body-paragraph dre-variables\">Tyskland er blandt de europæiske lande, der er mest afhængig af den russiske gas. Men også flere andre europæiske lande, for eksempel Italien, er storforbrugere af gas, der kommer til Europa via Nord Stream 1.</p></div><div class=\"dre-speech\"><p class=\"dre-article-body-paragraph dre-variables\">Rusland er verdens største eksportør af naturgas. Europa importerer omkring 40 procent af sin gas fra Rusland gennem Tyskland, som sender den billige russiske gas videre til øvrige dele af Europa.</p></div><div class=\"dre-speech\"><p class=\"dre-article-body-paragraph dre-variables\">Nord Stream 1 er en 1.224 kilometer lang gasrørledning, som løber fra Rusland til Tyskland under Østersøen. Den har været i brug siden 2011.</p></div><div class=\"dre-speech\"><p class=\"dre-article-body-paragraph dre-variables\"><i>Gaskrisen har fået Tyskland til desperat at lede efter alternativer til gas til landets vigtige industri men også til private husholdninger. For eksempel ved at skifte over til den allermest forurenende energikilde. Nemlig kul. DR Nyheders korrespondent i Tyskland har været i Leipzig for at møde en kulhandler, der har kronede dage:</i></p></div></div></div><figure class=\"dre-article-body-figure dre-article-body-figure--medium dre-article-body-figure--spacing\"><div class=\"dre-video-player dre-variables\"><div class=\"dre-threshold-trigger dre-threshold-trigger--top dre-threshold-trigger--bottom\"></div><div class=\"dre-threshold-trigger dre-threshold-trigger--top dre-threshold-trigger--bottom\"></div><div><div class=\"dre-video-player__placeholder\"></div></div></div></figure><div class=\"dre-container\"><div class=\"dre-container__content dre-container__content--small\"><section class=\"dre-list dre-list--boxed dre-list--boxed-title dre-variables\" style=\"background-color:#f3f0ef\"><div class=\"dre-speech\"><h2 class=\"dre-list__title dre-list__title--boxed dre-list__title--boxed-title\">FAKTABOKS om Nord Stream 1</h2></div><ul class=\"dre-list__list dre-list__list--boxed dre-list__list--boxed-title\"><li class=\"dre-list-item\"><div class=\"dre-list-item__indicator\" style=\"color:#FF001E\">•</div><div class=\"dre-speech\"><span class=\"dre-list-item__content\"><p>Nord Stream 1 er 1224 kilometer lang og består af to gasrørledninger, som løber under Østersøen.</p></span></div></li><li class=\"dre-list-item\"><div class=\"dre-list-item__indicator\" style=\"color:#FF001E\">•</div><div class=\"dre-speech\"><span class=\"dre-list-item__content\"><p>De strækker sig fra Vyborg i Rusland til Lubmin i det nordøstlige Tyskland. Derfra transporteres gassen videre til øvrige dele af Europa.</p></span></div></li><li class=\"dre-list-item\"><div class=\"dre-list-item__indicator\" style=\"color:#FF001E\">•</div><div class=\"dre-speech\"><span class=\"dre-list-item__content\"><p>Den har været i brug siden 2011 og har dermed i over et årti - indtil Ruslands krig mod Ukraine - været en pålidelig kilde til gas til Europa.</p></span></div></li><li class=\"dre-list-item\"><div class=\"dre-list-item__indicator\" style=\"color:#FF001E\">•</div><div class=\"dre-speech\"><span class=\"dre-list-item__content\"><p>Den kan transportere 55 milliarder kubikmeter gas om året til Europa. Det er nok til at forsyne cirka 26 millioner europæiske hjem. Dermed er den særdeles vigtig for gasforsyningen til Europa.</p></span></div></li><li class=\"dre-list-item\"><div class=\"dre-list-item__indicator\" style=\"color:#FF001E\">•</div><div class=\"dre-speech\"><span class=\"dre-list-item__content\"><p>Ruslands statsejede gasselskab Gazprom ejer 51 procent af Nord Stream 1. Tysklands EON og Wintershall Dea, hollandske Gasunie og Frankrigs Engie er også aktionærer.</p></span></div></li><li class=\"dre-list-item\"><div class=\"dre-list-item__indicator\" style=\"color:#FF001E\">•</div><div class=\"dre-speech\"><span class=\"dre-list-item__content\"><p>Projektet er længe blevet set som en model for økonomisk samarbejde mellem Rusland og EU, hvor lande som Tyskland og Italien er blevet stærkt afhængige af den billige russiske gas.</p></span></div></li><li class=\"dre-list-item\"><div class=\"dre-list-item__indicator\" style=\"color:#FF001E\">•</div><div class=\"dre-speech\"><span class=\"dre-list-item__content\"><p>Rusland er verdens største eksportør af naturgas. Europa importerer omkring 40 procent af sin gas fra Rusland.</p></span></div></li><li class=\"dre-list-item\"><div class=\"dre-list-item__indicator\" style=\"color:#FF001E\">•</div><div class=\"dre-speech\"><span class=\"dre-list-item__content\"><p><i>Kilder: AFP og Reuters af /ritzau/</i></p></span></div></li></ul></section></div></div></div>"
      ]
     },
     "execution_count": 46,
     "metadata": {},
     "output_type": "execute_result"
    }
   ],
   "source": [
    "# We locate the body of the article:\n",
    "body = soup.find('div', class_ = 'dre-article-body')\n",
    "body"
   ]
  },
  {
   "cell_type": "markdown",
   "metadata": {
    "slideshow": {
     "slide_type": "subslide"
    }
   },
   "source": [
    "This body consists of both sections with text and figures. We want it all.\n",
    "\n",
    "But sections and figures have different tags, so we cannot just use `find_all` to find all elements in the body.\n",
    "\n",
    "Instead we can use [`.children`](https://www.crummy.com/software/BeautifulSoup/bs4/doc/#contents-and-children). It finds all children of the element body:"
   ]
  },
  {
   "cell_type": "code",
   "execution_count": 47,
   "metadata": {
    "slideshow": {
     "slide_type": "fragment"
    }
   },
   "outputs": [],
   "source": [
    "body_text = []\n",
    "for child in body.children:\n",
    "    body_text.append(child.text)"
   ]
  },
  {
   "cell_type": "code",
   "execution_count": 48,
   "metadata": {
    "scrolled": true,
    "slideshow": {
     "slide_type": "fragment"
    }
   },
   "outputs": [
    {
     "data": {
      "text/plain": [
       "['Gazprom halverer gasleverancerne til Europa via Nord Stream 1. Årsagen er ifølge selskabet vedligehold af en gasturbine. Den daglige gasforsyning via gasledningen vil fra onsdag morgen blive reduceret til 33 millioner kubikmeter, oplyser Gazprom.Det svarer til cirka 20 procent af den maksimale kapacitet, og det fremgår ikke, hvor længe den yderligt reducerede forsyning af gas vil stå på.',\n",
       " '',\n",
       " 'Den tyske regering anser den forklaringen om vedligeholdelse for at være opfundet til lejligheden.- Ifølge vores oplysninger er der ingen teknisk grund til en reduktion i leverancerne, siger en talskvinde for Finansministeriet og minister Robert Habeck til Frankfurter Allgemeine Zeitung.Tyskerne får 25 procent af deres energi fra gas, hvor en overvejende del er kommet fra Rusland.Gasprisen stiger med 10 procentDet er anden gang indenfor en uge, at Gazprom reducerer leverancen af gas under påskud af reperation af gasturbiner. Da Gazprom efter ti dages vedligehold i sidste uge genåbnede for gasforsyningen til Tyskland, var meldingen, at der dagligt ville blive leveret cirka 67 millioner kubikmeter.Gazproms seneste melding betyder altså, at leverancerne til Europa bliver omtrent halveret fra onsdag. Gasledningen kan, når den kører for fuld kraft, levere cirka 167 millioner kubikmeter gas om dagen.',\n",
       " 'Nordstream 1-faciliter i Lubmin i Tyskland. (Arkiv) (Foto:\\xa0HANNIBAL HANSCHKE ©\\xa0Ritzau Scanpix)',\n",
       " 'Den ledende europæiske gaspris er mandag aften steget med op til ti procent efter udmeldingen fra Gazprom. Det er fjerde dag i træk, at gasprisen stiger, skriver finansmediet Marketwire ifølge Rtizau.Nord Stream 1 transporterer normalt hvert år 55 milliarder kubikmeter gas fra Rusland til Tyskland under Østersøen. Det er nok til at forsyne cirka 26 millioner europæiske hjem.Den tyske formand for det føderale agentur for digitalisering, klimaneutralitet og modstandsdygtighed, Klaus Müller, bekræfter, at den nuværende levering halveres fra onsdag.',\n",
       " '',\n",
       " 'Stormagter i Europa har anklaget Rusland for at bruge gas som et afpresningsmiddel over for Europa, fordi EU har indført sanktioner mod Rusland på grund af krigen i Ukraine. Ifølge Tyskland er der \"ingen tekniske grunde\" til den reducerede gasforsyning fra Nord Stream 1, som Gazprom ellers hævder.380.000 danske husstande benytter ifølge Energistyrelsen naturgas til opvarmning via gasfyr. Det svarer til ca. 800.000 danskere.',\n",
       " '',\n",
       " 'Tyskerne vender sig tilbage mod kulTyskland er blandt de europæiske lande, der er mest afhængig af den russiske gas. Men også flere andre europæiske lande, for eksempel Italien, er storforbrugere af gas, der kommer til Europa via Nord Stream 1.Rusland er verdens største eksportør af naturgas. Europa importerer omkring 40 procent af sin gas fra Rusland gennem Tyskland, som sender den billige russiske gas videre til øvrige dele af Europa.Nord Stream 1 er en 1.224 kilometer lang gasrørledning, som løber fra Rusland til Tyskland under Østersøen. Den har været i brug siden 2011.Gaskrisen har fået Tyskland til desperat at lede efter alternativer til gas til landets vigtige industri men også til private husholdninger. For eksempel ved at skifte over til den allermest forurenende energikilde. Nemlig kul. DR Nyheders korrespondent i Tyskland har været i Leipzig for at møde en kulhandler, der har kronede dage:',\n",
       " '',\n",
       " 'FAKTABOKS om Nord Stream 1•Nord Stream 1 er 1224 kilometer lang og består af to gasrørledninger, som løber under Østersøen.•De strækker sig fra Vyborg i Rusland til Lubmin i det nordøstlige Tyskland. Derfra transporteres gassen videre til øvrige dele af Europa.•Den har været i brug siden 2011 og har dermed i over et årti - indtil Ruslands krig mod Ukraine - været en pålidelig kilde til gas til Europa.•Den kan transportere 55 milliarder kubikmeter gas om året til Europa. Det er nok til at forsyne cirka 26 millioner europæiske hjem. Dermed er den særdeles vigtig for gasforsyningen til Europa.•Ruslands statsejede gasselskab Gazprom ejer 51 procent af Nord Stream 1. Tysklands EON og Wintershall Dea, hollandske Gasunie og Frankrigs Engie er også aktionærer.•Projektet er længe blevet set som en model for økonomisk samarbejde mellem Rusland og EU, hvor lande som Tyskland og Italien er blevet stærkt afhængige af den billige russiske gas.•Rusland er verdens største eksportør af naturgas. Europa importerer omkring 40 procent af sin gas fra Rusland.•Kilder: AFP og Reuters af /ritzau/']"
      ]
     },
     "execution_count": 48,
     "metadata": {},
     "output_type": "execute_result"
    }
   ],
   "source": [
    "body_text"
   ]
  },
  {
   "cell_type": "markdown",
   "metadata": {
    "slideshow": {
     "slide_type": "subslide"
    }
   },
   "source": [
    "Note: We have used `.text` to get the text of the HTML. The figure elements do not contain any text, so they will just be empty. \n",
    "\n",
    "We can use `.join()` to join all the strings in the list. Just join it on an empty string:"
   ]
  },
  {
   "cell_type": "code",
   "execution_count": 49,
   "metadata": {
    "scrolled": true,
    "slideshow": {
     "slide_type": "fragment"
    }
   },
   "outputs": [
    {
     "data": {
      "text/plain": [
       "'Gazprom halverer gasleverancerne til Europa via Nord Stream 1. Årsagen er ifølge selskabet vedligehold af en gasturbine. Den daglige gasforsyning via gasledningen vil fra onsdag morgen blive reduceret til 33 millioner kubikmeter, oplyser Gazprom.Det svarer til cirka 20 procent af den maksimale kapacitet, og det fremgår ikke, hvor længe den yderligt reducerede forsyning af gas vil stå på.Den tyske regering anser den forklaringen om vedligeholdelse for at være opfundet til lejligheden.- Ifølge vores oplysninger er der ingen teknisk grund til en reduktion i leverancerne, siger en talskvinde for Finansministeriet og minister Robert Habeck til Frankfurter Allgemeine Zeitung.Tyskerne får 25 procent af deres energi fra gas, hvor en overvejende del er kommet fra Rusland.Gasprisen stiger med 10 procentDet er anden gang indenfor en uge, at Gazprom reducerer leverancen af gas under påskud af reperation af gasturbiner. Da Gazprom efter ti dages vedligehold i sidste uge genåbnede for gasforsyningen til Tyskland, var meldingen, at der dagligt ville blive leveret cirka 67 millioner kubikmeter.Gazproms seneste melding betyder altså, at leverancerne til Europa bliver omtrent halveret fra onsdag. Gasledningen kan, når den kører for fuld kraft, levere cirka 167 millioner kubikmeter gas om dagen.Nordstream 1-faciliter i Lubmin i Tyskland. (Arkiv) (Foto:\\xa0HANNIBAL HANSCHKE ©\\xa0Ritzau Scanpix)Den ledende europæiske gaspris er mandag aften steget med op til ti procent efter udmeldingen fra Gazprom. Det er fjerde dag i træk, at gasprisen stiger, skriver finansmediet Marketwire ifølge Rtizau.Nord Stream 1 transporterer normalt hvert år 55 milliarder kubikmeter gas fra Rusland til Tyskland under Østersøen. Det er nok til at forsyne cirka 26 millioner europæiske hjem.Den tyske formand for det føderale agentur for digitalisering, klimaneutralitet og modstandsdygtighed, Klaus Müller, bekræfter, at den nuværende levering halveres fra onsdag.Stormagter i Europa har anklaget Rusland for at bruge gas som et afpresningsmiddel over for Europa, fordi EU har indført sanktioner mod Rusland på grund af krigen i Ukraine. Ifølge Tyskland er der \"ingen tekniske grunde\" til den reducerede gasforsyning fra Nord Stream 1, som Gazprom ellers hævder.380.000 danske husstande benytter ifølge Energistyrelsen naturgas til opvarmning via gasfyr. Det svarer til ca. 800.000 danskere.Tyskerne vender sig tilbage mod kulTyskland er blandt de europæiske lande, der er mest afhængig af den russiske gas. Men også flere andre europæiske lande, for eksempel Italien, er storforbrugere af gas, der kommer til Europa via Nord Stream 1.Rusland er verdens største eksportør af naturgas. Europa importerer omkring 40 procent af sin gas fra Rusland gennem Tyskland, som sender den billige russiske gas videre til øvrige dele af Europa.Nord Stream 1 er en 1.224 kilometer lang gasrørledning, som løber fra Rusland til Tyskland under Østersøen. Den har været i brug siden 2011.Gaskrisen har fået Tyskland til desperat at lede efter alternativer til gas til landets vigtige industri men også til private husholdninger. For eksempel ved at skifte over til den allermest forurenende energikilde. Nemlig kul. DR Nyheders korrespondent i Tyskland har været i Leipzig for at møde en kulhandler, der har kronede dage:FAKTABOKS om Nord Stream 1•Nord Stream 1 er 1224 kilometer lang og består af to gasrørledninger, som løber under Østersøen.•De strækker sig fra Vyborg i Rusland til Lubmin i det nordøstlige Tyskland. Derfra transporteres gassen videre til øvrige dele af Europa.•Den har været i brug siden 2011 og har dermed i over et årti - indtil Ruslands krig mod Ukraine - været en pålidelig kilde til gas til Europa.•Den kan transportere 55 milliarder kubikmeter gas om året til Europa. Det er nok til at forsyne cirka 26 millioner europæiske hjem. Dermed er den særdeles vigtig for gasforsyningen til Europa.•Ruslands statsejede gasselskab Gazprom ejer 51 procent af Nord Stream 1. Tysklands EON og Wintershall Dea, hollandske Gasunie og Frankrigs Engie er også aktionærer.•Projektet er længe blevet set som en model for økonomisk samarbejde mellem Rusland og EU, hvor lande som Tyskland og Italien er blevet stærkt afhængige af den billige russiske gas.•Rusland er verdens største eksportør af naturgas. Europa importerer omkring 40 procent af sin gas fra Rusland.•Kilder: AFP og Reuters af /ritzau/'"
      ]
     },
     "execution_count": 49,
     "metadata": {},
     "output_type": "execute_result"
    }
   ],
   "source": [
    "''.join(body_text)"
   ]
  }
 ],
 "metadata": {
  "celltoolbar": "Slideshow",
  "kernelspec": {
   "display_name": "Python 3",
   "language": "python",
   "name": "python3"
  },
  "language_info": {
   "codemirror_mode": {
    "name": "ipython",
    "version": 3
   },
   "file_extension": ".py",
   "mimetype": "text/x-python",
   "name": "python",
   "nbconvert_exporter": "python",
   "pygments_lexer": "ipython3",
   "version": "3.8.5"
  },
  "latex_envs": {
   "bibliofile": "biblio.bib",
   "cite_by": "apalike",
   "current_citInitial": 1,
   "eqLabelWithNumbers": true,
   "eqNumInitial": 0
  },
  "toc": {
   "nav_menu": {
    "height": "328px",
    "width": "252px"
   },
   "navigate_menu": true,
   "number_sections": true,
   "sideBar": true,
   "threshold": 4,
   "toc_cell": false,
   "toc_section_display": "block",
   "toc_window_display": false
  }
 },
 "nbformat": 4,
 "nbformat_minor": 2
}
