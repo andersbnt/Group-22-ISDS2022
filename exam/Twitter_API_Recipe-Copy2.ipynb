{
 "cells": [
  {
   "cell_type": "code",
   "execution_count": 10,
   "metadata": {},
   "outputs": [],
   "source": [
    "# For sending GET requests from the API\n",
    "import requests\n",
    "# For saving access tokens and for file management when creating and adding to the dataset\n",
    "import os\n",
    "# For dealing with json responses we receive from the API\n",
    "import json\n",
    "# For displaying the data after\n",
    "import numpy as np\n",
    "import pandas as pd\n",
    "# For saving the response data in CSV format\n",
    "import csv\n",
    "# For parsing the dates received from twitter in readable formats\n",
    "import datetime\n",
    "import dateutil.parser\n",
    "import unicodedata\n",
    "#To add wait time between requests\n",
    "import time\n",
    "#To do Regex\n",
    "import re"
   ]
  },
  {
   "cell_type": "markdown",
   "metadata": {},
   "source": [
    "# Anders Twitter keys\n",
    "## Needs to be switched with Yuri's when we do the real pull\n",
    "\n",
    "API Key: l8K8SocntIKK1kFE9rUDJfwO8\n",
    "\n",
    "API Secret: 36cWKxQ59gWK7twlKTXRBqOMA4DIv16zO0pjlBHgfxH4szCQAG\n",
    "\n",
    "Bearer Token: AAAAAAAAAAAAAAAAAAAAAHWGfwEAAAAATNqL7vFiLYOENaicSGgIuJbnejI%3DFNW4rnpK7FpmBDZrCfNpsdMaVKvo5HKXHedygV4r7dJSbbgsSC"
   ]
  },
  {
   "cell_type": "markdown",
   "metadata": {},
   "source": [
    "# Defining the necessary functions"
   ]
  },
  {
   "cell_type": "code",
   "execution_count": 11,
   "metadata": {},
   "outputs": [],
   "source": [
    "#Define Bearer token in the Windows OS Enviroment (CHANGE TOKEN HERE)\n",
    "os.environ['TOKEN'] = 'AAAAAAAAAAAAAAAAAAAAAHWGfwEAAAAATNqL7vFiLYOENaicSGgIuJbnejI%3DFNW4rnpK7FpmBDZrCfNpsdMaVKvo5HKXHedygV4r7dJSbbgsSC'\n",
    "\n",
    "#Defining function that will fetch the token from the enviroment\n",
    "def auth():\n",
    "    return os.getenv('TOKEN')\n",
    "\n",
    "#Defining function that will pass the token for authorization and return headers for use w. the API.\n",
    "def create_headers(bearer_token):\n",
    "    headers = {\"Authorization\": \"Bearer {}\".format(bearer_token)}\n",
    "    return headers\n",
    "\n",
    "#Defining function that creates the URL for the correct endpoint. ()\n",
    "def create_url(keyword, max_results = 100):\n",
    "    \n",
    "    search_url = \"https://api.twitter.com/2/tweets/search/recent\" #We only have access to recent search (7 last days)\n",
    "\n",
    "    #change params based on the endpoint you are using\n",
    "    query_params = {'query': keyword,\n",
    "                    'max_results': max_results,\n",
    "                    'next_token': {}}\n",
    "    return (search_url, query_params)\n",
    "\n",
    "# Defining function to send the “GET” request and get a \"JSON\" format response (if we get response code 200)\n",
    "\n",
    "def connect_to_endpoint(url, headers, params, next_token = None):\n",
    "    params['next_token'] = next_token   #params object received from create_url function\n",
    "    response = requests.request(\"GET\", url, headers = headers, params = params)\n",
    "    print(\"Endpoint Response Code: \" + str(response.status_code))\n",
    "    if response.status_code != 200:\n",
    "        raise Exception(response.status_code, response.text)\n",
    "    return response.json()"
   ]
  },
  {
   "cell_type": "markdown",
   "metadata": {},
   "source": [
    "# Create request\n",
    "\n",
    "In the next cell, we will set up our inputs:\n",
    "\n",
    "    keyword = \\\"doge -is:retweet lang:en\\\"\n",
    "The above specification looks for keyword \"doge\", exclude any retweets, and search for english tweets only bearer_token and headers from the API.\n",
    "\n",
    "### First - define inputs"
   ]
  },
  {
   "cell_type": "code",
   "execution_count": 12,
   "metadata": {},
   "outputs": [],
   "source": [
    "#Inputs for the request\n",
    "bearer_token = auth()\n",
    "headers = create_headers(bearer_token)\n",
    "keyword = \"doge -is:retweet lang:en\"\n"
   ]
  },
  {
   "cell_type": "markdown",
   "metadata": {},
   "source": [
    "### Test field (Pulls only 10 Tweets)"
   ]
  },
  {
   "cell_type": "code",
   "execution_count": 19,
   "metadata": {},
   "outputs": [
    {
     "name": "stdout",
     "output_type": "stream",
     "text": [
      "Endpoint Response Code: 200\n"
     ]
    },
    {
     "data": {
      "text/html": [
       "<div>\n",
       "<style scoped>\n",
       "    .dataframe tbody tr th:only-of-type {\n",
       "        vertical-align: middle;\n",
       "    }\n",
       "\n",
       "    .dataframe tbody tr th {\n",
       "        vertical-align: top;\n",
       "    }\n",
       "\n",
       "    .dataframe thead th {\n",
       "        text-align: right;\n",
       "    }\n",
       "</style>\n",
       "<table border=\"1\" class=\"dataframe\">\n",
       "  <thead>\n",
       "    <tr style=\"text-align: right;\">\n",
       "      <th></th>\n",
       "      <th>id</th>\n",
       "      <th>text</th>\n",
       "    </tr>\n",
       "  </thead>\n",
       "  <tbody>\n",
       "    <tr>\n",
       "      <th>0</th>\n",
       "      <td>1559179336141373443</td>\n",
       "      <td>$BTC $ETH $DOGE  Best discord community so far...</td>\n",
       "    </tr>\n",
       "    <tr>\n",
       "      <th>1</th>\n",
       "      <td>1559179324976398336</td>\n",
       "      <td>$BTC $ETH $DOGE $etc  Best discord community s...</td>\n",
       "    </tr>\n",
       "    <tr>\n",
       "      <th>2</th>\n",
       "      <td>1559179311541780483</td>\n",
       "      <td>@BitcoinMagazine @Sonofdoge_  OF DOGE NEXT BIL...</td>\n",
       "    </tr>\n",
       "    <tr>\n",
       "      <th>3</th>\n",
       "      <td>1559179311533264901</td>\n",
       "      <td>@cyber_bull_ RYOGE- The shiba killer of BSC. R...</td>\n",
       "    </tr>\n",
       "    <tr>\n",
       "      <th>4</th>\n",
       "      <td>1559179300179288071</td>\n",
       "      <td>@altcryptocom NEW GEM! 💎 @Saudishibtoken\\n#Sau...</td>\n",
       "    </tr>\n",
       "    <tr>\n",
       "      <th>...</th>\n",
       "      <td>...</td>\n",
       "      <td>...</td>\n",
       "    </tr>\n",
       "    <tr>\n",
       "      <th>95</th>\n",
       "      <td>1559178540142272512</td>\n",
       "      <td>@thesavagesouls @Farewarning @opensea RYOGE- T...</td>\n",
       "    </tr>\n",
       "    <tr>\n",
       "      <th>96</th>\n",
       "      <td>1559178535943737345</td>\n",
       "      <td>@BTC_Archive @Sonofdoge_  OF DOGE NEXT BILION ...</td>\n",
       "    </tr>\n",
       "    <tr>\n",
       "      <th>97</th>\n",
       "      <td>1559178520609316864</td>\n",
       "      <td>@0xLecture @SnowLeopardsTON RYOGE- The shiba k...</td>\n",
       "    </tr>\n",
       "    <tr>\n",
       "      <th>98</th>\n",
       "      <td>1559178516574326790</td>\n",
       "      <td>@MonstersCoins RYOGE- The shiba killer of BSC....</td>\n",
       "    </tr>\n",
       "    <tr>\n",
       "      <th>99</th>\n",
       "      <td>1559178515353931776</td>\n",
       "      <td>Billionaire Mark Cuban Addresses Cardano Holde...</td>\n",
       "    </tr>\n",
       "  </tbody>\n",
       "</table>\n",
       "<p>100 rows × 2 columns</p>\n",
       "</div>"
      ],
      "text/plain": [
       "                     id                                               text\n",
       "0   1559179336141373443  $BTC $ETH $DOGE  Best discord community so far...\n",
       "1   1559179324976398336  $BTC $ETH $DOGE $etc  Best discord community s...\n",
       "2   1559179311541780483  @BitcoinMagazine @Sonofdoge_  OF DOGE NEXT BIL...\n",
       "3   1559179311533264901  @cyber_bull_ RYOGE- The shiba killer of BSC. R...\n",
       "4   1559179300179288071  @altcryptocom NEW GEM! 💎 @Saudishibtoken\\n#Sau...\n",
       "..                  ...                                                ...\n",
       "95  1559178540142272512  @thesavagesouls @Farewarning @opensea RYOGE- T...\n",
       "96  1559178535943737345  @BTC_Archive @Sonofdoge_  OF DOGE NEXT BILION ...\n",
       "97  1559178520609316864  @0xLecture @SnowLeopardsTON RYOGE- The shiba k...\n",
       "98  1559178516574326790  @MonstersCoins RYOGE- The shiba killer of BSC....\n",
       "99  1559178515353931776  Billionaire Mark Cuban Addresses Cardano Holde...\n",
       "\n",
       "[100 rows x 2 columns]"
      ]
     },
     "execution_count": 19,
     "metadata": {},
     "output_type": "execute_result"
    }
   ],
   "source": [
    "url = create_url(keyword) #ADD THE ARGUMENT 'max_results = 100' FOR FULL 100 PULL\n",
    "\n",
    "json_response = connect_to_endpoint(url[0], headers, url[1])\n",
    "\n",
    "df = pd.DataFrame(json_response['data'])\n",
    "\n",
    "df\n",
    "#df['test']"
   ]
  },
  {
   "cell_type": "markdown",
   "metadata": {},
   "source": [
    "# Full pull\n",
    "\n",
    "### Define function to loop the pull several times. Saves as DataFrame."
   ]
  },
  {
   "cell_type": "code",
   "execution_count": 14,
   "metadata": {},
   "outputs": [],
   "source": [
    "def twitter_pull(maxreps=4):\n",
    "    \n",
    "    #Setup\n",
    "    reps=0\n",
    "    next_token=None\n",
    "    df_result = pd.DataFrame()\n",
    "    \n",
    "    #Looping part\n",
    "    \n",
    "    for i in range(maxreps):\n",
    "        #Get data from Twitter API\n",
    "        json_response = connect_to_endpoint(url[0], headers, url[1], next_token)\n",
    "        \n",
    "        #Check for next_token being fetched successfully.\n",
    "        #If yes, print it and continue\n",
    "        if 'next_token' in json_response['meta']:\n",
    "            next_token = json_response['meta']['next_token']\n",
    "            print(f'next_token: {next_token}')\n",
    "        #If no, print it and continue\n",
    "        else:\n",
    "            print('next token error')\n",
    "            break\n",
    "        \n",
    "        df_response = pd.DataFrame(json_response['data'])\n",
    "        df_result = df_result.append(df_response, ignore_index=True)\n",
    "        reps+=1\n",
    "        time.sleep(2)\n",
    "        print(f'reps completed: {reps}')\n",
    "    \n",
    "    print(f'Number of tweets pulled: {len(df_result)}')\n",
    "    \n",
    "    return df_result\n",
    "    \n",
    "    "
   ]
  },
  {
   "cell_type": "markdown",
   "metadata": {},
   "source": [
    "# Actual pull field:\n",
    "\n",
    "If maxreps=4 is used, then 400 Tweets will be pulled."
   ]
  },
  {
   "cell_type": "code",
   "execution_count": 15,
   "metadata": {
    "scrolled": true
   },
   "outputs": [
    {
     "name": "stdout",
     "output_type": "stream",
     "text": [
      "Endpoint Response Code: 200\n",
      "next_token: b26v89c19zqg8o3fpz5nwj2vmh1lc7l277umycofojn99\n",
      "reps completed: 1\n",
      "Endpoint Response Code: 200\n",
      "next_token: b26v89c19zqg8o3fpz5nwj2vkyf9qnih68c2ol2rk9qwt\n",
      "reps completed: 2\n",
      "Endpoint Response Code: 200\n",
      "next_token: b26v89c19zqg8o3fpz5nwj2vkwpul37xf3ic17bg4gvwd\n",
      "reps completed: 3\n",
      "Endpoint Response Code: 200\n",
      "next_token: b26v89c19zqg8o3fpz5nwj2vjey1kj7np8qei4enm9it9\n",
      "reps completed: 4\n",
      "Number of tweets pulled: 400\n"
     ]
    }
   ],
   "source": [
    "data_df = twitter_pull(4)"
   ]
  },
  {
   "cell_type": "code",
   "execution_count": 16,
   "metadata": {},
   "outputs": [
    {
     "data": {
      "text/html": [
       "<div>\n",
       "<style scoped>\n",
       "    .dataframe tbody tr th:only-of-type {\n",
       "        vertical-align: middle;\n",
       "    }\n",
       "\n",
       "    .dataframe tbody tr th {\n",
       "        vertical-align: top;\n",
       "    }\n",
       "\n",
       "    .dataframe thead th {\n",
       "        text-align: right;\n",
       "    }\n",
       "</style>\n",
       "<table border=\"1\" class=\"dataframe\">\n",
       "  <thead>\n",
       "    <tr style=\"text-align: right;\">\n",
       "      <th></th>\n",
       "      <th>id</th>\n",
       "      <th>text</th>\n",
       "    </tr>\n",
       "  </thead>\n",
       "  <tbody>\n",
       "    <tr>\n",
       "      <th>0</th>\n",
       "      <td>1559178481422012417</td>\n",
       "      <td>@HwanniePromotes @RichQuack RYOGE- The shiba k...</td>\n",
       "    </tr>\n",
       "    <tr>\n",
       "      <th>1</th>\n",
       "      <td>1559178475302293505</td>\n",
       "      <td>Your $1500 SMX pad invested instead on April 7...</td>\n",
       "    </tr>\n",
       "    <tr>\n",
       "      <th>2</th>\n",
       "      <td>1559178467291316226</td>\n",
       "      <td>@Ai_Fumin @freedomxbird YEAH BUT DOGE HAS A NO...</td>\n",
       "    </tr>\n",
       "    <tr>\n",
       "      <th>3</th>\n",
       "      <td>1559178460517617664</td>\n",
       "      <td>@Shurenn @CryptWear_TM RYOGE- The shiba killer...</td>\n",
       "    </tr>\n",
       "    <tr>\n",
       "      <th>4</th>\n",
       "      <td>1559178450149130247</td>\n",
       "      <td>Current #DOGE Price is $0.0766297 #Dogecoin #C...</td>\n",
       "    </tr>\n",
       "    <tr>\n",
       "      <th>...</th>\n",
       "      <td>...</td>\n",
       "      <td>...</td>\n",
       "    </tr>\n",
       "    <tr>\n",
       "      <th>395</th>\n",
       "      <td>1559175467810410497</td>\n",
       "      <td>@CryptoEmdarks @AlphGenesis\\n@nystorageking\\nh...</td>\n",
       "    </tr>\n",
       "    <tr>\n",
       "      <th>396</th>\n",
       "      <td>1559175459568599047</td>\n",
       "      <td>@Alessandro_Dste RYOGE- The shiba killer of BS...</td>\n",
       "    </tr>\n",
       "    <tr>\n",
       "      <th>397</th>\n",
       "      <td>1559175458666622976</td>\n",
       "      <td>$doge Top analyst price target for next week.....</td>\n",
       "    </tr>\n",
       "    <tr>\n",
       "      <th>398</th>\n",
       "      <td>1559175452446654465</td>\n",
       "      <td>@DeshinaBolaji @DOGECoinDrop Welcome to DOGE C...</td>\n",
       "    </tr>\n",
       "    <tr>\n",
       "      <th>399</th>\n",
       "      <td>1559175438093766659</td>\n",
       "      <td>@CBRobber RYOGE- The shiba killer of BSC. Ryog...</td>\n",
       "    </tr>\n",
       "  </tbody>\n",
       "</table>\n",
       "<p>400 rows × 2 columns</p>\n",
       "</div>"
      ],
      "text/plain": [
       "                      id                                               text\n",
       "0    1559178481422012417  @HwanniePromotes @RichQuack RYOGE- The shiba k...\n",
       "1    1559178475302293505  Your $1500 SMX pad invested instead on April 7...\n",
       "2    1559178467291316226  @Ai_Fumin @freedomxbird YEAH BUT DOGE HAS A NO...\n",
       "3    1559178460517617664  @Shurenn @CryptWear_TM RYOGE- The shiba killer...\n",
       "4    1559178450149130247  Current #DOGE Price is $0.0766297 #Dogecoin #C...\n",
       "..                   ...                                                ...\n",
       "395  1559175467810410497  @CryptoEmdarks @AlphGenesis\\n@nystorageking\\nh...\n",
       "396  1559175459568599047  @Alessandro_Dste RYOGE- The shiba killer of BS...\n",
       "397  1559175458666622976  $doge Top analyst price target for next week.....\n",
       "398  1559175452446654465  @DeshinaBolaji @DOGECoinDrop Welcome to DOGE C...\n",
       "399  1559175438093766659  @CBRobber RYOGE- The shiba killer of BSC. Ryog...\n",
       "\n",
       "[400 rows x 2 columns]"
      ]
     },
     "execution_count": 16,
     "metadata": {},
     "output_type": "execute_result"
    }
   ],
   "source": [
    "data_df"
   ]
  },
  {
   "cell_type": "code",
   "execution_count": 18,
   "metadata": {},
   "outputs": [
    {
     "data": {
      "text/plain": [
       "400"
      ]
     },
     "execution_count": 18,
     "metadata": {},
     "output_type": "execute_result"
    }
   ],
   "source": [
    "uniques = data_df['id'].unique()\n",
    "len(uniques)"
   ]
  },
  {
   "cell_type": "code",
   "execution_count": null,
   "metadata": {},
   "outputs": [],
   "source": []
  }
 ],
 "metadata": {
  "kernelspec": {
   "display_name": "Python 3",
   "language": "python",
   "name": "python3"
  },
  "language_info": {
   "codemirror_mode": {
    "name": "ipython",
    "version": 3
   },
   "file_extension": ".py",
   "mimetype": "text/x-python",
   "name": "python",
   "nbconvert_exporter": "python",
   "pygments_lexer": "ipython3",
   "version": "3.8.5"
  }
 },
 "nbformat": 4,
 "nbformat_minor": 4
}
