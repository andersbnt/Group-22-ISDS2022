{
 "cells": [
  {
   "cell_type": "code",
   "execution_count": 1,
   "metadata": {},
   "outputs": [],
   "source": [
    "# For sending GET requests from the API\n",
    "import requests\n",
    "# For saving access tokens and for file management when creating and adding to the dataset\n",
    "import os\n",
    "# For dealing with json responses we receive from the API\n",
    "import json\n",
    "# For displaying the data after\n",
    "import numpy as np\n",
    "import pandas as pd\n",
    "# For saving the response data in CSV format\n",
    "import csv\n",
    "# For parsing the dates received from twitter in readable formats\n",
    "import datetime\n",
    "import dateutil.parser\n",
    "import unicodedata\n",
    "#To add wait time between requests\n",
    "import time\n",
    "#Imports timer\n",
    "import tqdm\n",
    "#To do Regex\n",
    "import re\n",
    "#To do sentiment analysis\n",
    "from textblob import TextBlob\n",
    "\n",
    "import matplotlib.pyplot as plt \n",
    "import seaborn as sns"
   ]
  },
  {
   "cell_type": "markdown",
   "metadata": {},
   "source": [
    "## Import data from CSV file to a DataFrame"
   ]
  },
  {
   "cell_type": "code",
   "execution_count": 2,
   "metadata": {},
   "outputs": [],
   "source": [
    "data_df = pd.read_csv('final dataset twt.csv')"
   ]
  },
  {
   "cell_type": "markdown",
   "metadata": {},
   "source": [
    "## Cleaning up DataFrame\n",
    "\n",
    "### Adding columns"
   ]
  },
  {
   "cell_type": "code",
   "execution_count": 3,
   "metadata": {},
   "outputs": [],
   "source": [
    "#Add date and hour columns:\n",
    "data_df['Date'] = pd.to_datetime(data_df['Date Created']).dt.date\n",
    "data_df['Hour'] = pd.to_datetime(data_df['Date Created']).dt.hour\n",
    "\n",
    "clean_df = data_df.drop('Unnamed: 0', axis=1)"
   ]
  },
  {
   "cell_type": "markdown",
   "metadata": {},
   "source": [
    "### Removing columns"
   ]
  },
  {
   "cell_type": "markdown",
   "metadata": {},
   "source": [
    "### Sample"
   ]
  },
  {
   "cell_type": "code",
   "execution_count": 6,
   "metadata": {},
   "outputs": [
    {
     "data": {
      "text/html": [
       "<div>\n",
       "<style scoped>\n",
       "    .dataframe tbody tr th:only-of-type {\n",
       "        vertical-align: middle;\n",
       "    }\n",
       "\n",
       "    .dataframe tbody tr th {\n",
       "        vertical-align: top;\n",
       "    }\n",
       "\n",
       "    .dataframe thead th {\n",
       "        text-align: right;\n",
       "    }\n",
       "</style>\n",
       "<table border=\"1\" class=\"dataframe\">\n",
       "  <thead>\n",
       "    <tr style=\"text-align: right;\">\n",
       "      <th></th>\n",
       "      <th>User</th>\n",
       "      <th>Date Created</th>\n",
       "      <th>Number of Likes</th>\n",
       "      <th>Tweet</th>\n",
       "      <th>Date</th>\n",
       "      <th>Hour</th>\n",
       "    </tr>\n",
       "  </thead>\n",
       "  <tbody>\n",
       "    <tr>\n",
       "      <th>0</th>\n",
       "      <td>DogecoinCuban</td>\n",
       "      <td>2021-12-31 23:59:58+00:00</td>\n",
       "      <td>1</td>\n",
       "      <td>@Rodolfo07351753 @sodogetip tip @Rodolfo073517...</td>\n",
       "      <td>2021-12-31</td>\n",
       "      <td>23</td>\n",
       "    </tr>\n",
       "    <tr>\n",
       "      <th>1</th>\n",
       "      <td>RNY1117</td>\n",
       "      <td>2021-12-31 23:59:47+00:00</td>\n",
       "      <td>2</td>\n",
       "      <td>HAPPY NEW DOGE YEAR</td>\n",
       "      <td>2021-12-31</td>\n",
       "      <td>23</td>\n",
       "    </tr>\n",
       "    <tr>\n",
       "      <th>2</th>\n",
       "      <td>bojodus</td>\n",
       "      <td>2021-12-31 23:59:37+00:00</td>\n",
       "      <td>0</td>\n",
       "      <td>Prayers Up for XRP, DOGE , SHIB \\nx1000 to the...</td>\n",
       "      <td>2021-12-31</td>\n",
       "      <td>23</td>\n",
       "    </tr>\n",
       "    <tr>\n",
       "      <th>3</th>\n",
       "      <td>CryptoCapflow</td>\n",
       "      <td>2021-12-31 23:59:09+00:00</td>\n",
       "      <td>0</td>\n",
       "      <td>[Spot] By 2021-12-31 14:00 GMT, DOGE total tra...</td>\n",
       "      <td>2021-12-31</td>\n",
       "      <td>23</td>\n",
       "    </tr>\n",
       "    <tr>\n",
       "      <th>4</th>\n",
       "      <td>CarlosS74671189</td>\n",
       "      <td>2021-12-31 23:59:04+00:00</td>\n",
       "      <td>1</td>\n",
       "      <td>@Darlene_Pizarro How much Doge would you like ...</td>\n",
       "      <td>2021-12-31</td>\n",
       "      <td>23</td>\n",
       "    </tr>\n",
       "    <tr>\n",
       "      <th>...</th>\n",
       "      <td>...</td>\n",
       "      <td>...</td>\n",
       "      <td>...</td>\n",
       "      <td>...</td>\n",
       "      <td>...</td>\n",
       "      <td>...</td>\n",
       "    </tr>\n",
       "    <tr>\n",
       "      <th>1194430</th>\n",
       "      <td>FraxinusE</td>\n",
       "      <td>2021-10-20 15:16:21+00:00</td>\n",
       "      <td>0</td>\n",
       "      <td>@RichAvatar_ Doge</td>\n",
       "      <td>2021-10-20</td>\n",
       "      <td>15</td>\n",
       "    </tr>\n",
       "    <tr>\n",
       "      <th>1194431</th>\n",
       "      <td>realDogecoinOG</td>\n",
       "      <td>2021-10-20 15:16:19+00:00</td>\n",
       "      <td>4</td>\n",
       "      <td>Chart of Open Interests or the huge pump on pe...</td>\n",
       "      <td>2021-10-20</td>\n",
       "      <td>15</td>\n",
       "    </tr>\n",
       "    <tr>\n",
       "      <th>1194432</th>\n",
       "      <td>jalantrading</td>\n",
       "      <td>2021-10-20 15:16:13+00:00</td>\n",
       "      <td>0</td>\n",
       "      <td>DOGE https://t.co/jmoMMslmTs</td>\n",
       "      <td>2021-10-20</td>\n",
       "      <td>15</td>\n",
       "    </tr>\n",
       "    <tr>\n",
       "      <th>1194433</th>\n",
       "      <td>LeviKrull</td>\n",
       "      <td>2021-10-20 15:16:05+00:00</td>\n",
       "      <td>0</td>\n",
       "      <td>Bought a doge miner with doge today</td>\n",
       "      <td>2021-10-20</td>\n",
       "      <td>15</td>\n",
       "    </tr>\n",
       "    <tr>\n",
       "      <th>1194434</th>\n",
       "      <td>KittyPlays</td>\n",
       "      <td>2021-10-20 15:15:55+00:00</td>\n",
       "      <td>2</td>\n",
       "      <td>@DMB_tv I sold my Doge position. I’m in Luna B...</td>\n",
       "      <td>2021-10-20</td>\n",
       "      <td>15</td>\n",
       "    </tr>\n",
       "  </tbody>\n",
       "</table>\n",
       "<p>1194435 rows × 6 columns</p>\n",
       "</div>"
      ],
      "text/plain": [
       "                    User               Date Created  Number of Likes  \\\n",
       "0          DogecoinCuban  2021-12-31 23:59:58+00:00                1   \n",
       "1                RNY1117  2021-12-31 23:59:47+00:00                2   \n",
       "2                bojodus  2021-12-31 23:59:37+00:00                0   \n",
       "3          CryptoCapflow  2021-12-31 23:59:09+00:00                0   \n",
       "4        CarlosS74671189  2021-12-31 23:59:04+00:00                1   \n",
       "...                  ...                        ...              ...   \n",
       "1194430        FraxinusE  2021-10-20 15:16:21+00:00                0   \n",
       "1194431   realDogecoinOG  2021-10-20 15:16:19+00:00                4   \n",
       "1194432     jalantrading  2021-10-20 15:16:13+00:00                0   \n",
       "1194433        LeviKrull  2021-10-20 15:16:05+00:00                0   \n",
       "1194434       KittyPlays  2021-10-20 15:15:55+00:00                2   \n",
       "\n",
       "                                                     Tweet        Date  Hour  \n",
       "0        @Rodolfo07351753 @sodogetip tip @Rodolfo073517...  2021-12-31    23  \n",
       "1                                      HAPPY NEW DOGE YEAR  2021-12-31    23  \n",
       "2        Prayers Up for XRP, DOGE , SHIB \\nx1000 to the...  2021-12-31    23  \n",
       "3        [Spot] By 2021-12-31 14:00 GMT, DOGE total tra...  2021-12-31    23  \n",
       "4        @Darlene_Pizarro How much Doge would you like ...  2021-12-31    23  \n",
       "...                                                    ...         ...   ...  \n",
       "1194430                                  @RichAvatar_ Doge  2021-10-20    15  \n",
       "1194431  Chart of Open Interests or the huge pump on pe...  2021-10-20    15  \n",
       "1194432                       DOGE https://t.co/jmoMMslmTs  2021-10-20    15  \n",
       "1194433                Bought a doge miner with doge today  2021-10-20    15  \n",
       "1194434  @DMB_tv I sold my Doge position. I’m in Luna B...  2021-10-20    15  \n",
       "\n",
       "[1194435 rows x 6 columns]"
      ]
     },
     "execution_count": 6,
     "metadata": {},
     "output_type": "execute_result"
    }
   ],
   "source": [
    "clean_df"
   ]
  },
  {
   "cell_type": "markdown",
   "metadata": {},
   "source": [
    "## Some initial plotting"
   ]
  },
  {
   "cell_type": "code",
   "execution_count": 8,
   "metadata": {},
   "outputs": [],
   "source": [
    "tweets_per_day_df = clean_df['Tweet'].groupby(clean_df['Date']).count()"
   ]
  },
  {
   "cell_type": "code",
   "execution_count": 9,
   "metadata": {
    "scrolled": true
   },
   "outputs": [
    {
     "data": {
      "image/png": "[encoded data removed]",
      "text/plain": [
       "<Figure size 432x288 with 1 Axes>"
      ]
     },
     "metadata": {
      "needs_background": "light"
     },
     "output_type": "display_data"
    }
   ],
   "source": [
    "plt.plot(tweets_per_day_df)\n",
    "plt.title('Number of English tweets mentioning \\'doge\\' per day')\n",
    "plt.xticks(rotation=90)\n",
    "\n",
    "plt.show()"
   ]
  },
  {
   "cell_type": "markdown",
   "metadata": {},
   "source": [
    "# Sentiment analysis\n",
    "\n",
    "First we define two functions:\n",
    "* One that cleans a given tweet for unnecessary stuff, such as mentions etc\n",
    "* One that uses the TextBlob library's sentiment function to determine a given tweets sentiment"
   ]
  },
  {
   "cell_type": "code",
   "execution_count": 10,
   "metadata": {},
   "outputs": [],
   "source": [
    "def clean_tweet(tweet):\n",
    "    '''\n",
    "    Using RegEx, this function cleans the tweets for unnecessary fluffer\n",
    "    '''\n",
    "    return ' '.join(re.sub(\"(@[A-Za-z0-9]+)|([^0-9A-Za-z \\t])|(\\w+:\\/\\/\\S+)\", \" \", tweet).split())\n",
    "\n",
    "def get_tweet_sentiment(tweet):\n",
    "    '''\n",
    "    Uses textblob to decide sentiment of a parsed tweet\n",
    "    '''\n",
    "    # Create TextBlob object\n",
    "    blob = TextBlob(clean_tweet(tweet))\n",
    "        \n",
    "    # Set sentiment\n",
    "    if blob.sentiment.polarity > 0:\n",
    "        return 'positive'\n",
    "    elif blob.sentiment.polarity == 0:\n",
    "        return 'neutral'\n",
    "    else:\n",
    "        return 'negative'"
   ]
  },
  {
   "cell_type": "markdown",
   "metadata": {},
   "source": [
    "### Demonstration of the clean_tweet function:"
   ]
  },
  {
   "cell_type": "code",
   "execution_count": 11,
   "metadata": {},
   "outputs": [],
   "source": [
    "#print('Full tweet: \\n',clean_df['text'][0], '\\n')\n",
    "\n",
    "#print('Cleaned tweet: \\n',clean_tweet(clean_df['text'][0]))"
   ]
  },
  {
   "cell_type": "markdown",
   "metadata": {},
   "source": [
    "## Adding a sentiment-column\n",
    "\n",
    "Using list comprehension we use the above defined functions on each tweet text in clean_df\n",
    "\n",
    "### OBS: the cell takes around 5 minutes to run"
   ]
  },
  {
   "cell_type": "code",
   "execution_count": 12,
   "metadata": {},
   "outputs": [
    {
     "name": "stderr",
     "output_type": "stream",
     "text": [
      "100%|██████████████████████████████████████████████████████████████████████| 1194435/1194435 [09:11<00:00, 2166.23it/s]\n"
     ]
    }
   ],
   "source": [
    "clean_df['Sentiment'] = [get_tweet_sentiment(tweet) for tweet in tqdm.tqdm(clean_df['Tweet'])]"
   ]
  },
  {
   "cell_type": "code",
   "execution_count": null,
   "metadata": {},
   "outputs": [],
   "source": []
  },
  {
   "cell_type": "code",
   "execution_count": 14,
   "metadata": {},
   "outputs": [],
   "source": [
    "sentiment_dict = {\n",
    "  \"negative\": -1,\n",
    "  \"neutral\": 0,\n",
    "  \"positive\": 1}\n",
    "\n",
    "clean_df['Numerical'] = [sentiment_dict[i] for i in clean_df['Sentiment']]"
   ]
  },
  {
   "cell_type": "code",
   "execution_count": 20,
   "metadata": {},
   "outputs": [],
   "source": [
    "clean_df.to_csv('Cleaned_Twitter_Scrape_10-12_2021.csv')"
   ]
  },
  {
   "cell_type": "code",
   "execution_count": null,
   "metadata": {},
   "outputs": [],
   "source": []
  },
  {
   "cell_type": "markdown",
   "metadata": {},
   "source": [
    "### Grouping by sentiment, for simple bar chart"
   ]
  },
  {
   "cell_type": "code",
   "execution_count": 18,
   "metadata": {},
   "outputs": [],
   "source": [
    "tweets_by_sentiment = clean_df['Tweet'].groupby(clean_df['Sentiment']).count()"
   ]
  },
  {
   "cell_type": "code",
   "execution_count": 19,
   "metadata": {},
   "outputs": [
    {
     "data": {
      "image/png": "[encoded data removed]",
      "text/plain": [
       "<Figure size 432x288 with 1 Axes>"
      ]
     },
     "metadata": {
      "needs_background": "light"
     },
     "output_type": "display_data"
    }
   ],
   "source": [
    "plt.bar(['negative', 'neutral', 'positive'], tweets_by_sentiment, color =['maroon','royalblue','limegreen'])\n",
    "plt.title('Tweets by sentiment rating using TextBlob')\n",
    "\n",
    "plt.show()"
   ]
  },
  {
   "cell_type": "code",
   "execution_count": 21,
   "metadata": {},
   "outputs": [],
   "source": [
    "sentiment_per_day_df = clean_df['Numerical'].groupby(clean_df['Date']).sum()"
   ]
  },
  {
   "cell_type": "code",
   "execution_count": 22,
   "metadata": {},
   "outputs": [
    {
     "data": {
      "image/png": "[encoded data removed]",
      "text/plain": [
       "<Figure size 432x288 with 1 Axes>"
      ]
     },
     "metadata": {
      "needs_background": "light"
     },
     "output_type": "display_data"
    }
   ],
   "source": [
    "plt.plot(sentiment_per_day_df)\n",
    "plt.title('Sum of sentiment per day')\n",
    "plt.xticks(rotation=90)\n",
    "\n",
    "#plt.annotate('lol', xy = (0, 0))\n",
    "\n",
    "plt.show()"
   ]
  },
  {
   "cell_type": "code",
   "execution_count": null,
   "metadata": {},
   "outputs": [],
   "source": []
  },
  {
   "cell_type": "code",
   "execution_count": null,
   "metadata": {},
   "outputs": [],
   "source": []
  },
  {
   "cell_type": "code",
   "execution_count": null,
   "metadata": {},
   "outputs": [],
   "source": []
  },
  {
   "cell_type": "code",
   "execution_count": null,
   "metadata": {},
   "outputs": [],
   "source": []
  },
  {
   "cell_type": "markdown",
   "metadata": {},
   "source": [
    "### Cleaning out bots by arbitrary tweet limit"
   ]
  },
  {
   "cell_type": "code",
   "execution_count": 49,
   "metadata": {},
   "outputs": [],
   "source": [
    "tweets_by_user = clean_df['Tweet'].groupby(clean_df['User']).count()"
   ]
  },
  {
   "cell_type": "code",
   "execution_count": 86,
   "metadata": {},
   "outputs": [
    {
     "data": {
      "text/plain": [
       "User\n",
       "bmurphypointman    59075\n",
       "IAmDogeBot         11974\n",
       "babydoge_value      8384\n",
       "TopCryptoHound      6662\n",
       "Dogecoinvalue       4475\n",
       "Reaper67058359      4471\n",
       "DogePriceAlert      3825\n",
       "MarvelS98705125     3438\n",
       "slullyman           2819\n",
       "CryptoCapflow       2569\n",
       "Name: Tweet, dtype: int64"
      ]
     },
     "execution_count": 86,
     "metadata": {},
     "output_type": "execute_result"
    }
   ],
   "source": [
    "tweets_by_user.sort_values(axis=0, ascending=False).head(10)"
   ]
  },
  {
   "cell_type": "code",
   "execution_count": 75,
   "metadata": {},
   "outputs": [],
   "source": [
    "#Bots if more than 10 tweets per day\n",
    "bots_10 = tweets_by_user[tweets_by_user >= 73*10]"
   ]
  },
  {
   "cell_type": "code",
   "execution_count": 85,
   "metadata": {},
   "outputs": [
    {
     "name": "stdout",
     "output_type": "stream",
     "text": [
      "\n",
      "    Total tweets in data set: \n",
      "    1194435\n",
      "    \n",
      "    Total tweets if users with more than 10 tweets per day (avg) is removed:\n",
      "    999292\n",
      "    \n",
      "    Percentage of total tweets removed:\n",
      "    16.34 %\n",
      "    \n",
      "    \n"
     ]
    }
   ],
   "source": [
    "print(\n",
    "    f\"\"\"\n",
    "    Total tweets in data set: \n",
    "    {len(clean_df)}\n",
    "    \n",
    "    Total tweets if users with more than 10 tweets per day (avg) is removed:\n",
    "    {len(clean_df)-bots_10.sum()}\n",
    "    \n",
    "    Percentage of total tweets removed:\n",
    "    {bots_10.sum()/len(clean_df)*100:.2f} %\n",
    "    \n",
    "    \"\"\")"
   ]
  },
  {
   "cell_type": "code",
   "execution_count": null,
   "metadata": {},
   "outputs": [],
   "source": []
  }
 ],
 "metadata": {
  "kernelspec": {
   "display_name": "Python 3",
   "language": "python",
   "name": "python3"
  },
  "language_info": {
   "codemirror_mode": {
    "name": "ipython",
    "version": 3
   },
   "file_extension": ".py",
   "mimetype": "text/x-python",
   "name": "python",
   "nbconvert_exporter": "python",
   "pygments_lexer": "ipython3",
   "version": "3.8.5"
  }
 },
 "nbformat": 4,
 "nbformat_minor": 4
}
