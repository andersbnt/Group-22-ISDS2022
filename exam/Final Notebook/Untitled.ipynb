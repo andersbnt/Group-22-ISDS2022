{
 "cells": [
  {
   "cell_type": "code",
   "execution_count": 1,
   "metadata": {},
   "outputs": [],
   "source": [
    "import pandas as pd\n"
   ]
  },
  {
   "cell_type": "code",
   "execution_count": 2,
   "metadata": {},
   "outputs": [],
   "source": [
    "lol = pd.read_csv('twitter_73_days_raw.csv')\n"
   ]
  },
  {
   "cell_type": "code",
   "execution_count": 5,
   "metadata": {},
   "outputs": [],
   "source": [
    "clean_lol = lol.drop('Unnamed: 0', axis=1)"
   ]
  },
  {
   "cell_type": "code",
   "execution_count": 6,
   "metadata": {},
   "outputs": [
    {
     "data": {
      "text/html": [
       "<div>\n",
       "<style scoped>\n",
       "    .dataframe tbody tr th:only-of-type {\n",
       "        vertical-align: middle;\n",
       "    }\n",
       "\n",
       "    .dataframe tbody tr th {\n",
       "        vertical-align: top;\n",
       "    }\n",
       "\n",
       "    .dataframe thead th {\n",
       "        text-align: right;\n",
       "    }\n",
       "</style>\n",
       "<table border=\"1\" class=\"dataframe\">\n",
       "  <thead>\n",
       "    <tr style=\"text-align: right;\">\n",
       "      <th></th>\n",
       "      <th>User</th>\n",
       "      <th>Date Created</th>\n",
       "      <th>Number of Likes</th>\n",
       "      <th>Tweet</th>\n",
       "    </tr>\n",
       "  </thead>\n",
       "  <tbody>\n",
       "    <tr>\n",
       "      <th>0</th>\n",
       "      <td>DogecoinCuban</td>\n",
       "      <td>2021-12-31 23:59:58+00:00</td>\n",
       "      <td>1</td>\n",
       "      <td>@Rodolfo07351753 @sodogetip tip @Rodolfo073517...</td>\n",
       "    </tr>\n",
       "    <tr>\n",
       "      <th>1</th>\n",
       "      <td>RNY1117</td>\n",
       "      <td>2021-12-31 23:59:47+00:00</td>\n",
       "      <td>2</td>\n",
       "      <td>HAPPY NEW DOGE YEAR</td>\n",
       "    </tr>\n",
       "    <tr>\n",
       "      <th>2</th>\n",
       "      <td>bojodus</td>\n",
       "      <td>2021-12-31 23:59:37+00:00</td>\n",
       "      <td>0</td>\n",
       "      <td>Prayers Up for XRP, DOGE , SHIB \\nx1000 to the...</td>\n",
       "    </tr>\n",
       "    <tr>\n",
       "      <th>3</th>\n",
       "      <td>CryptoCapflow</td>\n",
       "      <td>2021-12-31 23:59:09+00:00</td>\n",
       "      <td>0</td>\n",
       "      <td>[Spot] By 2021-12-31 14:00 GMT, DOGE total tra...</td>\n",
       "    </tr>\n",
       "    <tr>\n",
       "      <th>4</th>\n",
       "      <td>CarlosS74671189</td>\n",
       "      <td>2021-12-31 23:59:04+00:00</td>\n",
       "      <td>1</td>\n",
       "      <td>@Darlene_Pizarro How much Doge would you like ...</td>\n",
       "    </tr>\n",
       "    <tr>\n",
       "      <th>...</th>\n",
       "      <td>...</td>\n",
       "      <td>...</td>\n",
       "      <td>...</td>\n",
       "      <td>...</td>\n",
       "    </tr>\n",
       "    <tr>\n",
       "      <th>1194430</th>\n",
       "      <td>FraxinusE</td>\n",
       "      <td>2021-10-20 15:16:21+00:00</td>\n",
       "      <td>0</td>\n",
       "      <td>@RichAvatar_ Doge</td>\n",
       "    </tr>\n",
       "    <tr>\n",
       "      <th>1194431</th>\n",
       "      <td>realDogecoinOG</td>\n",
       "      <td>2021-10-20 15:16:19+00:00</td>\n",
       "      <td>4</td>\n",
       "      <td>Chart of Open Interests or the huge pump on pe...</td>\n",
       "    </tr>\n",
       "    <tr>\n",
       "      <th>1194432</th>\n",
       "      <td>jalantrading</td>\n",
       "      <td>2021-10-20 15:16:13+00:00</td>\n",
       "      <td>0</td>\n",
       "      <td>DOGE https://t.co/jmoMMslmTs</td>\n",
       "    </tr>\n",
       "    <tr>\n",
       "      <th>1194433</th>\n",
       "      <td>LeviKrull</td>\n",
       "      <td>2021-10-20 15:16:05+00:00</td>\n",
       "      <td>0</td>\n",
       "      <td>Bought a doge miner with doge today</td>\n",
       "    </tr>\n",
       "    <tr>\n",
       "      <th>1194434</th>\n",
       "      <td>KittyPlays</td>\n",
       "      <td>2021-10-20 15:15:55+00:00</td>\n",
       "      <td>2</td>\n",
       "      <td>@DMB_tv I sold my Doge position. I’m in Luna B...</td>\n",
       "    </tr>\n",
       "  </tbody>\n",
       "</table>\n",
       "<p>1194435 rows × 4 columns</p>\n",
       "</div>"
      ],
      "text/plain": [
       "                    User               Date Created  Number of Likes  \\\n",
       "0          DogecoinCuban  2021-12-31 23:59:58+00:00                1   \n",
       "1                RNY1117  2021-12-31 23:59:47+00:00                2   \n",
       "2                bojodus  2021-12-31 23:59:37+00:00                0   \n",
       "3          CryptoCapflow  2021-12-31 23:59:09+00:00                0   \n",
       "4        CarlosS74671189  2021-12-31 23:59:04+00:00                1   \n",
       "...                  ...                        ...              ...   \n",
       "1194430        FraxinusE  2021-10-20 15:16:21+00:00                0   \n",
       "1194431   realDogecoinOG  2021-10-20 15:16:19+00:00                4   \n",
       "1194432     jalantrading  2021-10-20 15:16:13+00:00                0   \n",
       "1194433        LeviKrull  2021-10-20 15:16:05+00:00                0   \n",
       "1194434       KittyPlays  2021-10-20 15:15:55+00:00                2   \n",
       "\n",
       "                                                     Tweet  \n",
       "0        @Rodolfo07351753 @sodogetip tip @Rodolfo073517...  \n",
       "1                                      HAPPY NEW DOGE YEAR  \n",
       "2        Prayers Up for XRP, DOGE , SHIB \\nx1000 to the...  \n",
       "3        [Spot] By 2021-12-31 14:00 GMT, DOGE total tra...  \n",
       "4        @Darlene_Pizarro How much Doge would you like ...  \n",
       "...                                                    ...  \n",
       "1194430                                  @RichAvatar_ Doge  \n",
       "1194431  Chart of Open Interests or the huge pump on pe...  \n",
       "1194432                       DOGE https://t.co/jmoMMslmTs  \n",
       "1194433                Bought a doge miner with doge today  \n",
       "1194434  @DMB_tv I sold my Doge position. I’m in Luna B...  \n",
       "\n",
       "[1194435 rows x 4 columns]"
      ]
     },
     "execution_count": 6,
     "metadata": {},
     "output_type": "execute_result"
    }
   ],
   "source": [
    "clean_lol"
   ]
  },
  {
   "cell_type": "code",
   "execution_count": 8,
   "metadata": {},
   "outputs": [],
   "source": [
    "lol.to_csv('twitter_73_days_raw.csv', index=False)"
   ]
  },
  {
   "cell_type": "code",
   "execution_count": null,
   "metadata": {},
   "outputs": [],
   "source": []
  }
 ],
 "metadata": {
  "kernelspec": {
   "display_name": "Python 3",
   "language": "python",
   "name": "python3"
  },
  "language_info": {
   "codemirror_mode": {
    "name": "ipython",
    "version": 3
   },
   "file_extension": ".py",
   "mimetype": "text/x-python",
   "name": "python",
   "nbconvert_exporter": "python",
   "pygments_lexer": "ipython3",
   "version": "3.8.5"
  }
 },
 "nbformat": 4,
 "nbformat_minor": 4
}
