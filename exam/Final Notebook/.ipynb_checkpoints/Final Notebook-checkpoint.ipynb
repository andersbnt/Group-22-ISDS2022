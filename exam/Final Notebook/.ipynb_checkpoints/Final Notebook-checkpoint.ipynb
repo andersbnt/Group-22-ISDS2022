{
 "cells": [
  {
   "cell_type": "markdown",
   "metadata": {},
   "source": [
    "# Final Notebook for Exam Project\n",
    "\n",
    "This notebook contains all the code necessary for replicating our data gat\n",
    "1. Gathering and cleaning data\n",
    "2. Training and applying the sentiment analysis tool\n",
    "3. Replicating the Machine Learning regressions\n",
    "\n",
    "However one should note, that the data gathering using the official API will lead to a completely new dataset - at it only allows requests of the 7 most recent dates, from the moment it is started"
   ]
  },
  {
   "cell_type": "markdown",
   "metadata": {},
   "source": [
    "## Section 0 - Imports and installs\n",
    "\n",
    "Some of the below packages might be necessary to install before importing. This is easily done with pip install, and is only necessary to do once"
   ]
  },
  {
   "cell_type": "code",
   "execution_count": 78,
   "metadata": {
    "scrolled": true
   },
   "outputs": [
    {
     "ename": "ModuleNotFoundError",
     "evalue": "No module named 'binance.client'; 'binance' is not a package",
     "output_type": "error",
     "traceback": [
      "\u001b[1;31m---------------------------------------------------------------------------\u001b[0m",
      "\u001b[1;31mModuleNotFoundError\u001b[0m                       Traceback (most recent call last)",
      "\u001b[1;32m<ipython-input-78-72093f4f8565>\u001b[0m in \u001b[0;36m<module>\u001b[1;34m\u001b[0m\n\u001b[0;32m     31\u001b[0m \u001b[1;32mimport\u001b[0m \u001b[0mglob\u001b[0m\u001b[1;33m\u001b[0m\u001b[1;33m\u001b[0m\u001b[0m\n\u001b[0;32m     32\u001b[0m \u001b[1;31m# For the Binance API\u001b[0m\u001b[1;33m\u001b[0m\u001b[1;33m\u001b[0m\u001b[1;33m\u001b[0m\u001b[0m\n\u001b[1;32m---> 33\u001b[1;33m \u001b[1;32mfrom\u001b[0m \u001b[0mbinance\u001b[0m\u001b[1;33m.\u001b[0m\u001b[0mclient\u001b[0m \u001b[1;32mimport\u001b[0m \u001b[0mClient\u001b[0m\u001b[1;33m\u001b[0m\u001b[1;33m\u001b[0m\u001b[0m\n\u001b[0m\u001b[0;32m     34\u001b[0m \u001b[1;31m#To ignore warning\u001b[0m\u001b[1;33m\u001b[0m\u001b[1;33m\u001b[0m\u001b[1;33m\u001b[0m\u001b[0m\n\u001b[0;32m     35\u001b[0m \u001b[1;32mimport\u001b[0m \u001b[0mwarnings\u001b[0m\u001b[1;33m\u001b[0m\u001b[1;33m\u001b[0m\u001b[0m\n",
      "\u001b[1;31mModuleNotFoundError\u001b[0m: No module named 'binance.client'; 'binance' is not a package"
     ]
    }
   ],
   "source": [
    "# For sending GET requests from the API\n",
    "import requests\n",
    "# For saving access tokens and for file management when creating and adding to the dataset\n",
    "import os\n",
    "# For dealing with json responses we receive from the API\n",
    "import json\n",
    "# For displaying the data after\n",
    "import numpy as np\n",
    "import pandas as pd\n",
    "# For saving the response data in CSV format\n",
    "import csv\n",
    "# For parsing the dates received from twitter in readable formats\n",
    "import datetime\n",
    "import dateutil.parser\n",
    "import unicodedata\n",
    "#To add wait time between requests\n",
    "import time\n",
    "#To do Regex\n",
    "import re\n",
    "#To use progress bars\n",
    "import tqdm\n",
    "from tqdm.auto import tqdm\n",
    "#To do basic sentiment analysis\n",
    "from textblob import TextBlob\n",
    "#For plotting\n",
    "import matplotlib.pyplot as plt \n",
    "import seaborn as sns\n",
    "#To scrape Twitter\n",
    "import snscrape\n",
    "import snscrape.modules.twitter as sntwitter\n",
    "import glob\n",
    "# For the Binance API\n",
    "from binance.client import Client\n",
    "#To ignore warning\n",
    "import warnings\n",
    "from sklearn.exceptions import ConvergenceWarning\n",
    "warnings.filterwarnings(action='ignore', category=ConvergenceWarning)\n",
    "\n",
    "#For training sentiment analysis tool with NLTK\n",
    "#Import packages\n",
    "import nltk, re, string, random, tqdm\n",
    "import pandas as pd\n",
    "import tqdm \n",
    "import matplotlib.pyplot as plt \n",
    "from matplotlib import ticker\n",
    "\n",
    "from nltk import classify, NaiveBayesClassifier, FreqDist\n",
    "from nltk.tokenize import word_tokenize\n",
    "from nltk.corpus import twitter_samples\n",
    "from nltk.corpus import stopwords\n",
    "from nltk.tag import pos_tag\n",
    "from nltk.stem.wordnet import WordNetLemmatizer\n",
    "\n",
    "nltk.download('punkt')\n",
    "nltk.download('twitter_samples')\n",
    "nltk.download('wordnet')\n",
    "nltk.download('averaged_perceptron_tagger')\n",
    "nltk.download('stopwords')\n",
    "\n",
    "#For Roberta\n",
    "from emot.emo_unicode import UNICODE_EMOJI, EMOTICONS_EMO\n",
    "from transformers import AutoTokenizer, AutoModelForSequenceClassification\n",
    "import torch\n",
    "\n",
    "#For wordclouds\n",
    "from wordcloud import WordCloud\n",
    "from collections import Counter\n",
    "from PIL import Image\n",
    "\n",
    "#For Machine Learning Regression\n",
    "# LOAD FROM SCIKIT-LEARN\n",
    "from sklearn.pipeline import make_pipeline\n",
    "from sklearn.model_selection import train_test_split\n",
    "from sklearn.preprocessing import PolynomialFeatures, StandardScaler\n",
    "from sklearn.linear_model import LinearRegression\n",
    "from sklearn.linear_model import Lasso\n",
    "from sklearn.metrics import mean_squared_error as mse\n",
    "from sklearn.model_selection import KFold\n",
    "from sklearn.model_selection import learning_curve\n",
    "from sklearn.model_selection import validation_curve"
   ]
  },
  {
   "cell_type": "markdown",
   "metadata": {},
   "source": [
    "## Section 1 - The Data Sets"
   ]
  },
  {
   "cell_type": "markdown",
   "metadata": {},
   "source": [
    "### 1.1 Official Twitter API (7 recent days)\n",
    "\n",
    "Define necessary functions (using Bearer Token attached to Twitter Developer Account)"
   ]
  },
  {
   "cell_type": "code",
   "execution_count": 2,
   "metadata": {},
   "outputs": [],
   "source": [
    "#Define Bearer token in the Windows OS Enviroment (CHANGE TOKEN HERE)\n",
    "os.environ['TOKEN'] = 'AAAAAAAAAAAAAAAAAAAAAHWGfwEAAAAATNqL7vFiLYOENaicSGgIuJbnejI%3DFNW4rnpK7FpmBDZrCfNpsdMaVKvo5HKXHedygV4r7dJSbbgsSC'\n",
    "\n",
    "#Defining function that will fetch the token from the enviroment\n",
    "def auth():\n",
    "    return os.getenv('TOKEN')\n",
    "\n",
    "#Defining function that will pass the token for authorization and return headers for use w. the API.\n",
    "def create_headers(bearer_token):\n",
    "    headers = {\"Authorization\": \"Bearer {}\".format(bearer_token)}\n",
    "    return headers\n",
    "\n",
    "#Defining function that creates the URL for the correct endpoint. ()\n",
    "def create_url(keyword, max_results = 100):\n",
    "    \n",
    "    search_url = \"https://api.twitter.com/2/tweets/search/recent\" #We only have access to recent search (7 last days)\n",
    "\n",
    "    #change params based on the endpoint you are using\n",
    "    query_params = {'query': keyword,\n",
    "                    #'start_time': start_date,\n",
    "                    #'end_time': end_date,\n",
    "                    'max_results': max_results,\n",
    "                    'expansions': 'author_id,in_reply_to_user_id,geo.place_id',\n",
    "                    'tweet.fields': 'id,text,author_id,in_reply_to_user_id,geo,conversation_id,created_at,lang,public_metrics,referenced_tweets,reply_settings,source',\n",
    "                    'user.fields': 'id,name,username,created_at,description,public_metrics,verified',\n",
    "                    'place.fields': 'full_name,id,country,country_code,geo,name,place_type',\n",
    "                    'next_token': {}}\n",
    "    return (search_url, query_params)\n",
    "\n",
    "# The function below will send the “GET” request and if everything is correct \n",
    "# (response code 200), it will return the response in “JSON” format.\n",
    "\n",
    "def connect_to_endpoint(url, headers, params, next_token = None):\n",
    "    params['next_token'] = next_token   #params object received from create_url function\n",
    "    response = requests.request(\"GET\", url, headers = headers, params = params)\n",
    "    print(\"Endpoint Response Code: \" + str(response.status_code))\n",
    "    if response.status_code != 200:\n",
    "        raise Exception(response.status_code, response.text)\n",
    "    return response.json()\n",
    "\n",
    "def twitter_pull(maxreps=4):\n",
    "    \n",
    "    #Setup\n",
    "    reps=0\n",
    "    next_token=None\n",
    "    df_result = pd.DataFrame()\n",
    "    \n",
    "    #Looping part\n",
    "    \n",
    "    for i in range(maxreps):\n",
    "        #Get data from Twitter API\n",
    "        json_response = connect_to_endpoint(url[0], headers, url[1], next_token)\n",
    "        \n",
    "        #Check for next_token being fetched successfully.\n",
    "        \n",
    "        #If yes, print it and continue\n",
    "        if 'next_token' in json_response['meta']:\n",
    "            next_token = json_response['meta']['next_token']\n",
    "            print(f'next_token: {next_token}')\n",
    "        #If no, we have reached the API limit. Break loop\n",
    "        else:\n",
    "            print('No next token received \\nRequest ended')\n",
    "            break\n",
    "        \n",
    "        df_response = pd.DataFrame(json_response['data'])\n",
    "        df_result = df_result.append(df_response, ignore_index=True)\n",
    "        reps+=1\n",
    "        print(f'Repetitions completed: {reps}')\n",
    "        time.sleep(2)\n",
    "    \n",
    "    print(f'\\nNumber of tweets pulled: {len(df_result)} \\nRequest ended')\n",
    "    \n",
    "    return df_result\n",
    "\n",
    "\n",
    "#2 functions that uses TextBlob to do really simple sentiment analysis\n",
    "def clean_tweet(tweet):\n",
    "    '''\n",
    "    Using RegEx, this function cleans the tweets for unnecessary fluffer\n",
    "    '''\n",
    "    return ' '.join(re.sub(\"(@[A-Za-z0-9]+)|([^0-9A-Za-z \\t])|(\\w+:\\/\\/\\S+)\", \" \", tweet).split())\n",
    "\n",
    "def get_tweet_sentiment(tweet):\n",
    "    '''\n",
    "    Uses textblob to decide sentiment of a parsed tweet\n",
    "    '''\n",
    "    # Create TextBlob object\n",
    "    blob = TextBlob(clean_tweet(tweet))\n",
    "        \n",
    "    # Set sentiment\n",
    "    if blob.sentiment.polarity > 0:\n",
    "        return 'positive'\n",
    "    elif blob.sentiment.polarity == 0:\n",
    "        return 'neutral'\n",
    "    else:\n",
    "        return 'negative'"
   ]
  },
  {
   "cell_type": "markdown",
   "metadata": {},
   "source": [
    "#### Create request\n",
    "\n",
    "In the next cell, we will set up our inputs:\n",
    "\n",
    "    keyword = \\\"doge -is:retweet lang:en\\\"\n",
    "The above specification looks for keyword \"doge\", exclude any retweets, and search for english tweets only\n",
    "\n",
    "Define inputs:"
   ]
  },
  {
   "cell_type": "code",
   "execution_count": 3,
   "metadata": {},
   "outputs": [],
   "source": [
    "#Inputs for the request\n",
    "bearer_token = auth()\n",
    "headers = create_headers(bearer_token)\n",
    "keyword = \"doge -is:retweet lang:en\"\n",
    "url = create_url(keyword)"
   ]
  },
  {
   "cell_type": "markdown",
   "metadata": {},
   "source": [
    "#### Request data"
   ]
  },
  {
   "cell_type": "code",
   "execution_count": 4,
   "metadata": {},
   "outputs": [
    {
     "name": "stdout",
     "output_type": "stream",
     "text": [
      "Endpoint Response Code: 200\n",
      "next_token: b26v89c19zqg8o3fpz8kbj1hw4fgkoza6xu2zpbc7h3st\n",
      "Repetitions completed: 1\n",
      "Endpoint Response Code: 200\n",
      "next_token: b26v89c19zqg8o3fpz8kbj1ht1wlxha11798z4sp444fx\n",
      "Repetitions completed: 2\n",
      "Endpoint Response Code: 200\n",
      "next_token: b26v89c19zqg8o3fpz8kbj1hq1ie11d012zm3pq9144u5\n",
      "Repetitions completed: 3\n",
      "Endpoint Response Code: 200\n",
      "next_token: b26v89c19zqg8o3fpz8kbj1hn0wp5ubi34lqsxphfgz25\n",
      "Repetitions completed: 4\n",
      "\n",
      "Number of tweets pulled: 400 \n",
      "Request ended\n"
     ]
    }
   ],
   "source": [
    "API_data_df = twitter_pull(maxreps=4)   #Maxreps=4 for testing purposes. For full request, use larger number"
   ]
  },
  {
   "cell_type": "markdown",
   "metadata": {},
   "source": [
    "The dataset originally pulled on august 15th was then saved as a csv with below code:\n",
    "\n",
    "    data_df.to_csv('twitter_API_raw.csv', index=False)\n",
    "    \n",
    "The original dataset can be loaded below, or otherwise just continue with test set\n",
    "\n",
    "#### Clean data"
   ]
  },
  {
   "cell_type": "code",
   "execution_count": 5,
   "metadata": {},
   "outputs": [],
   "source": [
    "### Used to get original dataset back:\n",
    "\n",
    "#data_df = pd.read_csv('twitter_API_raw.csv')\n",
    "\n",
    "### To continue with test dataset from above, continue as is\n"
   ]
  },
  {
   "cell_type": "markdown",
   "metadata": {},
   "source": [
    "Add and remove columns"
   ]
  },
  {
   "cell_type": "code",
   "execution_count": 13,
   "metadata": {},
   "outputs": [],
   "source": [
    "#Add date and date_hour columns as datetime objects:\n",
    "API_data_df['date'] = pd.to_datetime(API_data_df['created_at']).dt.date\n",
    "API_data_df['date_hour'] = pd.to_datetime([str[:-10]+'00:00' for str in API_data_df['created_at']])\n",
    "\n",
    "    \n",
    "#Drop columns\n",
    "drop_columns = ['reply_settings', 'source', 'id', 'conversation_id', 'public_metrics', 'in_reply_to_user_id', 'referenced_tweets', 'lang', 'created_at']\n",
    "clean_API_df = API_data_df.drop(drop_columns, axis=1)\n"
   ]
  },
  {
   "cell_type": "markdown",
   "metadata": {},
   "source": [
    "Save cleaned data as .csv for later use"
   ]
  },
  {
   "cell_type": "code",
   "execution_count": 58,
   "metadata": {},
   "outputs": [],
   "source": [
    "clean_API_df.to_csv('twitter_API_data_cleaned.csv', index=False) "
   ]
  },
  {
   "cell_type": "markdown",
   "metadata": {},
   "source": [
    "### Simple TextBlow sentiment added"
   ]
  },
  {
   "cell_type": "markdown",
   "metadata": {},
   "source": [
    "Using list comprehension to apply defined functions to each tweet text in clean_API_df\n",
    "\n",
    "Adds as new column in the DataFrame.\n",
    "##### OBS: the cell takes around 1-2 minutes to run for the full data set"
   ]
  },
  {
   "cell_type": "code",
   "execution_count": null,
   "metadata": {},
   "outputs": [],
   "source": [
    "### Used to get original dataset back if available:\n",
    "\n",
    "#clean_API_df = pd.read_csv('twitter_API_raw.csv')\n",
    "\n",
    "### To continue with test dataset from above, continue as is"
   ]
  },
  {
   "cell_type": "code",
   "execution_count": 68,
   "metadata": {},
   "outputs": [
    {
     "name": "stderr",
     "output_type": "stream",
     "text": [
      "100%|███████████████████████████████████████████████████████████████████████████████| 400/400 [00:01<00:00, 212.47it/s]\n"
     ]
    }
   ],
   "source": [
    "clean_API_df['sentiment'] = [get_tweet_sentiment(tweet) for tweet in tqdm.tqdm(clean_API_df['text'])]"
   ]
  },
  {
   "cell_type": "markdown",
   "metadata": {},
   "source": [
    "Grouping:"
   ]
  },
  {
   "cell_type": "code",
   "execution_count": null,
   "metadata": {},
   "outputs": [],
   "source": [
    "### Number of tweets per hour mentioning 'doge'\n",
    "tweets_per_hour_API = clean_API_df['text'].groupby(clean_API_df['date_hour']).count()\n",
    "\n",
    "### Total number of tweets in each sentiment category\n",
    "tweets_by_sentiment = clean_API_df['text'].groupby(clean_API_df['sentiment']).count()"
   ]
  },
  {
   "cell_type": "markdown",
   "metadata": {},
   "source": [
    "Plotting (Will differ from plots in the report, as the data set will be new every time)"
   ]
  },
  {
   "cell_type": "code",
   "execution_count": 69,
   "metadata": {},
   "outputs": [
    {
     "data": {
      "image/png": "[encoded data removed]",
      "text/plain": [
       "<Figure size 864x288 with 2 Axes>"
      ]
     },
     "metadata": {
      "needs_background": "light"
     },
     "output_type": "display_data"
    }
   ],
   "source": [
    "fig1, (ax1, ax2) = plt.subplots(ncols=2, figsize=(12,4))\n",
    "\n",
    "#Left plot\n",
    "ax1.plot(tweets_per_hour)\n",
    "ax1.set_title('Number of English tweets \\n mentioning \\'doge\\' per day')\n",
    "ax1.tick_params(axis='x',rotation=90)\n",
    "\n",
    "#Right plot\n",
    "ax2.bar(['negative', 'neutral', 'positive'], tweets_by_sentiment, color =['maroon','royalblue','limegreen'])\n",
    "ax2.set_title('Number of tweets by sentiment \\n rating using TextBlob')\n",
    "\n",
    "#Tightens the plots nicely\n",
    "fig1.tight_layout()\n",
    "\n",
    "plt.show()"
   ]
  },
  {
   "cell_type": "markdown",
   "metadata": {},
   "source": [
    "### 1.2 Twitter scrape (73 days)\n",
    "\n",
    "This scraping code simply scrapes from the end date to the start date, and saves as a .csv"
   ]
  },
  {
   "cell_type": "code",
   "execution_count": null,
   "metadata": {},
   "outputs": [],
   "source": [
    "#Conditions for the scrape\n",
    "tweet_count = 1200000 #amount of tweets scraped\n",
    "tweet_query = \"doge\" #what we're scraping for\n",
    "since_date = \"2021-12-01\" #start date of scrape\n",
    "until_date = \"2021-12-31\" #end date of scrape\n",
    "\n",
    "# Executing the scrape through OS rather than loop\n",
    "os.system('snscrape --jsonl --max-results {} --since {} twitter-search \\\"{} until:{}\\ lang:en\"> doge-tweets.json'.format(tweet_count, since_date, text_query, until_date))\n",
    "\n",
    "data_df = pd.read_json('doge-tweets.json')\n",
    "data_df.to_csv('twitter_73_days_raw.csv', index=False)\n",
    "\n",
    "## Du har cleaning kommandoerne for at rense for bots osv. liggende, så dem inkluderer jeg ikke her, men husk at fjerne API-keysne!"
   ]
  },
  {
   "cell_type": "markdown",
   "metadata": {},
   "source": [
    "Load the .csv file"
   ]
  },
  {
   "cell_type": "code",
   "execution_count": null,
   "metadata": {},
   "outputs": [],
   "source": [
    "data_73 = pd.read_csv('twitter_73_days_raw.csv')"
   ]
  },
  {
   "cell_type": "markdown",
   "metadata": {},
   "source": [
    "Adding and removing columns"
   ]
  },
  {
   "cell_type": "code",
   "execution_count": 51,
   "metadata": {},
   "outputs": [],
   "source": [
    "data_73['Date'] = pd.to_datetime(data_73['Date Created']).dt.date\n",
    "data_73['Date_Hour'] = [str[:-11]+'00:00' for str in data_73['Date Created']]\n",
    "\n",
    "clean_73_df = data_73.drop('Date Created', axis=1)"
   ]
  },
  {
   "cell_type": "markdown",
   "metadata": {},
   "source": [
    "#### Cleaning out bots"
   ]
  },
  {
   "cell_type": "code",
   "execution_count": null,
   "metadata": {},
   "outputs": [],
   "source": [
    "# Creating a series of usernames with number of tweets for each\n",
    "tweets_by_user_73 = clean_73_df['Tweet'].groupby(clean_73_df['User']).count().sort_values(ascending=False)"
   ]
  },
  {
   "cell_type": "code",
   "execution_count": null,
   "metadata": {},
   "outputs": [],
   "source": [
    "#Using Rapid API/Botometer to check users for being bots\n",
    "rapidapi_key=\"021ba4febbmsh4de41a22cd11ff2p1a3d74jsn2279bfe997e8\"\n",
    "twitter_app_auth = {\n",
    "    'consumer_key': '0uI8dxQGRxVItgvrxvR6ARzz7',\n",
    "    'consumer_secret': '4EUtW4wH4DlwwXALQb5omsFz6ZkgFgywwlbc4K6JOrbUmpS04x',\n",
    "    'access_token': '714967964924116992-tCepcrzU2upZLYuiYXxe7ru2ffzrII6',\n",
    "    'access_token_secret': 'Id6Fzpmp0o1cduVJMquOfe9Wb9SQuuOykLdiNL9BMIbO5',\n",
    "  }\n",
    "\n",
    "bom = botometer.Botometer(wait_on_ratelimit=True,\n",
    "                          rapidapi_key=rapidapi_key,\n",
    "                          **twitter_app_auth)\n",
    "\n",
    "#Checkin a real account and a bot as a test\n",
    "checkbotreal = bom.check_account(\"@WetKissesBitch\")\n",
    "checkbotbot = bom.check_account(\"@slullyman\")\n",
    "\n",
    "print (f'''\n",
    "Overall Botometer score for a real person: {checkbotreal['raw_scores']['universal']['overall']} \\n\n",
    "Overall Botometer score for a bot: {checkbotbot['raw_scores']['universal']['overall']} \\n\n",
    "After inspecting the most high frequency twitter accounts and running sample Botometer tests, the most \n",
    "reasonable cutoff seems to be at 514 total tweets, or around 7 tweets per day, covering \n",
    "most of the bots, while the remaining bots are likely to produce neutral sentiment results and further \n",
    "cuts would lead to disproportionate loss of real users. \\n \n",
    "That leaves us with 1.05M tweets, which is a good result. \n",
    "The existing tweets are already filtered for being in the english language to the extent possible.\")\n",
    "''')"
   ]
  },
  {
   "cell_type": "code",
   "execution_count": null,
   "metadata": {},
   "outputs": [],
   "source": [
    "# Defining cutoff as users with more than 514 tweets\n",
    "cutoff = [i for i in tweets_by_user_73[tweets_by_user_73 <=514].index]\n",
    "\n",
    "# Defining final DataFrame, where bots are removed\n",
    "final_73_df = clean_73_df[clean_73_df['User'].isin(cutoff) == True].reset_index(drop=True)\n",
    "\n",
    "\n",
    "print(f'''\n",
    "Number of tweets removed: {len(clean_73_df)-len(final_73_df)} \\n\n",
    "Number of tweets left: {len(final_73_df)} \\n\n",
    "Percentage removed: {(len(clean_73_df)-len(final_73_df))/len(clean_73_df):.2f} %\n",
    "''')"
   ]
  },
  {
   "cell_type": "markdown",
   "metadata": {},
   "source": [
    "Save cleaned data to .csv for later use"
   ]
  },
  {
   "cell_type": "code",
   "execution_count": null,
   "metadata": {},
   "outputs": [],
   "source": [
    "clean_73_df.to_csv('twitter_73_days_cleaned.csv', index=False)"
   ]
  },
  {
   "cell_type": "markdown",
   "metadata": {},
   "source": [
    "### 1.3 Twitter scrape (1 year)\n",
    "\n",
    " A modified version of Jared Bach's code, posted here: https://github.com/JustAnotherArchivist/snscrape/issues/459\n",
    " \n",
    " Setup:"
   ]
  },
  {
   "cell_type": "code",
   "execution_count": null,
   "metadata": {},
   "outputs": [],
   "source": [
    "def gettweets(month,year,num_tweets_per_day,query):\n",
    "\n",
    "    # define how many days there are in each month\n",
    "    if month in [1, 3, 5, 7, 8, 10, 12]:\n",
    "        days_in_month = 31\n",
    "        total_tweets = days_in_month * num_tweets_per_day\n",
    "\n",
    "    elif month in [4, 6, 9, 11]:\n",
    "        days_in_month = 30\n",
    "        total_tweets = days_in_month * num_tweets_per_day\n",
    "\n",
    "    elif month == 2:\n",
    "        days_in_month = 28\n",
    "        total_tweets = days_in_month * num_tweets_per_day\n",
    "\n",
    "    # create list that scraped tweets are appended to\n",
    "    tweets_list = []\n",
    "    pbar = tqdm(total=total_tweets)\n",
    "\n",
    "    # define datetime timeframe we're scraping\n",
    "    until = date(year, month, 2).isoformat()\n",
    "    last_day = (date.fromisoformat(until)+timedelta(days=days_in_month)).isoformat()\n",
    "\n",
    "    # counts how many tweets have been scraped in total\n",
    "    counter = 0\n",
    "\n",
    "    # looping snscrape to scrape every day of a selected month for our prefered search term, its conditions and appending tweets\n",
    "    while counter != total_tweets:\n",
    "        for j in range(1):\n",
    "            for i,tweet in enumerate(sntwitter.TwitterSearchScraper('{} until:{} lang:en min_faves:5 min_replies:4'.format(query,until)).get_items()):\n",
    "                if i >= num_tweets_per_day:\n",
    "                    until = (date.fromisoformat(until)+timedelta(days=1)).isoformat()\n",
    "                    break\n",
    "                tweets_list.append([tweet.date, tweet.content, tweet.user.username, tweet.likeCount,])\n",
    "                sleep(0.01)\n",
    "                counter += 1\n",
    "                pbar.update(1)\n",
    "\n",
    "    pbar.close()\n",
    "\n",
    "    # converting the list with appended tweets to a dataframe\n",
    "    df = pd.DataFrame(tweets_list, columns=['Date', 'Tweet', 'Username','Like Count'])\n",
    "    \n",
    "    \n",
    "    # exporting the dataframe as a .csv file\n",
    "    df.to_csv('{}-{}csv'.format(query,month), encoding='utf-8', index=False)"
   ]
  },
  {
   "cell_type": "markdown",
   "metadata": {},
   "source": [
    "Excecute"
   ]
  },
  {
   "cell_type": "code",
   "execution_count": null,
   "metadata": {},
   "outputs": [],
   "source": [
    "gettweets(1,2021,6500, 'doge')"
   ]
  },
  {
   "cell_type": "markdown",
   "metadata": {},
   "source": [
    "### Cleaning"
   ]
  },
  {
   "cell_type": "code",
   "execution_count": null,
   "metadata": {},
   "outputs": [],
   "source": [
    "df_1year = df.drop_duplicates().reset_index()\n",
    "df_1year.to_csv('monthclean.csv',index=False)"
   ]
  },
  {
   "cell_type": "markdown",
   "metadata": {},
   "source": [
    "### Saving to .csv"
   ]
  },
  {
   "cell_type": "code",
   "execution_count": null,
   "metadata": {},
   "outputs": [],
   "source": [
    "df_1year.to_csv('monthclean.csv',index=False)"
   ]
  },
  {
   "cell_type": "markdown",
   "metadata": {},
   "source": [
    "#### The 1-year scrape is run as a multi-kernel proces, which is not shown here, wherafter the months are emerged as shown below:"
   ]
  },
  {
   "cell_type": "code",
   "execution_count": null,
   "metadata": {},
   "outputs": [],
   "source": [
    "# setting the path for joining multiple files\n",
    "files = os.path.join(r\"...Group-22-ISDS2022\\exam\\1yearset\\clean months\", \"*clean.csv\")\n",
    "\n",
    "# list of merged files returned\n",
    "files = glob.glob(files)\n",
    "\n",
    "# joining files with concat and read_csv\n",
    "df = pd.concat(map(pd.read_csv, files))\n",
    "print(df)\n",
    "\n",
    "df = df.reset_index()\n",
    "df = df[['Date','Tweet','Username','Like Count']]\n",
    "df.to_csv('1year.csv')"
   ]
  },
  {
   "cell_type": "markdown",
   "metadata": {},
   "source": [
    "### 1.4 Reddit API/scrape\n",
    "\n",
    "Define necessary functions"
   ]
  },
  {
   "cell_type": "code",
   "execution_count": null,
   "metadata": {},
   "outputs": [],
   "source": [
    "# Define url generator function\n",
    "def getPushshiftData(query, after, before, sub):\n",
    "    url = 'https://api.pushshift.io/reddit/search/submission/?size=1000&after='+str(after)+'&before='+str(before)+'&subreddit='+str(sub)\n",
    "    print(url)\n",
    "    r = requests.get(url)\n",
    "    data = json.loads(r.text)\n",
    "    return data['data']\n",
    "\n",
    "# Define data collection function\n",
    "def collectSubData(subm):\n",
    "    subData = list() #list to store data points\n",
    "    title = subm['title']\n",
    "    url = subm['url']\n",
    "    try:\n",
    "        flair = subm['link_flair_text']\n",
    "    except KeyError:\n",
    "        flair = \"NaN\"    \n",
    "    author = subm['author']\n",
    "    sub_id = subm['id']\n",
    "    score = subm['score']\n",
    "    created = datetime.datetime.fromtimestamp(subm['created_utc']) #1520561700.0\n",
    "    numComms = subm['num_comments']\n",
    "    permalink = subm['permalink']\n",
    "    \n",
    "    subData.append((sub_id,title,url,author,score,created,numComms,permalink,flair))\n",
    "    subStats[sub_id] = subData"
   ]
  },
  {
   "cell_type": "code",
   "execution_count": null,
   "metadata": {},
   "outputs": [],
   "source": [
    "#Subreddit to query\n",
    "sub='dogecoin'\n",
    "#before and after dates\n",
    "before = \"1640905200\" #October 1st\n",
    "after = '1598911200'  #January 1st \n",
    "query = \"\"\n",
    "subCount = 0\n",
    "subStats = {}"
   ]
  },
  {
   "cell_type": "code",
   "execution_count": null,
   "metadata": {},
   "outputs": [],
   "source": [
    "#Date time to unix converter\n",
    "# assigned regular string date\n",
    "date_time = datetime.datetime(2021, 12, 31, 0, 0)\n",
    " \n",
    "# print regular python date&time\n",
    "print(\"date_time =>\",date_time)\n",
    " \n",
    "# displaying unix timestamp after conversion\n",
    "print(\"unix_timestamp => \",\n",
    "      (time.mktime(date_time.timetuple())))"
   ]
  },
  {
   "cell_type": "markdown",
   "metadata": {},
   "source": [
    "Scraping/Request excecution!"
   ]
  },
  {
   "cell_type": "code",
   "execution_count": null,
   "metadata": {},
   "outputs": [],
   "source": [
    "#Scrape\n",
    "reddit_data = getPushshiftData(query, after, before, sub)\n",
    "# Will run until all posts have been gathered \n",
    "# from the 'after' date up until before date\n",
    "while len(reddit_data) > 0:\n",
    "    for submission in reddit_data:\n",
    "        collectSubData(submission)\n",
    "        subCount+=1\n",
    "    # Calls getPushshiftData() with the created date of the last submission\n",
    "    print(len(reddit_data))\n",
    "    print(str(datetime.datetime.fromtimestamp(reddit_data[-1]['created_utc'])))\n",
    "    after = reddit_data[-1]['created_utc']\n",
    "    reddit_data = getPushshiftData(query, after, before, sub)\n",
    "    \n",
    "print(len(reddit_data))"
   ]
  },
  {
   "cell_type": "code",
   "execution_count": null,
   "metadata": {},
   "outputs": [],
   "source": [
    "#Turn tuples into list\n",
    "print(str(len(subStats)) + \" submissions have added to list\")\n",
    "print(\"1st entry is:\")\n",
    "print(list(subStats.values())[0][0][1] + \" created: \" + str(list(subStats.values())[0][0][5]))\n",
    "print(\"Last entry is:\")\n",
    "print(list(subStats.values())[-1][0][1] + \" created: \" + str(list(subStats.values())[-1][0][5]))"
   ]
  },
  {
   "cell_type": "code",
   "execution_count": null,
   "metadata": {},
   "outputs": [],
   "source": [
    "#Save to csv\n",
    "def updateSubs_file():\n",
    "    upload_count = 0\n",
    "    #location = \"C:\\Users\\phetm\\OneDrive\\Desktop\\Code\"\n",
    "    print(\"input filename of submission file, please add .csv\")\n",
    "    filename = input()\n",
    "    file = filename\n",
    "    with open(file, 'w', newline='', encoding='utf-8') as file: \n",
    "        a = csv.writer(file, delimiter=',')\n",
    "        headers = [\"Post ID\",\"Title\",\"Url\",\"Author\",\"Score\",\"Publish Date\",\"Total No. of Comments\",\"Permalink\",\"Flair\"]\n",
    "        a.writerow(headers)\n",
    "        for sub in subStats:\n",
    "            a.writerow(subStats[sub][0])\n",
    "            upload_count+=1\n",
    "            \n",
    "        print(str(upload_count) + \" submissions have been uploaded\")\n",
    "updateSubs_file()"
   ]
  },
  {
   "cell_type": "markdown",
   "metadata": {},
   "source": [
    "### Binance API\n",
    "\n",
    "Binance API code below"
   ]
  },
  {
   "cell_type": "code",
   "execution_count": null,
   "metadata": {},
   "outputs": [],
   "source": [
    "klines = client.get_historical_klines(\"DOGEUSDT\", Client.KLINE_INTERVAL_1HOUR, \"1 jan, 2021\", \"1 jan, 2022\")\n",
    "#klines"
   ]
  },
  {
   "cell_type": "code",
   "execution_count": null,
   "metadata": {},
   "outputs": [],
   "source": [
    "binance_df = pd.DataFrame(klines)\n",
    "columns = ['Open time', 'Open', 'High', 'Low', 'Close', 'Volume', 'Close time', 'Quote asset volume', 'Number of trades', 'Taker buy base asset volume', 'taker buy quote asset volume', 'ignore']\n",
    "binance_df.columns = columns\n",
    "binance_df['Open time'] = pd.to_datetime((binance_df['Open time']*1000000))\n",
    "binance_df['Close time'] = pd.to_datetime((binance_df['Close time']*1000000))\n",
    "#binance_df.head(2)"
   ]
  },
  {
   "cell_type": "code",
   "execution_count": null,
   "metadata": {},
   "outputs": [],
   "source": [
    "binance_df.to_csv('Binance_hist_data_2021.csv', index=False)"
   ]
  },
  {
   "cell_type": "markdown",
   "metadata": {},
   "source": [
    "## Section 2 - Sentiment analysis\n"
   ]
  },
  {
   "cell_type": "markdown",
   "metadata": {},
   "source": [
    "### 2.2 Training our own sentiment analyzer with NLTK"
   ]
  },
  {
   "cell_type": "markdown",
   "metadata": {},
   "source": [
    "Importing raw training data from samples supplied by NLTK"
   ]
  },
  {
   "cell_type": "code",
   "execution_count": 38,
   "metadata": {},
   "outputs": [],
   "source": [
    "positive_tweets = twitter_samples.strings('positive_tweets.json')\n",
    "negative_tweets = twitter_samples.strings('negative_tweets.json')\n",
    "text = twitter_samples.strings('tweets.20150430-223406.json')"
   ]
  },
  {
   "cell_type": "markdown",
   "metadata": {},
   "source": [
    "Defining necessary functions"
   ]
  },
  {
   "cell_type": "code",
   "execution_count": 49,
   "metadata": {},
   "outputs": [],
   "source": [
    "#lematization funtion, normalises words to canonical form (slower, but more refined than \"stemming\")\n",
    "def lemmatize_sentence(tokens):\n",
    "    lemmatizer = WordNetLemmatizer()\n",
    "    lemmatized_sentence = []\n",
    "    for word, tag in pos_tag(tokens):\n",
    "        if tag.startswith('NN'):\n",
    "            pos = 'n'\n",
    "        elif tag.startswith('VB'):\n",
    "            pos = 'v'\n",
    "        else:\n",
    "            pos = 'a'\n",
    "        lemmatized_sentence.append(lemmatizer.lemmatize(word, pos))\n",
    "    return lemmatized_sentence\n",
    "\n",
    "\n",
    "\n",
    "#Function to remove noise (the, it, @ for twitter handles and others)\n",
    "def remove_noise(tweet_tokens, stop_words = ()):\n",
    "\n",
    "    cleaned_tokens = []\n",
    "\n",
    "    for token, tag in pos_tag(tweet_tokens):\n",
    "        token = re.sub('http[s]?://(?:[a-zA-Z]|[0-9]|[$-_@.&+#]|[!*\\(\\),]|'\\\n",
    "                       '(?:%[0-9a-fA-F][0-9a-fA-F]))+','', token)\n",
    "        token = re.sub(\"(@[A-Za-z0-9_]+)\",\"\", token)\n",
    "\n",
    "        if tag.startswith(\"NN\"):\n",
    "            pos = 'n'\n",
    "        elif tag.startswith('VB'):\n",
    "            pos = 'v'\n",
    "        else:\n",
    "            pos = 'a'\n",
    "\n",
    "        lemmatizer = WordNetLemmatizer()\n",
    "        token = lemmatizer.lemmatize(token, pos)\n",
    "\n",
    "        if len(token) > 0 and token not in string.punctuation and token.lower() not in stop_words:\n",
    "            cleaned_tokens.append(token.lower())\n",
    "    return cleaned_tokens\n",
    "\n",
    "\n",
    "\n",
    "# Word density function\n",
    "def get_all_words(cleaned_tokens_list):\n",
    "    for tokens in cleaned_tokens_list:\n",
    "        for token in tokens:\n",
    "            yield token\n",
    "            \n",
    "\n",
    "#Function to fetch cleaned tokens for modelling\n",
    "def get_tweets_for_model(cleaned_tokens_list):\n",
    "    for tweet_tokens in cleaned_tokens_list:\n",
    "        yield dict([token, True] for token in tweet_tokens)\n",
    "\n",
    "\n",
    "#Function called to do the actual sentiment analysis on our data\n",
    "def sentiment_analysis(DataFrame, column_name):\n",
    "    \"\"\"\n",
    "    Takes in a DataFrame, and a string specifying the name of the column where the tweets are located\n",
    "    Returns the DataFrame with a sentiment analysis column appended \n",
    "    \"\"\"\n",
    "    \n",
    "    #Creating temp_list of all text bits in DataFrame\n",
    "    temp_list = DataFrame[column_name].tolist()\n",
    "    \n",
    "    # For loop that finds sentiment of each element in temp list as -1 (negative) or 1 (positive)\n",
    "\n",
    "    output_list = []\n",
    "\n",
    "    for i in tqdm.tqdm(temp_list):\n",
    "        custom_text = str(i)\n",
    "        custom_tokens = remove_noise(word_tokenize(custom_text))\n",
    "        if classifier.classify(dict([token, True] for token in custom_tokens)) == 'Negative':\n",
    "            output_list.append(-1)\n",
    "        else:\n",
    "            output_list.append(1)\n",
    "    DataFrame['sentiment'] = pd.DataFrame(output_list)\n",
    "    \n",
    "    return DataFrame"
   ]
  },
  {
   "cell_type": "markdown",
   "metadata": {},
   "source": [
    "Make clean sample out of cleaned data"
   ]
  },
  {
   "cell_type": "code",
   "execution_count": 40,
   "metadata": {},
   "outputs": [],
   "source": [
    "# Importing list of unnecessary words (stopwords) from NLTK\n",
    "stop_words = stopwords.words('english')\n",
    "\n",
    "#Tokenization\n",
    "positive_tweet_tokens = twitter_samples.tokenized('positive_tweets.json')\n",
    "negative_tweet_tokens = twitter_samples.tokenized('negative_tweets.json')\n",
    "\n",
    "\n",
    "# For loops to make the cleaned token lists\n",
    "positive_cleaned_tokens_list = []\n",
    "negative_cleaned_tokens_list = []\n",
    "\n",
    "for tokens in positive_tweet_tokens:\n",
    "    positive_cleaned_tokens_list.append(remove_noise(tokens, stop_words))\n",
    "\n",
    "for tokens in negative_tweet_tokens:\n",
    "    negative_cleaned_tokens_list.append(remove_noise(tokens, stop_words))"
   ]
  },
  {
   "cell_type": "code",
   "execution_count": 44,
   "metadata": {},
   "outputs": [
    {
     "name": "stdout",
     "output_type": "stream",
     "text": [
      "[(':)', 3691), (':-)', 701), (':d', 658), ('thanks', 388), ('follow', 357), ('love', 333), ('...', 290), ('good', 283), ('get', 263), ('thank', 253)]\n"
     ]
    }
   ],
   "source": [
    "all_pos_words = get_all_words(positive_cleaned_tokens_list)\n",
    "\n",
    "#Most common positive words in test data, and their count\n",
    "freq_dist_pos = FreqDist(all_pos_words)\n",
    "#print(freq_dist_pos.most_common(10))"
   ]
  },
  {
   "cell_type": "code",
   "execution_count": 45,
   "metadata": {},
   "outputs": [],
   "source": [
    "# Fetching cleaned tokens for modelling\n",
    "\n",
    "positive_tokens_for_model = get_tweets_for_model(positive_cleaned_tokens_list)\n",
    "negative_tokens_for_model = get_tweets_for_model(negative_cleaned_tokens_list)"
   ]
  },
  {
   "cell_type": "markdown",
   "metadata": {},
   "source": [
    "Testing the sentiment analysis tool.\n",
    "Test data is split 70/30 for this"
   ]
  },
  {
   "cell_type": "code",
   "execution_count": 46,
   "metadata": {},
   "outputs": [],
   "source": [
    "positive_dataset = [(tweet_dict, \"Positive\")\n",
    "                     for tweet_dict in positive_tokens_for_model]\n",
    "\n",
    "negative_dataset = [(tweet_dict, \"Negative\")\n",
    "                     for tweet_dict in negative_tokens_for_model]\n",
    "\n",
    "dataset = positive_dataset + negative_dataset\n",
    "\n",
    "random.shuffle(dataset)\n",
    "\n",
    "train_data = dataset[:7000]\n",
    "test_data = dataset[7000:]"
   ]
  },
  {
   "cell_type": "code",
   "execution_count": 47,
   "metadata": {},
   "outputs": [
    {
     "name": "stdout",
     "output_type": "stream",
     "text": [
      "Accuracy is: 0.9963333333333333\n",
      "Most Informative Features\n",
      "                      :( = True           Negati : Positi =   2060.9 : 1.0\n",
      "                      :) = True           Positi : Negati =   1644.7 : 1.0\n",
      "                follower = True           Positi : Negati =     36.1 : 1.0\n",
      "                     sad = True           Negati : Positi =     32.8 : 1.0\n",
      "                     x15 = True           Negati : Positi =     18.5 : 1.0\n",
      "                     ugh = True           Negati : Positi =     14.4 : 1.0\n",
      "                    blog = True           Positi : Negati =     14.2 : 1.0\n",
      "                     via = True           Positi : Negati =     13.3 : 1.0\n",
      "                  arrive = True           Positi : Negati =     13.2 : 1.0\n",
      "              appreciate = True           Positi : Negati =     12.9 : 1.0\n",
      "None\n"
     ]
    }
   ],
   "source": [
    "#classifier\n",
    "classifier = NaiveBayesClassifier.train(train_data)\n",
    "\n",
    "print(\"Accuracy is:\", classify.accuracy(classifier, test_data))\n",
    "\n",
    "print(classifier.show_most_informative_features(10))"
   ]
  },
  {
   "cell_type": "code",
   "execution_count": 67,
   "metadata": {},
   "outputs": [
    {
     "name": "stdout",
     "output_type": "stream",
     "text": [
      "Positive\n"
     ]
    }
   ],
   "source": [
    "#Custom tweet tester, model seems to not understand sarcasm\n",
    "custom_tweet = 'only dumb people say \"i love doge\"'\n",
    "\n",
    "custom_tokens = remove_noise(word_tokenize(custom_tweet))\n",
    "\n",
    "print(classifier.classify(dict([token, True] for token in custom_tokens)))"
   ]
  },
  {
   "cell_type": "markdown",
   "metadata": {},
   "source": [
    "### 2.3 Using trained Sentiment analyzer on 73-day dataset\n",
    "\n",
    "#### 73-day data set (takes quite a while to run, around 75 minutes)"
   ]
  },
  {
   "cell_type": "code",
   "execution_count": 55,
   "metadata": {},
   "outputs": [],
   "source": [
    "NLTK_73_df = sentiment_analysis(clean_73_df, 'Tweet')"
   ]
  },
  {
   "cell_type": "markdown",
   "metadata": {},
   "source": [
    "#### Save CSV for later use"
   ]
  },
  {
   "cell_type": "code",
   "execution_count": null,
   "metadata": {},
   "outputs": [],
   "source": [
    "NLTK_73_df.to_csv('twitter_73_sentiment_NLKT.csv', index=False)"
   ]
  },
  {
   "cell_type": "markdown",
   "metadata": {},
   "source": [
    "#### Visualizations"
   ]
  },
  {
   "cell_type": "code",
   "execution_count": 61,
   "metadata": {},
   "outputs": [],
   "source": [
    "### Number of tweets per hour/day\n",
    "vol_sentiment_per_hour_73 = NLTK_73_df['Tweet'].groupby(NLTK_73_df['Date_Hour']).count()\n",
    "vol_sentiment_per_day_73 = NLTK_73_df['Tweet'].groupby(NLTK_73_df['Date']).count()\n",
    "\n",
    "### Number of tweets mentioning 'doge' in each sentiment category\n",
    "tweets_by_sentiment_73 = NLTK_73_df['Tweet'].groupby(NLTK_73_df['sentiment']).count()\n",
    "\n",
    "### Sum and mean of numerical sentiment value per day (ie. \"Sentiment per day/hour\")\n",
    "sum_sentiment_per_day_73 = NLTK_73_df['sentiment'].groupby(NLTK_73_df['Date']).sum()\n",
    "mean_sentiment_per_day_73 = NLTK_73_df['sentiment'].groupby(NLTK_73_df['Date']).mean()\n",
    "\n",
    "sum_sentiment_per_hour_73 = NLTK_73_df['sentiment'].groupby(NLTK_73_df['Date_Hour']).sum()\n",
    "mean_sentiment_per_hour_73 = NLTK_73_df['sentiment'].groupby(NLTK_73_df['Date_Hour']).mean()\n",
    "\n",
    "\n",
    "#Dataframe with sum and mean per hour\n",
    "sentiment_per_hour_73 = pd.DataFrame({'Sum': sum_sentiment_per_hour_73, 'Mean': mean_sentiment_per_hour_73, 'Vol': vol_sentiment_per_hour_73}).reset_index()"
   ]
  },
  {
   "cell_type": "code",
   "execution_count": 63,
   "metadata": {},
   "outputs": [
    {
     "data": {
      "image/png": "[encoded data removed]",
      "text/plain": [
       "<Figure size 864x576 with 4 Axes>"
      ]
     },
     "metadata": {
      "needs_background": "light"
     },
     "output_type": "display_data"
    }
   ],
   "source": [
    "fig, (ax1, ax2) = plt.subplots(nrows=2,ncols=2, figsize=(12,8))\n",
    "\n",
    "ax1[0].plot(vol_sentiment_per_day_73)\n",
    "ax1[0].set_title('Number of tweets mentioning \\'doge\\' \\n (73-days data set)')\n",
    "ax1[0].xaxis.set_major_locator(ticker.MaxNLocator(8))\n",
    "ax1[0].tick_params(axis='x',rotation=90)\n",
    "\n",
    "ax1[1].bar(['negative', 'positive'], tweets_by_sentiment_73, color =['maroon','limegreen'])\n",
    "ax1[1].set_title('Number of tweets by sentiment rating using NLKT \\n (73-days data set)')\n",
    "\n",
    "ax2[0].plot(sum_sentiment_per_day_73)\n",
    "ax2[0].set_title('Sum of sentiment using NLKT per day \\n (73-days data set)')\n",
    "ax2[0].xaxis.set_major_locator(ticker.MaxNLocator(8))\n",
    "ax2[0].tick_params(axis='x',rotation=90)\n",
    "\n",
    "ax2[1].plot(sum_sentiment_per_hour_73)\n",
    "ax2[1].set_title('Sum of sentiment using NLKT per hour \\n (73-days data set)')\n",
    "ax2[1].xaxis.set_major_locator(ticker.MaxNLocator(8))\n",
    "ax2[1].tick_params(axis='x',rotation=90)\n",
    "\n",
    "\n",
    "fig.tight_layout()\n",
    "plt.show()"
   ]
  },
  {
   "cell_type": "markdown",
   "metadata": {},
   "source": [
    "### 2.3 Using trained Sentiment analyzer on Reddit data"
   ]
  },
  {
   "cell_type": "code",
   "execution_count": null,
   "metadata": {},
   "outputs": [],
   "source": [
    "#File = 'reddit-submissions-dogecoin.csv'\n",
    "dogecoin_df = reddit_data          #    pd.read_csv(File, encoding='utf-8')\n",
    "output_list = []\n",
    "temp_list = dogecoin_df['Title'].tolist()\n",
    "for i in tqdm.tqdm(temp_list):\n",
    "    custom_text = str(i)\n",
    "    custom_tokens = remove_noise(word_tokenize(custom_text))\n",
    "    if classifier.classify(dict([token, True] for token in custom_tokens)) == 'Negative':\n",
    "        output_list.append(-1)\n",
    "    else:\n",
    "        output_list.append(1)\n",
    "output_df = pd.DataFrame(output_list)\n"
   ]
  },
  {
   "cell_type": "code",
   "execution_count": null,
   "metadata": {},
   "outputs": [],
   "source": [
    "dogecoin_df['sentiment'] = output_df\n",
    "\n",
    "dogecoin_senti_df = dogecoin_df[['Title', 'sentiment', 'Publish Date']]\n",
    "dogecoin_senti_df.to_csv('dogecoin_sentimental.csv')"
   ]
  },
  {
   "cell_type": "markdown",
   "metadata": {},
   "source": [
    "### 2.3 Using both Roberta and NLTK analyzer on 1-year dataset"
   ]
  },
  {
   "cell_type": "code",
   "execution_count": null,
   "metadata": {},
   "outputs": [],
   "source": [
    "dfSentiment = df\n",
    "dfSentiment = dfSentiment[['Username','Date','Like Count','Tweet']]"
   ]
  },
  {
   "cell_type": "markdown",
   "metadata": {},
   "source": [
    "### 'small cleaning version'"
   ]
  },
  {
   "cell_type": "code",
   "execution_count": null,
   "metadata": {},
   "outputs": [],
   "source": [
    "#get rid of links and hashtags\n",
    "dfSentiment[\"new_tweet\"] = dfSentiment[\"new_tweet\"].apply(lambda x : ' '.join([s for s in x.split(' ') if s.find('#') == -1 and s.find('@') == -1 and s.find('www') == -1 and s.find('https') == -1]))\n",
    "\n",
    "#get rid of non-ascii characters\n",
    "dfSentiment = dfSentiment.replace(r'\\W+', ' ', regex=True)\n",
    "dfSentiment"
   ]
  },
  {
   "cell_type": "markdown",
   "metadata": {},
   "source": [
    "### 'big cleaning version'"
   ]
  },
  {
   "cell_type": "code",
   "execution_count": null,
   "metadata": {},
   "outputs": [],
   "source": [
    "from emot.emo_unicode import UNICODE_EMOJI, EMOTICONS_EMO\n",
    "# translate emoji\n",
    "def emoji(text):\n",
    "  for emot in UNICODE_EMOJI:\n",
    "    if text == None:\n",
    "      text = text\n",
    "    else:\n",
    "      text = text.replace(emot, \"_\".join(UNICODE_EMOJI[emot].replace(\",\", \"\").replace(\":\", \"\").split()))\n",
    "    return text\n",
    "\n",
    "# remove retweet username and tweeted at @username\n",
    "def remove_users(tweet):\n",
    "  '''Takes a string and removes retweet and @user information'''\n",
    "  tweet = re.sub('(@[A-Za-z]+[A-Za-z0-9-_]+)', '', tweet) \n",
    "  # remove tweeted at\n",
    "  return tweet\n",
    "# remove links\n",
    "def remove_links(tweet):\n",
    "  '''Takes a string and removes web links from it'''\n",
    "  tweet = re.sub(r'http\\S+', '', tweet) # remove http links\n",
    "  tweet = re.sub(r'bit.ly/\\S+', '', tweet) # remove bitly links\n",
    "  tweet = tweet.strip('[link]') # remove [links]\n",
    "  return tweet\n",
    "def clean_html(text):\n",
    "  html = re.compile('<.*?>')#regex\n",
    "  return html.sub(r'',text)\n",
    "\n",
    "# remove non ascii character\n",
    "def non_ascii(s):\n",
    "  return \"\".join(i for i in s if ord(i)<128)\n",
    "\n",
    "def lower(text):\n",
    "  return text.lower()\n",
    "# remove email address\n",
    "\n",
    "def email_address(text):\n",
    "  email = re.compile(r'[\\w\\.-]+@[\\w\\.-]+')\n",
    "  return email.sub(r'',text)\n",
    "\n",
    "def punct(text):\n",
    "  token=RegexpTokenizer(r'\\w+')#regex\n",
    "  text = token.tokenize(text)\n",
    "  text= \" \".join(text)\n",
    "  return text\n",
    "\n",
    "# remove stopwords\n",
    "def removeStopWords(str):\n",
    "#select english stopwords\n",
    "  cachedStopWords = set(stopwords.words(\"english\"))\n",
    "#add custom words\n",
    "  cachedStopWords.update(('and','I','A','http','And','So','arnt','This','When','It','many','Many','so','cant','Yes','yes','No','no','These','these','mailto','regards','ayanna','like','email'))\n",
    "#remove stop words\n",
    "  new_str = ' '.join([word for word in str.split() if word not in cachedStopWords]) \n",
    "  return new_str\n",
    "\n",
    "def remove_(tweet):\n",
    "  tweet = re.sub('([_]+)', \"\", tweet)\n",
    "  return tweet"
   ]
  },
  {
   "cell_type": "markdown",
   "metadata": {},
   "source": [
    "### Initiating Roberta sentiment"
   ]
  },
  {
   "cell_type": "code",
   "execution_count": null,
   "metadata": {},
   "outputs": [],
   "source": [
    "tokenizer = AutoTokenizer.from_pretrained('cardiffnlp/twitter-roberta-base-sentiment-latest')\n",
    "model = AutoModelForSequenceClassification.from_pretrained('cardiffnlp/twitter-roberta-base-sentiment-latest',from_tf=True)"
   ]
  },
  {
   "cell_type": "code",
   "execution_count": null,
   "metadata": {},
   "outputs": [],
   "source": [
    "dfSentiment = dfSentiment.dropna().reset_index()\n",
    "dfSentiment = dfSentiment[['Username','Date','Like Count','Tweet','new_tweet']]\n",
    "dfSentiment"
   ]
  },
  {
   "cell_type": "code",
   "execution_count": null,
   "metadata": {},
   "outputs": [],
   "source": [
    "tqdm.pandas()\n",
    "### add .progress in front of apply for tqdm. 'new tweet' for big cleaning, just 'Tweet' for small cleaning.\n",
    "### NLTK runs with around 600-700 iterations a second, but RoBERTa only does 10-12, so it's slow and takes several hours\n",
    "\n",
    "def sentiment_score(review):\n",
    "  tokens = tokenizer.encode(review, return_tensors='pt')\n",
    "  result = model(tokens)\n",
    "  return float(torch.argmax(result.logits))\n",
    "\n",
    "dfSentiment['sentiment'] = dfSentiment['new_tweet'].progress_apply(lambda x: sentiment_score(x[:512]))"
   ]
  },
  {
   "cell_type": "code",
   "execution_count": null,
   "metadata": {},
   "outputs": [],
   "source": [
    "dfSentiment['sentiment']=dfSentiment['sentiment'].replace([0], [-1])\n",
    "dfSentiment['sentiment']=dfSentiment['sentiment'].replace([1], [0])\n",
    "dfSentiment['sentiment']=dfSentiment['sentiment'].replace([2], [1])\n",
    "dfSentiment.to_csv('1yearwsentiment.csv', index=False)"
   ]
  },
  {
   "cell_type": "markdown",
   "metadata": {},
   "source": [
    "### Initiating NLTK sentiment"
   ]
  },
  {
   "cell_type": "code",
   "execution_count": null,
   "metadata": {},
   "outputs": [],
   "source": [
    "# Creating new DataFrame\n",
    "t1year = dfSentiment \n",
    "# Renaming 'sentiment' to 'roberta sentiment'\n",
    "t1year['roberta sentiment'] = t1year['sentiment'].astype(int)\n"
   ]
  },
  {
   "cell_type": "code",
   "execution_count": null,
   "metadata": {},
   "outputs": [],
   "source": [
    "# Calling our NLTK sentiment analyzer\n",
    "t1year = sentiment_analysis(t1year, 'Tweet')"
   ]
  },
  {
   "cell_type": "code",
   "execution_count": null,
   "metadata": {},
   "outputs": [],
   "source": [
    "#Cleaning up a bit\n",
    "t1year['nltk sentiment'] = t1year['sentiment']\n",
    "t1year = t1year.drop('sentiment',axis=1)\n",
    "\n",
    "#Add date and date_hour columns as datetime objects:\n",
    "t1year['Date_Hour'] = pd.to_datetime([str[:-11]+'00 00' for str in t1year['Date']], format='%Y %m %d %H %M %S')\n",
    "t1year['Date_new'] = t1year['Date_Hour'].dt.date\n",
    "\n",
    "#Removing some excessive rows, and sort by date hour\n",
    "t1year = t1year[~(t1year['Date_Hour'] <= '2021-01-01')]\n",
    "t1year.sort_values('Date_Hour')"
   ]
  },
  {
   "cell_type": "markdown",
   "metadata": {},
   "source": [
    "#### Grouping"
   ]
  },
  {
   "cell_type": "code",
   "execution_count": null,
   "metadata": {},
   "outputs": [],
   "source": [
    "### Number of tweets mentioning 'doge' in each sentiment category\n",
    "tweets_by_nltksentiment_1y = t1year['Tweet'].groupby(t1year['nltk sentiment']).count()\n",
    "\n",
    "### Sum and mean of numerical sentiment value per day (ie. \"Sentiment per day/hour\")\n",
    "sum_nltksentiment_per_day_1y = t1year['nltk sentiment'].groupby(t1year['Date_new']).sum()\n",
    "mean_nltksentiment_per_day_1y = t1year['nltk sentiment'].groupby(t1year['Date_new']).mean()\n",
    "\n",
    "sum_nltksentiment_per_hour_1y = t1year['nltk sentiment'].groupby(t1year['Date_Hour']).sum()\n",
    "mean_nltksentiment_per_hour_1y = t1year['nltk sentiment'].groupby(t1year['Date_Hour']).mean()\n",
    "\n",
    "#Dataframe with sum and mean per hour\n",
    "nltksentiment_per_hour_1y = pd.DataFrame({'Sum': sum_nltksentiment_per_hour_1y, 'Mean': mean_nltksentiment_per_hour_1y}).reset_index()"
   ]
  },
  {
   "cell_type": "code",
   "execution_count": null,
   "metadata": {},
   "outputs": [],
   "source": [
    "### Number of tweets mentioning 'doge' in each sentiment category\n",
    "tweets_by_robsentiment_1y = t1year['Tweet'].groupby(t1year['roberta sentiment']).count()\n",
    "\n",
    "### Sum and mean of numerical sentiment value per day (ie. \"Sentiment per day/hour\")\n",
    "sum_robsentiment_per_day_1y = t1year['roberta sentiment'].groupby(t1year['Date_new']).sum()\n",
    "mean_robsentiment_per_day_1y = t1year['roberta sentiment'].groupby(t1year['Date_new']).mean()\n",
    "\n",
    "sum_robsentiment_per_hour_1y = t1year['roberta sentiment'].groupby(t1year['Date_Hour']).sum()\n",
    "mean_robsentiment_per_hour_1y = t1year['roberta sentiment'].groupby(t1year['Date_Hour']).mean()\n",
    "\n",
    "#Dataframe with sum and mean per hour\n",
    "robsentiment_per_hour_1y = pd.DataFrame({'Sum': sum_robsentiment_per_hour_1y, 'Mean': mean_robsentiment_per_hour_1y}).reset_index()"
   ]
  },
  {
   "cell_type": "code",
   "execution_count": null,
   "metadata": {},
   "outputs": [],
   "source": [
    "t1year['nltk likesent'] = t1year['nltk sentiment']*t1year['Like Count']\n",
    "t1year['roberta likesent'] = t1year['roberta sentiment']*t1year['Like Count']\n",
    "\n",
    "t1year = t1year.reset_index()"
   ]
  },
  {
   "cell_type": "code",
   "execution_count": null,
   "metadata": {},
   "outputs": [],
   "source": [
    "t1year = t1year.drop('index',axis=1)\n",
    "t1year = t1year.drop('level_0',axis=1)"
   ]
  },
  {
   "cell_type": "markdown",
   "metadata": {},
   "source": [
    "### generating aggregate variables for our regression"
   ]
  },
  {
   "cell_type": "code",
   "execution_count": null,
   "metadata": {},
   "outputs": [],
   "source": [
    "srobsent = t1year['roberta sentiment'].groupby(t1year['Date_Hour']).sum()\n",
    "snltksent = t1year['nltk sentiment'].groupby(t1year['Date_Hour']).sum()\n",
    "slikec = t1year['Like Count'].groupby(t1year['Date_Hour']).sum()\n",
    "snltklikesent = t1year['nltk likesent'].groupby(t1year['Date_Hour']).sum()\n",
    "sroblikesent = t1year['roberta likesent'].groupby(t1year['Date_Hour']).sum()\n",
    "\n",
    "robsentiment_per_hour_1y = pd.DataFrame({'Sum': sum_robsentiment_per_hour_1y, 'Mean': mean_robsentiment_per_hour_1y}).reset_index()"
   ]
  },
  {
   "cell_type": "code",
   "execution_count": null,
   "metadata": {},
   "outputs": [],
   "source": [
    "# DataFrame:\n",
    "yearforML = pd.DataFrame({'sum rob sent': srobsent,\n",
    "                          'sum nltk sent': snltksent, \n",
    "                          'total like volume': slikec, \n",
    "                          'sum of like x robsent': sroblikesent, \n",
    "                          'sum of like x nltksent': snltklikesent}\n",
    "                        ).reset_index()\n"
   ]
  },
  {
   "cell_type": "markdown",
   "metadata": {},
   "source": [
    "### Some descriptives for comparing the sentiment analysis tools"
   ]
  },
  {
   "cell_type": "code",
   "execution_count": null,
   "metadata": {},
   "outputs": [],
   "source": [
    "plt.bar(['negative', 'positive'], tweets_by_nltksentiment_1y, color =['maroon','limegreen'])\n",
    "plt.title('Number of tweets by sentiment rating using NLKT \\n (1year)')\n",
    "\n",
    "plt.show()"
   ]
  },
  {
   "cell_type": "code",
   "execution_count": null,
   "metadata": {},
   "outputs": [],
   "source": [
    "plt.bar(['negative','neutral', 'positive'], tweets_by_robsentiment_1y , color =['maroon','gray','limegreen'])\n",
    "plt.title('Number of tweets by sentiment rating using RoBERTa \\n (1year)')\n",
    "\n",
    "plt.show()"
   ]
  },
  {
   "cell_type": "code",
   "execution_count": null,
   "metadata": {},
   "outputs": [],
   "source": [
    "t1year['rsent'] =t1year['roberta sentiment']\n",
    "t1year['nsent'] =t1year['nltk sentiment']\n",
    "import matplotlib.pyplot as plt\n",
    "from wordcloud import WordCloud\n",
    "from collections import Counter\n",
    "from PIL import Image\n",
    "import numpy as np\n",
    "mask = np.array(Image.open(r'C:\\Users\\yuriy\\Desktop\\doge.jpg'))\n",
    "\n",
    "def generate_wordcloud(words,sentiment):\n",
    "    plt.figure(figsize=(12,12))\n",
    "    wc = WordCloud(background_color=\"white\", max_words=2000, max_font_size=500, mask=mask, width = mask.shape[1])\n",
    "    wc.generate(words)\n",
    "    plt.title(\"Most common {} words, roberta\".format(sentiment), fontsize=20)\n",
    "    plt.imshow(wc.recolor(colormap='Wistia', random_state=17), alpha=0.98)\n",
    "    plt.axis('off')\n",
    "    \n",
    "\n",
    "positive_words=\" \".join(t1year[t1year.rsent==1]['Tweet'].values)\n",
    "negative_words=\" \".join(t1year[t1year.rsent==-1]['Tweet'].values)\n",
    "\n",
    "generate_wordcloud(positive_words,\"positive\")\n",
    "generate_wordcloud(negative_words,\"negative\")\n"
   ]
  },
  {
   "cell_type": "markdown",
   "metadata": {},
   "source": [
    "## 3. Machine Learning Regressions"
   ]
  },
  {
   "cell_type": "markdown",
   "metadata": {},
   "source": [
    "### Twitter 73 days"
   ]
  },
  {
   "cell_type": "code",
   "execution_count": null,
   "metadata": {},
   "outputs": [],
   "source": [
    "# FOR TWITTER 73 DAYS:\n",
    "senti_df = sentiment_per_hour_73\n",
    "senti_df['Open time'] = senti_df['Date_Hour'] \n",
    "\n",
    "\n",
    "# Price data set from Binance \n",
    "price_df = binance_df\n",
    "\n",
    "# Merging Twitter data and Price Data. \"inner\" makes sure that only hours with data in both sets are used\n",
    "ML_df = pd.merge(senti_df, price_df, how='inner', on= 'Open time')"
   ]
  },
  {
   "cell_type": "markdown",
   "metadata": {},
   "source": [
    "#### Choosing X and Y"
   ]
  },
  {
   "cell_type": "code",
   "execution_count": null,
   "metadata": {},
   "outputs": [],
   "source": [
    "# Defining the X and Y variables\n",
    "SF = ML_df['Sum']                #Sum of sentiments per hour\n",
    "VOL= ML_df['Vol']                #Volume of tweets per hour\n",
    "\n",
    "CP = ML_df['Close']              #Closing price each hour\n",
    "PC = ML_df['Percentage change']  #Percentage change from last hour\n",
    "\n",
    "\n",
    "\n",
    "# Choose which ones to apply to ML model         (Choose wisely.....>:3)\n",
    "# Our report mainly uses VOL and SF\n",
    "Xdata = np.array([VOL, SF])\n",
    "Ydata = np.array(CP)\n"
   ]
  },
  {
   "cell_type": "markdown",
   "metadata": {},
   "source": [
    "#### Machine Learning Preparation"
   ]
  },
  {
   "cell_type": "code",
   "execution_count": null,
   "metadata": {},
   "outputs": [],
   "source": [
    "# DEFINE FEATURES AND TARGET AND SPLIT INTO TRAIN/TEST\n",
    "X = Xdata.T # features\n",
    "y = Ydata # target \n",
    "\n",
    "X_train, X_test, y_train, y_test = train_test_split(X, y, test_size=0.5, train_size=0.5, random_state=161193)"
   ]
  },
  {
   "cell_type": "code",
   "execution_count": null,
   "metadata": {},
   "outputs": [],
   "source": [
    "# DEFINE A PIPELINE (already did that...)\n",
    "pipe = make_pipeline(PolynomialFeatures(degree = 2), \n",
    "                             StandardScaler(),\n",
    "                             LinearRegression()) #need to specify in correct order\n",
    "\n",
    "# Fit and evaluate model\n",
    "pipe.fit(X_train, y_train)\n",
    "y_pred = pipe.predict(X_test)\n",
    "\n",
    "# TWO TYPES OF TRANSFORMATIONS\n",
    "poly_trans = PolynomialFeatures()\n",
    "sc = StandardScaler()\n",
    "\n",
    "# APPLY POLYNOMIAL TRANSFORMATION\n",
    "X_train_poly = poly_trans.fit_transform(X_train) \n",
    "X_test_poly = poly_trans.transform(X_test)\n",
    "\n",
    "# ... AND THEN SCALER\n",
    "X_train_prep_alt = sc.fit_transform(X_train_poly)\n",
    "X_test_prep_alt = sc.transform(X_test_poly)\n",
    "\n",
    "#... And then we fit and evaulate as always\n",
    "\n",
    "# SPLIT INTO DEVELOPMENT (2/3) AND TEST DATA (1/3)\n",
    "X_dev, X_test, y_dev, y_test = train_test_split(X, y, test_size=1/3, random_state=161193)\n",
    "\n",
    "# SPLIT DEVELOPMENT INTO TRAIN (1/3) AND VALIDATION (1/3)\n",
    "X_train, X_val, y_train, y_val = train_test_split(X_dev, y_dev, test_size=1/2, random_state=161193)\n",
    "\n",
    "# DEFINE PIPELINE\n",
    "pipe_lr = make_pipeline(PolynomialFeatures(), \n",
    "                        StandardScaler(),\n",
    "                        LinearRegression())\n",
    "\n",
    "# FIT PIPELINE TO DEVELOPMENT DATA\n",
    "pipe_lr.fit(X_dev, y_dev)"
   ]
  },
  {
   "cell_type": "markdown",
   "metadata": {},
   "source": [
    "#### Machine learning execution"
   ]
  },
  {
   "cell_type": "code",
   "execution_count": null,
   "metadata": {},
   "outputs": [],
   "source": [
    "# PREPARATION\n",
    "perform = [] # Store performance\n",
    "lambdas = np.logspace(-4, 4, 66) # Grid of lambdas\n",
    "\n",
    "# FOR EACH LAMBDA, FIT A MODEL ON TRAINING DATA, CHECK PERFORMANCE ON VALIDATION AND STORE MSE\n",
    "for lambda_ in lambdas:\n",
    "    pipe_lasso = make_pipeline(PolynomialFeatures(), \n",
    "                               StandardScaler(),\n",
    "                               Lasso(alpha=lambda_, random_state=161193))\n",
    "    pipe_lasso.fit(X_train, y_train)\n",
    "    y_pred = pipe_lasso.predict(X_val)\n",
    "    perform.append(mse(y_pred, y_val))\n",
    "\n",
    "# CRATE A SERIES WITH PERFORMANCE AND FIND PARM WITH LOWEST MSE    \n",
    "hyperparam_perform = pd.Series(perform,index=lambdas)\n",
    "optimal = hyperparam_perform.nsmallest(1)    \n",
    "print('Optimal lambda:', optimal.index[0])\n",
    "print('Validation MSE: %.3f' % optimal.values[0])"
   ]
  },
  {
   "cell_type": "code",
   "execution_count": null,
   "metadata": {},
   "outputs": [],
   "source": [
    "# INSERT OPTIMAL LAMBDA INTO NEW MODEL\n",
    "pipe_lasso = make_pipeline(PolynomialFeatures(), \n",
    "                           StandardScaler(),\n",
    "                           Lasso(alpha=optimal.index[0]))\n",
    "\n",
    "# FIT NEW MODEL ON ALL OF THE DEVELOPMENT (non-test) DATA TO BUILD BEST POSSIBLE MODEL\n",
    "pipe_lasso.fit(X_dev, y_dev) \n",
    "\n",
    "# COMPARE MODEL PERFORMANCE ON TEST DATA\n",
    "print('Lasso', round(mse(pipe_lasso.predict(X_test),y_test), 2))\n",
    "print('LinReg', round(mse(pipe_lr.predict(X_test),y_test), 2))"
   ]
  },
  {
   "cell_type": "code",
   "execution_count": null,
   "metadata": {},
   "outputs": [],
   "source": [
    "# SETUPa\n",
    "kfolds = KFold(n_splits=10)\n",
    "folds = list(kfolds.split(X_dev, y_dev))\n",
    "\n",
    "# Outer loop: lambdas\n",
    "mseCV = []\n",
    "for lambda_ in lambdas:    \n",
    "    \n",
    "    # Inner loop: folds\n",
    "    mseCV_ = []    \n",
    "    for train_idx, val_idx in folds:        \n",
    "        \n",
    "        # Train model and compute MSE on test fold\n",
    "        pipe_lassoCV = make_pipeline(PolynomialFeatures(degree=2, include_bias=True),\n",
    "                                     StandardScaler(),\n",
    "                                     Lasso(alpha=lambda_, random_state=161193))            \n",
    "        X_train, y_train = X_dev[train_idx], y_dev[train_idx]\n",
    "        X_val, y_val = X_dev[val_idx], y_dev[val_idx] \n",
    "        pipe_lassoCV.fit(X_train, y_train)        \n",
    "        mseCV_.append(mse(pipe_lassoCV.predict(X_val), y_val))    \n",
    "        \n",
    "    # Store result    \n",
    "    mseCV.append(mseCV_) \n",
    "    \n",
    "# Convert to DataFrame\n",
    "lambdaCV = pd.DataFrame(mseCV, index=lambdas)"
   ]
  },
  {
   "cell_type": "code",
   "execution_count": null,
   "metadata": {},
   "outputs": [],
   "source": [
    "# CHOOSE OPTIMAL HYPERPARAMETERS (mean of MSE's across folds)\n",
    "optimal_lambda = lambdaCV.mean(axis=1).nsmallest(1)\n",
    "\n",
    "# RETRAIN/RE-ESTIMATE MODEL USING OPTIMAL HYPERPARAMETERS AND COMPARE PERFORMANCE\n",
    "pipe_lassoCV = make_pipeline(PolynomialFeatures(include_bias=False), \n",
    "                             StandardScaler(),\n",
    "                             Lasso(alpha=optimal_lambda.index[0], random_state=161193))\n",
    "\n",
    "pipe_lassoCV.fit(X_dev,y_dev) #fit optimal lambda to entire development set: likely to improve performance slightly since we use more oberservations\n",
    "\n",
    "models = {'Lasso': pipe_lasso, 'Lasso CV': pipe_lassoCV, 'LinReg': pipe_lr}\n",
    "for name, model in models.items():\n",
    "    score = mse(model.predict(X_test),y_test)\n",
    "    print(name, round(score, 2))"
   ]
  },
  {
   "cell_type": "code",
   "execution_count": null,
   "metadata": {},
   "outputs": [],
   "source": [
    "train_sizes, train_scores, test_scores = \\\n",
    "    learning_curve(estimator=pipe_lasso,\n",
    "                   X=X_dev,\n",
    "                   y=y_dev,\n",
    "                   train_sizes=np.arange(0.05, 1.05, .05),\n",
    "                   scoring='neg_mean_squared_error',                 \n",
    "                   cv=10)\n",
    "    \n",
    "mse_ = pd.DataFrame({'Train':-train_scores.mean(axis=1),\n",
    "                     'Test':-test_scores.mean(axis=1)})\\\n",
    "        .set_index(pd.Index(train_sizes,name='sample size'))\n",
    "\n",
    "mse_.head(5)"
   ]
  },
  {
   "cell_type": "code",
   "execution_count": null,
   "metadata": {},
   "outputs": [],
   "source": [
    "f_learn, ax = plt.subplots(figsize=(7,3))\n",
    "ax.plot(train_sizes,np.sqrt(-test_scores.mean(1)), alpha=0.25, linewidth=2, label ='Test', color='blue') # negated, because we already use neg_MSE\n",
    "ax.plot(train_sizes,np.sqrt(-train_scores.mean(1)), alpha=0.25, linewidth=2, label='Train', color='orange') # negated, because we already use neg_MSE\n",
    "\n",
    "ax.set_title('Mean performance')\n",
    "ax.set_ylabel('Root-Mean squared error')\n",
    "ax.legend();"
   ]
  },
  {
   "cell_type": "code",
   "execution_count": null,
   "metadata": {},
   "outputs": [],
   "source": [
    "# FIT AND EVALUATE FOR DIFFERENT LAMBDAS\n",
    "train_scores, test_scores = \\\n",
    "    validation_curve(estimator=pipe_lasso,\n",
    "                     X=X_dev,\n",
    "                     y=y_dev,\n",
    "                     param_name='lasso__alpha', #built-in name of hyperparameter\n",
    "                     param_range=lambdas, #values to consider\n",
    "                     scoring='neg_mean_squared_error',                 \n",
    "                     cv=10)\n",
    "\n",
    "# OBTAIN MSE FOR DIFFERENT LAMBDAS AND PRINT BEST\n",
    "mse_score = pd.DataFrame({'Train':-train_scores.mean(axis=1),\n",
    "                          'Validation':-test_scores.mean(axis=1),\n",
    "                          'lambda':lambdas})\\\n",
    "              .set_index('lambda')   \n",
    "print(mse_score.Validation.nsmallest(1))\n"
   ]
  },
  {
   "cell_type": "code",
   "execution_count": null,
   "metadata": {},
   "outputs": [],
   "source": [
    "np.sqrt(mse_score).plot(logx=True, figsize=(10,6));"
   ]
  },
  {
   "cell_type": "markdown",
   "metadata": {},
   "source": [
    "### Reddit data"
   ]
  },
  {
   "cell_type": "code",
   "execution_count": null,
   "metadata": {},
   "outputs": [],
   "source": [
    "dogecoin_senti_df"
   ]
  },
  {
   "cell_type": "code",
   "execution_count": null,
   "metadata": {},
   "outputs": [],
   "source": [
    "\n",
    "dogecoin_senti_df['Open time'] = dogecoin_senti_df['Date'] \n",
    "ML_df = pd.merge(price_df, dogecoin_senti_df, how='inner', on= 'Open time')\n",
    "\n",
    "\n",
    "SF = ML_df['sum_freq']\n",
    "\n",
    "CP = ML_df['Close']\n",
    "PC = ML_df['Percentage change']\n",
    "\n",
    "Xdata = np.array([SF])\n",
    "Ydata = np.array(CP)"
   ]
  },
  {
   "cell_type": "code",
   "execution_count": null,
   "metadata": {},
   "outputs": [],
   "source": [
    "# LOAD SCIKIT LEARN DATA\n",
    "#from sklearn.datasets import load_boston\n",
    "#boston = load_boston()\n",
    "\n",
    "# PRINT VARIABLES FROM DESCRIPTION FOR ILLUSTRATION\n",
    "# print(boston['DESCR'])\n",
    "#print('\\n'.join(load_boston()['DESCR'].split('\\n')[12:26]))\n",
    "\n",
    "# DEFINE FEATURES AND TARGET AND SPLIT INTO TRAIN/TEST\n",
    "X = Xdata.T # features\n",
    "y = Ydata # target \n",
    "\n",
    "X_train, X_test, y_train, y_test = train_test_split(X, y, test_size=0.5, train_size=0.5, random_state=161193)"
   ]
  },
  {
   "cell_type": "code",
   "execution_count": null,
   "metadata": {},
   "outputs": [],
   "source": [
    "# DEFINE A PIPELINE (already did that...)\n",
    "pipe = make_pipeline(PolynomialFeatures(degree = 2), \n",
    "                             StandardScaler(),\n",
    "                             LinearRegression()) #need to specify in correct order\n",
    "\n",
    "# Fit and evaluate model\n",
    "pipe.fit(X_train, y_train)\n",
    "y_pred = pipe.predict(X_test)"
   ]
  },
  {
   "cell_type": "code",
   "execution_count": null,
   "metadata": {},
   "outputs": [],
   "source": [
    "# TWO TYPES OF TRANSFORMATIONS\n",
    "poly_trans = PolynomialFeatures()\n",
    "sc = StandardScaler()\n",
    "\n",
    "# APPLY POLYNOMIAL TRANSFORMATION\n",
    "X_train_poly = poly_trans.fit_transform(X_train) \n",
    "X_test_poly = poly_trans.transform(X_test)\n",
    "\n",
    "# ... AND THEN SCALER\n",
    "X_train_prep_alt = sc.fit_transform(X_train_poly)\n",
    "X_test_prep_alt = sc.transform(X_test_poly)\n",
    "\n",
    "#... And then we fit and evaulate as always"
   ]
  },
  {
   "cell_type": "code",
   "execution_count": null,
   "metadata": {},
   "outputs": [],
   "source": [
    "# SPLIT INTO DEVELOPMENT (2/3) AND TEST DATA (1/3)\n",
    "X_dev, X_test, y_dev, y_test = train_test_split(X, y, test_size=1/3, random_state=161193)\n",
    "\n",
    "# SPLIT DEVELOPMENT INTO TRAIN (1/3) AND VALIDATION (1/3)\n",
    "X_train, X_val, y_train, y_val = train_test_split(X_dev, y_dev, test_size=1/2, random_state=161193)"
   ]
  },
  {
   "cell_type": "code",
   "execution_count": null,
   "metadata": {},
   "outputs": [],
   "source": [
    "# DEFINE PIPELINE\n",
    "pipe_lr = make_pipeline(PolynomialFeatures(), \n",
    "                        StandardScaler(),\n",
    "                        LinearRegression())\n",
    "\n",
    "# FIT PIPELINE TO DEVELOPMENT DATA\n",
    "pipe_lr.fit(X_dev, y_dev)"
   ]
  },
  {
   "cell_type": "code",
   "execution_count": null,
   "metadata": {},
   "outputs": [],
   "source": [
    "# PREPARATION\n",
    "perform = [] # Store performance\n",
    "lambdas = np.logspace(-4, 4, 66) # Grid of lambdas\n",
    "\n",
    "# FOR EACH LAMBDA, FIT A MODEL ON TRAINING DATA, CHECK PERFORMANCE ON VALIDATION AND STORE MSE\n",
    "for lambda_ in lambdas:\n",
    "    pipe_lasso = make_pipeline(PolynomialFeatures(), \n",
    "                               StandardScaler(),\n",
    "                               Lasso(alpha=lambda_, random_state=161193))\n",
    "    pipe_lasso.fit(X_train, y_train)\n",
    "    y_pred = pipe_lasso.predict(X_val)\n",
    "    perform.append(mse(y_pred, y_val))\n",
    "\n",
    "# CRATE A SERIES WITH PERFORMANCE AND FIND PARM WITH LOWEST MSE    \n",
    "hyperparam_perform = pd.Series(perform,index=lambdas)\n",
    "optimal = hyperparam_perform.nsmallest(1)    \n",
    "print('Optimal lambda:', optimal.index[0])\n",
    "print('Validation MSE: %.3f' % optimal.values[0])"
   ]
  },
  {
   "cell_type": "code",
   "execution_count": null,
   "metadata": {},
   "outputs": [],
   "source": [
    "# INSERT OPTIMAL LAMBDA INTO NEW MODEL\n",
    "pipe_lasso = make_pipeline(PolynomialFeatures(), \n",
    "                           StandardScaler(),\n",
    "                           Lasso(alpha=optimal.index[0]))\n",
    "\n",
    "# FIT NEW MODEL ON ALL OF THE DEVELOPMENT (non-test) DATA TO BUILD BEST POSSIBLE MODEL\n",
    "pipe_lasso.fit(X_dev, y_dev) \n",
    "\n",
    "# COMPARE MODEL PERFORMANCE ON TEST DATA\n",
    "print('Lasso', round(mse(pipe_lasso.predict(X_test),y_test), 2))\n",
    "print('LinReg', round(mse(pipe_lr.predict(X_test),y_test), 2))"
   ]
  },
  {
   "cell_type": "code",
   "execution_count": null,
   "metadata": {},
   "outputs": [],
   "source": [
    "# SETUPa\n",
    "from sklearn.model_selection import KFold\n",
    "kfolds = KFold(n_splits=10)\n",
    "folds = list(kfolds.split(X_dev, y_dev))\n",
    "\n",
    "# Outer loop: lambdas\n",
    "mseCV = []\n",
    "for lambda_ in lambdas:    \n",
    "    \n",
    "    # Inner loop: folds\n",
    "    mseCV_ = []    \n",
    "    for train_idx, val_idx in folds:        \n",
    "        \n",
    "        # Train model and compute MSE on test fold\n",
    "        pipe_lassoCV = make_pipeline(PolynomialFeatures(degree=2, include_bias=True),\n",
    "                                     StandardScaler(),\n",
    "                                     Lasso(alpha=lambda_, random_state=161193))            \n",
    "        X_train, y_train = X_dev[train_idx], y_dev[train_idx]\n",
    "        X_val, y_val = X_dev[val_idx], y_dev[val_idx] \n",
    "        pipe_lassoCV.fit(X_train, y_train)        \n",
    "        mseCV_.append(mse(pipe_lassoCV.predict(X_val), y_val))    \n",
    "        \n",
    "    # Store result    \n",
    "    mseCV.append(mseCV_) \n",
    "    \n",
    "# Convert to DataFrame\n",
    "lambdaCV = pd.DataFrame(mseCV, index=lambdas)"
   ]
  },
  {
   "cell_type": "code",
   "execution_count": null,
   "metadata": {},
   "outputs": [],
   "source": [
    "# CHOOSE OPTIMAL HYPERPARAMETERS (mean of MSE's across folds)\n",
    "optimal_lambda = lambdaCV.mean(axis=1).nsmallest(1)\n",
    "\n",
    "# RETRAIN/RE-ESTIMATE MODEL USING OPTIMAL HYPERPARAMETERS AND COMPARE PERFORMANCE\n",
    "pipe_lassoCV = make_pipeline(PolynomialFeatures(include_bias=False), \n",
    "                             StandardScaler(),\n",
    "                             Lasso(alpha=optimal_lambda.index[0], random_state=161193))\n",
    "\n",
    "pipe_lassoCV.fit(X_dev,y_dev) #fit optimal lambda to entire development set: likely to improve performance slightly since we use more oberservations\n",
    "\n",
    "models = {'Lasso': pipe_lasso, 'Lasso CV': pipe_lassoCV, 'LinReg': pipe_lr}\n",
    "for name, model in models.items():\n",
    "    score = mse(model.predict(X_test),y_test)\n",
    "    print(name, round(score, 2))"
   ]
  },
  {
   "cell_type": "code",
   "execution_count": null,
   "metadata": {},
   "outputs": [],
   "source": [
    "train_sizes, train_scores, test_scores = \\\n",
    "    learning_curve(estimator=pipe_lasso,\n",
    "                   X=X_dev,\n",
    "                   y=y_dev,\n",
    "                   train_sizes=np.arange(0.05, 1.05, .05),\n",
    "                   scoring='neg_mean_squared_error',                 \n",
    "                   cv=10)\n",
    "    \n",
    "mse_ = pd.DataFrame({'Train':-train_scores.mean(axis=1),\n",
    "                     'Test':-test_scores.mean(axis=1)})\\\n",
    "        .set_index(pd.Index(train_sizes,name='sample size'))\n",
    "\n",
    "mse_.head(5)"
   ]
  },
  {
   "cell_type": "code",
   "execution_count": null,
   "metadata": {},
   "outputs": [],
   "source": [
    "f_learn, ax = plt.subplots(figsize=(7,3))\n",
    "ax.plot(train_sizes,np.sqrt(-test_scores.mean(1)), alpha=0.25, linewidth=2, label ='Test', color='blue') # negated, because we already use neg_MSE\n",
    "ax.plot(train_sizes,np.sqrt(-train_scores.mean(1)), alpha=0.25, linewidth=2, label='Train', color='orange') # negated, because we already use neg_MSE\n",
    "\n",
    "ax.set_title('Mean performance')\n",
    "ax.set_ylabel('Root-Mean squared error')\n",
    "ax.legend();\n",
    "\n",
    "plt.savefig('reddit_VOL_CP_mean.png')"
   ]
  },
  {
   "cell_type": "code",
   "execution_count": null,
   "metadata": {},
   "outputs": [],
   "source": [
    "# FIT AND EVALUATE FOR DIFFERENT LAMBDAS\n",
    "train_scores, test_scores = \\\n",
    "    validation_curve(estimator=pipe_lasso,\n",
    "                     X=X_dev,\n",
    "                     y=y_dev,\n",
    "                     param_name='lasso__alpha', #built-in name of hyperparameter\n",
    "                     param_range=lambdas, #values to consider\n",
    "                     scoring='neg_mean_squared_error',                 \n",
    "                     cv=10)\n",
    "\n",
    "# OBTAIN MSE FOR DIFFERENT LAMBDAS AND PRINT BEST\n",
    "mse_score = pd.DataFrame({'Train':-train_scores.mean(axis=1),\n",
    "                          'Validation':-test_scores.mean(axis=1),\n",
    "                          'lambda':lambdas})\\\n",
    "              .set_index('lambda')   \n",
    "print(mse_score.Validation.nsmallest(1))\n"
   ]
  },
  {
   "cell_type": "code",
   "execution_count": null,
   "metadata": {},
   "outputs": [],
   "source": [
    "np.sqrt(mse_score).plot(logx=True, figsize=(8,4), title='Optimal lamda hyperparameter curve')\n",
    "\n",
    "plt.savefig('reddit_VOL_CP_lambda.png')"
   ]
  },
  {
   "cell_type": "markdown",
   "metadata": {},
   "source": [
    "### Twitter 1 year"
   ]
  },
  {
   "cell_type": "code",
   "execution_count": null,
   "metadata": {},
   "outputs": [],
   "source": [
    "senti_df = yearforML #pd.read_csv('1yearforML.csv', encoding='utf-8')\n",
    "\n",
    "senti_df['Open time'] = senti_df['Date_Hour'] \n",
    "ML_df = pd.merge(price_df, senti_df, how='inner', on= 'Open time')"
   ]
  },
  {
   "cell_type": "code",
   "execution_count": null,
   "metadata": {},
   "outputs": [],
   "source": [
    "price_df=price_df[['Open time','Close','Volume']]\n",
    "price_df = price_df.drop([8747])"
   ]
  },
  {
   "cell_type": "code",
   "execution_count": null,
   "metadata": {},
   "outputs": [],
   "source": [
    "lvol = ML_df['total like volume']\n",
    "srob = ML_df['sum rob sent']\n",
    "snltk = ML_df['sum nltk sent']\n",
    "slrob = ML_df['sum of like x robsent']\n",
    "slnltk = ML_df['sum of like x nltksent']"
   ]
  },
  {
   "cell_type": "code",
   "execution_count": null,
   "metadata": {},
   "outputs": [],
   "source": [
    "#clean ML_df, set Date_Hour as index\n",
    "ML_df = ML_df.dropna().set_index('Date_Hour')\n",
    "ML_df = ML_df.drop(['Unnamed: 0_x','Open time','Unnamed: 0_y'],axis=1)\n",
    "#change Volume to millions USD\n",
    "ML_df['Volume'] = ML_df['Volume']*1000000\n",
    "ML_df"
   ]
  },
  {
   "cell_type": "code",
   "execution_count": null,
   "metadata": {},
   "outputs": [],
   "source": [
    "#get some easier var names\n",
    "cp = ML_df['Close']\n",
    "vol = ML_df['Volume']\n",
    "hch = ML_df['%change']\n",
    "lvol = ML_df['total like volume']\n",
    "srob = ML_df['sum rob sent']\n",
    "snltk = ML_df['sum nltk sent']\n",
    "slrob = ML_df['sum of like x robsent']\n",
    "slnltk = ML_df['sum of like x nltksent']"
   ]
  },
  {
   "cell_type": "markdown",
   "metadata": {},
   "source": [
    "### RoBERTa VERSION"
   ]
  },
  {
   "cell_type": "code",
   "execution_count": null,
   "metadata": {},
   "outputs": [],
   "source": [
    "#X & Ydata\n",
    "Xdata = np.array([srob,lvol,slrob])\n",
    "Ydata = np.array(hch)"
   ]
  },
  {
   "cell_type": "code",
   "execution_count": null,
   "metadata": {},
   "outputs": [],
   "source": [
    "# LOAD SCIKIT LEARN DATA\n",
    "#from sklearn.datasets import load_boston\n",
    "#boston = load_boston()\n",
    "\n",
    "# PRINT VARIABLES FROM DESCRIPTION FOR ILLUSTRATION\n",
    "# print(boston['DESCR'])\n",
    "#print('\\n'.join(load_boston()['DESCR'].split('\\n')[12:26]))\n",
    "\n",
    "# DEFINE FEATURES AND TARGET AND SPLIT INTO TRAIN/TEST\n",
    "X = Xdata.T # features\n",
    "y = Ydata # target \n",
    "\n",
    "X_train, X_test, y_train, y_test = train_test_split(X, y, test_size=0.3, train_size=0.5, random_state=161193)"
   ]
  },
  {
   "cell_type": "code",
   "execution_count": null,
   "metadata": {},
   "outputs": [],
   "source": [
    "# TWO TYPES OF TRANSFORMATIONS\n",
    "poly_trans = PolynomialFeatures()\n",
    "sc = StandardScaler()\n",
    "\n",
    "# APPLY POLYNOMIAL TRANSFORMATION\n",
    "X_train_poly = poly_trans.fit_transform(X_train) \n",
    "X_test_poly = poly_trans.transform(X_test)\n",
    "\n",
    "# ... AND THEN SCALER\n",
    "X_train_prep_alt = sc.fit_transform(X_train_poly)\n",
    "X_test_prep_alt = sc.transform(X_test_poly)\n",
    "\n",
    "#... And then we fit and evaulate as always"
   ]
  },
  {
   "cell_type": "code",
   "execution_count": null,
   "metadata": {},
   "outputs": [],
   "source": [
    "# SPLIT INTO DEVELOPMENT (2/3) AND TEST DATA (1/3)\n",
    "X_dev, X_test, y_dev, y_test = train_test_split(X, y, test_size=1/3, random_state=161193)\n",
    "\n",
    "# SPLIT DEVELOPMENT INTO TRAIN (1/3) AND VALIDATION (1/3)\n",
    "X_train, X_val, y_train, y_val = train_test_split(X_dev, y_dev, test_size=1/2, random_state=161193)"
   ]
  },
  {
   "cell_type": "code",
   "execution_count": null,
   "metadata": {},
   "outputs": [],
   "source": [
    "# SPLIT INTO DEVELOPMENT (2/3) AND TEST DATA (1/3)\n",
    "X_dev, X_test, y_dev, y_test = train_test_split(X, y, test_size=1/3, random_state=161193)\n",
    "\n",
    "# SPLIT DEVELOPMENT INTO TRAIN (1/3) AND VALIDATION (1/3)\n",
    "X_train, X_val, y_train, y_val = train_test_split(X_dev, y_dev, test_size=1/2, random_state=161193)"
   ]
  },
  {
   "cell_type": "code",
   "execution_count": null,
   "metadata": {},
   "outputs": [],
   "source": [
    "# LOAD DATA FROM SCIKIT-LEARN\n",
    "from sklearn.metrics import mean_squared_error as mse\n",
    "\n",
    "# PREPARATION\n",
    "perform = [] # Store performance\n",
    "lambdas = np.logspace(-4, 4, 66) # Grid of lambdas\n",
    "\n",
    "# FOR EACH LAMBDA, FIT A MODEL ON TRAINING DATA, CHECK PERFORMANCE ON VALIDATION AND STORE MSE\n",
    "for lambda_ in lambdas:\n",
    "    pipe_lasso = make_pipeline(PolynomialFeatures(), \n",
    "                               StandardScaler(),\n",
    "                               Lasso(alpha=lambda_, random_state=161193))\n",
    "    pipe_lasso.fit(X_train, y_train)\n",
    "    y_pred = pipe_lasso.predict(X_val)\n",
    "    perform.append(mse(y_pred, y_val))\n",
    "\n",
    "# CRATE A SERIES WITH PERFORMANCE AND FIND PARM WITH LOWEST MSE    \n",
    "hyperparam_perform = pd.Series(perform,index=lambdas)\n",
    "optimal = hyperparam_perform.nsmallest(1)    \n",
    "print('Optimal lambda:', optimal.index[0])\n",
    "print('Validation MSE: %.3f' % optimal.values[0])"
   ]
  },
  {
   "cell_type": "code",
   "execution_count": null,
   "metadata": {},
   "outputs": [],
   "source": [
    "# INSERT OPTIMAL LAMBDA INTO NEW MODEL\n",
    "pipe_lasso = make_pipeline(PolynomialFeatures(), \n",
    "                           StandardScaler(),\n",
    "                           Lasso(alpha=optimal.index[0]))\n",
    "\n",
    "# FIT NEW MODEL ON ALL OF THE DEVELOPMENT (non-test) DATA TO BUILD BEST POSSIBLE MODEL\n",
    "pipe_lasso.fit(X_dev, y_dev) \n",
    "\n",
    "# COMPARE MODEL PERFORMANCE ON TEST DATA\n",
    "print('Lasso', round(mse(pipe_lasso.predict(X_test),y_test), 2))\n",
    "print('LinReg', round(mse(pipe_lr.predict(X_test),y_test), 2))"
   ]
  },
  {
   "cell_type": "code",
   "execution_count": null,
   "metadata": {},
   "outputs": [],
   "source": [
    "# SETUPa\n",
    "from sklearn.model_selection import KFold\n",
    "kfolds = KFold(n_splits=10)\n",
    "folds = list(kfolds.split(X_dev, y_dev))\n",
    "\n",
    "# Outer loop: lambdas\n",
    "mseCV = []\n",
    "for lambda_ in lambdas:    \n",
    "    \n",
    "    # Inner loop: folds\n",
    "    mseCV_ = []    \n",
    "    for train_idx, val_idx in folds:        \n",
    "        \n",
    "        # Train model and compute MSE on test fold\n",
    "        pipe_lassoCV = make_pipeline(PolynomialFeatures(degree=2, include_bias=True),\n",
    "                                     StandardScaler(),\n",
    "                                     Lasso(alpha=lambda_, random_state=161193))            \n",
    "        X_train, y_train = X_dev[train_idx], y_dev[train_idx]\n",
    "        X_val, y_val = X_dev[val_idx], y_dev[val_idx] \n",
    "        pipe_lassoCV.fit(X_train, y_train)        \n",
    "        mseCV_.append(mse(pipe_lassoCV.predict(X_val), y_val))    \n",
    "        \n",
    "    # Store result    \n",
    "    mseCV.append(mseCV_) \n",
    "    \n",
    "# Convert to DataFrame\n",
    "lambdaCV = pd.DataFrame(mseCV, index=lambdas)"
   ]
  },
  {
   "cell_type": "code",
   "execution_count": null,
   "metadata": {},
   "outputs": [],
   "source": [
    "# CHOOSE OPTIMAL HYPERPARAMETERS (mean of MSE's across folds)\n",
    "optimal_lambda = lambdaCV.mean(axis=1).nsmallest(1)\n",
    "\n",
    "# RETRAIN/RE-ESTIMATE MODEL USING OPTIMAL HYPERPARAMETERS AND COMPARE PERFORMANCE\n",
    "pipe_lassoCV = make_pipeline(PolynomialFeatures(include_bias=False), \n",
    "                             StandardScaler(),\n",
    "                             Lasso(alpha=optimal_lambda.index[0], random_state=1))\n",
    "\n",
    "pipe_lassoCV.fit(X_dev,y_dev) #fit optimal lambda to entire development set: likely to improve performance slightly since we use more oberservations\n",
    "\n",
    "models = {'Lasso': pipe_lasso, 'Lasso CV': pipe_lassoCV, 'LinReg': pipe_lr}\n",
    "for name, model in models.items():\n",
    "    score = mse(model.predict(X_test),y_test)\n",
    "    print(name, round(score, 2))"
   ]
  },
  {
   "cell_type": "code",
   "execution_count": null,
   "metadata": {},
   "outputs": [],
   "source": [
    "from sklearn.model_selection import learning_curve\n",
    "\n",
    "train_sizes, train_scores, test_scores = \\\n",
    "    learning_curve(estimator=pipe_lasso,\n",
    "                   X=X_dev,\n",
    "                   y=y_dev,\n",
    "                   train_sizes=np.arange(0.05, 1.05, .05),\n",
    "                   scoring='neg_mean_squared_error',                 \n",
    "                   cv=10)\n",
    "    \n",
    "mse_ = pd.DataFrame({'Train':-train_scores.mean(axis=1),\n",
    "                     'Test':-test_scores.mean(axis=1)})\\\n",
    "        .set_index(pd.Index(train_sizes,name='sample size'))\n",
    "\n",
    "mse_.head(5)"
   ]
  },
  {
   "cell_type": "code",
   "execution_count": null,
   "metadata": {},
   "outputs": [],
   "source": [
    "f_learn, ax = plt.subplots(figsize=(8,4))\n",
    "ax.plot(train_sizes,np.sqrt(-test_scores.mean(1)), alpha=0.25, linewidth=2, label ='Test', color='blue') # negated, because we already use neg_MSE\n",
    "ax.plot(train_sizes,np.sqrt(-train_scores.mean(1)), alpha=0.25, linewidth=2, label='Train', color='orange') # negated, because we already use neg_MSE\n",
    "\n",
    "ax.set_title('Mean performance')\n",
    "ax.set_ylabel('Root-Mean squared error')\n",
    "ax.legend();\n",
    "\n",
    "plt.savefig('twitter_1year_roberta_mean.png')"
   ]
  },
  {
   "cell_type": "code",
   "execution_count": null,
   "metadata": {},
   "outputs": [],
   "source": [
    "# LOAD FROM SCIKIT-LEARN\n",
    "from sklearn.model_selection import validation_curve\n",
    "\n",
    "# FIT AND EVALUATE FOR DIFFERENT LAMBDAS\n",
    "train_scores, test_scores = \\\n",
    "    validation_curve(estimator=pipe_lasso,\n",
    "                     X=X_dev,\n",
    "                     y=y_dev,\n",
    "                     param_name='lasso__alpha', #built-in name of hyperparameter\n",
    "                     param_range=lambdas, #values to consider\n",
    "                     scoring='neg_mean_squared_error',                 \n",
    "                     cv=10)\n",
    "\n",
    "# OBTAIN MSE FOR DIFFERENT LAMBDAS AND PRINT BEST\n",
    "mse_score = pd.DataFrame({'Train':-train_scores.mean(axis=1),\n",
    "                          'Validation':-test_scores.mean(axis=1),\n",
    "                          'lambda':lambdas})\\\n",
    "              .set_index('lambda')   \n",
    "print(mse_score.Validation.nsmallest(1))\n"
   ]
  },
  {
   "cell_type": "code",
   "execution_count": null,
   "metadata": {},
   "outputs": [],
   "source": [
    "np.sqrt(mse_score).plot(logx=True, figsize=(8,4), title='Optimal lamda hyperparameter curve')\n",
    "\n",
    "plt.savefig('twitter_1year_roberta_lambda.png')"
   ]
  },
  {
   "cell_type": "markdown",
   "metadata": {},
   "source": [
    "#### NLTK Version"
   ]
  },
  {
   "cell_type": "code",
   "execution_count": null,
   "metadata": {},
   "outputs": [],
   "source": [
    "#X & Ydata\n",
    "Xdata = np.array([snltk,lvol,slnltk])\n",
    "Ydata = np.array(cp)"
   ]
  },
  {
   "cell_type": "code",
   "execution_count": null,
   "metadata": {},
   "outputs": [],
   "source": [
    "f_learn, ax = plt.subplots(figsize=(7,3))\n",
    "ax.plot(train_sizes,np.sqrt(-test_scores.mean(1)), alpha=0.25, linewidth=2, label ='Test', color='blue') # negated, because we already use neg_MSE\n",
    "ax.plot(train_sizes,np.sqrt(-train_scores.mean(1)), alpha=0.25, linewidth=2, label='Train', color='orange') # negated, because we already use neg_MSE\n",
    "\n",
    "ax.set_title('Mean performance')\n",
    "ax.set_ylabel('Root-Mean squared error')\n",
    "ax.legend();\n",
    "\n",
    "plt.savefig('twitter_1year_NLTK_mean.png')"
   ]
  },
  {
   "cell_type": "code",
   "execution_count": null,
   "metadata": {},
   "outputs": [],
   "source": [
    "np.sqrt(mse_score).plot(logx=True, figsize=(8,4), title='Optimal lamda hyperparameter curve')\n",
    "\n",
    "plt.savefig('twitter_1year_NLTK_lambda.png')"
   ]
  },
  {
   "cell_type": "markdown",
   "metadata": {},
   "source": [
    "NLTK converges to a slightly higher RMSE than RoBERTa based on the two respective second graphs. \n",
    "\n",
    "\n",
    "Hard to gauge the values of the first one however, but it seems to be same."
   ]
  },
  {
   "cell_type": "code",
   "execution_count": null,
   "metadata": {},
   "outputs": [],
   "source": []
  }
 ],
 "metadata": {
  "kernelspec": {
   "display_name": "Python 3",
   "language": "python",
   "name": "python3"
  },
  "language_info": {
   "codemirror_mode": {
    "name": "ipython",
    "version": 3
   },
   "file_extension": ".py",
   "mimetype": "text/x-python",
   "name": "python",
   "nbconvert_exporter": "python",
   "pygments_lexer": "ipython3",
   "version": "3.8.5"
  }
 },
 "nbformat": 4,
 "nbformat_minor": 4
}
