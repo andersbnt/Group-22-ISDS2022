{
 "cells": [
  {
   "cell_type": "code",
   "execution_count": 41,
   "metadata": {},
   "outputs": [
    {
     "name": "stderr",
     "output_type": "stream",
     "text": [
      "[nltk_data] Downloading package punkt to\n",
      "[nltk_data]     C:\\Users\\Anders\\AppData\\Roaming\\nltk_data...\n",
      "[nltk_data]   Package punkt is already up-to-date!\n",
      "[nltk_data] Downloading package twitter_samples to\n",
      "[nltk_data]     C:\\Users\\Anders\\AppData\\Roaming\\nltk_data...\n",
      "[nltk_data]   Package twitter_samples is already up-to-date!\n",
      "[nltk_data] Downloading package wordnet to\n",
      "[nltk_data]     C:\\Users\\Anders\\AppData\\Roaming\\nltk_data...\n",
      "[nltk_data]   Package wordnet is already up-to-date!\n",
      "[nltk_data] Downloading package averaged_perceptron_tagger to\n",
      "[nltk_data]     C:\\Users\\Anders\\AppData\\Roaming\\nltk_data...\n",
      "[nltk_data]   Package averaged_perceptron_tagger is already up-to-\n",
      "[nltk_data]       date!\n",
      "[nltk_data] Downloading package stopwords to\n",
      "[nltk_data]     C:\\Users\\Anders\\AppData\\Roaming\\nltk_data...\n",
      "[nltk_data]   Package stopwords is already up-to-date!\n"
     ]
    },
    {
     "data": {
      "text/plain": [
       "True"
      ]
     },
     "execution_count": 41,
     "metadata": {},
     "output_type": "execute_result"
    }
   ],
   "source": [
    "#Import packages\n",
    "import nltk, re, string, random, tqdm\n",
    "import pandas as pd\n",
    "import tqdm \n",
    "import matplotlib.pyplot as plt \n",
    "\n",
    "from nltk import classify, NaiveBayesClassifier, FreqDist\n",
    "from nltk.tokenize import word_tokenize\n",
    "from nltk.corpus import twitter_samples\n",
    "from nltk.corpus import stopwords\n",
    "from nltk.tag import pos_tag\n",
    "from nltk.stem.wordnet import WordNetLemmatizer\n",
    "\n",
    "nltk.download('punkt')\n",
    "nltk.download('twitter_samples')\n",
    "nltk.download('wordnet')\n",
    "nltk.download('averaged_perceptron_tagger')\n",
    "nltk.download('stopwords')"
   ]
  },
  {
   "cell_type": "code",
   "execution_count": 6,
   "metadata": {},
   "outputs": [
    {
     "name": "stderr",
     "output_type": "stream",
     "text": [
      "\n",
      "  0%|                                                                                         | 0/5000 [00:00<?, ?it/s]\u001b[A"
     ]
    }
   ],
   "source": [
    "#Raw training data\n",
    "\n",
    "positive_tweets = twitter_samples.strings('positive_tweets.json')\n",
    "negative_tweets = twitter_samples.strings('negative_tweets.json')\n",
    "text = twitter_samples.strings('tweets.20150430-223406.json')"
   ]
  },
  {
   "cell_type": "code",
   "execution_count": 7,
   "metadata": {},
   "outputs": [],
   "source": [
    "#lematization funtion, normalises words to canonical form\n",
    "def lemmatize_sentence(tokens):\n",
    "    lemmatizer = WordNetLemmatizer()\n",
    "    lemmatized_sentence = []\n",
    "    for word, tag in pos_tag(tokens):\n",
    "        if tag.startswith('NN'):\n",
    "            pos = 'n'\n",
    "        elif tag.startswith('VB'):\n",
    "            pos = 'v'\n",
    "        else:\n",
    "            pos = 'a'\n",
    "        lemmatized_sentence.append(lemmatizer.lemmatize(word, pos))\n",
    "    return lemmatized_sentence"
   ]
  },
  {
   "cell_type": "code",
   "execution_count": 8,
   "metadata": {},
   "outputs": [],
   "source": [
    "#Function to remove noise (the, it, @ for twitter handles and others)\n",
    "def remove_noise(tweet_tokens, stop_words = ()):\n",
    "\n",
    "    cleaned_tokens = []\n",
    "\n",
    "    for token, tag in pos_tag(tweet_tokens):\n",
    "        token = re.sub('http[s]?://(?:[a-zA-Z]|[0-9]|[$-_@.&+#]|[!*\\(\\),]|'\\\n",
    "                       '(?:%[0-9a-fA-F][0-9a-fA-F]))+','', token)\n",
    "        token = re.sub(\"(@[A-Za-z0-9_]+)\",\"\", token)\n",
    "\n",
    "        if tag.startswith(\"NN\"):\n",
    "            pos = 'n'\n",
    "        elif tag.startswith('VB'):\n",
    "            pos = 'v'\n",
    "        else:\n",
    "            pos = 'a'\n",
    "\n",
    "        lemmatizer = WordNetLemmatizer()\n",
    "        token = lemmatizer.lemmatize(token, pos)\n",
    "\n",
    "        if len(token) > 0 and token not in string.punctuation and token.lower() not in stop_words:\n",
    "            cleaned_tokens.append(token.lower())\n",
    "    return cleaned_tokens"
   ]
  },
  {
   "cell_type": "code",
   "execution_count": 9,
   "metadata": {},
   "outputs": [
    {
     "name": "stderr",
     "output_type": "stream",
     "text": [
      "  0%|                                                                                         | 0/5000 [04:56<?, ?it/s]\n"
     ]
    }
   ],
   "source": [
    "#Make clean sample out of cleaned data\n",
    "stop_words = stopwords.words('english')\n",
    "\n",
    "positive_tweet_tokens = twitter_samples.tokenized('positive_tweets.json')\n",
    "negative_tweet_tokens = twitter_samples.tokenized('negative_tweets.json')\n",
    "\n",
    "positive_cleaned_tokens_list = []\n",
    "negative_cleaned_tokens_list = []\n",
    "\n",
    "for tokens in positive_tweet_tokens:\n",
    "    positive_cleaned_tokens_list.append(remove_noise(tokens, stop_words))\n",
    "\n",
    "for tokens in negative_tweet_tokens:\n",
    "    negative_cleaned_tokens_list.append(remove_noise(tokens, stop_words))"
   ]
  },
  {
   "cell_type": "code",
   "execution_count": 11,
   "metadata": {},
   "outputs": [
    {
     "name": "stdout",
     "output_type": "stream",
     "text": [
      "[(':)', 3691), (':-)', 701), (':d', 658), ('thanks', 388), ('follow', 357), ('love', 333), ('...', 290), ('good', 283), ('get', 263), ('thank', 253)]\n"
     ]
    }
   ],
   "source": [
    "#Word density function\n",
    "def get_all_words(cleaned_tokens_list):\n",
    "    for tokens in cleaned_tokens_list:\n",
    "        for token in tokens:\n",
    "            yield token\n",
    "\n",
    "all_pos_words = get_all_words(positive_cleaned_tokens_list)\n",
    "\n",
    "freq_dist_pos = FreqDist(all_pos_words)\n",
    "#print(freq_dist_pos.most_common(10))"
   ]
  },
  {
   "cell_type": "code",
   "execution_count": 13,
   "metadata": {},
   "outputs": [
    {
     "name": "stdout",
     "output_type": "stream",
     "text": [
      "[]\n"
     ]
    }
   ],
   "source": [
    "#Frequency distribution\n",
    "freq_dist_pos = FreqDist(all_pos_words)\n",
    "#print(freq_dist_pos.most_common(10))"
   ]
  },
  {
   "cell_type": "code",
   "execution_count": 26,
   "metadata": {},
   "outputs": [],
   "source": [
    "#Function to fetch cleaned tokens for modelling\n",
    "def get_tweets_for_model(cleaned_tokens_list):\n",
    "    for tweet_tokens in cleaned_tokens_list:\n",
    "        yield dict([token, True] for token in tweet_tokens)\n",
    "\n",
    "positive_tokens_for_model = get_tweets_for_model(positive_cleaned_tokens_list)\n",
    "negative_tokens_for_model = get_tweets_for_model(negative_cleaned_tokens_list)"
   ]
  },
  {
   "cell_type": "code",
   "execution_count": 27,
   "metadata": {},
   "outputs": [
    {
     "name": "stdout",
     "output_type": "stream",
     "text": [
      "5000\n",
      "5000\n"
     ]
    }
   ],
   "source": [
    "print(len(positive_cleaned_tokens_list))\n",
    "print(len(negative_cleaned_tokens_list))"
   ]
  },
  {
   "cell_type": "code",
   "execution_count": 28,
   "metadata": {},
   "outputs": [],
   "source": [
    "#Split dataset\n",
    "positive_dataset = [(tweet_dict, \"Positive\")\n",
    "                     for tweet_dict in positive_tokens_for_model]\n",
    "\n",
    "negative_dataset = [(tweet_dict, \"Negative\")\n",
    "                     for tweet_dict in negative_tokens_for_model]\n",
    "\n",
    "dataset = positive_dataset + negative_dataset\n",
    "\n",
    "random.shuffle(dataset)\n",
    "\n",
    "train_data = dataset[:7000]\n",
    "test_data = dataset[7000:]"
   ]
  },
  {
   "cell_type": "code",
   "execution_count": 29,
   "metadata": {},
   "outputs": [
    {
     "name": "stdout",
     "output_type": "stream",
     "text": [
      "Accuracy is: 0.995\n",
      "Most Informative Features\n",
      "                      :( = True           Negati : Positi =   2060.6 : 1.0\n",
      "                      :) = True           Positi : Negati =   1643.7 : 1.0\n",
      "                follower = True           Positi : Negati =     24.1 : 1.0\n",
      "                     sad = True           Negati : Positi =     23.7 : 1.0\n",
      "                 welcome = True           Positi : Negati =     22.1 : 1.0\n",
      "                  arrive = True           Positi : Negati =     20.1 : 1.0\n",
      "                     bam = True           Positi : Negati =     18.3 : 1.0\n",
      "                     x15 = True           Negati : Positi =     17.1 : 1.0\n",
      "                      aw = True           Negati : Positi =     14.4 : 1.0\n",
      "                    glad = True           Positi : Negati =     13.7 : 1.0\n",
      "None\n"
     ]
    }
   ],
   "source": [
    "#classifier\n",
    "classifier = NaiveBayesClassifier.train(train_data)\n",
    "\n",
    "print(\"Accuracy is:\", classify.accuracy(classifier, test_data))\n",
    "\n",
    "print(classifier.show_most_informative_features(10))"
   ]
  },
  {
   "cell_type": "code",
   "execution_count": 34,
   "metadata": {},
   "outputs": [
    {
     "name": "stdout",
     "output_type": "stream",
     "text": [
      "Negative\n"
     ]
    }
   ],
   "source": [
    "#Custom tweet tester, model seems to not understand sarcasm\n",
    "custom_tweet = 'doge is the shitty coin'\n",
    "\n",
    "custom_tokens = remove_noise(word_tokenize(custom_tweet))\n",
    "\n",
    "print(classifier.classify(dict([token, True] for token in custom_tokens)))"
   ]
  },
  {
   "cell_type": "markdown",
   "metadata": {},
   "source": [
    "### OBS: Takes around 10 mins to run"
   ]
  },
  {
   "cell_type": "code",
   "execution_count": 35,
   "metadata": {
    "scrolled": true
   },
   "outputs": [
    {
     "name": "stderr",
     "output_type": "stream",
     "text": [
      "100%|█████████████████████████████████████████████████████████████████████████| 145933/145933 [10:09<00:00, 239.56it/s]\n"
     ]
    },
    {
     "data": {
      "text/html": [
       "<div>\n",
       "<style scoped>\n",
       "    .dataframe tbody tr th:only-of-type {\n",
       "        vertical-align: middle;\n",
       "    }\n",
       "\n",
       "    .dataframe tbody tr th {\n",
       "        vertical-align: top;\n",
       "    }\n",
       "\n",
       "    .dataframe thead th {\n",
       "        text-align: right;\n",
       "    }\n",
       "</style>\n",
       "<table border=\"1\" class=\"dataframe\">\n",
       "  <thead>\n",
       "    <tr style=\"text-align: right;\">\n",
       "      <th></th>\n",
       "      <th>0</th>\n",
       "    </tr>\n",
       "  </thead>\n",
       "  <tbody>\n",
       "    <tr>\n",
       "      <th>0</th>\n",
       "      <td>1</td>\n",
       "    </tr>\n",
       "    <tr>\n",
       "      <th>1</th>\n",
       "      <td>1</td>\n",
       "    </tr>\n",
       "    <tr>\n",
       "      <th>2</th>\n",
       "      <td>1</td>\n",
       "    </tr>\n",
       "    <tr>\n",
       "      <th>3</th>\n",
       "      <td>1</td>\n",
       "    </tr>\n",
       "    <tr>\n",
       "      <th>4</th>\n",
       "      <td>1</td>\n",
       "    </tr>\n",
       "    <tr>\n",
       "      <th>...</th>\n",
       "      <td>...</td>\n",
       "    </tr>\n",
       "    <tr>\n",
       "      <th>145928</th>\n",
       "      <td>1</td>\n",
       "    </tr>\n",
       "    <tr>\n",
       "      <th>145929</th>\n",
       "      <td>1</td>\n",
       "    </tr>\n",
       "    <tr>\n",
       "      <th>145930</th>\n",
       "      <td>1</td>\n",
       "    </tr>\n",
       "    <tr>\n",
       "      <th>145931</th>\n",
       "      <td>1</td>\n",
       "    </tr>\n",
       "    <tr>\n",
       "      <th>145932</th>\n",
       "      <td>1</td>\n",
       "    </tr>\n",
       "  </tbody>\n",
       "</table>\n",
       "<p>145933 rows × 1 columns</p>\n",
       "</div>"
      ],
      "text/plain": [
       "        0\n",
       "0       1\n",
       "1       1\n",
       "2       1\n",
       "3       1\n",
       "4       1\n",
       "...    ..\n",
       "145928  1\n",
       "145929  1\n",
       "145930  1\n",
       "145931  1\n",
       "145932  1\n",
       "\n",
       "[145933 rows x 1 columns]"
      ]
     },
     "execution_count": 35,
     "metadata": {},
     "output_type": "execute_result"
    }
   ],
   "source": [
    "#Analyse my Data\n",
    "File = 'twitter_API_data_cleaned.csv'\n",
    "dogecoin_df = pd.read_csv(File, encoding='utf-8')\n",
    "output_list = []\n",
    "\n",
    "temp_list = dogecoin_df['text'].tolist()\n",
    "\n",
    "for i in tqdm.tqdm(temp_list):\n",
    "    custom_text = str(i)\n",
    "    custom_tokens = remove_noise(word_tokenize(custom_text))\n",
    "    if classifier.classify(dict([token, True] for token in custom_tokens)) == 'Negative':\n",
    "        output_list.append(-1)\n",
    "    else:\n",
    "        output_list.append(1)\n",
    "output_df = pd.DataFrame(output_list)\n",
    "output_df.head(5)"
   ]
  },
  {
   "cell_type": "code",
   "execution_count": 39,
   "metadata": {},
   "outputs": [
    {
     "data": {
      "text/html": [
       "<div>\n",
       "<style scoped>\n",
       "    .dataframe tbody tr th:only-of-type {\n",
       "        vertical-align: middle;\n",
       "    }\n",
       "\n",
       "    .dataframe tbody tr th {\n",
       "        vertical-align: top;\n",
       "    }\n",
       "\n",
       "    .dataframe thead th {\n",
       "        text-align: right;\n",
       "    }\n",
       "</style>\n",
       "<table border=\"1\" class=\"dataframe\">\n",
       "  <thead>\n",
       "    <tr style=\"text-align: right;\">\n",
       "      <th></th>\n",
       "      <th>text</th>\n",
       "      <th>author_id</th>\n",
       "      <th>date</th>\n",
       "      <th>date_hour</th>\n",
       "      <th>retweet_count</th>\n",
       "      <th>reply_count</th>\n",
       "      <th>like_count</th>\n",
       "      <th>quote_count</th>\n",
       "      <th>sentiment</th>\n",
       "    </tr>\n",
       "  </thead>\n",
       "  <tbody>\n",
       "    <tr>\n",
       "      <th>0</th>\n",
       "      <td>@alqsyy @Mutantduckclub8 RYOGE- The shiba kill...</td>\n",
       "      <td>1557092549638111233</td>\n",
       "      <td>2022-08-15</td>\n",
       "      <td>2022-08-15 14:00:00</td>\n",
       "      <td>0</td>\n",
       "      <td>0</td>\n",
       "      <td>0</td>\n",
       "      <td>0</td>\n",
       "      <td>1</td>\n",
       "    </tr>\n",
       "    <tr>\n",
       "      <th>1</th>\n",
       "      <td>@Amrit45970471 @palletjacker69 Join doge mutan...</td>\n",
       "      <td>1551828952011997184</td>\n",
       "      <td>2022-08-15</td>\n",
       "      <td>2022-08-15 14:00:00</td>\n",
       "      <td>0</td>\n",
       "      <td>0</td>\n",
       "      <td>0</td>\n",
       "      <td>0</td>\n",
       "      <td>1</td>\n",
       "    </tr>\n",
       "    <tr>\n",
       "      <th>2</th>\n",
       "      <td>Which #altcoin will make you rich?$MATIC$DOGE$...</td>\n",
       "      <td>1536454382941655040</td>\n",
       "      <td>2022-08-15</td>\n",
       "      <td>2022-08-15 14:00:00</td>\n",
       "      <td>0</td>\n",
       "      <td>0</td>\n",
       "      <td>0</td>\n",
       "      <td>0</td>\n",
       "      <td>1</td>\n",
       "    </tr>\n",
       "    <tr>\n",
       "      <th>3</th>\n",
       "      <td>@lionsdenpoker RYOGE- The shiba killer of BSC....</td>\n",
       "      <td>1557092549638111233</td>\n",
       "      <td>2022-08-15</td>\n",
       "      <td>2022-08-15 14:00:00</td>\n",
       "      <td>0</td>\n",
       "      <td>0</td>\n",
       "      <td>0</td>\n",
       "      <td>0</td>\n",
       "      <td>1</td>\n",
       "    </tr>\n",
       "    <tr>\n",
       "      <th>4</th>\n",
       "      <td>@mylagregory5 @jumbocyclops RYOGE- The shiba k...</td>\n",
       "      <td>1557092549638111233</td>\n",
       "      <td>2022-08-15</td>\n",
       "      <td>2022-08-15 14:00:00</td>\n",
       "      <td>0</td>\n",
       "      <td>0</td>\n",
       "      <td>0</td>\n",
       "      <td>0</td>\n",
       "      <td>1</td>\n",
       "    </tr>\n",
       "    <tr>\n",
       "      <th>...</th>\n",
       "      <td>...</td>\n",
       "      <td>...</td>\n",
       "      <td>...</td>\n",
       "      <td>...</td>\n",
       "      <td>...</td>\n",
       "      <td>...</td>\n",
       "      <td>...</td>\n",
       "      <td>...</td>\n",
       "      <td>...</td>\n",
       "    </tr>\n",
       "    <tr>\n",
       "      <th>145928</th>\n",
       "      <td>#business #bitcoin #tumblr #twitter #facebook ...</td>\n",
       "      <td>617853906</td>\n",
       "      <td>2022-08-08</td>\n",
       "      <td>2022-08-08 15:00:00</td>\n",
       "      <td>0</td>\n",
       "      <td>0</td>\n",
       "      <td>0</td>\n",
       "      <td>0</td>\n",
       "      <td>1</td>\n",
       "    </tr>\n",
       "    <tr>\n",
       "      <th>145929</th>\n",
       "      <td>@SharksCoins @binance AXL INU @axltoken❤️1000x...</td>\n",
       "      <td>1523653663415230465</td>\n",
       "      <td>2022-08-08</td>\n",
       "      <td>2022-08-08 15:00:00</td>\n",
       "      <td>0</td>\n",
       "      <td>0</td>\n",
       "      <td>0</td>\n",
       "      <td>0</td>\n",
       "      <td>1</td>\n",
       "    </tr>\n",
       "    <tr>\n",
       "      <th>145930</th>\n",
       "      <td>🐸 is one of the earliest and hottest #MEME in ...</td>\n",
       "      <td>1540648947844251648</td>\n",
       "      <td>2022-08-08</td>\n",
       "      <td>2022-08-08 15:00:00</td>\n",
       "      <td>0</td>\n",
       "      <td>0</td>\n",
       "      <td>0</td>\n",
       "      <td>0</td>\n",
       "      <td>1</td>\n",
       "    </tr>\n",
       "    <tr>\n",
       "      <th>145931</th>\n",
       "      <td>@MonstersCoins WE WILL HAVE ETH BRIGE, STAKING...</td>\n",
       "      <td>2795490876</td>\n",
       "      <td>2022-08-08</td>\n",
       "      <td>2022-08-08 15:00:00</td>\n",
       "      <td>0</td>\n",
       "      <td>0</td>\n",
       "      <td>0</td>\n",
       "      <td>0</td>\n",
       "      <td>1</td>\n",
       "    </tr>\n",
       "    <tr>\n",
       "      <th>145932</th>\n",
       "      <td>$BTC $ETH  $DOGE $fil  Crowd-sourced alerts, r...</td>\n",
       "      <td>1509635668896464896</td>\n",
       "      <td>2022-08-08</td>\n",
       "      <td>2022-08-08 15:00:00</td>\n",
       "      <td>0</td>\n",
       "      <td>0</td>\n",
       "      <td>0</td>\n",
       "      <td>0</td>\n",
       "      <td>1</td>\n",
       "    </tr>\n",
       "  </tbody>\n",
       "</table>\n",
       "<p>145933 rows × 9 columns</p>\n",
       "</div>"
      ],
      "text/plain": [
       "                                                     text  \\\n",
       "0       @alqsyy @Mutantduckclub8 RYOGE- The shiba kill...   \n",
       "1       @Amrit45970471 @palletjacker69 Join doge mutan...   \n",
       "2       Which #altcoin will make you rich?$MATIC$DOGE$...   \n",
       "3       @lionsdenpoker RYOGE- The shiba killer of BSC....   \n",
       "4       @mylagregory5 @jumbocyclops RYOGE- The shiba k...   \n",
       "...                                                   ...   \n",
       "145928  #business #bitcoin #tumblr #twitter #facebook ...   \n",
       "145929  @SharksCoins @binance AXL INU @axltoken❤️1000x...   \n",
       "145930  🐸 is one of the earliest and hottest #MEME in ...   \n",
       "145931  @MonstersCoins WE WILL HAVE ETH BRIGE, STAKING...   \n",
       "145932  $BTC $ETH  $DOGE $fil  Crowd-sourced alerts, r...   \n",
       "\n",
       "                  author_id        date            date_hour  retweet_count  \\\n",
       "0       1557092549638111233  2022-08-15  2022-08-15 14:00:00              0   \n",
       "1       1551828952011997184  2022-08-15  2022-08-15 14:00:00              0   \n",
       "2       1536454382941655040  2022-08-15  2022-08-15 14:00:00              0   \n",
       "3       1557092549638111233  2022-08-15  2022-08-15 14:00:00              0   \n",
       "4       1557092549638111233  2022-08-15  2022-08-15 14:00:00              0   \n",
       "...                     ...         ...                  ...            ...   \n",
       "145928            617853906  2022-08-08  2022-08-08 15:00:00              0   \n",
       "145929  1523653663415230465  2022-08-08  2022-08-08 15:00:00              0   \n",
       "145930  1540648947844251648  2022-08-08  2022-08-08 15:00:00              0   \n",
       "145931           2795490876  2022-08-08  2022-08-08 15:00:00              0   \n",
       "145932  1509635668896464896  2022-08-08  2022-08-08 15:00:00              0   \n",
       "\n",
       "        reply_count  like_count  quote_count  sentiment  \n",
       "0                 0           0            0          1  \n",
       "1                 0           0            0          1  \n",
       "2                 0           0            0          1  \n",
       "3                 0           0            0          1  \n",
       "4                 0           0            0          1  \n",
       "...             ...         ...          ...        ...  \n",
       "145928            0           0            0          1  \n",
       "145929            0           0            0          1  \n",
       "145930            0           0            0          1  \n",
       "145931            0           0            0          1  \n",
       "145932            0           0            0          1  \n",
       "\n",
       "[145933 rows x 9 columns]"
      ]
     },
     "execution_count": 39,
     "metadata": {},
     "output_type": "execute_result"
    }
   ],
   "source": [
    "dogecoin_df['sentiment'] = output_df\n",
    "\n",
    "dogecoin_df"
   ]
  },
  {
   "cell_type": "code",
   "execution_count": 47,
   "metadata": {},
   "outputs": [],
   "source": [
    "# Number of tweets mentioning 'doge' in each sentiment category\n",
    "tweets_by_sentiment = dogecoin_df['text'].groupby(dogecoin_df['sentiment']).count()"
   ]
  },
  {
   "cell_type": "code",
   "execution_count": 48,
   "metadata": {},
   "outputs": [
    {
     "data": {
      "image/png": "[encoded data removed]",
      "text/plain": [
       "<Figure size 864x576 with 4 Axes>"
      ]
     },
     "metadata": {
      "needs_background": "light"
     },
     "output_type": "display_data"
    }
   ],
   "source": [
    "fig, (ax1, ax2) = plt.subplots(nrows=2,ncols=2, figsize=(12,8))\n",
    "\n",
    "#ax1[0].plot(tweets_per_day_df)\n",
    "#ax1[0].set_title('Number of English tweets \\n mentioning \\'doge\\' per day')\n",
    "#ax1[0].tick_params(axis='x',rotation=90)\n",
    "\n",
    "ax1[1].bar(['negative', 'positive'], tweets_by_sentiment, color =['maroon','limegreen'])\n",
    "ax1[1].set_title('Number of tweets by sentiment \\n rating using TextBlob')\n",
    "ax1[1].tick_params(axis='x',rotation=90)\n",
    "\n",
    "\n",
    "#ax2[0].plot(mean_sentiment_per_day)\n",
    "#ax2[0].set_title('Mean of sentiment using TextBlob \\n per day')\n",
    "#ax2[0].tick_params(axis='x',rotation=90)\n",
    "\n",
    "#ax2[1].plot(sum_sentiment_per_day)\n",
    "#ax2[1].set_title('Sum of sentiment using TextBlob \\n per day')\n",
    "#ax2[1].tick_params(axis='x',rotation=90)\n",
    "\n",
    "\n",
    "\n",
    "fig.tight_layout()\n",
    "plt.show()"
   ]
  },
  {
   "cell_type": "code",
   "execution_count": null,
   "metadata": {},
   "outputs": [],
   "source": []
  },
  {
   "cell_type": "code",
   "execution_count": null,
   "metadata": {},
   "outputs": [],
   "source": []
  },
  {
   "cell_type": "code",
   "execution_count": null,
   "metadata": {},
   "outputs": [],
   "source": []
  },
  {
   "cell_type": "code",
   "execution_count": null,
   "metadata": {},
   "outputs": [],
   "source": []
  },
  {
   "cell_type": "code",
   "execution_count": null,
   "metadata": {},
   "outputs": [],
   "source": []
  },
  {
   "cell_type": "code",
   "execution_count": 16,
   "metadata": {},
   "outputs": [],
   "source": [
    "dogecoin_senti_df = dogecoin_df[['Title', 'sentiment', 'Publish Date']]\n",
    "dogecoin_senti_df.to_csv('dogecoin_sentimental.csv')"
   ]
  },
  {
   "cell_type": "code",
   "execution_count": 18,
   "metadata": {},
   "outputs": [
    {
     "data": {
      "text/plain": [
       "dtype('O')"
      ]
     },
     "execution_count": 18,
     "metadata": {},
     "output_type": "execute_result"
    }
   ],
   "source": [
    "dogecoin_senti_df['Publish Date'].astype(str).dtype"
   ]
  },
  {
   "cell_type": "code",
   "execution_count": null,
   "metadata": {},
   "outputs": [],
   "source": []
  }
 ],
 "metadata": {
  "kernelspec": {
   "display_name": "Python 3",
   "language": "python",
   "name": "python3"
  },
  "language_info": {
   "codemirror_mode": {
    "name": "ipython",
    "version": 3
   },
   "file_extension": ".py",
   "mimetype": "text/x-python",
   "name": "python",
   "nbconvert_exporter": "python",
   "pygments_lexer": "ipython3",
   "version": "3.8.5"
  }
 },
 "nbformat": 4,
 "nbformat_minor": 5
}
