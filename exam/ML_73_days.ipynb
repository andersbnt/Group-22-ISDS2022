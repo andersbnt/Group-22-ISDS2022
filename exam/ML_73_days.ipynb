{
 "cells": [
  {
   "cell_type": "code",
   "execution_count": 98,
   "metadata": {},
   "outputs": [],
   "source": [
    "import warnings\n",
    "from sklearn.exceptions import ConvergenceWarning\n",
    "warnings.filterwarnings(action='ignore', category=ConvergenceWarning)\n",
    "\n",
    "import matplotlib.pyplot as plt\n",
    "import numpy as np \n",
    "import pandas as pd \n",
    "import seaborn as sns\n",
    "\n",
    "# LOAD FROM SCIKIT-LEARN\n",
    "from sklearn.pipeline import make_pipeline\n",
    "from sklearn.model_selection import train_test_split\n",
    "from sklearn.preprocessing import PolynomialFeatures, StandardScaler\n",
    "from sklearn.linear_model import LinearRegression\n",
    "from sklearn.linear_model import Lasso\n",
    "from sklearn.metrics import mean_squared_error as mse"
   ]
  },
  {
   "cell_type": "code",
   "execution_count": 99,
   "metadata": {},
   "outputs": [],
   "source": [
    "# Load in sentiment and price data, and rename Date_Hour to match the 'Open time' column for merging with price df  \n",
    "senti_df = pd.read_csv('twitter_73_days_sentiment_NLKT_per_hour.csv', encoding='utf-8')\n",
    "price_df = pd.read_csv('price_ML_data.csv', encoding='utf-8')\n",
    "senti_df['Open time'] = senti_df['Date_Hour'] \n",
    "\n",
    "# Merging Twitter data and Price Data\n",
    "ML_df = pd.merge(senti_df, price_df, how='inner', on= 'Open time')"
   ]
  },
  {
   "cell_type": "code",
   "execution_count": 179,
   "metadata": {},
   "outputs": [],
   "source": [
    "# Defining the X and Y variables\n",
    "SF = ML_df['Sum']\n",
    "CP = ML_df['Close']\n",
    "VOL= ML_df['Vol']\n",
    "#Ydata\n",
    "PC = ML_df['Percentage change']\n",
    "\n",
    "\n",
    "\n",
    "# Choose which ones to apply to ML model         (Choose wisely.....)\n",
    "Xdata = np.array([VOL])\n",
    "Ydata = np.array(CP)\n",
    "\n"
   ]
  },
  {
   "cell_type": "code",
   "execution_count": 180,
   "metadata": {},
   "outputs": [],
   "source": [
    "# LOAD SCIKIT LEARN DATA\n",
    "#from sklearn.datasets import load_boston\n",
    "#boston = load_boston()\n",
    "\n",
    "# PRINT VARIABLES FROM DESCRIPTION FOR ILLUSTRATION\n",
    "# print(boston['DESCR'])\n",
    "#print('\\n'.join(load_boston()['DESCR'].split('\\n')[12:26]))\n",
    "\n",
    "# DEFINE FEATURES AND TARGET AND SPLIT INTO TRAIN/TEST\n",
    "X = Xdata.T # features\n",
    "y = Ydata # target \n",
    "\n",
    "X_train, X_test, y_train, y_test = train_test_split(X, y, test_size=0.5, train_size=0.5, random_state=161193)"
   ]
  },
  {
   "cell_type": "code",
   "execution_count": 181,
   "metadata": {},
   "outputs": [],
   "source": [
    "# DEFINE A PIPELINE (already did that...)\n",
    "pipe = make_pipeline(PolynomialFeatures(degree = 2), \n",
    "                             StandardScaler(),\n",
    "                             LinearRegression()) #need to specify in correct order\n",
    "\n",
    "# Fit and evaluate model\n",
    "pipe.fit(X_train, y_train)\n",
    "y_pred = pipe.predict(X_test)"
   ]
  },
  {
   "cell_type": "code",
   "execution_count": 182,
   "metadata": {},
   "outputs": [],
   "source": [
    "# TWO TYPES OF TRANSFORMATIONS\n",
    "poly_trans = PolynomialFeatures()\n",
    "sc = StandardScaler()\n",
    "\n",
    "# APPLY POLYNOMIAL TRANSFORMATION\n",
    "X_train_poly = poly_trans.fit_transform(X_train) \n",
    "X_test_poly = poly_trans.transform(X_test)\n",
    "\n",
    "# ... AND THEN SCALER\n",
    "X_train_prep_alt = sc.fit_transform(X_train_poly)\n",
    "X_test_prep_alt = sc.transform(X_test_poly)\n",
    "\n",
    "#... And then we fit and evaulate as always"
   ]
  },
  {
   "cell_type": "code",
   "execution_count": 183,
   "metadata": {},
   "outputs": [],
   "source": [
    "# SPLIT INTO DEVELOPMENT (2/3) AND TEST DATA (1/3)\n",
    "X_dev, X_test, y_dev, y_test = train_test_split(X, y, test_size=1/3, random_state=161193)\n",
    "\n",
    "# SPLIT DEVELOPMENT INTO TRAIN (1/3) AND VALIDATION (1/3)\n",
    "X_train, X_val, y_train, y_val = train_test_split(X_dev, y_dev, test_size=1/2, random_state=161193)"
   ]
  },
  {
   "cell_type": "code",
   "execution_count": 184,
   "metadata": {},
   "outputs": [
    {
     "data": {
      "text/plain": [
       "Pipeline(steps=[('polynomialfeatures', PolynomialFeatures()),\n",
       "                ('standardscaler', StandardScaler()),\n",
       "                ('linearregression', LinearRegression())])"
      ]
     },
     "execution_count": 184,
     "metadata": {},
     "output_type": "execute_result"
    }
   ],
   "source": [
    "# LOAD DATA FROM SCIKIT-LEARN\n",
    "#from sklearn.linear_model import Lasso, LinearRegression\n",
    "\n",
    "# DEFINE PIPELINE\n",
    "pipe_lr = make_pipeline(PolynomialFeatures(), \n",
    "                        StandardScaler(),\n",
    "                        LinearRegression())\n",
    "\n",
    "# FIT PIPELINE TO DEVELOPMENT DATA\n",
    "pipe_lr.fit(X_dev, y_dev)"
   ]
  },
  {
   "cell_type": "code",
   "execution_count": 185,
   "metadata": {},
   "outputs": [
    {
     "name": "stdout",
     "output_type": "stream",
     "text": [
      "Optimal lambda: 0.0001\n",
      "Validation MSE: 0.001\n"
     ]
    }
   ],
   "source": [
    "# LOAD DATA FROM SCIKIT-LEARN\n",
    "#from sklearn.metrics import mean_squared_error as mse\n",
    "\n",
    "# PREPARATION\n",
    "perform = [] # Store performance\n",
    "lambdas = np.logspace(-4, 4, 66) # Grid of lambdas\n",
    "\n",
    "# FOR EACH LAMBDA, FIT A MODEL ON TRAINING DATA, CHECK PERFORMANCE ON VALIDATION AND STORE MSE\n",
    "for lambda_ in lambdas:\n",
    "    pipe_lasso = make_pipeline(PolynomialFeatures(), \n",
    "                               StandardScaler(),\n",
    "                               Lasso(alpha=lambda_, random_state=161193))\n",
    "    pipe_lasso.fit(X_train, y_train)\n",
    "    y_pred = pipe_lasso.predict(X_val)\n",
    "    perform.append(mse(y_pred, y_val))\n",
    "\n",
    "# CRATE A SERIES WITH PERFORMANCE AND FIND PARM WITH LOWEST MSE    \n",
    "hyperparam_perform = pd.Series(perform,index=lambdas)\n",
    "optimal = hyperparam_perform.nsmallest(1)    \n",
    "print('Optimal lambda:', optimal.index[0])\n",
    "print('Validation MSE: %.3f' % optimal.values[0])"
   ]
  },
  {
   "cell_type": "code",
   "execution_count": 186,
   "metadata": {},
   "outputs": [
    {
     "name": "stdout",
     "output_type": "stream",
     "text": [
      "Lasso 0.0\n",
      "LinReg 0.0\n"
     ]
    }
   ],
   "source": [
    "# INSERT OPTIMAL LAMBDA INTO NEW MODEL\n",
    "pipe_lasso = make_pipeline(PolynomialFeatures(), \n",
    "                           StandardScaler(),\n",
    "                           Lasso(alpha=optimal.index[0]))\n",
    "\n",
    "# FIT NEW MODEL ON ALL OF THE DEVELOPMENT (non-test) DATA TO BUILD BEST POSSIBLE MODEL\n",
    "pipe_lasso.fit(X_dev, y_dev) \n",
    "\n",
    "# COMPARE MODEL PERFORMANCE ON TEST DATA\n",
    "print('Lasso', round(mse(pipe_lasso.predict(X_test),y_test), 2))\n",
    "print('LinReg', round(mse(pipe_lr.predict(X_test),y_test), 2))"
   ]
  },
  {
   "cell_type": "code",
   "execution_count": 187,
   "metadata": {},
   "outputs": [],
   "source": [
    "# SETUPa\n",
    "from sklearn.model_selection import KFold\n",
    "kfolds = KFold(n_splits=10)\n",
    "folds = list(kfolds.split(X_dev, y_dev))\n",
    "\n",
    "# Outer loop: lambdas\n",
    "mseCV = []\n",
    "for lambda_ in lambdas:    \n",
    "    \n",
    "    # Inner loop: folds\n",
    "    mseCV_ = []    \n",
    "    for train_idx, val_idx in folds:        \n",
    "        \n",
    "        # Train model and compute MSE on test fold\n",
    "        pipe_lassoCV = make_pipeline(PolynomialFeatures(degree=2, include_bias=True),\n",
    "                                     StandardScaler(),\n",
    "                                     Lasso(alpha=lambda_, random_state=161193))            \n",
    "        X_train, y_train = X_dev[train_idx], y_dev[train_idx]\n",
    "        X_val, y_val = X_dev[val_idx], y_dev[val_idx] \n",
    "        pipe_lassoCV.fit(X_train, y_train)        \n",
    "        mseCV_.append(mse(pipe_lassoCV.predict(X_val), y_val))    \n",
    "        \n",
    "    # Store result    \n",
    "    mseCV.append(mseCV_) \n",
    "    \n",
    "# Convert to DataFrame\n",
    "lambdaCV = pd.DataFrame(mseCV, index=lambdas)"
   ]
  },
  {
   "cell_type": "code",
   "execution_count": 188,
   "metadata": {},
   "outputs": [
    {
     "name": "stdout",
     "output_type": "stream",
     "text": [
      "Lasso 0.0\n",
      "Lasso CV 0.0\n",
      "LinReg 0.0\n"
     ]
    }
   ],
   "source": [
    "# CHOOSE OPTIMAL HYPERPARAMETERS (mean of MSE's across folds)\n",
    "optimal_lambda = lambdaCV.mean(axis=1).nsmallest(1)\n",
    "\n",
    "# RETRAIN/RE-ESTIMATE MODEL USING OPTIMAL HYPERPARAMETERS AND COMPARE PERFORMANCE\n",
    "pipe_lassoCV = make_pipeline(PolynomialFeatures(include_bias=False), \n",
    "                             StandardScaler(),\n",
    "                             Lasso(alpha=optimal_lambda.index[0], random_state=161193))\n",
    "\n",
    "pipe_lassoCV.fit(X_dev,y_dev) #fit optimal lambda to entire development set: likely to improve performance slightly since we use more oberservations\n",
    "\n",
    "models = {'Lasso': pipe_lasso, 'Lasso CV': pipe_lassoCV, 'LinReg': pipe_lr}\n",
    "for name, model in models.items():\n",
    "    score = mse(model.predict(X_test),y_test)\n",
    "    print(name, round(score, 2))"
   ]
  },
  {
   "cell_type": "code",
   "execution_count": 189,
   "metadata": {},
   "outputs": [
    {
     "data": {
      "text/html": [
       "<div>\n",
       "<style scoped>\n",
       "    .dataframe tbody tr th:only-of-type {\n",
       "        vertical-align: middle;\n",
       "    }\n",
       "\n",
       "    .dataframe tbody tr th {\n",
       "        vertical-align: top;\n",
       "    }\n",
       "\n",
       "    .dataframe thead th {\n",
       "        text-align: right;\n",
       "    }\n",
       "</style>\n",
       "<table border=\"1\" class=\"dataframe\">\n",
       "  <thead>\n",
       "    <tr style=\"text-align: right;\">\n",
       "      <th></th>\n",
       "      <th>Train</th>\n",
       "      <th>Test</th>\n",
       "    </tr>\n",
       "    <tr>\n",
       "      <th>sample size</th>\n",
       "      <th></th>\n",
       "      <th></th>\n",
       "    </tr>\n",
       "  </thead>\n",
       "  <tbody>\n",
       "    <tr>\n",
       "      <th>50</th>\n",
       "      <td>0.001255</td>\n",
       "      <td>0.001615</td>\n",
       "    </tr>\n",
       "    <tr>\n",
       "      <th>101</th>\n",
       "      <td>0.001270</td>\n",
       "      <td>0.001544</td>\n",
       "    </tr>\n",
       "    <tr>\n",
       "      <th>151</th>\n",
       "      <td>0.001355</td>\n",
       "      <td>0.001600</td>\n",
       "    </tr>\n",
       "    <tr>\n",
       "      <th>202</th>\n",
       "      <td>0.001435</td>\n",
       "      <td>0.001508</td>\n",
       "    </tr>\n",
       "    <tr>\n",
       "      <th>253</th>\n",
       "      <td>0.001416</td>\n",
       "      <td>0.001507</td>\n",
       "    </tr>\n",
       "  </tbody>\n",
       "</table>\n",
       "</div>"
      ],
      "text/plain": [
       "                Train      Test\n",
       "sample size                    \n",
       "50           0.001255  0.001615\n",
       "101          0.001270  0.001544\n",
       "151          0.001355  0.001600\n",
       "202          0.001435  0.001508\n",
       "253          0.001416  0.001507"
      ]
     },
     "execution_count": 189,
     "metadata": {},
     "output_type": "execute_result"
    }
   ],
   "source": [
    "from sklearn.model_selection import learning_curve\n",
    "\n",
    "train_sizes, train_scores, test_scores = \\\n",
    "    learning_curve(estimator=pipe_lasso,\n",
    "                   X=X_dev,\n",
    "                   y=y_dev,\n",
    "                   train_sizes=np.arange(0.05, 1.05, .05),\n",
    "                   scoring='neg_mean_squared_error',                 \n",
    "                   cv=10)\n",
    "    \n",
    "mse_ = pd.DataFrame({'Train':-train_scores.mean(axis=1),\n",
    "                     'Test':-test_scores.mean(axis=1)})\\\n",
    "        .set_index(pd.Index(train_sizes,name='sample size'))\n",
    "\n",
    "mse_.head(5)"
   ]
  },
  {
   "cell_type": "code",
   "execution_count": 190,
   "metadata": {},
   "outputs": [
    {
     "data": {
      "image/png": "[encoded data removed]",
      "text/plain": [
       "<Figure size 576x288 with 1 Axes>"
      ]
     },
     "metadata": {
      "needs_background": "light"
     },
     "output_type": "display_data"
    }
   ],
   "source": [
    "f_learn, ax = plt.subplots(figsize=(8,4))\n",
    "ax.plot(train_sizes,np.sqrt(-test_scores.mean(1)), alpha=0.25, linewidth=2, label ='Test', color='blue') # negated, because we already use neg_MSE\n",
    "ax.plot(train_sizes,np.sqrt(-train_scores.mean(1)), alpha=0.25, linewidth=2, label='Train', color='orange') # negated, because we already use neg_MSE\n",
    "\n",
    "ax.set_title('Mean performance')\n",
    "ax.set_ylabel('Root-Mean squared error')\n",
    "ax.legend();\n",
    "\n",
    "plt.savefig('twitter_73_VOL_CP_mean.png')"
   ]
  },
  {
   "cell_type": "code",
   "execution_count": 160,
   "metadata": {},
   "outputs": [
    {
     "name": "stdout",
     "output_type": "stream",
     "text": [
      "lambda\n",
      "0.000133    0.001308\n",
      "Name: Validation, dtype: float64\n"
     ]
    }
   ],
   "source": [
    "# LOAD FROM SCIKIT-LEARN\n",
    "from sklearn.model_selection import validation_curve\n",
    "\n",
    "# FIT AND EVALUATE FOR DIFFERENT LAMBDAS\n",
    "train_scores, test_scores = \\\n",
    "    validation_curve(estimator=pipe_lasso,\n",
    "                     X=X_dev,\n",
    "                     y=y_dev,\n",
    "                     param_name='lasso__alpha', #built-in name of hyperparameter\n",
    "                     param_range=lambdas, #values to consider\n",
    "                     scoring='neg_mean_squared_error',                 \n",
    "                     cv=10)\n",
    "\n",
    "# OBTAIN MSE FOR DIFFERENT LAMBDAS AND PRINT BEST\n",
    "mse_score = pd.DataFrame({'Train':-train_scores.mean(axis=1),\n",
    "                          'Validation':-test_scores.mean(axis=1),\n",
    "                          'lambda':lambdas})\\\n",
    "              .set_index('lambda')   \n",
    "print(mse_score.Validation.nsmallest(1))\n"
   ]
  },
  {
   "cell_type": "code",
   "execution_count": 191,
   "metadata": {},
   "outputs": [
    {
     "data": {
      "image/png": "[encoded data removed]",
      "text/plain": [
       "<Figure size 576x288 with 1 Axes>"
      ]
     },
     "metadata": {
      "needs_background": "light"
     },
     "output_type": "display_data"
    }
   ],
   "source": [
    "np.sqrt(mse_score).plot(logx=True, figsize=(8,4), title='Optimal lamda hyperparameter curve')\n",
    "\n",
    "plt.savefig('twitter_73_VOL_CP_lambda.png')"
   ]
  },
  {
   "cell_type": "code",
   "execution_count": null,
   "metadata": {},
   "outputs": [],
   "source": []
  },
  {
   "cell_type": "code",
   "execution_count": null,
   "metadata": {},
   "outputs": [],
   "source": []
  },
  {
   "cell_type": "code",
   "execution_count": null,
   "metadata": {},
   "outputs": [],
   "source": []
  }
 ],
 "metadata": {
  "kernelspec": {
   "display_name": "Python 3",
   "language": "python",
   "name": "python3"
  },
  "language_info": {
   "codemirror_mode": {
    "name": "ipython",
    "version": 3
   },
   "file_extension": ".py",
   "mimetype": "text/x-python",
   "name": "python",
   "nbconvert_exporter": "python",
   "pygments_lexer": "ipython3",
   "version": "3.8.5"
  }
 },
 "nbformat": 4,
 "nbformat_minor": 5
}
