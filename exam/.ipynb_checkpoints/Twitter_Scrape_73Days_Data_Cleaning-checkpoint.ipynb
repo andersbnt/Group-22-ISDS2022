{
 "cells": [
  {
   "cell_type": "code",
   "execution_count": 1,
   "metadata": {},
   "outputs": [],
   "source": [
    "# For sending GET requests from the API\n",
    "import requests\n",
    "# For saving access tokens and for file management when creating and adding to the dataset\n",
    "import os\n",
    "# For dealing with json responses we receive from the API\n",
    "import json\n",
    "# For displaying the data after\n",
    "import numpy as np\n",
    "import pandas as pd\n",
    "# For saving the response data in CSV format\n",
    "import csv\n",
    "# For parsing the dates received from twitter in readable formats\n",
    "import datetime\n",
    "import dateutil.parser\n",
    "import unicodedata\n",
    "#To add wait time between requests\n",
    "import time\n",
    "#Imports timer\n",
    "import tqdm\n",
    "#To do Regex\n",
    "import re\n",
    "#To do sentiment analysis\n",
    "from textblob import TextBlob\n",
    "\n",
    "import matplotlib.pyplot as plt \n",
    "import seaborn as sns"
   ]
  },
  {
   "cell_type": "markdown",
   "metadata": {},
   "source": [
    "## Import data from CSV file to a DataFrame"
   ]
  },
  {
   "cell_type": "code",
   "execution_count": 2,
   "metadata": {},
   "outputs": [],
   "source": [
    "data_df = pd.read_csv('final dataset twt 73 days.csv')"
   ]
  },
  {
   "cell_type": "markdown",
   "metadata": {},
   "source": [
    "## Cleaning up DataFrame\n",
    "\n",
    "### Adding and removing columns"
   ]
  },
  {
   "cell_type": "code",
   "execution_count": 3,
   "metadata": {},
   "outputs": [],
   "source": [
    "#Add date and hour columns:\n",
    "data_df['Date'] = pd.to_datetime(data_df['Date Created']).dt.date\n",
    "data_df['Date_Hour'] = [str[:-11]+'00:00' for str in data_df['Date Created']]\n",
    "\n",
    "clean_df = data_df.drop('Unnamed: 0', axis=1)"
   ]
  },
  {
   "cell_type": "markdown",
   "metadata": {},
   "source": [
    "### Sample"
   ]
  },
  {
   "cell_type": "code",
   "execution_count": 4,
   "metadata": {},
   "outputs": [
    {
     "data": {
      "text/html": [
       "<div>\n",
       "<style scoped>\n",
       "    .dataframe tbody tr th:only-of-type {\n",
       "        vertical-align: middle;\n",
       "    }\n",
       "\n",
       "    .dataframe tbody tr th {\n",
       "        vertical-align: top;\n",
       "    }\n",
       "\n",
       "    .dataframe thead th {\n",
       "        text-align: right;\n",
       "    }\n",
       "</style>\n",
       "<table border=\"1\" class=\"dataframe\">\n",
       "  <thead>\n",
       "    <tr style=\"text-align: right;\">\n",
       "      <th></th>\n",
       "      <th>User</th>\n",
       "      <th>Date Created</th>\n",
       "      <th>Number of Likes</th>\n",
       "      <th>Tweet</th>\n",
       "      <th>Date</th>\n",
       "      <th>Date_Hour</th>\n",
       "    </tr>\n",
       "  </thead>\n",
       "  <tbody>\n",
       "    <tr>\n",
       "      <th>0</th>\n",
       "      <td>DogecoinCuban</td>\n",
       "      <td>2021-12-31 23:59:58+00:00</td>\n",
       "      <td>1</td>\n",
       "      <td>@Rodolfo07351753 @sodogetip tip @Rodolfo073517...</td>\n",
       "      <td>2021-12-31</td>\n",
       "      <td>2021-12-31 23:00:00</td>\n",
       "    </tr>\n",
       "    <tr>\n",
       "      <th>1</th>\n",
       "      <td>RNY1117</td>\n",
       "      <td>2021-12-31 23:59:47+00:00</td>\n",
       "      <td>2</td>\n",
       "      <td>HAPPY NEW DOGE YEAR</td>\n",
       "      <td>2021-12-31</td>\n",
       "      <td>2021-12-31 23:00:00</td>\n",
       "    </tr>\n",
       "    <tr>\n",
       "      <th>2</th>\n",
       "      <td>bojodus</td>\n",
       "      <td>2021-12-31 23:59:37+00:00</td>\n",
       "      <td>0</td>\n",
       "      <td>Prayers Up for XRP, DOGE , SHIB \\nx1000 to the...</td>\n",
       "      <td>2021-12-31</td>\n",
       "      <td>2021-12-31 23:00:00</td>\n",
       "    </tr>\n",
       "    <tr>\n",
       "      <th>3</th>\n",
       "      <td>CryptoCapflow</td>\n",
       "      <td>2021-12-31 23:59:09+00:00</td>\n",
       "      <td>0</td>\n",
       "      <td>[Spot] By 2021-12-31 14:00 GMT, DOGE total tra...</td>\n",
       "      <td>2021-12-31</td>\n",
       "      <td>2021-12-31 23:00:00</td>\n",
       "    </tr>\n",
       "    <tr>\n",
       "      <th>4</th>\n",
       "      <td>CarlosS74671189</td>\n",
       "      <td>2021-12-31 23:59:04+00:00</td>\n",
       "      <td>1</td>\n",
       "      <td>@Darlene_Pizarro How much Doge would you like ...</td>\n",
       "      <td>2021-12-31</td>\n",
       "      <td>2021-12-31 23:00:00</td>\n",
       "    </tr>\n",
       "  </tbody>\n",
       "</table>\n",
       "</div>"
      ],
      "text/plain": [
       "              User               Date Created  Number of Likes  \\\n",
       "0    DogecoinCuban  2021-12-31 23:59:58+00:00                1   \n",
       "1          RNY1117  2021-12-31 23:59:47+00:00                2   \n",
       "2          bojodus  2021-12-31 23:59:37+00:00                0   \n",
       "3    CryptoCapflow  2021-12-31 23:59:09+00:00                0   \n",
       "4  CarlosS74671189  2021-12-31 23:59:04+00:00                1   \n",
       "\n",
       "                                               Tweet        Date  \\\n",
       "0  @Rodolfo07351753 @sodogetip tip @Rodolfo073517...  2021-12-31   \n",
       "1                                HAPPY NEW DOGE YEAR  2021-12-31   \n",
       "2  Prayers Up for XRP, DOGE , SHIB \\nx1000 to the...  2021-12-31   \n",
       "3  [Spot] By 2021-12-31 14:00 GMT, DOGE total tra...  2021-12-31   \n",
       "4  @Darlene_Pizarro How much Doge would you like ...  2021-12-31   \n",
       "\n",
       "             Date_Hour  \n",
       "0  2021-12-31 23:00:00  \n",
       "1  2021-12-31 23:00:00  \n",
       "2  2021-12-31 23:00:00  \n",
       "3  2021-12-31 23:00:00  \n",
       "4  2021-12-31 23:00:00  "
      ]
     },
     "execution_count": 4,
     "metadata": {},
     "output_type": "execute_result"
    }
   ],
   "source": [
    "clean_df.head(5)"
   ]
  },
  {
   "cell_type": "markdown",
   "metadata": {},
   "source": [
    "### Save cleaned data as CSV for future use"
   ]
  },
  {
   "cell_type": "code",
   "execution_count": 5,
   "metadata": {},
   "outputs": [],
   "source": [
    "clean_df.to_csv('Cleaned_73_days_data.csv', index=False) #index=False makes sure that the index is not saved as an extra column"
   ]
  },
  {
   "cell_type": "markdown",
   "metadata": {},
   "source": [
    "# Sentiment analysis\n",
    "\n",
    "First we define two functions:\n",
    "* One that cleans a given tweet for unnecessary stuff, such as mentions etc\n",
    "* One that uses the TextBlob library's sentiment function to determine a given tweets sentiment"
   ]
  },
  {
   "cell_type": "code",
   "execution_count": 8,
   "metadata": {},
   "outputs": [],
   "source": [
    "def clean_tweet(tweet):\n",
    "    '''\n",
    "    Using RegEx, this function cleans the tweets for unnecessary fluffer\n",
    "    '''\n",
    "    return ' '.join(re.sub(\"(@[A-Za-z0-9]+)|([^0-9A-Za-z \\t])|(\\w+:\\/\\/\\S+)\", \" \", tweet).split())\n",
    "\n",
    "def get_tweet_sentiment(tweet):\n",
    "    '''\n",
    "    Uses textblob to decide sentiment of a parsed tweet\n",
    "    '''\n",
    "    # Create TextBlob object\n",
    "    blob = TextBlob(clean_tweet(tweet))\n",
    "        \n",
    "    # Set sentiment\n",
    "    if blob.sentiment.polarity > 0:\n",
    "        return 'positive'\n",
    "    elif blob.sentiment.polarity == 0:\n",
    "        return 'neutral'\n",
    "    else:\n",
    "        return 'negative'"
   ]
  },
  {
   "cell_type": "markdown",
   "metadata": {},
   "source": [
    "## Adding a sentiment-column\n",
    "\n",
    "Using list comprehension we use the above defined functions on each tweet text in clean_df\n",
    "\n",
    "### OBS: the cell takes around 5 minutes to run"
   ]
  },
  {
   "cell_type": "code",
   "execution_count": 9,
   "metadata": {},
   "outputs": [
    {
     "name": "stderr",
     "output_type": "stream",
     "text": [
      "100%|██████████████████████████████████████████████████████████████████████| 1194435/1194435 [06:16<00:00, 3174.71it/s]\n"
     ]
    }
   ],
   "source": [
    "clean_df['Sentiment'] = [get_tweet_sentiment(tweet) for tweet in tqdm.tqdm(clean_df['Tweet'])]"
   ]
  },
  {
   "cell_type": "markdown",
   "metadata": {},
   "source": [
    "### Adding sentiment as numerical values (-1, 0, 1)"
   ]
  },
  {
   "cell_type": "code",
   "execution_count": 11,
   "metadata": {},
   "outputs": [],
   "source": [
    "sentiment_dict = {\n",
    "  \"negative\": -1,\n",
    "  \"neutral\": 0,\n",
    "  \"positive\": 1}\n",
    "\n",
    "clean_df['Numerical'] = [sentiment_dict[i] for i in clean_df['Sentiment']]"
   ]
  },
  {
   "cell_type": "markdown",
   "metadata": {},
   "source": [
    "### Sample"
   ]
  },
  {
   "cell_type": "code",
   "execution_count": 16,
   "metadata": {},
   "outputs": [
    {
     "data": {
      "text/html": [
       "<div>\n",
       "<style scoped>\n",
       "    .dataframe tbody tr th:only-of-type {\n",
       "        vertical-align: middle;\n",
       "    }\n",
       "\n",
       "    .dataframe tbody tr th {\n",
       "        vertical-align: top;\n",
       "    }\n",
       "\n",
       "    .dataframe thead th {\n",
       "        text-align: right;\n",
       "    }\n",
       "</style>\n",
       "<table border=\"1\" class=\"dataframe\">\n",
       "  <thead>\n",
       "    <tr style=\"text-align: right;\">\n",
       "      <th></th>\n",
       "      <th>User</th>\n",
       "      <th>Date Created</th>\n",
       "      <th>Number of Likes</th>\n",
       "      <th>Tweet</th>\n",
       "      <th>Date</th>\n",
       "      <th>Date_Hour</th>\n",
       "      <th>Sentiment</th>\n",
       "      <th>Numerical</th>\n",
       "    </tr>\n",
       "  </thead>\n",
       "  <tbody>\n",
       "    <tr>\n",
       "      <th>0</th>\n",
       "      <td>DogecoinCuban</td>\n",
       "      <td>2021-12-31 23:59:58+00:00</td>\n",
       "      <td>1</td>\n",
       "      <td>@Rodolfo07351753 @sodogetip tip @Rodolfo073517...</td>\n",
       "      <td>2021-12-31</td>\n",
       "      <td>2021-12-31 23:00:00</td>\n",
       "      <td>neutral</td>\n",
       "      <td>0</td>\n",
       "    </tr>\n",
       "    <tr>\n",
       "      <th>1</th>\n",
       "      <td>RNY1117</td>\n",
       "      <td>2021-12-31 23:59:47+00:00</td>\n",
       "      <td>2</td>\n",
       "      <td>HAPPY NEW DOGE YEAR</td>\n",
       "      <td>2021-12-31</td>\n",
       "      <td>2021-12-31 23:00:00</td>\n",
       "      <td>positive</td>\n",
       "      <td>1</td>\n",
       "    </tr>\n",
       "    <tr>\n",
       "      <th>2</th>\n",
       "      <td>bojodus</td>\n",
       "      <td>2021-12-31 23:59:37+00:00</td>\n",
       "      <td>0</td>\n",
       "      <td>Prayers Up for XRP, DOGE , SHIB \\nx1000 to the...</td>\n",
       "      <td>2021-12-31</td>\n",
       "      <td>2021-12-31 23:00:00</td>\n",
       "      <td>neutral</td>\n",
       "      <td>0</td>\n",
       "    </tr>\n",
       "    <tr>\n",
       "      <th>3</th>\n",
       "      <td>CryptoCapflow</td>\n",
       "      <td>2021-12-31 23:59:09+00:00</td>\n",
       "      <td>0</td>\n",
       "      <td>[Spot] By 2021-12-31 14:00 GMT, DOGE total tra...</td>\n",
       "      <td>2021-12-31</td>\n",
       "      <td>2021-12-31 23:00:00</td>\n",
       "      <td>neutral</td>\n",
       "      <td>0</td>\n",
       "    </tr>\n",
       "    <tr>\n",
       "      <th>4</th>\n",
       "      <td>CarlosS74671189</td>\n",
       "      <td>2021-12-31 23:59:04+00:00</td>\n",
       "      <td>1</td>\n",
       "      <td>@Darlene_Pizarro How much Doge would you like ...</td>\n",
       "      <td>2021-12-31</td>\n",
       "      <td>2021-12-31 23:00:00</td>\n",
       "      <td>positive</td>\n",
       "      <td>1</td>\n",
       "    </tr>\n",
       "  </tbody>\n",
       "</table>\n",
       "</div>"
      ],
      "text/plain": [
       "              User               Date Created  Number of Likes  \\\n",
       "0    DogecoinCuban  2021-12-31 23:59:58+00:00                1   \n",
       "1          RNY1117  2021-12-31 23:59:47+00:00                2   \n",
       "2          bojodus  2021-12-31 23:59:37+00:00                0   \n",
       "3    CryptoCapflow  2021-12-31 23:59:09+00:00                0   \n",
       "4  CarlosS74671189  2021-12-31 23:59:04+00:00                1   \n",
       "\n",
       "                                               Tweet        Date  \\\n",
       "0  @Rodolfo07351753 @sodogetip tip @Rodolfo073517...  2021-12-31   \n",
       "1                                HAPPY NEW DOGE YEAR  2021-12-31   \n",
       "2  Prayers Up for XRP, DOGE , SHIB \\nx1000 to the...  2021-12-31   \n",
       "3  [Spot] By 2021-12-31 14:00 GMT, DOGE total tra...  2021-12-31   \n",
       "4  @Darlene_Pizarro How much Doge would you like ...  2021-12-31   \n",
       "\n",
       "             Date_Hour Sentiment  Numerical  \n",
       "0  2021-12-31 23:00:00   neutral          0  \n",
       "1  2021-12-31 23:00:00  positive          1  \n",
       "2  2021-12-31 23:00:00   neutral          0  \n",
       "3  2021-12-31 23:00:00   neutral          0  \n",
       "4  2021-12-31 23:00:00  positive          1  "
      ]
     },
     "execution_count": 16,
     "metadata": {},
     "output_type": "execute_result"
    }
   ],
   "source": [
    "clean_df.head(5)"
   ]
  },
  {
   "cell_type": "markdown",
   "metadata": {},
   "source": [
    "### Saving as CSV for further use"
   ]
  },
  {
   "cell_type": "code",
   "execution_count": 13,
   "metadata": {},
   "outputs": [],
   "source": [
    "clean_df.to_csv('Sentiment_73_days_data.csv')"
   ]
  },
  {
   "cell_type": "markdown",
   "metadata": {},
   "source": [
    "## Descriptive analysis"
   ]
  },
  {
   "cell_type": "markdown",
   "metadata": {},
   "source": [
    "### Number of tweets per day"
   ]
  },
  {
   "cell_type": "code",
   "execution_count": 17,
   "metadata": {},
   "outputs": [],
   "source": [
    "tweets_per_day_df = clean_df['Tweet'].groupby(clean_df['Date']).count()"
   ]
  },
  {
   "cell_type": "markdown",
   "metadata": {},
   "source": [
    "### Number of tweets by sentiment"
   ]
  },
  {
   "cell_type": "code",
   "execution_count": 14,
   "metadata": {},
   "outputs": [],
   "source": [
    "tweets_by_sentiment = clean_df['Tweet'].groupby(clean_df['Sentiment']).count()"
   ]
  },
  {
   "cell_type": "markdown",
   "metadata": {},
   "source": [
    "### Sum and mean of numerical sentiment value per day (ie. \"Sentiment per day\")"
   ]
  },
  {
   "cell_type": "code",
   "execution_count": 51,
   "metadata": {},
   "outputs": [],
   "source": [
    "sentiment_per_day = clean_df['Numerical'].groupby(clean_df['Date']).sum()"
   ]
  },
  {
   "cell_type": "code",
   "execution_count": 65,
   "metadata": {},
   "outputs": [],
   "source": [
    "mean_sentiment_per_day = clean_df['Numerical'].groupby(clean_df['Date']).mean()"
   ]
  },
  {
   "cell_type": "markdown",
   "metadata": {},
   "source": [
    "## Some plots"
   ]
  },
  {
   "cell_type": "code",
   "execution_count": 50,
   "metadata": {},
   "outputs": [
    {
     "data": {
      "image/png": "[encoded data removed]",
      "text/plain": [
       "<Figure size 720x360 with 2 Axes>"
      ]
     },
     "metadata": {
      "needs_background": "light"
     },
     "output_type": "display_data"
    }
   ],
   "source": [
    "fig, (ax1, ax2) = plt.subplots(ncols=2, figsize=(10,5))\n",
    "\n",
    "\n",
    "ax1.plot(tweets_per_day_df)\n",
    "ax1.set_title('Number of English tweets mentioning \\'doge\\' per day')\n",
    "ax1.tick_params(axis='x',rotation=90)\n",
    "\n",
    "ax2.bar(['negative', 'neutral', 'positive'], tweets_by_sentiment, color =['maroon','royalblue','limegreen'])\n",
    "ax2.set_title('Number of tweets by sentiment rating using TextBlob')\n",
    "ax2.tick_params(axis='x',rotation=90)\n",
    "\n",
    "\n",
    "fig.tight_layout()\n",
    "plt.show()"
   ]
  },
  {
   "cell_type": "code",
   "execution_count": 68,
   "metadata": {},
   "outputs": [
    {
     "data": {
      "image/png": "[encoded data removed]",
      "text/plain": [
       "<Figure size 864x288 with 3 Axes>"
      ]
     },
     "metadata": {
      "needs_background": "light"
     },
     "output_type": "display_data"
    }
   ],
   "source": [
    "fig, (ax1, ax2, ax3) = plt.subplots(ncols=3, figsize=(12,4))\n",
    "\n",
    "\n",
    "ax1.plot(tweets_per_day_df)\n",
    "ax1.set_title('Number of English tweets \\n mentioning \\'doge\\' per day')\n",
    "ax1.tick_params(axis='x',rotation=90)\n",
    "\n",
    "ax2.plot(sentiment_per_day)\n",
    "ax2.set_title('Sum of sentiment using TextBlob \\n per day')\n",
    "ax2.tick_params(axis='x',rotation=90)\n",
    "\n",
    "ax3.plot(mean_sentiment_per_day)\n",
    "ax3.set_title('Mean of sentiment using TextBlob \\n per day')\n",
    "ax3.tick_params(axis='x',rotation=90)\n",
    "\n",
    "#ax3.bar(['negative', 'neutral', 'positive'], tweets_by_sentiment, color =['maroon','royalblue','limegreen'])\n",
    "#ax3.set_title('Number of tweets by sentiment \\n rating using TextBlob')\n",
    "#ax3.tick_params(axis='x',rotation=90)\n",
    "\n",
    "#ax3.plot(sentiment_per_day_df)\n",
    "#ax3.set_title('Sum of sentiment \\n per day')\n",
    "#ax3.tick_params(axis='x',rotation=90)\n",
    "\n",
    "\n",
    "fig.tight_layout()\n",
    "plt.show()"
   ]
  },
  {
   "cell_type": "code",
   "execution_count": null,
   "metadata": {},
   "outputs": [],
   "source": []
  },
  {
   "cell_type": "code",
   "execution_count": 69,
   "metadata": {},
   "outputs": [
    {
     "data": {
      "text/html": [
       "<div>\n",
       "<style scoped>\n",
       "    .dataframe tbody tr th:only-of-type {\n",
       "        vertical-align: middle;\n",
       "    }\n",
       "\n",
       "    .dataframe tbody tr th {\n",
       "        vertical-align: top;\n",
       "    }\n",
       "\n",
       "    .dataframe thead th {\n",
       "        text-align: right;\n",
       "    }\n",
       "</style>\n",
       "<table border=\"1\" class=\"dataframe\">\n",
       "  <thead>\n",
       "    <tr style=\"text-align: right;\">\n",
       "      <th></th>\n",
       "      <th>User</th>\n",
       "      <th>Date Created</th>\n",
       "      <th>Number of Likes</th>\n",
       "      <th>Tweet</th>\n",
       "      <th>Date</th>\n",
       "      <th>Date_Hour</th>\n",
       "      <th>Sentiment</th>\n",
       "      <th>Numerical</th>\n",
       "    </tr>\n",
       "  </thead>\n",
       "  <tbody>\n",
       "    <tr>\n",
       "      <th>0</th>\n",
       "      <td>DogecoinCuban</td>\n",
       "      <td>2021-12-31 23:59:58+00:00</td>\n",
       "      <td>1</td>\n",
       "      <td>@Rodolfo07351753 @sodogetip tip @Rodolfo073517...</td>\n",
       "      <td>2021-12-31</td>\n",
       "      <td>2021-12-31 23:00:00</td>\n",
       "      <td>neutral</td>\n",
       "      <td>0</td>\n",
       "    </tr>\n",
       "    <tr>\n",
       "      <th>1</th>\n",
       "      <td>RNY1117</td>\n",
       "      <td>2021-12-31 23:59:47+00:00</td>\n",
       "      <td>2</td>\n",
       "      <td>HAPPY NEW DOGE YEAR</td>\n",
       "      <td>2021-12-31</td>\n",
       "      <td>2021-12-31 23:00:00</td>\n",
       "      <td>positive</td>\n",
       "      <td>1</td>\n",
       "    </tr>\n",
       "    <tr>\n",
       "      <th>2</th>\n",
       "      <td>bojodus</td>\n",
       "      <td>2021-12-31 23:59:37+00:00</td>\n",
       "      <td>0</td>\n",
       "      <td>Prayers Up for XRP, DOGE , SHIB \\nx1000 to the...</td>\n",
       "      <td>2021-12-31</td>\n",
       "      <td>2021-12-31 23:00:00</td>\n",
       "      <td>neutral</td>\n",
       "      <td>0</td>\n",
       "    </tr>\n",
       "    <tr>\n",
       "      <th>3</th>\n",
       "      <td>CryptoCapflow</td>\n",
       "      <td>2021-12-31 23:59:09+00:00</td>\n",
       "      <td>0</td>\n",
       "      <td>[Spot] By 2021-12-31 14:00 GMT, DOGE total tra...</td>\n",
       "      <td>2021-12-31</td>\n",
       "      <td>2021-12-31 23:00:00</td>\n",
       "      <td>neutral</td>\n",
       "      <td>0</td>\n",
       "    </tr>\n",
       "    <tr>\n",
       "      <th>4</th>\n",
       "      <td>CarlosS74671189</td>\n",
       "      <td>2021-12-31 23:59:04+00:00</td>\n",
       "      <td>1</td>\n",
       "      <td>@Darlene_Pizarro How much Doge would you like ...</td>\n",
       "      <td>2021-12-31</td>\n",
       "      <td>2021-12-31 23:00:00</td>\n",
       "      <td>positive</td>\n",
       "      <td>1</td>\n",
       "    </tr>\n",
       "    <tr>\n",
       "      <th>...</th>\n",
       "      <td>...</td>\n",
       "      <td>...</td>\n",
       "      <td>...</td>\n",
       "      <td>...</td>\n",
       "      <td>...</td>\n",
       "      <td>...</td>\n",
       "      <td>...</td>\n",
       "      <td>...</td>\n",
       "    </tr>\n",
       "    <tr>\n",
       "      <th>1194430</th>\n",
       "      <td>FraxinusE</td>\n",
       "      <td>2021-10-20 15:16:21+00:00</td>\n",
       "      <td>0</td>\n",
       "      <td>@RichAvatar_ Doge</td>\n",
       "      <td>2021-10-20</td>\n",
       "      <td>2021-10-20 15:00:00</td>\n",
       "      <td>neutral</td>\n",
       "      <td>0</td>\n",
       "    </tr>\n",
       "    <tr>\n",
       "      <th>1194431</th>\n",
       "      <td>realDogecoinOG</td>\n",
       "      <td>2021-10-20 15:16:19+00:00</td>\n",
       "      <td>4</td>\n",
       "      <td>Chart of Open Interests or the huge pump on pe...</td>\n",
       "      <td>2021-10-20</td>\n",
       "      <td>2021-10-20 15:00:00</td>\n",
       "      <td>positive</td>\n",
       "      <td>1</td>\n",
       "    </tr>\n",
       "    <tr>\n",
       "      <th>1194432</th>\n",
       "      <td>jalantrading</td>\n",
       "      <td>2021-10-20 15:16:13+00:00</td>\n",
       "      <td>0</td>\n",
       "      <td>DOGE https://t.co/jmoMMslmTs</td>\n",
       "      <td>2021-10-20</td>\n",
       "      <td>2021-10-20 15:00:00</td>\n",
       "      <td>neutral</td>\n",
       "      <td>0</td>\n",
       "    </tr>\n",
       "    <tr>\n",
       "      <th>1194433</th>\n",
       "      <td>LeviKrull</td>\n",
       "      <td>2021-10-20 15:16:05+00:00</td>\n",
       "      <td>0</td>\n",
       "      <td>Bought a doge miner with doge today</td>\n",
       "      <td>2021-10-20</td>\n",
       "      <td>2021-10-20 15:00:00</td>\n",
       "      <td>neutral</td>\n",
       "      <td>0</td>\n",
       "    </tr>\n",
       "    <tr>\n",
       "      <th>1194434</th>\n",
       "      <td>KittyPlays</td>\n",
       "      <td>2021-10-20 15:15:55+00:00</td>\n",
       "      <td>2</td>\n",
       "      <td>@DMB_tv I sold my Doge position. I’m in Luna B...</td>\n",
       "      <td>2021-10-20</td>\n",
       "      <td>2021-10-20 15:00:00</td>\n",
       "      <td>neutral</td>\n",
       "      <td>0</td>\n",
       "    </tr>\n",
       "  </tbody>\n",
       "</table>\n",
       "<p>1194435 rows × 8 columns</p>\n",
       "</div>"
      ],
      "text/plain": [
       "                    User               Date Created  Number of Likes  \\\n",
       "0          DogecoinCuban  2021-12-31 23:59:58+00:00                1   \n",
       "1                RNY1117  2021-12-31 23:59:47+00:00                2   \n",
       "2                bojodus  2021-12-31 23:59:37+00:00                0   \n",
       "3          CryptoCapflow  2021-12-31 23:59:09+00:00                0   \n",
       "4        CarlosS74671189  2021-12-31 23:59:04+00:00                1   \n",
       "...                  ...                        ...              ...   \n",
       "1194430        FraxinusE  2021-10-20 15:16:21+00:00                0   \n",
       "1194431   realDogecoinOG  2021-10-20 15:16:19+00:00                4   \n",
       "1194432     jalantrading  2021-10-20 15:16:13+00:00                0   \n",
       "1194433        LeviKrull  2021-10-20 15:16:05+00:00                0   \n",
       "1194434       KittyPlays  2021-10-20 15:15:55+00:00                2   \n",
       "\n",
       "                                                     Tweet        Date  \\\n",
       "0        @Rodolfo07351753 @sodogetip tip @Rodolfo073517...  2021-12-31   \n",
       "1                                      HAPPY NEW DOGE YEAR  2021-12-31   \n",
       "2        Prayers Up for XRP, DOGE , SHIB \\nx1000 to the...  2021-12-31   \n",
       "3        [Spot] By 2021-12-31 14:00 GMT, DOGE total tra...  2021-12-31   \n",
       "4        @Darlene_Pizarro How much Doge would you like ...  2021-12-31   \n",
       "...                                                    ...         ...   \n",
       "1194430                                  @RichAvatar_ Doge  2021-10-20   \n",
       "1194431  Chart of Open Interests or the huge pump on pe...  2021-10-20   \n",
       "1194432                       DOGE https://t.co/jmoMMslmTs  2021-10-20   \n",
       "1194433                Bought a doge miner with doge today  2021-10-20   \n",
       "1194434  @DMB_tv I sold my Doge position. I’m in Luna B...  2021-10-20   \n",
       "\n",
       "                   Date_Hour Sentiment  Numerical  \n",
       "0        2021-12-31 23:00:00   neutral          0  \n",
       "1        2021-12-31 23:00:00  positive          1  \n",
       "2        2021-12-31 23:00:00   neutral          0  \n",
       "3        2021-12-31 23:00:00   neutral          0  \n",
       "4        2021-12-31 23:00:00  positive          1  \n",
       "...                      ...       ...        ...  \n",
       "1194430  2021-10-20 15:00:00   neutral          0  \n",
       "1194431  2021-10-20 15:00:00  positive          1  \n",
       "1194432  2021-10-20 15:00:00   neutral          0  \n",
       "1194433  2021-10-20 15:00:00   neutral          0  \n",
       "1194434  2021-10-20 15:00:00   neutral          0  \n",
       "\n",
       "[1194435 rows x 8 columns]"
      ]
     },
     "execution_count": 69,
     "metadata": {},
     "output_type": "execute_result"
    }
   ],
   "source": [
    "clean_df"
   ]
  },
  {
   "cell_type": "markdown",
   "metadata": {},
   "source": [
    "### Cleaning out bots by arbitrary tweet limit"
   ]
  },
  {
   "cell_type": "code",
   "execution_count": 49,
   "metadata": {},
   "outputs": [],
   "source": [
    "tweets_by_user = clean_df['Tweet'].groupby(clean_df['User']).count()"
   ]
  },
  {
   "cell_type": "code",
   "execution_count": 71,
   "metadata": {},
   "outputs": [],
   "source": [
    "\n",
    "tweets_by_user = clean_df['Tweet'].groupby(clean_df['User']).count().sort_values(ascending=False)"
   ]
  },
  {
   "cell_type": "code",
   "execution_count": 72,
   "metadata": {},
   "outputs": [
    {
     "data": {
      "text/plain": [
       "User\n",
       "WhaleTrades        735\n",
       "ElfegoGomezRam1    711\n",
       "realDogecoinOG     702\n",
       "SignatureDoge      695\n",
       "GambleWean         686\n",
       "1400stimulus       678\n",
       "crypto_stimulus    674\n",
       "Bfklin             668\n",
       "Oonabot            662\n",
       "CryptoPrices365    659\n",
       "Cocochaneladair    655\n",
       "JimmytheFrank1     647\n",
       "MoonlitMonkey69    646\n",
       "HartmanPharr       626\n",
       "SoldNever          624\n",
       "TuanTokyo91        610\n",
       "web3terminal       608\n",
       "dogeofficialceo    603\n",
       "TOPDOGE007         600\n",
       "MURALIE622         599\n",
       "localrach          592\n",
       "sametkonus1        572\n",
       "BigImpactHumans    570\n",
       "ArroyoXIII         559\n",
       "morkel09992828     557\n",
       "TeslaModelDoge     551\n",
       "DogeMoon11         551\n",
       "LRhanyeri          549\n",
       "thedogecoiner      540\n",
       "mrmikelerro        534\n",
       "ExchangePlays      531\n",
       "RajkumarSamra      524\n",
       "HatimJurdi         516\n",
       "EliteDogeClub      514\n",
       "GIGACHAD2021       511\n",
       "Officialbenkell    511\n",
       "DCA_Cryptoz        503\n",
       "FFFrensBot         492\n",
       "caseydoge          478\n",
       "HighBezogi         477\n",
       "MilaPlayporn       474\n",
       "Stephworley420     471\n",
       "DYORCryptoBot      470\n",
       "cooker55696525     469\n",
       "WetKissesBitch     466\n",
       "BillyM2k           464\n",
       "usssks             461\n",
       "CalisCihan         460\n",
       "Krypto_Kyle        458\n",
       "WhatsappEmoji      457\n",
       "Name: Tweet, dtype: int64"
      ]
     },
     "execution_count": 72,
     "metadata": {},
     "output_type": "execute_result"
    }
   ],
   "source": [
    "tweets_by_user[70:120]"
   ]
  },
  {
   "cell_type": "code",
   "execution_count": 74,
   "metadata": {},
   "outputs": [],
   "source": [
    "import botometer\n",
    "rapidapi_key=\"021ba4febbmsh4de41a22cd11ff2p1a3d74jsn2279bfe997e8\"\n",
    "twitter_app_auth = {\n",
    "    'consumer_key': '0uI8dxQGRxVItgvrxvR6ARzz7',\n",
    "    'consumer_secret': '4EUtW4wH4DlwwXALQb5omsFz6ZkgFgywwlbc4K6JOrbUmpS04x',\n",
    "    'access_token': '714967964924116992-tCepcrzU2upZLYuiYXxe7ru2ffzrII6',\n",
    "    'access_token_secret': 'Id6Fzpmp0o1cduVJMquOfe9Wb9SQuuOykLdiNL9BMIbO5',\n",
    "  }\n",
    "\n",
    "bom = botometer.Botometer(wait_on_ratelimit=True,\n",
    "                          rapidapi_key=rapidapi_key,\n",
    "                          **twitter_app_auth)\n",
    "\n"
   ]
  },
  {
   "cell_type": "code",
   "execution_count": 76,
   "metadata": {
    "scrolled": true
   },
   "outputs": [
    {
     "name": "stdout",
     "output_type": "stream",
     "text": [
      "Real person bot-score; look at universal: overall \n",
      " {'english': {'astroturf': 0.89, 'fake_follower': 0.15, 'financial': 0.0, 'other': 0.38, 'overall': 0.89, 'self_declared': 0.0, 'spammer': 0.0}, 'universal': {'astroturf': 0.84, 'fake_follower': 0.09, 'financial': 0.0, 'other': 0.2, 'overall': 0.16, 'self_declared': 0.01, 'spammer': 0.0}} \n",
      " \n",
      " Bot-bot scores \n",
      " {'english': {'astroturf': 0.06, 'fake_follower': 0.43, 'financial': 0.11, 'other': 0.88, 'overall': 0.88, 'self_declared': 0.76, 'spammer': 0.23}, 'universal': {'astroturf': 0.06, 'fake_follower': 0.32, 'financial': 0.09, 'other': 0.86, 'overall': 0.86, 'self_declared': 0.73, 'spammer': 0.3}} \n",
      " \n",
      " While the supposedly real person has botlike behavior, it's hard to differentiate it from enthusiasm or just pumping their own bags. According to Botometer, their universal overall score is only 0.21, while the score of the bot is 0.86\n"
     ]
    }
   ],
   "source": [
    "checkbotreal = bom.check_account(\"@WetKissesBitch\")\n",
    "checkbotbot = bom.check_account(\"@slullyman\")\n",
    "print (r'Real person bot-score; look at universal: overall',\"\\n\", checkbotreal['raw_scores'],\"\\n \\n\",'Bot-bot scores',\"\\n\", checkbotbot['raw_scores'],\"\\n \\n\",\"While the supposedly real person has botlike behavior, it's hard to differentiate it from enthusiasm or just pumping their own bags. According to Botometer, their universal overall score is only 0.21, while the score of the bot is 0.86\")"
   ]
  },
  {
   "cell_type": "code",
   "execution_count": 79,
   "metadata": {},
   "outputs": [
    {
     "name": "stdout",
     "output_type": "stream",
     "text": [
      "After inspecting the most high frequency twitter accounts and running sample Botometer tests, the most reasonable cutoff seems to be at 514 total tweets, or 1.41 tweets per day covering most of the bots, while the remaining bots are likely to produce neutral sentiment results and further cuts would lead to disproportionate loss of real users. \n",
      " The original dataset had 1194435 tweets, while the new one has 979279 corresponding to a loss of 215156 tweets or 18.01 % of the dataset. \n",
      " That leaves us with 1.05M tweets or 81.99 % of the dataset, which is a good result. The existing tweets are already filtered for being in the english language to the extent possible.\n"
     ]
    }
   ],
   "source": [
    "tweets_by_user2 = tweets_by_user[tweets_by_user >= 514]\n",
    "newdatap = (len(clean_df)-tweets_by_user2.sum())/len(clean_df)*100\n",
    "dataloss =len(clean_df)-tweets_by_user2.sum()\n",
    "datalossp = 100-newdatap\n",
    "tweetsperday= 514/365\n",
    "\n",
    "print(r\"After inspecting the most high frequency twitter accounts and running sample Botometer tests, the most reasonable cutoff seems to be at 514 total tweets, or\", round(tweetsperday,2), \"tweets per day\",\"covering most of the bots, while the remaining bots are likely to produce neutral sentiment results and further cuts would lead to disproportionate loss of real users.\", \"\\n\", \"The original dataset had\", len(clean_df), \"tweets, while the new one has\", dataloss, \"corresponding to a loss of\",tweets_by_user2.sum(),\"tweets\", \"or\", round(datalossp,2),\"% of the dataset.\", \"\\n\", \n",
    "      \"That leaves us with 1.05M tweets or\", round(newdatap,2), \"% of the dataset, which is a good result. The existing tweets are already filtered for being in the english language to the extent possible.\")"
   ]
  },
  {
   "cell_type": "code",
   "execution_count": 85,
   "metadata": {},
   "outputs": [
    {
     "name": "stdout",
     "output_type": "stream",
     "text": [
      "\n",
      "    Total tweets in data set: \n",
      "    1194435\n",
      "    \n",
      "    Total tweets if users with more than 10 tweets per day (avg) is removed:\n",
      "    999292\n",
      "    \n",
      "    Percentage of total tweets removed:\n",
      "    16.34 %\n",
      "    \n",
      "    \n"
     ]
    }
   ],
   "source": [
    "print(\n",
    "    f\"\"\"\n",
    "    Total tweets in data set: \n",
    "    {len(clean_df)}\n",
    "    \n",
    "    Total tweets if users with more than 10 tweets per day (avg) is removed:\n",
    "    {len(clean_df)-bots_10.sum()}\n",
    "    \n",
    "    Percentage of total tweets removed:\n",
    "    {bots_10.sum()/len(clean_df)*100:.2f} %\n",
    "    \n",
    "    \"\"\")"
   ]
  },
  {
   "cell_type": "code",
   "execution_count": null,
   "metadata": {},
   "outputs": [],
   "source": []
  }
 ],
 "metadata": {
  "kernelspec": {
   "display_name": "Python 3",
   "language": "python",
   "name": "python3"
  },
  "language_info": {
   "codemirror_mode": {
    "name": "ipython",
    "version": 3
   },
   "file_extension": ".py",
   "mimetype": "text/x-python",
   "name": "python",
   "nbconvert_exporter": "python",
   "pygments_lexer": "ipython3",
   "version": "3.8.5"
  }
 },
 "nbformat": 4,
 "nbformat_minor": 4
}
