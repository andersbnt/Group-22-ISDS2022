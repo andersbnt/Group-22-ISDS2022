{
 "cells": [
  {
   "cell_type": "code",
   "execution_count": 83,
   "metadata": {},
   "outputs": [],
   "source": [
    "# For sending GET requests from the API\n",
    "import requests\n",
    "# For saving access tokens and for file management when creating and adding to the dataset\n",
    "import os\n",
    "# For dealing with json responses we receive from the API\n",
    "import json\n",
    "# For displaying the data after\n",
    "import numpy as np\n",
    "import pandas as pd\n",
    "# For saving the response data in CSV format\n",
    "import csv\n",
    "# For parsing the dates received from twitter in readable formats\n",
    "import datetime\n",
    "import dateutil.parser\n",
    "import unicodedata\n",
    "#To add wait time between requests\n",
    "import time\n",
    "#Imports timer\n",
    "import tqdm\n",
    "#To do Regex\n",
    "import re\n",
    "#To do sentiment analysis\n",
    "from textblob import TextBlob\n",
    "#To do bot analysis\n",
    "import botometer\n",
    "\n",
    "import matplotlib.pyplot as plt \n",
    "import seaborn as sns"
   ]
  },
  {
   "cell_type": "markdown",
   "metadata": {},
   "source": [
    "## Import data from CSV file to a DataFrame"
   ]
  },
  {
   "cell_type": "code",
   "execution_count": 2,
   "metadata": {},
   "outputs": [],
   "source": [
    "data_df = pd.read_csv('final dataset twt 73 days.csv')"
   ]
  },
  {
   "cell_type": "markdown",
   "metadata": {},
   "source": [
    "## Cleaning up DataFrame\n",
    "\n",
    "### Adding and removing columns"
   ]
  },
  {
   "cell_type": "code",
   "execution_count": 3,
   "metadata": {},
   "outputs": [],
   "source": [
    "#Add date and hour columns:\n",
    "data_df['Date'] = pd.to_datetime(data_df['Date Created']).dt.date\n",
    "data_df['Date_Hour'] = [str[:-11]+'00:00' for str in data_df['Date Created']]\n",
    "\n",
    "clean_df = data_df.drop('Unnamed: 0', axis=1)"
   ]
  },
  {
   "cell_type": "markdown",
   "metadata": {},
   "source": [
    "### Sample"
   ]
  },
  {
   "cell_type": "code",
   "execution_count": 4,
   "metadata": {},
   "outputs": [
    {
     "data": {
      "text/html": [
       "<div>\n",
       "<style scoped>\n",
       "    .dataframe tbody tr th:only-of-type {\n",
       "        vertical-align: middle;\n",
       "    }\n",
       "\n",
       "    .dataframe tbody tr th {\n",
       "        vertical-align: top;\n",
       "    }\n",
       "\n",
       "    .dataframe thead th {\n",
       "        text-align: right;\n",
       "    }\n",
       "</style>\n",
       "<table border=\"1\" class=\"dataframe\">\n",
       "  <thead>\n",
       "    <tr style=\"text-align: right;\">\n",
       "      <th></th>\n",
       "      <th>User</th>\n",
       "      <th>Date Created</th>\n",
       "      <th>Number of Likes</th>\n",
       "      <th>Tweet</th>\n",
       "      <th>Date</th>\n",
       "      <th>Date_Hour</th>\n",
       "    </tr>\n",
       "  </thead>\n",
       "  <tbody>\n",
       "    <tr>\n",
       "      <th>0</th>\n",
       "      <td>DogecoinCuban</td>\n",
       "      <td>2021-12-31 23:59:58+00:00</td>\n",
       "      <td>1</td>\n",
       "      <td>@Rodolfo07351753 @sodogetip tip @Rodolfo073517...</td>\n",
       "      <td>2021-12-31</td>\n",
       "      <td>2021-12-31 23:00:00</td>\n",
       "    </tr>\n",
       "    <tr>\n",
       "      <th>1</th>\n",
       "      <td>RNY1117</td>\n",
       "      <td>2021-12-31 23:59:47+00:00</td>\n",
       "      <td>2</td>\n",
       "      <td>HAPPY NEW DOGE YEAR</td>\n",
       "      <td>2021-12-31</td>\n",
       "      <td>2021-12-31 23:00:00</td>\n",
       "    </tr>\n",
       "    <tr>\n",
       "      <th>2</th>\n",
       "      <td>bojodus</td>\n",
       "      <td>2021-12-31 23:59:37+00:00</td>\n",
       "      <td>0</td>\n",
       "      <td>Prayers Up for XRP, DOGE , SHIB \\nx1000 to the...</td>\n",
       "      <td>2021-12-31</td>\n",
       "      <td>2021-12-31 23:00:00</td>\n",
       "    </tr>\n",
       "    <tr>\n",
       "      <th>3</th>\n",
       "      <td>CryptoCapflow</td>\n",
       "      <td>2021-12-31 23:59:09+00:00</td>\n",
       "      <td>0</td>\n",
       "      <td>[Spot] By 2021-12-31 14:00 GMT, DOGE total tra...</td>\n",
       "      <td>2021-12-31</td>\n",
       "      <td>2021-12-31 23:00:00</td>\n",
       "    </tr>\n",
       "    <tr>\n",
       "      <th>4</th>\n",
       "      <td>CarlosS74671189</td>\n",
       "      <td>2021-12-31 23:59:04+00:00</td>\n",
       "      <td>1</td>\n",
       "      <td>@Darlene_Pizarro How much Doge would you like ...</td>\n",
       "      <td>2021-12-31</td>\n",
       "      <td>2021-12-31 23:00:00</td>\n",
       "    </tr>\n",
       "  </tbody>\n",
       "</table>\n",
       "</div>"
      ],
      "text/plain": [
       "              User               Date Created  Number of Likes  \\\n",
       "0    DogecoinCuban  2021-12-31 23:59:58+00:00                1   \n",
       "1          RNY1117  2021-12-31 23:59:47+00:00                2   \n",
       "2          bojodus  2021-12-31 23:59:37+00:00                0   \n",
       "3    CryptoCapflow  2021-12-31 23:59:09+00:00                0   \n",
       "4  CarlosS74671189  2021-12-31 23:59:04+00:00                1   \n",
       "\n",
       "                                               Tweet        Date  \\\n",
       "0  @Rodolfo07351753 @sodogetip tip @Rodolfo073517...  2021-12-31   \n",
       "1                                HAPPY NEW DOGE YEAR  2021-12-31   \n",
       "2  Prayers Up for XRP, DOGE , SHIB \\nx1000 to the...  2021-12-31   \n",
       "3  [Spot] By 2021-12-31 14:00 GMT, DOGE total tra...  2021-12-31   \n",
       "4  @Darlene_Pizarro How much Doge would you like ...  2021-12-31   \n",
       "\n",
       "             Date_Hour  \n",
       "0  2021-12-31 23:00:00  \n",
       "1  2021-12-31 23:00:00  \n",
       "2  2021-12-31 23:00:00  \n",
       "3  2021-12-31 23:00:00  \n",
       "4  2021-12-31 23:00:00  "
      ]
     },
     "execution_count": 4,
     "metadata": {},
     "output_type": "execute_result"
    }
   ],
   "source": [
    "clean_df.head(5)"
   ]
  },
  {
   "cell_type": "markdown",
   "metadata": {},
   "source": [
    "### Save cleaned data as CSV for future use"
   ]
  },
  {
   "cell_type": "code",
   "execution_count": 5,
   "metadata": {},
   "outputs": [],
   "source": [
    "clean_df.to_csv('Cleaned_73_days_data.csv', index=False) #index=False makes sure that the index is not saved as an extra column"
   ]
  },
  {
   "cell_type": "markdown",
   "metadata": {},
   "source": [
    "# Sentiment analysis\n",
    "\n",
    "First we define two functions:\n",
    "* One that cleans a given tweet for unnecessary stuff, such as mentions etc\n",
    "* One that uses the TextBlob library's sentiment function to determine a given tweets sentiment"
   ]
  },
  {
   "cell_type": "code",
   "execution_count": 8,
   "metadata": {},
   "outputs": [],
   "source": [
    "def clean_tweet(tweet):\n",
    "    '''\n",
    "    Using RegEx, this function cleans the tweets for unnecessary fluffer\n",
    "    '''\n",
    "    return ' '.join(re.sub(\"(@[A-Za-z0-9]+)|([^0-9A-Za-z \\t])|(\\w+:\\/\\/\\S+)\", \" \", tweet).split())\n",
    "\n",
    "def get_tweet_sentiment(tweet):\n",
    "    '''\n",
    "    Uses textblob to decide sentiment of a parsed tweet\n",
    "    '''\n",
    "    # Create TextBlob object\n",
    "    blob = TextBlob(clean_tweet(tweet))\n",
    "        \n",
    "    # Set sentiment\n",
    "    if blob.sentiment.polarity > 0:\n",
    "        return 'positive'\n",
    "    elif blob.sentiment.polarity == 0:\n",
    "        return 'neutral'\n",
    "    else:\n",
    "        return 'negative'"
   ]
  },
  {
   "cell_type": "markdown",
   "metadata": {},
   "source": [
    "## Adding a sentiment-column\n",
    "\n",
    "Using list comprehension we use the above defined functions on each tweet text in clean_df\n",
    "\n",
    "### OBS: the cell takes around 5 minutes to run"
   ]
  },
  {
   "cell_type": "code",
   "execution_count": 9,
   "metadata": {},
   "outputs": [
    {
     "name": "stderr",
     "output_type": "stream",
     "text": [
      "100%|██████████████████████████████████████████████████████████████████████| 1194435/1194435 [06:16<00:00, 3174.71it/s]\n"
     ]
    }
   ],
   "source": [
    "clean_df['Sentiment'] = [get_tweet_sentiment(tweet) for tweet in tqdm.tqdm(clean_df['Tweet'])]"
   ]
  },
  {
   "cell_type": "markdown",
   "metadata": {},
   "source": [
    "### Adding sentiment as numerical values (-1, 0, 1)"
   ]
  },
  {
   "cell_type": "code",
   "execution_count": 11,
   "metadata": {},
   "outputs": [],
   "source": [
    "sentiment_dict = {\n",
    "  \"negative\": -1,\n",
    "  \"neutral\": 0,\n",
    "  \"positive\": 1}\n",
    "\n",
    "clean_df['Numerical'] = [sentiment_dict[i] for i in clean_df['Sentiment']]"
   ]
  },
  {
   "cell_type": "markdown",
   "metadata": {},
   "source": [
    "### Sample"
   ]
  },
  {
   "cell_type": "code",
   "execution_count": 16,
   "metadata": {},
   "outputs": [
    {
     "data": {
      "text/html": [
       "<div>\n",
       "<style scoped>\n",
       "    .dataframe tbody tr th:only-of-type {\n",
       "        vertical-align: middle;\n",
       "    }\n",
       "\n",
       "    .dataframe tbody tr th {\n",
       "        vertical-align: top;\n",
       "    }\n",
       "\n",
       "    .dataframe thead th {\n",
       "        text-align: right;\n",
       "    }\n",
       "</style>\n",
       "<table border=\"1\" class=\"dataframe\">\n",
       "  <thead>\n",
       "    <tr style=\"text-align: right;\">\n",
       "      <th></th>\n",
       "      <th>User</th>\n",
       "      <th>Date Created</th>\n",
       "      <th>Number of Likes</th>\n",
       "      <th>Tweet</th>\n",
       "      <th>Date</th>\n",
       "      <th>Date_Hour</th>\n",
       "      <th>Sentiment</th>\n",
       "      <th>Numerical</th>\n",
       "    </tr>\n",
       "  </thead>\n",
       "  <tbody>\n",
       "    <tr>\n",
       "      <th>0</th>\n",
       "      <td>DogecoinCuban</td>\n",
       "      <td>2021-12-31 23:59:58+00:00</td>\n",
       "      <td>1</td>\n",
       "      <td>@Rodolfo07351753 @sodogetip tip @Rodolfo073517...</td>\n",
       "      <td>2021-12-31</td>\n",
       "      <td>2021-12-31 23:00:00</td>\n",
       "      <td>neutral</td>\n",
       "      <td>0</td>\n",
       "    </tr>\n",
       "    <tr>\n",
       "      <th>1</th>\n",
       "      <td>RNY1117</td>\n",
       "      <td>2021-12-31 23:59:47+00:00</td>\n",
       "      <td>2</td>\n",
       "      <td>HAPPY NEW DOGE YEAR</td>\n",
       "      <td>2021-12-31</td>\n",
       "      <td>2021-12-31 23:00:00</td>\n",
       "      <td>positive</td>\n",
       "      <td>1</td>\n",
       "    </tr>\n",
       "    <tr>\n",
       "      <th>2</th>\n",
       "      <td>bojodus</td>\n",
       "      <td>2021-12-31 23:59:37+00:00</td>\n",
       "      <td>0</td>\n",
       "      <td>Prayers Up for XRP, DOGE , SHIB \\nx1000 to the...</td>\n",
       "      <td>2021-12-31</td>\n",
       "      <td>2021-12-31 23:00:00</td>\n",
       "      <td>neutral</td>\n",
       "      <td>0</td>\n",
       "    </tr>\n",
       "    <tr>\n",
       "      <th>3</th>\n",
       "      <td>CryptoCapflow</td>\n",
       "      <td>2021-12-31 23:59:09+00:00</td>\n",
       "      <td>0</td>\n",
       "      <td>[Spot] By 2021-12-31 14:00 GMT, DOGE total tra...</td>\n",
       "      <td>2021-12-31</td>\n",
       "      <td>2021-12-31 23:00:00</td>\n",
       "      <td>neutral</td>\n",
       "      <td>0</td>\n",
       "    </tr>\n",
       "    <tr>\n",
       "      <th>4</th>\n",
       "      <td>CarlosS74671189</td>\n",
       "      <td>2021-12-31 23:59:04+00:00</td>\n",
       "      <td>1</td>\n",
       "      <td>@Darlene_Pizarro How much Doge would you like ...</td>\n",
       "      <td>2021-12-31</td>\n",
       "      <td>2021-12-31 23:00:00</td>\n",
       "      <td>positive</td>\n",
       "      <td>1</td>\n",
       "    </tr>\n",
       "  </tbody>\n",
       "</table>\n",
       "</div>"
      ],
      "text/plain": [
       "              User               Date Created  Number of Likes  \\\n",
       "0    DogecoinCuban  2021-12-31 23:59:58+00:00                1   \n",
       "1          RNY1117  2021-12-31 23:59:47+00:00                2   \n",
       "2          bojodus  2021-12-31 23:59:37+00:00                0   \n",
       "3    CryptoCapflow  2021-12-31 23:59:09+00:00                0   \n",
       "4  CarlosS74671189  2021-12-31 23:59:04+00:00                1   \n",
       "\n",
       "                                               Tweet        Date  \\\n",
       "0  @Rodolfo07351753 @sodogetip tip @Rodolfo073517...  2021-12-31   \n",
       "1                                HAPPY NEW DOGE YEAR  2021-12-31   \n",
       "2  Prayers Up for XRP, DOGE , SHIB \\nx1000 to the...  2021-12-31   \n",
       "3  [Spot] By 2021-12-31 14:00 GMT, DOGE total tra...  2021-12-31   \n",
       "4  @Darlene_Pizarro How much Doge would you like ...  2021-12-31   \n",
       "\n",
       "             Date_Hour Sentiment  Numerical  \n",
       "0  2021-12-31 23:00:00   neutral          0  \n",
       "1  2021-12-31 23:00:00  positive          1  \n",
       "2  2021-12-31 23:00:00   neutral          0  \n",
       "3  2021-12-31 23:00:00   neutral          0  \n",
       "4  2021-12-31 23:00:00  positive          1  "
      ]
     },
     "execution_count": 16,
     "metadata": {},
     "output_type": "execute_result"
    }
   ],
   "source": [
    "clean_df.head(5)"
   ]
  },
  {
   "cell_type": "markdown",
   "metadata": {},
   "source": [
    "### Saving as CSV for further use"
   ]
  },
  {
   "cell_type": "code",
   "execution_count": 13,
   "metadata": {},
   "outputs": [],
   "source": [
    "clean_df.to_csv('Sentiment_73_days_data.csv')"
   ]
  },
  {
   "cell_type": "markdown",
   "metadata": {},
   "source": [
    "## Descriptive analysis"
   ]
  },
  {
   "cell_type": "markdown",
   "metadata": {},
   "source": [
    "### Number of tweets per day"
   ]
  },
  {
   "cell_type": "code",
   "execution_count": 17,
   "metadata": {},
   "outputs": [],
   "source": [
    "tweets_per_day_df = clean_df['Tweet'].groupby(clean_df['Date']).count()"
   ]
  },
  {
   "cell_type": "markdown",
   "metadata": {},
   "source": [
    "### Number of tweets by sentiment"
   ]
  },
  {
   "cell_type": "code",
   "execution_count": 14,
   "metadata": {},
   "outputs": [],
   "source": [
    "tweets_by_sentiment = clean_df['Tweet'].groupby(clean_df['Sentiment']).count()"
   ]
  },
  {
   "cell_type": "markdown",
   "metadata": {},
   "source": [
    "### Sum and mean of numerical sentiment value per day (ie. \"Sentiment per day\")"
   ]
  },
  {
   "cell_type": "code",
   "execution_count": 137,
   "metadata": {},
   "outputs": [],
   "source": [
    "sum_sentiment_per_day = clean_df['Numerical'].groupby(clean_df['Date']).sum()"
   ]
  },
  {
   "cell_type": "code",
   "execution_count": 65,
   "metadata": {},
   "outputs": [],
   "source": [
    "mean_sentiment_per_day = clean_df['Numerical'].groupby(clean_df['Date']).mean()"
   ]
  },
  {
   "cell_type": "markdown",
   "metadata": {},
   "source": [
    "## Some plots"
   ]
  },
  {
   "cell_type": "code",
   "execution_count": 138,
   "metadata": {},
   "outputs": [
    {
     "data": {
      "image/png": "[encoded data removed]",
      "text/plain": [
       "<Figure size 864x576 with 4 Axes>"
      ]
     },
     "metadata": {
      "needs_background": "light"
     },
     "output_type": "display_data"
    }
   ],
   "source": [
    "fig, (ax1, ax2) = plt.subplots(nrows=2,ncols=2, figsize=(12,8))\n",
    "\n",
    "ax1[0].plot(tweets_per_day_df)\n",
    "ax1[0].set_title('Number of English tweets \\n mentioning \\'doge\\' per day')\n",
    "ax1[0].tick_params(axis='x',rotation=90)\n",
    "\n",
    "ax1[1].bar(['negative', 'neutral', 'positive'], tweets_by_sentiment, color =['maroon','royalblue','limegreen'])\n",
    "ax1[1].set_title('Number of tweets by sentiment \\n rating using TextBlob')\n",
    "ax1[1].tick_params(axis='x',rotation=90)\n",
    "\n",
    "\n",
    "ax2[0].plot(mean_sentiment_per_day)\n",
    "ax2[0].set_title('Mean of sentiment using TextBlob \\n per day')\n",
    "ax2[0].tick_params(axis='x',rotation=90)\n",
    "\n",
    "ax2[1].plot(sum_sentiment_per_day)\n",
    "ax2[1].set_title('Sum of sentiment using TextBlob \\n per day')\n",
    "ax2[1].tick_params(axis='x',rotation=90)\n",
    "\n",
    "\n",
    "\n",
    "fig.tight_layout()\n",
    "plt.show()"
   ]
  },
  {
   "cell_type": "markdown",
   "metadata": {},
   "source": [
    "## Cleaning out bots by tweet limit"
   ]
  },
  {
   "cell_type": "code",
   "execution_count": 81,
   "metadata": {},
   "outputs": [],
   "source": [
    "# Creating a series of usernames with number of tweets for each\n",
    "tweets_by_user = clean_df['Tweet'].groupby(clean_df['User']).count().sort_values(ascending=False)"
   ]
  },
  {
   "cell_type": "code",
   "execution_count": 82,
   "metadata": {},
   "outputs": [],
   "source": [
    "#tweets_by_user[70:120]"
   ]
  },
  {
   "cell_type": "code",
   "execution_count": 84,
   "metadata": {},
   "outputs": [],
   "source": [
    "#Using Rapid API/Botometer to check \n",
    "rapidapi_key=\"021ba4febbmsh4de41a22cd11ff2p1a3d74jsn2279bfe997e8\"\n",
    "twitter_app_auth = {\n",
    "    'consumer_key': '0uI8dxQGRxVItgvrxvR6ARzz7',\n",
    "    'consumer_secret': '4EUtW4wH4DlwwXALQb5omsFz6ZkgFgywwlbc4K6JOrbUmpS04x',\n",
    "    'access_token': '714967964924116992-tCepcrzU2upZLYuiYXxe7ru2ffzrII6',\n",
    "    'access_token_secret': 'Id6Fzpmp0o1cduVJMquOfe9Wb9SQuuOykLdiNL9BMIbO5',\n",
    "  }\n",
    "\n",
    "bom = botometer.Botometer(wait_on_ratelimit=True,\n",
    "                          rapidapi_key=rapidapi_key,\n",
    "                          **twitter_app_auth)\n",
    "\n",
    "#Checkin a real account and a bot as a test\n",
    "checkbotreal = bom.check_account(\"@WetKissesBitch\")\n",
    "checkbotbot = bom.check_account(\"@slullyman\")"
   ]
  },
  {
   "cell_type": "code",
   "execution_count": 111,
   "metadata": {
    "scrolled": true
   },
   "outputs": [
    {
     "name": "stdout",
     "output_type": "stream",
     "text": [
      "\n",
      "Overall Botometer score for a real person: 0.16 \n",
      "\n",
      "Overall Botometer score for a bot: 0.86 \n",
      "\n",
      "\n",
      "After inspecting the most high frequency twitter accounts and running sample Botometer tests, the most \n",
      "reasonable cutoff seems to be at 514 total tweets, or 1.41 tweets per day, covering \n",
      "most of the bots, while the remaining bots are likely to produce neutral sentiment results and further \n",
      "cuts would lead to disproportionate loss of real users. \n",
      " \n",
      "The original dataset had 1194435 tweets, while the new one has\", dataloss, \"corresponding to a \n",
      "loss of 215156 tweets, or 18.01 % of the dataset. \n",
      " \n",
      "That leaves us with 1.05M tweets or 81.99 % of the dataset, which is a good result. \n",
      "The existing tweets are already filtered for being in the english language to the extent possible.\")\n",
      "\n"
     ]
    }
   ],
   "source": [
    "print (f'''\n",
    "Overall Botometer score for a real person: {checkbotreal['raw_scores']['universal']['overall']} \\n\n",
    "Overall Botometer score for a bot: {checkbotbot['raw_scores']['universal']['overall']} \\n\n",
    "After inspecting the most high frequency twitter accounts and running sample Botometer tests, the most \n",
    "reasonable cutoff seems to be at 514 total tweets, or {round(tweetsperday,2)} tweets per day, covering \n",
    "most of the bots, while the remaining bots are likely to produce neutral sentiment results and further \n",
    "cuts would lead to disproportionate loss of real users. \\n \n",
    "The original dataset had {len(clean_df)} tweets, while the new one has\", dataloss, \"corresponding to a \n",
    "loss of {tweets_by_user2.sum()} tweets, or {round(datalossp,2)} % of the dataset. \\n \n",
    "That leaves us with 1.05M tweets or {round(newdatap,2)} % of the dataset, which is a good result. \n",
    "The existing tweets are already filtered for being in the english language to the extent possible.\")\n",
    "''')"
   ]
  },
  {
   "cell_type": "code",
   "execution_count": 117,
   "metadata": {},
   "outputs": [],
   "source": [
    "#cutoff = pd.DataFrame(tweets_by_user[tweets_by_user <=514]).index"
   ]
  },
  {
   "cell_type": "code",
   "execution_count": 130,
   "metadata": {},
   "outputs": [],
   "source": [
    "cutoff = [i for i in tweets_by_user[tweets_by_user <=514].index]"
   ]
  },
  {
   "cell_type": "code",
   "execution_count": 133,
   "metadata": {},
   "outputs": [],
   "source": [
    "final_df = clean_df[clean_df['User'].isin(cutoff) == True].reset_index(drop=True)"
   ]
  },
  {
   "cell_type": "code",
   "execution_count": 139,
   "metadata": {},
   "outputs": [
    {
     "name": "stdout",
     "output_type": "stream",
     "text": [
      "\n",
      "Number of tweets removed: 214642 \n",
      "\n",
      "Number of tweets left: 979793 \n",
      "\n",
      "Percentage removed: 0.18 %\n",
      "\n"
     ]
    }
   ],
   "source": [
    "# Defining cutoff as users with more than 514 tweets\n",
    "cutoff = [i for i in tweets_by_user[tweets_by_user <=514].index]\n",
    "\n",
    "# Defining final DataFrame, where bots are removed\n",
    "final_df = clean_df[clean_df['User'].isin(cutoff) == True].reset_index(drop=True)\n",
    "\n",
    "\n",
    "print(f'''\n",
    "Number of tweets removed: {len(clean_df)-len(final_df)} \\n\n",
    "Number of tweets left: {len(final_df)} \\n\n",
    "Percentage removed: {(len(clean_df)-len(final_df))/len(clean_df):.2f} %\n",
    "''')"
   ]
  },
  {
   "cell_type": "markdown",
   "metadata": {},
   "source": [
    "### Saving to CSV for future use"
   ]
  },
  {
   "cell_type": "code",
   "execution_count": 135,
   "metadata": {},
   "outputs": [],
   "source": [
    "final_df.to_csv('Final_73_days.csv', index=False)"
   ]
  },
  {
   "cell_type": "code",
   "execution_count": null,
   "metadata": {},
   "outputs": [],
   "source": []
  }
 ],
 "metadata": {
  "kernelspec": {
   "display_name": "Python 3",
   "language": "python",
   "name": "python3"
  },
  "language_info": {
   "codemirror_mode": {
    "name": "ipython",
    "version": 3
   },
   "file_extension": ".py",
   "mimetype": "text/x-python",
   "name": "python",
   "nbconvert_exporter": "python",
   "pygments_lexer": "ipython3",
   "version": "3.8.5"
  }
 },
 "nbformat": 4,
 "nbformat_minor": 4
}
