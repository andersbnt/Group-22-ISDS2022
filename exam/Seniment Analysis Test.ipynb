{
 "cells": [
  {
   "cell_type": "code",
   "execution_count": 14,
   "metadata": {},
   "outputs": [],
   "source": [
    "#Imports\n",
    "import numpy as np\n",
    "import pandas as pd\n",
    "import nltk\n",
    "from nltk.corpus import stopwords\n",
    "from nltk.stem import PorterStemmer\n",
    "import string\n",
    "import re\n",
    "from sklearn.feature_extraction.text import CountVectorizer\n",
    "from sklearn.naive_bayes import MultinomialNB\n",
    "from sklearn.model_selection import train_test_split\n",
    "from sklearn.metrics import classification_report"
   ]
  },
  {
   "cell_type": "code",
   "execution_count": 2,
   "metadata": {},
   "outputs": [
    {
     "data": {
      "text/html": [
       "<div>\n",
       "<style scoped>\n",
       "    .dataframe tbody tr th:only-of-type {\n",
       "        vertical-align: middle;\n",
       "    }\n",
       "\n",
       "    .dataframe tbody tr th {\n",
       "        vertical-align: top;\n",
       "    }\n",
       "\n",
       "    .dataframe thead th {\n",
       "        text-align: right;\n",
       "    }\n",
       "</style>\n",
       "<table border=\"1\" class=\"dataframe\">\n",
       "  <thead>\n",
       "    <tr style=\"text-align: right;\">\n",
       "      <th></th>\n",
       "      <th>tweet_id</th>\n",
       "      <th>airline_sentiment</th>\n",
       "      <th>airline_sentiment_confidence</th>\n",
       "      <th>negativereason</th>\n",
       "      <th>negativereason_confidence</th>\n",
       "      <th>airline</th>\n",
       "      <th>airline_sentiment_gold</th>\n",
       "      <th>name</th>\n",
       "      <th>negativereason_gold</th>\n",
       "      <th>retweet_count</th>\n",
       "      <th>text</th>\n",
       "      <th>tweet_coord</th>\n",
       "      <th>tweet_created</th>\n",
       "      <th>tweet_location</th>\n",
       "      <th>user_timezone</th>\n",
       "    </tr>\n",
       "  </thead>\n",
       "  <tbody>\n",
       "    <tr>\n",
       "      <th>5520</th>\n",
       "      <td>568926716644745216</td>\n",
       "      <td>positive</td>\n",
       "      <td>1.0</td>\n",
       "      <td>NaN</td>\n",
       "      <td>NaN</td>\n",
       "      <td>Southwest</td>\n",
       "      <td>NaN</td>\n",
       "      <td>fair_island</td>\n",
       "      <td>NaN</td>\n",
       "      <td>0</td>\n",
       "      <td>@SouthwestAir Thank you!</td>\n",
       "      <td>NaN</td>\n",
       "      <td>2015-02-20 16:14:34 -0800</td>\n",
       "      <td>Somewhere in Tennessee</td>\n",
       "      <td>Quito</td>\n",
       "    </tr>\n",
       "    <tr>\n",
       "      <th>12213</th>\n",
       "      <td>570261511781941251</td>\n",
       "      <td>neutral</td>\n",
       "      <td>1.0</td>\n",
       "      <td>NaN</td>\n",
       "      <td>NaN</td>\n",
       "      <td>American</td>\n",
       "      <td>NaN</td>\n",
       "      <td>RockUrHumanity</td>\n",
       "      <td>NaN</td>\n",
       "      <td>0</td>\n",
       "      <td>@AmericanAir Thank you for responding so quick...</td>\n",
       "      <td>NaN</td>\n",
       "      <td>2015-02-24 08:38:34 -0800</td>\n",
       "      <td>East Coast/New England</td>\n",
       "      <td>Eastern Time (US &amp; Canada)</td>\n",
       "    </tr>\n",
       "  </tbody>\n",
       "</table>\n",
       "</div>"
      ],
      "text/plain": [
       "                 tweet_id airline_sentiment  airline_sentiment_confidence  \\\n",
       "5520   568926716644745216          positive                           1.0   \n",
       "12213  570261511781941251           neutral                           1.0   \n",
       "\n",
       "      negativereason  negativereason_confidence    airline  \\\n",
       "5520             NaN                        NaN  Southwest   \n",
       "12213            NaN                        NaN   American   \n",
       "\n",
       "      airline_sentiment_gold            name negativereason_gold  \\\n",
       "5520                     NaN     fair_island                 NaN   \n",
       "12213                    NaN  RockUrHumanity                 NaN   \n",
       "\n",
       "       retweet_count                                               text  \\\n",
       "5520               0                           @SouthwestAir Thank you!   \n",
       "12213              0  @AmericanAir Thank you for responding so quick...   \n",
       "\n",
       "      tweet_coord              tweet_created          tweet_location  \\\n",
       "5520          NaN  2015-02-20 16:14:34 -0800  Somewhere in Tennessee   \n",
       "12213         NaN  2015-02-24 08:38:34 -0800  East Coast/New England   \n",
       "\n",
       "                    user_timezone  \n",
       "5520                        Quito  \n",
       "12213  Eastern Time (US & Canada)  "
      ]
     },
     "execution_count": 2,
     "metadata": {},
     "output_type": "execute_result"
    }
   ],
   "source": [
    "tweets=pd.read_csv('airline_Tweets.csv')\n",
    "tweets.sample(2)"
   ]
  },
  {
   "cell_type": "markdown",
   "metadata": {},
   "source": [
    "We are mainly interested in the columns 'airline_sentiment' and 'text'\n",
    "\n",
    "But first, we will drop all tweets (rows) which have a low ‘airline_sentiment_confidence’, ie. Tweets where the confidence that the sentiment is correct is low\n",
    "\n",
    "### Dropping rows with low confidence"
   ]
  },
  {
   "cell_type": "code",
   "execution_count": 3,
   "metadata": {},
   "outputs": [
    {
     "name": "stdout",
     "output_type": "stream",
     "text": [
      "In total, 236 tweets was removed\n"
     ]
    }
   ],
   "source": [
    "cleaned_tweets=tweets.drop(tweets[tweets['airline_sentiment_confidence']<0.5].index, axis=0) #axis=0 drops rows\n",
    "\n",
    "print(f'In total, {len(tweets)-len(cleaned_tweets)} tweets was removed')"
   ]
  },
  {
   "cell_type": "markdown",
   "metadata": {},
   "source": [
    "### Defining the input X and outcome y"
   ]
  },
  {
   "cell_type": "code",
   "execution_count": 4,
   "metadata": {},
   "outputs": [],
   "source": [
    "X=cleaned_tweets['text']\n",
    "y=cleaned_tweets['airline_sentiment']"
   ]
  },
  {
   "cell_type": "markdown",
   "metadata": {},
   "source": [
    "### Simplifying text\n",
    "\n",
    "First, we download English stopwords and define them"
   ]
  },
  {
   "cell_type": "code",
   "execution_count": 5,
   "metadata": {},
   "outputs": [
    {
     "name": "stderr",
     "output_type": "stream",
     "text": [
      "[nltk_data] Downloading package stopwords to\n",
      "[nltk_data]     C:\\Users\\Anders\\AppData\\Roaming\\nltk_data...\n",
      "[nltk_data]   Package stopwords is already up-to-date!\n"
     ]
    },
    {
     "data": {
      "text/plain": [
       "True"
      ]
     },
     "execution_count": 5,
     "metadata": {},
     "output_type": "execute_result"
    }
   ],
   "source": [
    "nltk.download('stopwords')"
   ]
  },
  {
   "cell_type": "code",
   "execution_count": 6,
   "metadata": {},
   "outputs": [],
   "source": [
    "stop_words=stopwords.words('english')\n",
    "punct=string.punctuation\n",
    "stemmer=PorterStemmer()"
   ]
  },
  {
   "cell_type": "code",
   "execution_count": 7,
   "metadata": {},
   "outputs": [
    {
     "name": "stdout",
     "output_type": "stream",
     "text": [
      "@VirginAmerica it's really aggressive to blast obnoxious \"entertainment\" in your guests' faces &amp; they have little recourse\n",
      "virginamerica realli aggress blast obnoxi entertain guest face amp littl recours\n"
     ]
    }
   ],
   "source": [
    "cleaned_data=[]                 # Empty list\n",
    "words = re.compile('[^a-zA-Z]') # Regular Expression for everything that is NOT (^) letters\n",
    "\n",
    "for i in range(len(X)):\n",
    "    tweet=re.sub(words,' ',X.iloc[i])   # Takes each element in X and removes everything that is not a-z and A-Z letters\n",
    "    tweet=tweet.lower().split()         # Makes all letters lower-case, and splits by word\n",
    "    \n",
    "    #list compr. that checks every word in tweet, to see if its a stopword or a punctuation, and converts the word into the stem\n",
    "    tweet=[stemmer.stem(word) for word in tweet if (word not in stop_words) and (word not in punct)] \n",
    "    \n",
    "    tweet=' '.join(tweet)               # Joins the sentence back together\n",
    "    cleaned_data.append(tweet)          # Puts the cleaned tweet into the cleaned_data list\n",
    "\n",
    "\n",
    "# A comparison of before and after for one of the tweets\n",
    "print(X[3])  \n",
    "print(cleaned_data[2])"
   ]
  },
  {
   "cell_type": "markdown",
   "metadata": {},
   "source": [
    "### Converting words into numbers by the ‘Bag of Words’ approach\n",
    "\n",
    "For the input $X$:"
   ]
  },
  {
   "cell_type": "code",
   "execution_count": 8,
   "metadata": {},
   "outputs": [],
   "source": [
    "#Creates bags of words for each word in each tweet. Exclude airline names\n",
    "count = CountVectorizer(max_features=3000,stop_words=['virginamerica','unit'])\n",
    "\n",
    "X_fin=count.fit_transform(cleaned_data).toarray()\n"
   ]
  },
  {
   "cell_type": "markdown",
   "metadata": {},
   "source": [
    "For the output $y$,  we convert each value in y into the index that the value has in the list 'sentiment_order'.\n",
    "\n",
    "This means that:\n",
    "* negative = 0\n",
    "* neutral  = 1\n",
    "* positive = 2"
   ]
  },
  {
   "cell_type": "code",
   "execution_count": 9,
   "metadata": {},
   "outputs": [],
   "source": [
    "sentiment_order = ['negative', 'neutral', 'positive']\n",
    "\n",
    "\n",
    "#Below we convert each value in y into the index that the value has in the above list.\n",
    "#This means that\n",
    "y_fin = y.apply(lambda x: sentiment_order.index(x))\n",
    "\n",
    "\n",
    "\n"
   ]
  },
  {
   "cell_type": "markdown",
   "metadata": {},
   "source": [
    "## Time to go!"
   ]
  },
  {
   "cell_type": "code",
   "execution_count": 15,
   "metadata": {},
   "outputs": [
    {
     "name": "stdout",
     "output_type": "stream",
     "text": [
      "              precision    recall  f1-score   support\n",
      "\n",
      "           0       0.83      0.89      0.86      2736\n",
      "           1       0.61      0.49      0.54       916\n",
      "           2       0.72      0.68      0.70       670\n",
      "\n",
      "    accuracy                           0.77      4322\n",
      "   macro avg       0.72      0.69      0.70      4322\n",
      "weighted avg       0.76      0.77      0.77      4322\n",
      "\n"
     ]
    }
   ],
   "source": [
    "#Multinomial model is used as it is generally good with text based data (according to google anyways)\n",
    "model=MultinomialNB()\n",
    "\n",
    "X_train,X_test,y_train,y_test=train_test_split(X_fin,y_fin,test_size=0.3)\n",
    "model.fit(X_train,y_train)\n",
    "\n",
    "y_pred=model.predict(X_test)\n",
    "cf=classification_report(y_test,y_pred)\n",
    "print(cf)"
   ]
  },
  {
   "cell_type": "code",
   "execution_count": null,
   "metadata": {},
   "outputs": [],
   "source": []
  }
 ],
 "metadata": {
  "kernelspec": {
   "display_name": "Python 3",
   "language": "python",
   "name": "python3"
  },
  "language_info": {
   "codemirror_mode": {
    "name": "ipython",
    "version": 3
   },
   "file_extension": ".py",
   "mimetype": "text/x-python",
   "name": "python",
   "nbconvert_exporter": "python",
   "pygments_lexer": "ipython3",
   "version": "3.8.5"
  }
 },
 "nbformat": 4,
 "nbformat_minor": 4
}
