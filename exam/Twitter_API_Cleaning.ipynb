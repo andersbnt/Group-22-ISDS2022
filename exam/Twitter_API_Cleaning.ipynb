{
 "cells": [
  {
   "cell_type": "code",
   "execution_count": 2,
   "metadata": {},
   "outputs": [],
   "source": [
    "# For sending GET requests from the API\n",
    "import requests\n",
    "# For saving access tokens and for file management when creating and adding to the dataset\n",
    "import os\n",
    "# For dealing with json responses we receive from the API\n",
    "import json\n",
    "# For displaying the data after\n",
    "import numpy as np\n",
    "import pandas as pd\n",
    "# For saving the response data in CSV format\n",
    "import csv\n",
    "# For parsing the dates received from twitter in readable formats\n",
    "import datetime\n",
    "import dateutil.parser\n",
    "import unicodedata\n",
    "#To add wait time between requests\n",
    "import time\n",
    "#Imports timer\n",
    "import tqdm\n",
    "#To do Regex\n",
    "import re\n",
    "#To do sentiment analysis\n",
    "from textblob import TextBlob\n",
    "#To do bot analysis\n",
    "import botometer\n",
    "\n",
    "import matplotlib.pyplot as plt \n",
    "import seaborn as sns"
   ]
  },
  {
   "cell_type": "markdown",
   "metadata": {},
   "source": [
    "## Import data from CSV file to a DataFrame"
   ]
  },
  {
   "cell_type": "code",
   "execution_count": 62,
   "metadata": {},
   "outputs": [],
   "source": [
    "data_df = pd.read_csv('twitter_API_data_raw.csv')"
   ]
  },
  {
   "cell_type": "code",
   "execution_count": 63,
   "metadata": {},
   "outputs": [
    {
     "data": {
      "text/html": [
       "<div>\n",
       "<style scoped>\n",
       "    .dataframe tbody tr th:only-of-type {\n",
       "        vertical-align: middle;\n",
       "    }\n",
       "\n",
       "    .dataframe tbody tr th {\n",
       "        vertical-align: top;\n",
       "    }\n",
       "\n",
       "    .dataframe thead th {\n",
       "        text-align: right;\n",
       "    }\n",
       "</style>\n",
       "<table border=\"1\" class=\"dataframe\">\n",
       "  <thead>\n",
       "    <tr style=\"text-align: right;\">\n",
       "      <th></th>\n",
       "      <th>text</th>\n",
       "      <th>reply_settings</th>\n",
       "      <th>source</th>\n",
       "      <th>id</th>\n",
       "      <th>conversation_id</th>\n",
       "      <th>author_id</th>\n",
       "      <th>public_metrics</th>\n",
       "      <th>in_reply_to_user_id</th>\n",
       "      <th>referenced_tweets</th>\n",
       "      <th>lang</th>\n",
       "      <th>created_at</th>\n",
       "      <th>geo</th>\n",
       "    </tr>\n",
       "  </thead>\n",
       "  <tbody>\n",
       "    <tr>\n",
       "      <th>0</th>\n",
       "      <td>@alqsyy @Mutantduckclub8 RYOGE- The shiba kill...</td>\n",
       "      <td>everyone</td>\n",
       "      <td>Twitter for Android</td>\n",
       "      <td>1559180467781378056</td>\n",
       "      <td>1559090445656866816</td>\n",
       "      <td>1557092549638111233</td>\n",
       "      <td>{'retweet_count': 0, 'reply_count': 0, 'like_c...</td>\n",
       "      <td>1.060756e+18</td>\n",
       "      <td>[{'type': 'replied_to', 'id': '155909044565686...</td>\n",
       "      <td>en</td>\n",
       "      <td>2022-08-15T14:09:26.000Z</td>\n",
       "      <td>NaN</td>\n",
       "    </tr>\n",
       "    <tr>\n",
       "      <th>1</th>\n",
       "      <td>@Amrit45970471 @palletjacker69 Join doge mutan...</td>\n",
       "      <td>everyone</td>\n",
       "      <td>Twitter for Android</td>\n",
       "      <td>1559180445987880963</td>\n",
       "      <td>1559082707078217729</td>\n",
       "      <td>1551828952011997184</td>\n",
       "      <td>{'retweet_count': 0, 'reply_count': 0, 'like_c...</td>\n",
       "      <td>1.355349e+18</td>\n",
       "      <td>[{'type': 'replied_to', 'id': '155908300539771...</td>\n",
       "      <td>en</td>\n",
       "      <td>2022-08-15T14:09:21.000Z</td>\n",
       "      <td>NaN</td>\n",
       "    </tr>\n",
       "  </tbody>\n",
       "</table>\n",
       "</div>"
      ],
      "text/plain": [
       "                                                text reply_settings  \\\n",
       "0  @alqsyy @Mutantduckclub8 RYOGE- The shiba kill...       everyone   \n",
       "1  @Amrit45970471 @palletjacker69 Join doge mutan...       everyone   \n",
       "\n",
       "                source                   id      conversation_id  \\\n",
       "0  Twitter for Android  1559180467781378056  1559090445656866816   \n",
       "1  Twitter for Android  1559180445987880963  1559082707078217729   \n",
       "\n",
       "             author_id                                     public_metrics  \\\n",
       "0  1557092549638111233  {'retweet_count': 0, 'reply_count': 0, 'like_c...   \n",
       "1  1551828952011997184  {'retweet_count': 0, 'reply_count': 0, 'like_c...   \n",
       "\n",
       "   in_reply_to_user_id                                  referenced_tweets  \\\n",
       "0         1.060756e+18  [{'type': 'replied_to', 'id': '155909044565686...   \n",
       "1         1.355349e+18  [{'type': 'replied_to', 'id': '155908300539771...   \n",
       "\n",
       "  lang                created_at  geo  \n",
       "0   en  2022-08-15T14:09:26.000Z  NaN  \n",
       "1   en  2022-08-15T14:09:21.000Z  NaN  "
      ]
     },
     "execution_count": 63,
     "metadata": {},
     "output_type": "execute_result"
    }
   ],
   "source": [
    "data_df.head(2)"
   ]
  },
  {
   "cell_type": "markdown",
   "metadata": {},
   "source": [
    "## Cleaning up DataFrame\n",
    "\n",
    "### Adding and removing columns"
   ]
  },
  {
   "cell_type": "code",
   "execution_count": 68,
   "metadata": {},
   "outputs": [
    {
     "data": {
      "text/html": [
       "<div>\n",
       "<style scoped>\n",
       "    .dataframe tbody tr th:only-of-type {\n",
       "        vertical-align: middle;\n",
       "    }\n",
       "\n",
       "    .dataframe tbody tr th {\n",
       "        vertical-align: top;\n",
       "    }\n",
       "\n",
       "    .dataframe thead th {\n",
       "        text-align: right;\n",
       "    }\n",
       "</style>\n",
       "<table border=\"1\" class=\"dataframe\">\n",
       "  <thead>\n",
       "    <tr style=\"text-align: right;\">\n",
       "      <th></th>\n",
       "      <th>text</th>\n",
       "      <th>author_id</th>\n",
       "      <th>date</th>\n",
       "      <th>date_hour</th>\n",
       "      <th>retweet_count</th>\n",
       "      <th>reply_count</th>\n",
       "      <th>like_count</th>\n",
       "      <th>quote_count</th>\n",
       "    </tr>\n",
       "  </thead>\n",
       "  <tbody>\n",
       "    <tr>\n",
       "      <th>0</th>\n",
       "      <td>@alqsyy @Mutantduckclub8 RYOGE- The shiba kill...</td>\n",
       "      <td>1557092549638111233</td>\n",
       "      <td>2022-08-15</td>\n",
       "      <td>2022-08-15 14:00:00</td>\n",
       "      <td>0</td>\n",
       "      <td>0</td>\n",
       "      <td>0</td>\n",
       "      <td>0</td>\n",
       "    </tr>\n",
       "    <tr>\n",
       "      <th>1</th>\n",
       "      <td>@Amrit45970471 @palletjacker69 Join doge mutan...</td>\n",
       "      <td>1551828952011997184</td>\n",
       "      <td>2022-08-15</td>\n",
       "      <td>2022-08-15 14:00:00</td>\n",
       "      <td>0</td>\n",
       "      <td>0</td>\n",
       "      <td>0</td>\n",
       "      <td>0</td>\n",
       "    </tr>\n",
       "  </tbody>\n",
       "</table>\n",
       "</div>"
      ],
      "text/plain": [
       "                                                text            author_id  \\\n",
       "0  @alqsyy @Mutantduckclub8 RYOGE- The shiba kill...  1557092549638111233   \n",
       "1  @Amrit45970471 @palletjacker69 Join doge mutan...  1551828952011997184   \n",
       "\n",
       "         date           date_hour retweet_count reply_count like_count  \\\n",
       "0  2022-08-15 2022-08-15 14:00:00             0           0          0   \n",
       "1  2022-08-15 2022-08-15 14:00:00             0           0          0   \n",
       "\n",
       "  quote_count  \n",
       "0           0  \n",
       "1           0  "
      ]
     },
     "execution_count": 68,
     "metadata": {},
     "output_type": "execute_result"
    }
   ],
   "source": [
    "#Add date and date_hour columns as datetime objects:\n",
    "data_df['date'] = pd.to_datetime(data_df['created_at']).dt.date\n",
    "data_df['date_hour'] = pd.to_datetime([str[:-10]+'00:00' for str in data_df['created_at']])\n",
    "\n",
    "\n",
    "#Add counter columns\n",
    "find_counts = re.compile(r'\\b\\d+\\b')                                         #Define regex for finding the counts\n",
    "metrics_list = ['retweet_count', 'reply_count', 'like_count', 'quote_count'] #Define names of the new columns\n",
    "j=0\n",
    "for i in metrics_list:\n",
    "    data_df[i] = [find_counts.findall(i)[j] for i in data_df['public_metrics']]\n",
    "    j+=1\n",
    "\n",
    "    \n",
    "#Drop columns\n",
    "drop_columns = ['reply_settings', 'source', 'id', 'conversation_id', 'public_metrics', 'in_reply_to_user_id', 'referenced_tweets', 'lang', 'created_at', 'geo']\n",
    "clean_df = data_df.drop(drop_columns, axis=1)\n",
    "clean_df.head(2)"
   ]
  },
  {
   "cell_type": "markdown",
   "metadata": {},
   "source": [
    "### Removing columns"
   ]
  },
  {
   "cell_type": "markdown",
   "metadata": {},
   "source": [
    "### Sample"
   ]
  },
  {
   "cell_type": "code",
   "execution_count": 72,
   "metadata": {},
   "outputs": [
    {
     "data": {
      "text/html": [
       "<div>\n",
       "<style scoped>\n",
       "    .dataframe tbody tr th:only-of-type {\n",
       "        vertical-align: middle;\n",
       "    }\n",
       "\n",
       "    .dataframe tbody tr th {\n",
       "        vertical-align: top;\n",
       "    }\n",
       "\n",
       "    .dataframe thead th {\n",
       "        text-align: right;\n",
       "    }\n",
       "</style>\n",
       "<table border=\"1\" class=\"dataframe\">\n",
       "  <thead>\n",
       "    <tr style=\"text-align: right;\">\n",
       "      <th></th>\n",
       "      <th>text</th>\n",
       "      <th>author_id</th>\n",
       "      <th>date</th>\n",
       "      <th>date_hour</th>\n",
       "      <th>retweet_count</th>\n",
       "      <th>reply_count</th>\n",
       "      <th>like_count</th>\n",
       "      <th>quote_count</th>\n",
       "    </tr>\n",
       "  </thead>\n",
       "  <tbody>\n",
       "    <tr>\n",
       "      <th>42308</th>\n",
       "      <td>@JackpotDoge Very hard working team with big p...</td>\n",
       "      <td>1178489459316346880</td>\n",
       "      <td>2022-08-13</td>\n",
       "      <td>2022-08-13 11:00:00</td>\n",
       "      <td>0</td>\n",
       "      <td>0</td>\n",
       "      <td>5</td>\n",
       "      <td>0</td>\n",
       "    </tr>\n",
       "    <tr>\n",
       "      <th>106336</th>\n",
       "      <td>#crypto #dogecoin earn 1.3% every day with thi...</td>\n",
       "      <td>1518978189065953281</td>\n",
       "      <td>2022-08-10</td>\n",
       "      <td>2022-08-10 10:00:00</td>\n",
       "      <td>0</td>\n",
       "      <td>0</td>\n",
       "      <td>0</td>\n",
       "      <td>0</td>\n",
       "    </tr>\n",
       "  </tbody>\n",
       "</table>\n",
       "</div>"
      ],
      "text/plain": [
       "                                                     text  \\\n",
       "42308   @JackpotDoge Very hard working team with big p...   \n",
       "106336  #crypto #dogecoin earn 1.3% every day with thi...   \n",
       "\n",
       "                  author_id        date           date_hour retweet_count  \\\n",
       "42308   1178489459316346880  2022-08-13 2022-08-13 11:00:00             0   \n",
       "106336  1518978189065953281  2022-08-10 2022-08-10 10:00:00             0   \n",
       "\n",
       "       reply_count like_count quote_count  \n",
       "42308            0          5           0  \n",
       "106336           0          0           0  "
      ]
     },
     "execution_count": 72,
     "metadata": {},
     "output_type": "execute_result"
    }
   ],
   "source": [
    "clean_df.sample(2)"
   ]
  },
  {
   "cell_type": "markdown",
   "metadata": {},
   "source": [
    "### Save cleaned data as CSV for future use"
   ]
  },
  {
   "cell_type": "code",
   "execution_count": 73,
   "metadata": {},
   "outputs": [],
   "source": [
    "clean_df.to_csv('twitter_API_data_cleaned.csv', index=False) #index=False makes sure that the index is not saved as an extra column"
   ]
  },
  {
   "cell_type": "markdown",
   "metadata": {},
   "source": [
    "## Some initial plotting"
   ]
  },
  {
   "cell_type": "markdown",
   "metadata": {},
   "source": [
    "# Sentiment analysis\n",
    "\n",
    "First we define two functions:\n",
    "* One that cleans a given tweet for unnecessary stuff, such as mentions etc\n",
    "* One that uses the TextBlob library's sentiment function to determine a given tweets sentiment"
   ]
  },
  {
   "cell_type": "code",
   "execution_count": 74,
   "metadata": {},
   "outputs": [],
   "source": [
    "def clean_tweet(tweet):\n",
    "    '''\n",
    "    Using RegEx, this function cleans the tweets for unnecessary fluffer\n",
    "    '''\n",
    "    return ' '.join(re.sub(\"(@[A-Za-z0-9]+)|([^0-9A-Za-z \\t])|(\\w+:\\/\\/\\S+)\", \" \", tweet).split())\n",
    "\n",
    "def get_tweet_sentiment(tweet):\n",
    "    '''\n",
    "    Uses textblob to decide sentiment of a parsed tweet\n",
    "    '''\n",
    "    # Create TextBlob object\n",
    "    blob = TextBlob(clean_tweet(tweet))\n",
    "        \n",
    "    # Set sentiment\n",
    "    if blob.sentiment.polarity > 0:\n",
    "        return 'positive'\n",
    "    elif blob.sentiment.polarity == 0:\n",
    "        return 'neutral'\n",
    "    else:\n",
    "        return 'negative'"
   ]
  },
  {
   "cell_type": "markdown",
   "metadata": {},
   "source": [
    "## Adding a sentiment-column\n",
    "\n",
    "Using list comprehension we use the above defined functions on each tweet text in clean_df\n",
    "\n",
    "### OBS: the cell takes around 1-2 minutes to run"
   ]
  },
  {
   "cell_type": "code",
   "execution_count": 75,
   "metadata": {},
   "outputs": [
    {
     "name": "stderr",
     "output_type": "stream",
     "text": [
      "100%|████████████████████████████████████████████████████████████████████████| 145933/145933 [00:56<00:00, 2591.83it/s]\n"
     ]
    }
   ],
   "source": [
    "clean_df['sentiment'] = [get_tweet_sentiment(tweet) for tweet in tqdm.tqdm(clean_df['text'])]"
   ]
  },
  {
   "cell_type": "markdown",
   "metadata": {},
   "source": [
    "### Adding sentiment as numerical values (-1, 0, 1)"
   ]
  },
  {
   "cell_type": "code",
   "execution_count": 77,
   "metadata": {},
   "outputs": [],
   "source": [
    "sentiment_dict = {\n",
    "  \"negative\": -1,\n",
    "  \"neutral\": 0,\n",
    "  \"positive\": 1}\n",
    "\n",
    "clean_df['numerical'] = [sentiment_dict[i] for i in clean_df['sentiment']]"
   ]
  },
  {
   "cell_type": "markdown",
   "metadata": {},
   "source": [
    "### Sample"
   ]
  },
  {
   "cell_type": "code",
   "execution_count": 78,
   "metadata": {
    "scrolled": false
   },
   "outputs": [
    {
     "data": {
      "text/html": [
       "<div>\n",
       "<style scoped>\n",
       "    .dataframe tbody tr th:only-of-type {\n",
       "        vertical-align: middle;\n",
       "    }\n",
       "\n",
       "    .dataframe tbody tr th {\n",
       "        vertical-align: top;\n",
       "    }\n",
       "\n",
       "    .dataframe thead th {\n",
       "        text-align: right;\n",
       "    }\n",
       "</style>\n",
       "<table border=\"1\" class=\"dataframe\">\n",
       "  <thead>\n",
       "    <tr style=\"text-align: right;\">\n",
       "      <th></th>\n",
       "      <th>text</th>\n",
       "      <th>author_id</th>\n",
       "      <th>date</th>\n",
       "      <th>date_hour</th>\n",
       "      <th>retweet_count</th>\n",
       "      <th>reply_count</th>\n",
       "      <th>like_count</th>\n",
       "      <th>quote_count</th>\n",
       "      <th>sentiment</th>\n",
       "      <th>numerical</th>\n",
       "    </tr>\n",
       "  </thead>\n",
       "  <tbody>\n",
       "    <tr>\n",
       "      <th>79857</th>\n",
       "      <td>A $200,000 purchase of PulseDogecoin will rais...</td>\n",
       "      <td>1459234749113851904</td>\n",
       "      <td>2022-08-11</td>\n",
       "      <td>2022-08-11 13:00:00</td>\n",
       "      <td>6</td>\n",
       "      <td>4</td>\n",
       "      <td>20</td>\n",
       "      <td>0</td>\n",
       "      <td>neutral</td>\n",
       "      <td>0</td>\n",
       "    </tr>\n",
       "    <tr>\n",
       "      <th>33207</th>\n",
       "      <td>Myths which are believed in tend to become tru...</td>\n",
       "      <td>1488892394548469765</td>\n",
       "      <td>2022-08-13</td>\n",
       "      <td>2022-08-13 21:00:00</td>\n",
       "      <td>0</td>\n",
       "      <td>0</td>\n",
       "      <td>0</td>\n",
       "      <td>1</td>\n",
       "      <td>positive</td>\n",
       "      <td>1</td>\n",
       "    </tr>\n",
       "  </tbody>\n",
       "</table>\n",
       "</div>"
      ],
      "text/plain": [
       "                                                    text            author_id  \\\n",
       "79857  A $200,000 purchase of PulseDogecoin will rais...  1459234749113851904   \n",
       "33207  Myths which are believed in tend to become tru...  1488892394548469765   \n",
       "\n",
       "             date           date_hour retweet_count reply_count like_count  \\\n",
       "79857  2022-08-11 2022-08-11 13:00:00             6           4         20   \n",
       "33207  2022-08-13 2022-08-13 21:00:00             0           0          0   \n",
       "\n",
       "      quote_count sentiment  numerical  \n",
       "79857           0   neutral          0  \n",
       "33207           1  positive          1  "
      ]
     },
     "execution_count": 78,
     "metadata": {},
     "output_type": "execute_result"
    }
   ],
   "source": [
    "clean_df.sample(2)"
   ]
  },
  {
   "cell_type": "markdown",
   "metadata": {},
   "source": [
    "### Saving to CSV for future use"
   ]
  },
  {
   "cell_type": "code",
   "execution_count": 80,
   "metadata": {},
   "outputs": [],
   "source": [
    "clean_df.to_csv('twitter_API_data_sentiment.csv')"
   ]
  },
  {
   "cell_type": "markdown",
   "metadata": {},
   "source": [
    "## Descriptive analysis"
   ]
  },
  {
   "cell_type": "markdown",
   "metadata": {},
   "source": [
    "Data series creation per day"
   ]
  },
  {
   "cell_type": "code",
   "execution_count": 4,
   "metadata": {},
   "outputs": [
    {
     "ename": "NameError",
     "evalue": "name 'clean_df' is not defined",
     "output_type": "error",
     "traceback": [
      "\u001b[1;31m---------------------------------------------------------------------------\u001b[0m",
      "\u001b[1;31mNameError\u001b[0m                                 Traceback (most recent call last)",
      "\u001b[1;32m<ipython-input-4-ef249d3c9e65>\u001b[0m in \u001b[0;36m<module>\u001b[1;34m\u001b[0m\n\u001b[0;32m      1\u001b[0m \u001b[1;31m### Number of tweets per day mentioning 'doge'\u001b[0m\u001b[1;33m\u001b[0m\u001b[1;33m\u001b[0m\u001b[1;33m\u001b[0m\u001b[0m\n\u001b[1;32m----> 2\u001b[1;33m \u001b[0mtweets_per_day\u001b[0m \u001b[1;33m=\u001b[0m \u001b[0mclean_df\u001b[0m\u001b[1;33m[\u001b[0m\u001b[1;34m'text'\u001b[0m\u001b[1;33m]\u001b[0m\u001b[1;33m.\u001b[0m\u001b[0mgroupby\u001b[0m\u001b[1;33m(\u001b[0m\u001b[0mclean_df\u001b[0m\u001b[1;33m[\u001b[0m\u001b[1;34m'date'\u001b[0m\u001b[1;33m]\u001b[0m\u001b[1;33m)\u001b[0m\u001b[1;33m.\u001b[0m\u001b[0mcount\u001b[0m\u001b[1;33m(\u001b[0m\u001b[1;33m)\u001b[0m\u001b[1;33m\u001b[0m\u001b[1;33m\u001b[0m\u001b[0m\n\u001b[0m\u001b[0;32m      3\u001b[0m \u001b[0mtweets_per_hour\u001b[0m \u001b[1;33m=\u001b[0m \u001b[0mclean_df\u001b[0m\u001b[1;33m[\u001b[0m\u001b[1;34m'text'\u001b[0m\u001b[1;33m]\u001b[0m\u001b[1;33m.\u001b[0m\u001b[0mgroupby\u001b[0m\u001b[1;33m(\u001b[0m\u001b[0mclean_df\u001b[0m\u001b[1;33m[\u001b[0m\u001b[1;34m'date_hour'\u001b[0m\u001b[1;33m]\u001b[0m\u001b[1;33m)\u001b[0m\u001b[1;33m.\u001b[0m\u001b[0mcount\u001b[0m\u001b[1;33m(\u001b[0m\u001b[1;33m)\u001b[0m\u001b[1;33m\u001b[0m\u001b[1;33m\u001b[0m\u001b[0m\n\u001b[0;32m      4\u001b[0m \u001b[1;33m\u001b[0m\u001b[0m\n\u001b[0;32m      5\u001b[0m \u001b[1;31m### Number of tweets mentioning 'doge' in each sentiment category\u001b[0m\u001b[1;33m\u001b[0m\u001b[1;33m\u001b[0m\u001b[1;33m\u001b[0m\u001b[0m\n",
      "\u001b[1;31mNameError\u001b[0m: name 'clean_df' is not defined"
     ]
    }
   ],
   "source": [
    "### Number of tweets per day mentioning 'doge'\n",
    "tweets_per_day = clean_df['text'].groupby(clean_df['date']).count()\n",
    "tweets_per_hour = clean_df['text'].groupby(clean_df['date_hour']).count()\n",
    "\n",
    "### Number of tweets mentioning 'doge' in each sentiment category\n",
    "tweets_by_sentiment = clean_df['text'].groupby(clean_df['sentiment']).count()\n",
    "\n",
    "### Sum and mean of numerical sentiment value per day (ie. \"Sentiment per day/hour\")\n",
    "sum_sentiment_per_day = clean_df['numerical'].groupby(clean_df['date']).sum()\n",
    "mean_sentiment_per_day = clean_df['numerical'].groupby(clean_df['date']).mean()\n",
    "\n",
    "sum_sentiment_per_hour = clean_df['numerical'].groupby(clean_df['date_hour']).sum()\n",
    "mean_sentiment_per_hour = clean_df['numerical'].groupby(clean_df['date_hour']).mean()\n",
    "\n",
    "#Dataframe with sum and mean per hour\n",
    "sentiment_per_hour = pd.DataFrame({'Sum': sum_sentiment_per_hour, 'Mean': mean_sentiment_per_hour}).reset_index()"
   ]
  },
  {
   "cell_type": "code",
   "execution_count": 140,
   "metadata": {},
   "outputs": [
    {
     "data": {
      "text/html": [
       "<div>\n",
       "<style scoped>\n",
       "    .dataframe tbody tr th:only-of-type {\n",
       "        vertical-align: middle;\n",
       "    }\n",
       "\n",
       "    .dataframe tbody tr th {\n",
       "        vertical-align: top;\n",
       "    }\n",
       "\n",
       "    .dataframe thead th {\n",
       "        text-align: right;\n",
       "    }\n",
       "</style>\n",
       "<table border=\"1\" class=\"dataframe\">\n",
       "  <thead>\n",
       "    <tr style=\"text-align: right;\">\n",
       "      <th></th>\n",
       "      <th>date_hour</th>\n",
       "      <th>Sum</th>\n",
       "      <th>Mean</th>\n",
       "    </tr>\n",
       "  </thead>\n",
       "  <tbody>\n",
       "    <tr>\n",
       "      <th>0</th>\n",
       "      <td>2022-08-08 15:00:00</td>\n",
       "      <td>332</td>\n",
       "      <td>0.435696</td>\n",
       "    </tr>\n",
       "    <tr>\n",
       "      <th>1</th>\n",
       "      <td>2022-08-08 16:00:00</td>\n",
       "      <td>408</td>\n",
       "      <td>0.378830</td>\n",
       "    </tr>\n",
       "    <tr>\n",
       "      <th>2</th>\n",
       "      <td>2022-08-08 17:00:00</td>\n",
       "      <td>430</td>\n",
       "      <td>0.401494</td>\n",
       "    </tr>\n",
       "    <tr>\n",
       "      <th>3</th>\n",
       "      <td>2022-08-08 18:00:00</td>\n",
       "      <td>314</td>\n",
       "      <td>0.412615</td>\n",
       "    </tr>\n",
       "    <tr>\n",
       "      <th>4</th>\n",
       "      <td>2022-08-08 19:00:00</td>\n",
       "      <td>494</td>\n",
       "      <td>0.501014</td>\n",
       "    </tr>\n",
       "    <tr>\n",
       "      <th>...</th>\n",
       "      <td>...</td>\n",
       "      <td>...</td>\n",
       "      <td>...</td>\n",
       "    </tr>\n",
       "    <tr>\n",
       "      <th>163</th>\n",
       "      <td>2022-08-15 10:00:00</td>\n",
       "      <td>231</td>\n",
       "      <td>0.232628</td>\n",
       "    </tr>\n",
       "    <tr>\n",
       "      <th>164</th>\n",
       "      <td>2022-08-15 11:00:00</td>\n",
       "      <td>543</td>\n",
       "      <td>0.532353</td>\n",
       "    </tr>\n",
       "    <tr>\n",
       "      <th>165</th>\n",
       "      <td>2022-08-15 12:00:00</td>\n",
       "      <td>418</td>\n",
       "      <td>0.467562</td>\n",
       "    </tr>\n",
       "    <tr>\n",
       "      <th>166</th>\n",
       "      <td>2022-08-15 13:00:00</td>\n",
       "      <td>822</td>\n",
       "      <td>0.557288</td>\n",
       "    </tr>\n",
       "    <tr>\n",
       "      <th>167</th>\n",
       "      <td>2022-08-15 14:00:00</td>\n",
       "      <td>177</td>\n",
       "      <td>0.580328</td>\n",
       "    </tr>\n",
       "  </tbody>\n",
       "</table>\n",
       "<p>168 rows × 3 columns</p>\n",
       "</div>"
      ],
      "text/plain": [
       "              date_hour  Sum      Mean\n",
       "0   2022-08-08 15:00:00  332  0.435696\n",
       "1   2022-08-08 16:00:00  408  0.378830\n",
       "2   2022-08-08 17:00:00  430  0.401494\n",
       "3   2022-08-08 18:00:00  314  0.412615\n",
       "4   2022-08-08 19:00:00  494  0.501014\n",
       "..                  ...  ...       ...\n",
       "163 2022-08-15 10:00:00  231  0.232628\n",
       "164 2022-08-15 11:00:00  543  0.532353\n",
       "165 2022-08-15 12:00:00  418  0.467562\n",
       "166 2022-08-15 13:00:00  822  0.557288\n",
       "167 2022-08-15 14:00:00  177  0.580328\n",
       "\n",
       "[168 rows x 3 columns]"
      ]
     },
     "execution_count": 140,
     "metadata": {},
     "output_type": "execute_result"
    }
   ],
   "source": [
    "sentiment_per_hour"
   ]
  },
  {
   "cell_type": "markdown",
   "metadata": {},
   "source": [
    "### Save sentiment per hour as CSV for later use"
   ]
  },
  {
   "cell_type": "code",
   "execution_count": 141,
   "metadata": {},
   "outputs": [],
   "source": [
    "sentiment_per_hour.to_csv('twitter_API_sentiment_per_hour.csv', index=False)"
   ]
  },
  {
   "cell_type": "markdown",
   "metadata": {},
   "source": [
    "## Some plots"
   ]
  },
  {
   "cell_type": "code",
   "execution_count": 3,
   "metadata": {},
   "outputs": [
    {
     "ename": "NameError",
     "evalue": "name 'tweets_per_hour' is not defined",
     "output_type": "error",
     "traceback": [
      "\u001b[1;31m---------------------------------------------------------------------------\u001b[0m",
      "\u001b[1;31mNameError\u001b[0m                                 Traceback (most recent call last)",
      "\u001b[1;32m<ipython-input-3-6b822c2de783>\u001b[0m in \u001b[0;36m<module>\u001b[1;34m\u001b[0m\n\u001b[0;32m      1\u001b[0m \u001b[0mfig\u001b[0m\u001b[1;33m,\u001b[0m \u001b[1;33m(\u001b[0m\u001b[0max1\u001b[0m\u001b[1;33m,\u001b[0m \u001b[0max2\u001b[0m\u001b[1;33m)\u001b[0m \u001b[1;33m=\u001b[0m \u001b[0mplt\u001b[0m\u001b[1;33m.\u001b[0m\u001b[0msubplots\u001b[0m\u001b[1;33m(\u001b[0m\u001b[0mnrows\u001b[0m\u001b[1;33m=\u001b[0m\u001b[1;36m2\u001b[0m\u001b[1;33m,\u001b[0m\u001b[0mncols\u001b[0m\u001b[1;33m=\u001b[0m\u001b[1;36m2\u001b[0m\u001b[1;33m,\u001b[0m \u001b[0mfigsize\u001b[0m\u001b[1;33m=\u001b[0m\u001b[1;33m(\u001b[0m\u001b[1;36m12\u001b[0m\u001b[1;33m,\u001b[0m\u001b[1;36m8\u001b[0m\u001b[1;33m)\u001b[0m\u001b[1;33m)\u001b[0m\u001b[1;33m\u001b[0m\u001b[1;33m\u001b[0m\u001b[0m\n\u001b[0;32m      2\u001b[0m \u001b[1;33m\u001b[0m\u001b[0m\n\u001b[1;32m----> 3\u001b[1;33m \u001b[0max1\u001b[0m\u001b[1;33m[\u001b[0m\u001b[1;36m0\u001b[0m\u001b[1;33m]\u001b[0m\u001b[1;33m.\u001b[0m\u001b[0mplot\u001b[0m\u001b[1;33m(\u001b[0m\u001b[0mtweets_per_hour\u001b[0m\u001b[1;33m)\u001b[0m\u001b[1;33m\u001b[0m\u001b[1;33m\u001b[0m\u001b[0m\n\u001b[0m\u001b[0;32m      4\u001b[0m \u001b[0max1\u001b[0m\u001b[1;33m[\u001b[0m\u001b[1;36m0\u001b[0m\u001b[1;33m]\u001b[0m\u001b[1;33m.\u001b[0m\u001b[0mplot\u001b[0m\u001b[1;33m(\u001b[0m\u001b[0mtweets_per_day\u001b[0m\u001b[1;33m)\u001b[0m\u001b[1;33m\u001b[0m\u001b[1;33m\u001b[0m\u001b[0m\n\u001b[0;32m      5\u001b[0m \u001b[0max1\u001b[0m\u001b[1;33m[\u001b[0m\u001b[1;36m0\u001b[0m\u001b[1;33m]\u001b[0m\u001b[1;33m.\u001b[0m\u001b[0mset_title\u001b[0m\u001b[1;33m(\u001b[0m\u001b[1;34m'Number of English tweets \\n mentioning \\'doge\\' per day'\u001b[0m\u001b[1;33m)\u001b[0m\u001b[1;33m\u001b[0m\u001b[1;33m\u001b[0m\u001b[0m\n",
      "\u001b[1;31mNameError\u001b[0m: name 'tweets_per_hour' is not defined"
     ]
    },
    {
     "data": {
      "image/png": "[encoded data removed]",
      "text/plain": [
       "<Figure size 864x576 with 4 Axes>"
      ]
     },
     "metadata": {
      "needs_background": "light"
     },
     "output_type": "display_data"
    }
   ],
   "source": [
    "fig, (ax1, ax2) = plt.subplots(nrows=2,ncols=2, figsize=(12,8))\n",
    "\n",
    "ax1[0].plot(tweets_per_hour)\n",
    "ax1[0].plot(tweets_per_day)\n",
    "ax1[0].set_title('Number of English tweets \\n mentioning \\'doge\\' per day')\n",
    "ax1[0].tick_params(axis='x',rotation=90)\n",
    "\n",
    "ax1[1].bar(['negative', 'neutral', 'positive'], tweets_by_sentiment, color =['maroon','royalblue','limegreen'])\n",
    "ax1[1].set_title('Number of tweets by sentiment \\n rating using TextBlob')\n",
    "ax1[1].tick_params(axis='x',rotation=90)\n",
    "\n",
    "\n",
    "ax2[0].plot(mean_sentiment_per_hour)\n",
    "ax2[0].set_title('Mean of sentiment using TextBlob \\n per hour')\n",
    "ax2[0].tick_params(axis='x',rotation=90)\n",
    "\n",
    "ax2[1].plot(sum_sentiment_per_hour)\n",
    "ax2[1].set_title('Sum of sentiment using TextBlob \\n per hour')\n",
    "ax2[1].tick_params(axis='x',rotation=90)\n",
    "\n",
    "\n",
    "fig.tight_layout()\n",
    "plt.show()"
   ]
  },
  {
   "cell_type": "markdown",
   "metadata": {},
   "source": [
    "OG PLOTS"
   ]
  },
  {
   "cell_type": "code",
   "execution_count": 123,
   "metadata": {},
   "outputs": [
    {
     "data": {
      "image/png": "[encoded data removed]",
      "text/plain": [
       "<Figure size 864x576 with 4 Axes>"
      ]
     },
     "metadata": {
      "needs_background": "light"
     },
     "output_type": "display_data"
    }
   ],
   "source": [
    "fig, (ax1, ax2) = plt.subplots(nrows=2,ncols=2, figsize=(12,8))\n",
    "\n",
    "ax1[0].plot(tweets_per_day)\n",
    "ax1[0].set_title('Number of English tweets \\n mentioning \\'doge\\' per day')\n",
    "ax1[0].tick_params(axis='x',rotation=90)\n",
    "\n",
    "ax1[1].bar(['negative', 'neutral', 'positive'], tweets_by_sentiment, color =['maroon','royalblue','limegreen'])\n",
    "ax1[1].set_title('Number of tweets by sentiment \\n rating using TextBlob')\n",
    "ax1[1].tick_params(axis='x',rotation=90)\n",
    "\n",
    "\n",
    "ax2[0].plot(mean_sentiment_per_day)\n",
    "ax2[0].set_title('Mean of sentiment using TextBlob \\n per day')\n",
    "ax2[0].tick_params(axis='x',rotation=90)\n",
    "\n",
    "ax2[1].plot(sum_sentiment_per_day)\n",
    "ax2[1].set_title('Sum of sentiment using TextBlob \\n per day')\n",
    "ax2[1].tick_params(axis='x',rotation=90)\n",
    "\n",
    "\n",
    "\n",
    "fig.tight_layout()\n",
    "plt.show()"
   ]
  },
  {
   "cell_type": "markdown",
   "metadata": {},
   "source": [
    "## Cleaning out bots by tweet limit"
   ]
  },
  {
   "cell_type": "code",
   "execution_count": 110,
   "metadata": {},
   "outputs": [
    {
     "name": "stdout",
     "output_type": "stream",
     "text": [
      "\n",
      "Number of tweets removed: 73930 \n",
      "\n",
      "Number of tweets left: 72003 \n",
      "\n",
      "Percentage removed: 0.51 %\n",
      "\n"
     ]
    }
   ],
   "source": [
    "# Creating a series of usernames with number of tweets for each\n",
    "tweets_by_user = clean_df['text'].groupby(clean_df['author_id']).count().sort_values(ascending=False)\n",
    "\n",
    "# Defining cutoff as users with more than ten tweets per day\n",
    "cutoff = [i for i in tweets_by_user[tweets_by_user<=70].index]\n",
    "\n",
    "# Defining final DataFrame, where bots are removed\n",
    "final_df = clean_df[clean_df['author_id'].isin(cutoff) == True].reset_index(drop=True)\n",
    "\n",
    "\n",
    "print(f'''\n",
    "Number of tweets removed: {len(clean_df)-len(final_df)} \\n\n",
    "Number of tweets left: {len(final_df)} \\n\n",
    "Percentage removed: {(len(clean_df)-len(final_df))/len(clean_df):.2f} %\n",
    "''')"
   ]
  },
  {
   "cell_type": "markdown",
   "metadata": {},
   "source": [
    "### Saving to CSV for future use"
   ]
  },
  {
   "cell_type": "code",
   "execution_count": 102,
   "metadata": {},
   "outputs": [],
   "source": [
    "final_df.to_csv('twitter_API_data_final.csv')"
   ]
  }
 ],
 "metadata": {
  "kernelspec": {
   "display_name": "Python 3",
   "language": "python",
   "name": "python3"
  },
  "language_info": {
   "codemirror_mode": {
    "name": "ipython",
    "version": 3
   },
   "file_extension": ".py",
   "mimetype": "text/x-python",
   "name": "python",
   "nbconvert_exporter": "python",
   "pygments_lexer": "ipython3",
   "version": "3.8.5"
  }
 },
 "nbformat": 4,
 "nbformat_minor": 4
}
