{
 "cells": [
  {
   "cell_type": "code",
   "execution_count": 2,
   "metadata": {},
   "outputs": [],
   "source": [
    "#IMPORTS\n",
    "import pandas as pd\n",
    "import numpy as np\n",
    "import tqdm\n",
    "import time\n",
    "import requests\n",
    "import csv\n",
    "import time\n",
    "from bs4 import BeautifulSoup\n",
    "import re"
   ]
  },
  {
   "cell_type": "code",
   "execution_count": 10,
   "metadata": {},
   "outputs": [],
   "source": [
    "url = \"https://old.reddit.com/r/Bitcoin/\"\n",
    "# Headers to mimic a browser visit\n",
    "headers = {'User-Agent': 'Mozilla/5.0'}\n",
    "\n",
    "# Returns a requests.models.Response object\n",
    "page = requests.get(url, headers=headers)"
   ]
  },
  {
   "cell_type": "code",
   "execution_count": 11,
   "metadata": {},
   "outputs": [],
   "source": [
    "soup = BeautifulSoup(page.text, 'html.parser')"
   ]
  },
  {
   "cell_type": "code",
   "execution_count": 12,
   "metadata": {},
   "outputs": [],
   "source": [
    "domains = soup.find_all(\"span\", class_=\"domain\")"
   ]
  },
  {
   "cell_type": "code",
   "execution_count": 15,
   "metadata": {},
   "outputs": [],
   "source": [
    "for domain in domains:\n",
    "    if domain != \"(self.Bitcoin)\":\n",
    "        continue\n",
    "\n",
    "    print(domain.text)"
   ]
  },
  {
   "cell_type": "code",
   "execution_count": 27,
   "metadata": {},
   "outputs": [],
   "source": [
    "for domain in soup.find_all(\"span\", class_=\"domain\"):\n",
    "    if domain != \"(self.Bitcoin)\":\n",
    "        continue\n",
    "\n",
    "    parent_div = domain.parent.parent.parent.parent\n",
    "    print(parent_div.text)"
   ]
  },
  {
   "cell_type": "code",
   "execution_count": 37,
   "metadata": {},
   "outputs": [
    {
     "data": {
      "text/plain": [
       "[]"
      ]
     },
     "execution_count": 37,
     "metadata": {},
     "output_type": "execute_result"
    }
   ],
   "source": [
    "posts = soup.find_all('div', attrs=attrs)\n",
    "\n"
   ]
  },
  {
   "cell_type": "code",
   "execution_count": 35,
   "metadata": {},
   "outputs": [
    {
     "name": "stdout",
     "output_type": "stream",
     "text": [
      "Toolingbuying new data science laptop (self.datascience) guest_1870 1 0\n"
     ]
    }
   ],
   "source": [
    "attrs = {'class': 'thing', 'data-domain': 'self.Bitcoin'}\n",
    "\n",
    "for post in soup.find_all('div', attrs=attrs):\n",
    "    title = post.find('p', class_=\"title\").text\n",
    "    author = post.find('a', class_='author').text\n",
    "    comments = post.find('a', class_='comments').text.split()[0]\n",
    "    likes = post.find(\"div\", attrs={\"class\": \"score likes\"}).text\n",
    "    print(post.attrs['data-domain'])\n",
    "    print(title)\n",
    "    print(author)\n",
    "    print(comments)\n",
    "    print(likes)\n",
    "\n",
    "    \n",
    "    \n",
    "title = post.find('p', class_=\"title\").text\n",
    "author = post.find('a', class_='author').text\n",
    "comments = post.find('a', class_='comments').text.split()[0]\n",
    "likes = post.find(\"div\", attrs={\"class\": \"score likes\"}).text\n",
    "\n",
    "print(title, author, comments, likes)"
   ]
  },
  {
   "cell_type": "code",
   "execution_count": 23,
   "metadata": {},
   "outputs": [],
   "source": [
    "title = post.find('p', class_=\"title\").text"
   ]
  },
  {
   "cell_type": "code",
   "execution_count": null,
   "metadata": {},
   "outputs": [],
   "source": []
  }
 ],
 "metadata": {
  "kernelspec": {
   "display_name": "Python 3",
   "language": "python",
   "name": "python3"
  },
  "language_info": {
   "codemirror_mode": {
    "name": "ipython",
    "version": 3
   },
   "file_extension": ".py",
   "mimetype": "text/x-python",
   "name": "python",
   "nbconvert_exporter": "python",
   "pygments_lexer": "ipython3",
   "version": "3.8.5"
  }
 },
 "nbformat": 4,
 "nbformat_minor": 4
}
