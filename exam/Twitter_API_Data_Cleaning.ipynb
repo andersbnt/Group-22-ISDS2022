{
 "cells": [
  {
   "cell_type": "code",
   "execution_count": 1,
   "metadata": {},
   "outputs": [],
   "source": [
    "# For sending GET requests from the API\n",
    "import requests\n",
    "# For saving access tokens and for file management when creating and adding to the dataset\n",
    "import os\n",
    "# For dealing with json responses we receive from the API\n",
    "import json\n",
    "# For displaying the data after\n",
    "import numpy as np\n",
    "import pandas as pd\n",
    "# For saving the response data in CSV format\n",
    "import csv\n",
    "# For parsing the dates received from twitter in readable formats\n",
    "import datetime\n",
    "import dateutil.parser\n",
    "import unicodedata\n",
    "#To add wait time between requests\n",
    "import time\n",
    "#Imports timer\n",
    "import tqdm\n",
    "#To do Regex\n",
    "import re\n",
    "#To do sentiment analysis\n",
    "from textblob import TextBlob\n",
    "\n",
    "import matplotlib.pyplot as plt \n",
    "import seaborn as sns"
   ]
  },
  {
   "cell_type": "markdown",
   "metadata": {},
   "source": [
    "## Import data from CSV file to a DataFrame"
   ]
  },
  {
   "cell_type": "code",
   "execution_count": 2,
   "metadata": {},
   "outputs": [],
   "source": [
    "data_df = pd.read_csv('raw_twitter_data.csv')"
   ]
  },
  {
   "cell_type": "markdown",
   "metadata": {},
   "source": [
    "## Cleaning up DataFrame\n",
    "\n",
    "### Adding columns"
   ]
  },
  {
   "cell_type": "code",
   "execution_count": 3,
   "metadata": {},
   "outputs": [],
   "source": [
    "#Add date column:\n",
    "data_df['date'] = pd.to_datetime(data_df['created_at']).dt.date\n",
    "\n",
    "#Add counter columns\n",
    "find_counts = re.compile(r'\\b\\d+\\b')                                         #Define regex for finding the counts\n",
    "metrics_list = ['retweet_count', 'reply_count', 'like_count', 'quote_count'] #Define names of the new columns\n",
    "\n",
    "j=0\n",
    "for i in metrics_list:\n",
    "    data_df[i] = [find_counts.findall(i)[j] for i in data_df['public_metrics']]\n",
    "    j+=1\n",
    "\n"
   ]
  },
  {
   "cell_type": "markdown",
   "metadata": {},
   "source": [
    "### Removing columns"
   ]
  },
  {
   "cell_type": "code",
   "execution_count": 4,
   "metadata": {},
   "outputs": [],
   "source": [
    "drop_columns = ['reply_settings', 'source', 'id', 'conversation_id', 'public_metrics', 'in_reply_to_user_id', 'referenced_tweets', 'lang', 'created_at', 'geo']\n",
    "\n",
    "clean_df = data_df.drop(drop_columns, axis=1)"
   ]
  },
  {
   "cell_type": "markdown",
   "metadata": {},
   "source": [
    "### Sample"
   ]
  },
  {
   "cell_type": "code",
   "execution_count": 5,
   "metadata": {},
   "outputs": [
    {
     "name": "stdout",
     "output_type": "stream",
     "text": [
      "108578    @MonstersCoins BULLISH ON $AXL INU @AxlToken\\n...\n",
      "Name: text, dtype: object\n"
     ]
    }
   ],
   "source": [
    "print(clean_df['text'].sample(1))"
   ]
  },
  {
   "cell_type": "markdown",
   "metadata": {},
   "source": [
    "## Some initial plotting"
   ]
  },
  {
   "cell_type": "code",
   "execution_count": 6,
   "metadata": {},
   "outputs": [],
   "source": [
    "tweets_per_day_df = clean_df['text'].groupby(clean_df['date']).count()"
   ]
  },
  {
   "cell_type": "code",
   "execution_count": 15,
   "metadata": {
    "scrolled": true
   },
   "outputs": [
    {
     "data": {
      "image/png": "[encoded data removed]",
      "text/plain": [
       "<Figure size 432x288 with 1 Axes>"
      ]
     },
     "metadata": {
      "needs_background": "light"
     },
     "output_type": "display_data"
    }
   ],
   "source": [
    "plt.plot(tweets_per_day_df)\n",
    "plt.title('Number of English tweets mentioning \\'doge\\' per day')\n",
    "plt.xticks(rotation=90)\n",
    "\n",
    "#plt.annotate('lol', xy = (0, 0))\n",
    "\n",
    "plt.show()"
   ]
  },
  {
   "cell_type": "markdown",
   "metadata": {},
   "source": [
    "# Sentiment analysis\n",
    "\n",
    "First we define two functions:\n",
    "* One that cleans a given tweet for unnecessary stuff, such as mentions etc\n",
    "* One that uses the TextBlob library's sentiment function to determine a given tweets sentiment"
   ]
  },
  {
   "cell_type": "code",
   "execution_count": 8,
   "metadata": {},
   "outputs": [],
   "source": [
    "def clean_tweet(tweet):\n",
    "    '''\n",
    "    Using RegEx, this function cleans the tweets for unnecessary fluffer\n",
    "    '''\n",
    "    return ' '.join(re.sub(\"(@[A-Za-z0-9]+)|([^0-9A-Za-z \\t])|(\\w+:\\/\\/\\S+)\", \" \", tweet).split())\n",
    "\n",
    "def get_tweet_sentiment(tweet):\n",
    "    '''\n",
    "    Uses textblob to decide sentiment of a parsed tweet\n",
    "    '''\n",
    "    # Create TextBlob object\n",
    "    blob = TextBlob(clean_tweet(tweet))\n",
    "        \n",
    "    # Set sentiment\n",
    "    if blob.sentiment.polarity > 0:\n",
    "        return 'positive'\n",
    "    elif blob.sentiment.polarity == 0:\n",
    "        return 'neutral'\n",
    "    else:\n",
    "        return 'negative'"
   ]
  },
  {
   "cell_type": "markdown",
   "metadata": {},
   "source": [
    "### Demonstration of the clean_tweet function:"
   ]
  },
  {
   "cell_type": "code",
   "execution_count": 9,
   "metadata": {},
   "outputs": [],
   "source": [
    "#print('Full tweet: \\n',clean_df['text'][0], '\\n')\n",
    "\n",
    "#print('Cleaned tweet: \\n',clean_tweet(clean_df['text'][0]))"
   ]
  },
  {
   "cell_type": "markdown",
   "metadata": {},
   "source": [
    "## Adding a sentiment-column\n",
    "\n",
    "Using list comprehension we use the above defined functions on each tweet text in clean_df\n",
    "\n",
    "### OBS: the cell takes around 3-5 minutes to run"
   ]
  },
  {
   "cell_type": "code",
   "execution_count": 10,
   "metadata": {},
   "outputs": [
    {
     "name": "stderr",
     "output_type": "stream",
     "text": [
      "100%|████████████████████████████████████████████████████████████████████████| 145933/145933 [01:26<00:00, 1696.38it/s]\n"
     ]
    }
   ],
   "source": [
    "clean_df['sentiment'] = [get_tweet_sentiment(tweet) for tweet in tqdm.tqdm(clean_df['text'])]"
   ]
  },
  {
   "cell_type": "code",
   "execution_count": 16,
   "metadata": {
    "scrolled": true
   },
   "outputs": [
    {
     "data": {
      "text/html": [
       "<div>\n",
       "<style scoped>\n",
       "    .dataframe tbody tr th:only-of-type {\n",
       "        vertical-align: middle;\n",
       "    }\n",
       "\n",
       "    .dataframe tbody tr th {\n",
       "        vertical-align: top;\n",
       "    }\n",
       "\n",
       "    .dataframe thead th {\n",
       "        text-align: right;\n",
       "    }\n",
       "</style>\n",
       "<table border=\"1\" class=\"dataframe\">\n",
       "  <thead>\n",
       "    <tr style=\"text-align: right;\">\n",
       "      <th></th>\n",
       "      <th>text</th>\n",
       "      <th>author_id</th>\n",
       "      <th>date</th>\n",
       "      <th>retweet_count</th>\n",
       "      <th>reply_count</th>\n",
       "      <th>like_count</th>\n",
       "      <th>quote_count</th>\n",
       "      <th>sentiment</th>\n",
       "    </tr>\n",
       "  </thead>\n",
       "  <tbody>\n",
       "    <tr>\n",
       "      <th>95309</th>\n",
       "      <td>@catandradec It’s Everyday. #Doge☄️☄️☄️</td>\n",
       "      <td>1371419905334067200</td>\n",
       "      <td>2022-08-10</td>\n",
       "      <td>0</td>\n",
       "      <td>1</td>\n",
       "      <td>1</td>\n",
       "      <td>0</td>\n",
       "      <td>negative</td>\n",
       "    </tr>\n",
       "    <tr>\n",
       "      <th>13988</th>\n",
       "      <td>@Trung68677743 @ChinaPumpWXC star of doge are ...</td>\n",
       "      <td>1558911049910427648</td>\n",
       "      <td>2022-08-14</td>\n",
       "      <td>0</td>\n",
       "      <td>0</td>\n",
       "      <td>0</td>\n",
       "      <td>0</td>\n",
       "      <td>neutral</td>\n",
       "    </tr>\n",
       "    <tr>\n",
       "      <th>102271</th>\n",
       "      <td>@Cointelegraph How does doge have anywhere nea...</td>\n",
       "      <td>1482000666361044996</td>\n",
       "      <td>2022-08-10</td>\n",
       "      <td>0</td>\n",
       "      <td>0</td>\n",
       "      <td>0</td>\n",
       "      <td>0</td>\n",
       "      <td>positive</td>\n",
       "    </tr>\n",
       "    <tr>\n",
       "      <th>94911</th>\n",
       "      <td>#Dogecoin PRICE CHECK\\n\\n$DOGE #DOGE #crypto \\...</td>\n",
       "      <td>3480123492</td>\n",
       "      <td>2022-08-10</td>\n",
       "      <td>1</td>\n",
       "      <td>1</td>\n",
       "      <td>1</td>\n",
       "      <td>0</td>\n",
       "      <td>neutral</td>\n",
       "    </tr>\n",
       "    <tr>\n",
       "      <th>29314</th>\n",
       "      <td>Please help your Tamadoge puppy today raising,...</td>\n",
       "      <td>1513308598520238080</td>\n",
       "      <td>2022-08-14</td>\n",
       "      <td>0</td>\n",
       "      <td>0</td>\n",
       "      <td>1</td>\n",
       "      <td>0</td>\n",
       "      <td>positive</td>\n",
       "    </tr>\n",
       "  </tbody>\n",
       "</table>\n",
       "</div>"
      ],
      "text/plain": [
       "                                                     text  \\\n",
       "95309             @catandradec It’s Everyday. #Doge☄️☄️☄️   \n",
       "13988   @Trung68677743 @ChinaPumpWXC star of doge are ...   \n",
       "102271  @Cointelegraph How does doge have anywhere nea...   \n",
       "94911   #Dogecoin PRICE CHECK\\n\\n$DOGE #DOGE #crypto \\...   \n",
       "29314   Please help your Tamadoge puppy today raising,...   \n",
       "\n",
       "                  author_id        date retweet_count reply_count like_count  \\\n",
       "95309   1371419905334067200  2022-08-10             0           1          1   \n",
       "13988   1558911049910427648  2022-08-14             0           0          0   \n",
       "102271  1482000666361044996  2022-08-10             0           0          0   \n",
       "94911            3480123492  2022-08-10             1           1          1   \n",
       "29314   1513308598520238080  2022-08-14             0           0          1   \n",
       "\n",
       "       quote_count sentiment  \n",
       "95309            0  negative  \n",
       "13988            0   neutral  \n",
       "102271           0  positive  \n",
       "94911            0   neutral  \n",
       "29314            0  positive  "
      ]
     },
     "execution_count": 16,
     "metadata": {},
     "output_type": "execute_result"
    }
   ],
   "source": [
    "clean_df.sample(5)"
   ]
  },
  {
   "cell_type": "code",
   "execution_count": 33,
   "metadata": {},
   "outputs": [
    {
     "data": {
      "text/plain": [
       "-1"
      ]
     },
     "execution_count": 33,
     "metadata": {},
     "output_type": "execute_result"
    }
   ],
   "source": [
    "sentiment_dict = {\n",
    "  \"negative\": -1,\n",
    "  \"neutral\": 0,\n",
    "  \"positive\": 1}\n",
    "\n",
    "sentiment_dict['negative']"
   ]
  },
  {
   "cell_type": "code",
   "execution_count": 39,
   "metadata": {},
   "outputs": [
    {
     "data": {
      "text/html": [
       "<div>\n",
       "<style scoped>\n",
       "    .dataframe tbody tr th:only-of-type {\n",
       "        vertical-align: middle;\n",
       "    }\n",
       "\n",
       "    .dataframe tbody tr th {\n",
       "        vertical-align: top;\n",
       "    }\n",
       "\n",
       "    .dataframe thead th {\n",
       "        text-align: right;\n",
       "    }\n",
       "</style>\n",
       "<table border=\"1\" class=\"dataframe\">\n",
       "  <thead>\n",
       "    <tr style=\"text-align: right;\">\n",
       "      <th></th>\n",
       "      <th>text</th>\n",
       "      <th>date</th>\n",
       "      <th>sentiment</th>\n",
       "      <th>num</th>\n",
       "    </tr>\n",
       "  </thead>\n",
       "  <tbody>\n",
       "    <tr>\n",
       "      <th>25490</th>\n",
       "      <td>@delomiro Soon we kick Doge ass again. :) the ...</td>\n",
       "      <td>2022-08-14</td>\n",
       "      <td>neutral</td>\n",
       "      <td>0</td>\n",
       "    </tr>\n",
       "    <tr>\n",
       "      <th>139762</th>\n",
       "      <td>📢📢📢LONG📢📢📢\\n#LTC\\n💰Entry Price = 62.55\\n⛔️Stop...</td>\n",
       "      <td>2022-08-08</td>\n",
       "      <td>negative</td>\n",
       "      <td>-1</td>\n",
       "    </tr>\n",
       "    <tr>\n",
       "      <th>131202</th>\n",
       "      <td>#DOGECOIN impulse bar 0.07086 - 0.07201\\n\\n#DO...</td>\n",
       "      <td>2022-08-09</td>\n",
       "      <td>neutral</td>\n",
       "      <td>0</td>\n",
       "    </tr>\n",
       "    <tr>\n",
       "      <th>25008</th>\n",
       "      <td>@Aptos_Doge An excellent project is just about...</td>\n",
       "      <td>2022-08-14</td>\n",
       "      <td>positive</td>\n",
       "      <td>1</td>\n",
       "    </tr>\n",
       "    <tr>\n",
       "      <th>93547</th>\n",
       "      <td>Fractional NFT Markets Slide 76% in Value in 7...</td>\n",
       "      <td>2022-08-10</td>\n",
       "      <td>neutral</td>\n",
       "      <td>0</td>\n",
       "    </tr>\n",
       "  </tbody>\n",
       "</table>\n",
       "</div>"
      ],
      "text/plain": [
       "                                                     text        date  \\\n",
       "25490   @delomiro Soon we kick Doge ass again. :) the ...  2022-08-14   \n",
       "139762  📢📢📢LONG📢📢📢\\n#LTC\\n💰Entry Price = 62.55\\n⛔️Stop...  2022-08-08   \n",
       "131202  #DOGECOIN impulse bar 0.07086 - 0.07201\\n\\n#DO...  2022-08-09   \n",
       "25008   @Aptos_Doge An excellent project is just about...  2022-08-14   \n",
       "93547   Fractional NFT Markets Slide 76% in Value in 7...  2022-08-10   \n",
       "\n",
       "       sentiment  num  \n",
       "25490    neutral    0  \n",
       "139762  negative   -1  \n",
       "131202   neutral    0  \n",
       "25008   positive    1  \n",
       "93547    neutral    0  "
      ]
     },
     "execution_count": 39,
     "metadata": {},
     "output_type": "execute_result"
    }
   ],
   "source": [
    "clean_df2 = clean_df[['text','date','sentiment']].copy()\n",
    "\n",
    "sentiment_dict = {\n",
    "  \"negative\": -1,\n",
    "  \"neutral\": 0,\n",
    "  \"positive\": 1}\n",
    "\n",
    "clean_df2['num'] = [sentiment_dict[i] for i in clean_df2['sentiment']]\n",
    "\n",
    "clean_df2.sample(5)"
   ]
  },
  {
   "cell_type": "code",
   "execution_count": 18,
   "metadata": {},
   "outputs": [],
   "source": [
    "tweets_by_sentiment = clean_df['text'].groupby(clean_df['sentiment']).count()"
   ]
  },
  {
   "cell_type": "code",
   "execution_count": 30,
   "metadata": {},
   "outputs": [
    {
     "data": {
      "image/png": "[encoded data removed]",
      "text/plain": [
       "<Figure size 432x288 with 1 Axes>"
      ]
     },
     "metadata": {
      "needs_background": "light"
     },
     "output_type": "display_data"
    }
   ],
   "source": [
    "plt.bar(['negative', 'neutral', 'positive'], tweets_by_sentiment, color =['maroon','royalblue','limegreen'])\n",
    "plt.title('Tweets by sentiment rating using TextBlob')\n",
    "\n",
    "plt.show()"
   ]
  },
  {
   "cell_type": "code",
   "execution_count": 41,
   "metadata": {},
   "outputs": [],
   "source": [
    "sentiment_per_day_df = clean_df2['num'].groupby(clean_df['date']).sum()"
   ]
  },
  {
   "cell_type": "code",
   "execution_count": 43,
   "metadata": {},
   "outputs": [
    {
     "data": {
      "image/png": "[encoded data removed]",
      "text/plain": [
       "<Figure size 432x288 with 1 Axes>"
      ]
     },
     "metadata": {
      "needs_background": "light"
     },
     "output_type": "display_data"
    }
   ],
   "source": [
    "plt.plot(sentiment_per_day_df)\n",
    "plt.title('Sum of sentiment per day')\n",
    "plt.xticks(rotation=90)\n",
    "\n",
    "#plt.annotate('lol', xy = (0, 0))\n",
    "\n",
    "plt.show()"
   ]
  },
  {
   "cell_type": "markdown",
   "metadata": {},
   "source": [
    "## Bot tests"
   ]
  },
  {
   "cell_type": "code",
   "execution_count": 60,
   "metadata": {},
   "outputs": [],
   "source": [
    "tweets_by_user = clean_df['text'].groupby(clean_df['author_id']).count()"
   ]
  },
  {
   "cell_type": "code",
   "execution_count": 103,
   "metadata": {},
   "outputs": [],
   "source": [
    "tweets_by_user2 = tweets_by_user[tweets_by_user >= 70]"
   ]
  },
  {
   "cell_type": "code",
   "execution_count": 107,
   "metadata": {},
   "outputs": [
    {
     "data": {
      "text/plain": [
       "71863"
      ]
     },
     "execution_count": 107,
     "metadata": {},
     "output_type": "execute_result"
    }
   ],
   "source": [
    "len(clean_df)-tweets_by_user2.sum()"
   ]
  },
  {
   "cell_type": "markdown",
   "metadata": {},
   "source": [
    "### Total tweets: 145.933\n",
    "\n",
    "#### Tweets if limit is 100 tweets per week\n",
    "76.661 (69.272 removed)\n",
    "\n",
    "#### Tweets if limit is 70 tweets per week\n",
    "71.863 (74.070 removed)"
   ]
  },
  {
   "cell_type": "code",
   "execution_count": null,
   "metadata": {},
   "outputs": [],
   "source": []
  }
 ],
 "metadata": {
  "kernelspec": {
   "display_name": "Python 3",
   "language": "python",
   "name": "python3"
  },
  "language_info": {
   "codemirror_mode": {
    "name": "ipython",
    "version": 3
   },
   "file_extension": ".py",
   "mimetype": "text/x-python",
   "name": "python",
   "nbconvert_exporter": "python",
   "pygments_lexer": "ipython3",
   "version": "3.8.5"
  }
 },
 "nbformat": 4,
 "nbformat_minor": 4
}
