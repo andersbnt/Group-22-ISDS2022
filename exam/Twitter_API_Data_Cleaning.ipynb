{
 "cells": [
  {
   "cell_type": "code",
   "execution_count": 2,
   "metadata": {},
   "outputs": [],
   "source": [
    "# For sending GET requests from the API\n",
    "import requests\n",
    "# For saving access tokens and for file management when creating and adding to the dataset\n",
    "import os\n",
    "# For dealing with json responses we receive from the API\n",
    "import json\n",
    "# For displaying the data after\n",
    "import numpy as np\n",
    "import pandas as pd\n",
    "# For saving the response data in CSV format\n",
    "import csv\n",
    "# For parsing the dates received from twitter in readable formats\n",
    "import datetime\n",
    "import dateutil.parser\n",
    "import unicodedata\n",
    "#To add wait time between requests\n",
    "import time\n",
    "#To do Regex\n",
    "import re\n",
    "#To do sentiment analysis\n",
    "from textblob import TextBlob\n",
    "\n",
    "import matplotlib.pyplot as plt \n",
    "import seaborn as sns"
   ]
  },
  {
   "cell_type": "markdown",
   "metadata": {},
   "source": [
    "## Import data from CSV file to a DataFrame"
   ]
  },
  {
   "cell_type": "code",
   "execution_count": 5,
   "metadata": {},
   "outputs": [],
   "source": [
    "data_df = pd.read_csv('raw_twitter_data.csv')"
   ]
  },
  {
   "cell_type": "markdown",
   "metadata": {},
   "source": [
    "## Cleaning up DataFrame\n",
    "\n",
    "### Adding columns"
   ]
  },
  {
   "cell_type": "code",
   "execution_count": 6,
   "metadata": {},
   "outputs": [],
   "source": [
    "#Add date column:\n",
    "data_df['date'] = pd.to_datetime(data_df['created_at']).dt.date\n",
    "\n",
    "#Add counter columns\n",
    "find_counts = re.compile(r'\\b\\d+\\b')                                         #Define regex for finding the counts\n",
    "metrics_list = ['retweet_count', 'reply_count', 'like_count', 'quote_count'] #Define names of the new columns\n",
    "\n",
    "j=0\n",
    "for i in metrics_list:\n",
    "    data_df[i] = [find_counts.findall(i)[j] for i in data_df['public_metrics']]\n",
    "    j+=1\n",
    "\n"
   ]
  },
  {
   "cell_type": "markdown",
   "metadata": {},
   "source": [
    "### Removing columns"
   ]
  },
  {
   "cell_type": "code",
   "execution_count": 7,
   "metadata": {},
   "outputs": [],
   "source": [
    "drop_columns = ['reply_settings', 'source', 'id', 'conversation_id', 'public_metrics', 'in_reply_to_user_id', 'referenced_tweets', 'lang', 'created_at', 'geo']\n",
    "\n",
    "clean_df = data_df.drop(drop_columns, axis=1)"
   ]
  },
  {
   "cell_type": "markdown",
   "metadata": {},
   "source": [
    "### Sample"
   ]
  },
  {
   "cell_type": "code",
   "execution_count": 8,
   "metadata": {},
   "outputs": [
    {
     "name": "stdout",
     "output_type": "stream",
     "text": [
      "56759    @WhalesMetaverse Suki スキ 🐕 @SukiTheDoge\\n-The ...\n",
      "Name: text, dtype: object\n"
     ]
    }
   ],
   "source": [
    "print(clean_df['text'].sample(1))"
   ]
  },
  {
   "cell_type": "markdown",
   "metadata": {},
   "source": [
    "## Some initial plotting"
   ]
  },
  {
   "cell_type": "code",
   "execution_count": 39,
   "metadata": {},
   "outputs": [],
   "source": [
    "tweets_per_day_df = clean_df['text'].groupby(clean_df['date']).count()"
   ]
  },
  {
   "cell_type": "code",
   "execution_count": 40,
   "metadata": {
    "scrolled": true
   },
   "outputs": [
    {
     "data": {
      "image/png": "[encoded data removed]",
      "text/plain": [
       "<Figure size 432x288 with 1 Axes>"
      ]
     },
     "metadata": {
      "needs_background": "light"
     },
     "output_type": "display_data"
    }
   ],
   "source": [
    "plt.plot(tweets_per_day_df)\n",
    "plt.title('Number of English tweets mentioning \\'doge\\' per day')\n",
    "plt.xticks(rotation=90)\n",
    "\n",
    "plt.show()"
   ]
  },
  {
   "cell_type": "markdown",
   "metadata": {},
   "source": [
    "# Sentiment analysis\n",
    "\n",
    "First we define two functions:\n",
    "* One that cleans a given tweet for unnecessary stuff, such as mentions etc\n",
    "* One that uses the TextBlob library's sentiment function to determine a given tweets sentiment"
   ]
  },
  {
   "cell_type": "code",
   "execution_count": 41,
   "metadata": {},
   "outputs": [],
   "source": [
    "def clean_tweet(tweet):\n",
    "    '''\n",
    "    Using RegEx, this function cleans the tweets for unnecessary fluffer\n",
    "    '''\n",
    "    return ' '.join(re.sub(\"(@[A-Za-z0-9]+)|([^0-9A-Za-z \\t])|(\\w+:\\/\\/\\S+)\", \" \", tweet).split())\n",
    "\n",
    "def get_tweet_sentiment(tweet):\n",
    "    '''\n",
    "    Uses textblob to decide sentiment of a parsed tweet\n",
    "    '''\n",
    "    # Create TextBlob object\n",
    "    blob = TextBlob(clean_tweet(tweet))\n",
    "        \n",
    "    # Set sentiment\n",
    "    if blob.sentiment.polarity > 0:\n",
    "        return 'positive'\n",
    "    elif blob.sentiment.polarity == 0:\n",
    "        return 'neutral'\n",
    "    else:\n",
    "        return 'negative'"
   ]
  },
  {
   "cell_type": "markdown",
   "metadata": {},
   "source": [
    "### Demonstration of the clean_tweet function:"
   ]
  },
  {
   "cell_type": "code",
   "execution_count": 47,
   "metadata": {},
   "outputs": [
    {
     "name": "stdout",
     "output_type": "stream",
     "text": [
      "Full tweet: \n",
      " @alqsyy @Mutantduckclub8 RYOGE- The shiba killer of BSC. Ryoge Dao embodies true decentralization in the blockchain backed by its utilities that support its purpose. \n",
      "\n",
      "@RyogeDao #RyogeDao #BscGem #Bnb #Doge #DAO #Swap #Staking #NFTs #Memecoin #Bullish #Moonshot #100xGem #1000xGem\n",
      "\n",
      "https://t.co/5MNvikfPse \n",
      "\n",
      "Cleaned tweet: \n",
      " RYOGE The shiba killer of BSC Ryoge Dao embodies true decentralization in the blockchain backed by its utilities that support its purpose RyogeDao BscGem Bnb Doge DAO Swap Staking NFTs Memecoin Bullish Moonshot 100xGem 1000xGem\n"
     ]
    }
   ],
   "source": [
    "print('Full tweet: \\n',clean_df['text'][0], '\\n')\n",
    "\n",
    "print('Cleaned tweet: \\n',clean_tweet(clean_df['text'][0]))"
   ]
  },
  {
   "attachments": {},
   "cell_type": "markdown",
   "metadata": {},
   "source": [
    "## Adding a sentiment-column\n",
    "\n",
    "Using list comprehension we use the above defined functions on each tweet text in clean_df\n",
    "\n",
    "### OBS: the cell takes around 3-5 minutes to run"
   ]
  },
  {
   "cell_type": "code",
   "execution_count": 37,
   "metadata": {},
   "outputs": [],
   "source": [
    "clean_df['sentiment'] = [get_tweet_sentiment(tweet) for tweet in clean_df['text']]"
   ]
  },
  {
   "cell_type": "code",
   "execution_count": 48,
   "metadata": {},
   "outputs": [
    {
     "data": {
      "text/html": [
       "<div>\n",
       "<style scoped>\n",
       "    .dataframe tbody tr th:only-of-type {\n",
       "        vertical-align: middle;\n",
       "    }\n",
       "\n",
       "    .dataframe tbody tr th {\n",
       "        vertical-align: top;\n",
       "    }\n",
       "\n",
       "    .dataframe thead th {\n",
       "        text-align: right;\n",
       "    }\n",
       "</style>\n",
       "<table border=\"1\" class=\"dataframe\">\n",
       "  <thead>\n",
       "    <tr style=\"text-align: right;\">\n",
       "      <th></th>\n",
       "      <th>text</th>\n",
       "      <th>author_id</th>\n",
       "      <th>date</th>\n",
       "      <th>retweet_count</th>\n",
       "      <th>reply_count</th>\n",
       "      <th>like_count</th>\n",
       "      <th>quote_count</th>\n",
       "      <th>sentiment</th>\n",
       "    </tr>\n",
       "  </thead>\n",
       "  <tbody>\n",
       "    <tr>\n",
       "      <th>123822</th>\n",
       "      <td>A awesome cold glass of @PepsiMAX and Alexa pl...</td>\n",
       "      <td>1463170812920299520</td>\n",
       "      <td>2022-08-09</td>\n",
       "      <td>2</td>\n",
       "      <td>1</td>\n",
       "      <td>3</td>\n",
       "      <td>0</td>\n",
       "      <td>positive</td>\n",
       "    </tr>\n",
       "    <tr>\n",
       "      <th>24308</th>\n",
       "      <td>Gm love ❤️ Doge https://t.co/y8Irr4RU2V</td>\n",
       "      <td>1489896653670727682</td>\n",
       "      <td>2022-08-14</td>\n",
       "      <td>0</td>\n",
       "      <td>0</td>\n",
       "      <td>2</td>\n",
       "      <td>0</td>\n",
       "      <td>positive</td>\n",
       "    </tr>\n",
       "    <tr>\n",
       "      <th>85626</th>\n",
       "      <td>@WhaleEverything Baby doge coin</td>\n",
       "      <td>1487375740358348802</td>\n",
       "      <td>2022-08-11</td>\n",
       "      <td>0</td>\n",
       "      <td>0</td>\n",
       "      <td>0</td>\n",
       "      <td>0</td>\n",
       "      <td>neutral</td>\n",
       "    </tr>\n",
       "    <tr>\n",
       "      <th>37852</th>\n",
       "      <td>#البتكوين #البيتكوين #العملات_الرقميه #العملات...</td>\n",
       "      <td>1308426311845777408</td>\n",
       "      <td>2022-08-13</td>\n",
       "      <td>0</td>\n",
       "      <td>0</td>\n",
       "      <td>2</td>\n",
       "      <td>0</td>\n",
       "      <td>neutral</td>\n",
       "    </tr>\n",
       "    <tr>\n",
       "      <th>96467</th>\n",
       "      <td>@Doge_cakes Oh don´t you find it strange? Only...</td>\n",
       "      <td>1481318526229094402</td>\n",
       "      <td>2022-08-10</td>\n",
       "      <td>0</td>\n",
       "      <td>0</td>\n",
       "      <td>1</td>\n",
       "      <td>0</td>\n",
       "      <td>negative</td>\n",
       "    </tr>\n",
       "  </tbody>\n",
       "</table>\n",
       "</div>"
      ],
      "text/plain": [
       "                                                     text  \\\n",
       "123822  A awesome cold glass of @PepsiMAX and Alexa pl...   \n",
       "24308             Gm love ❤️ Doge https://t.co/y8Irr4RU2V   \n",
       "85626                     @WhaleEverything Baby doge coin   \n",
       "37852   #البتكوين #البيتكوين #العملات_الرقميه #العملات...   \n",
       "96467   @Doge_cakes Oh don´t you find it strange? Only...   \n",
       "\n",
       "                  author_id        date retweet_count reply_count like_count  \\\n",
       "123822  1463170812920299520  2022-08-09             2           1          3   \n",
       "24308   1489896653670727682  2022-08-14             0           0          2   \n",
       "85626   1487375740358348802  2022-08-11             0           0          0   \n",
       "37852   1308426311845777408  2022-08-13             0           0          2   \n",
       "96467   1481318526229094402  2022-08-10             0           0          1   \n",
       "\n",
       "       quote_count sentiment  \n",
       "123822           0  positive  \n",
       "24308            0  positive  \n",
       "85626            0   neutral  \n",
       "37852            0   neutral  \n",
       "96467            0  negative  "
      ]
     },
     "execution_count": 48,
     "metadata": {},
     "output_type": "execute_result"
    }
   ],
   "source": [
    "clean_df.sample(5)"
   ]
  },
  {
   "cell_type": "code",
   "execution_count": null,
   "metadata": {},
   "outputs": [],
   "source": []
  }
 ],
 "metadata": {
  "kernelspec": {
   "display_name": "Python 3",
   "language": "python",
   "name": "python3"
  },
  "language_info": {
   "codemirror_mode": {
    "name": "ipython",
    "version": 3
   },
   "file_extension": ".py",
   "mimetype": "text/x-python",
   "name": "python",
   "nbconvert_exporter": "python",
   "pygments_lexer": "ipython3",
   "version": "3.8.5"
  }
 },
 "nbformat": 4,
 "nbformat_minor": 4
}
